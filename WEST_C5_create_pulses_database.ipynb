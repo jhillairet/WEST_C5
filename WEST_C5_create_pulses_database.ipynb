{
 "cells": [
  {
   "cell_type": "markdown",
   "metadata": {},
   "source": [
    "# WEST C5 pulses database"
   ]
  },
  {
   "cell_type": "markdown",
   "metadata": {},
   "source": [
    "In this notebook we generate a database of the pulses in which ICRH or LHCD has been used. "
   ]
  },
  {
   "cell_type": "code",
   "execution_count": 1,
   "metadata": {},
   "outputs": [],
   "source": [
    "%matplotlib notebook\n",
    "\n",
    "%load_ext autoreload\n",
    "%autoreload 2"
   ]
  },
  {
   "cell_type": "code",
   "execution_count": 2,
   "metadata": {},
   "outputs": [],
   "source": [
    "import sys\n",
    "sys.path.append('C:/Users/JH218595/Documents/pywed')\n",
    "sys.path.append('C:/Users/JH218595/Documents/IRFMtb/')\n",
    "sys.path.append('C:/Users/JH218595/Documents/PPPAT/')"
   ]
  },
  {
   "cell_type": "code",
   "execution_count": 3,
   "metadata": {},
   "outputs": [
    {
     "name": "stdout",
     "output_type": "stream",
     "text": [
      "IMAS only available on linux machines\n"
     ]
    }
   ],
   "source": [
    "import pywed as pw\n",
    "import numpy as np\n",
    "\n",
    "from pppat.control_room.signals import *\n",
    "import matplotlib.pyplot as plt \n",
    "from pulse_database import PulseDB\n",
    "from tqdm.notebook import tqdm"
   ]
  },
  {
   "cell_type": "markdown",
   "metadata": {},
   "source": [
    "# Listing the pulses"
   ]
  },
  {
   "cell_type": "markdown",
   "metadata": {},
   "source": [
    "Make a list of all the pulses to analyze:"
   ]
  },
  {
   "cell_type": "code",
   "execution_count": 4,
   "metadata": {},
   "outputs": [],
   "source": [
    "hdf5_filename = 'databases/WEST_C5_pulse_data.hdf5'\n",
    "db = PulseDB(hdf5_filename)"
   ]
  },
  {
   "cell_type": "code",
   "execution_count": 5,
   "metadata": {},
   "outputs": [
    {
     "name": "stderr",
     "output_type": "stream",
     "text": [
      "\r",
      "  0%|                                                                                            | 0/3 [00:00<?, ?it/s]"
     ]
    },
    {
     "name": "stdout",
     "output_type": "stream",
     "text": [
      "Going from 56489 to 56491\n"
     ]
    },
    {
     "name": "stderr",
     "output_type": "stream",
     "text": [
      "\r",
      " 33%|████████████████████████████                                                        | 1/3 [00:02<00:04,  2.00s/it]"
     ]
    },
    {
     "name": "stdout",
     "output_type": "stream",
     "text": [
      "Keeping 56489\n"
     ]
    },
    {
     "name": "stderr",
     "output_type": "stream",
     "text": [
      "\r",
      " 67%|████████████████████████████████████████████████████████                            | 2/3 [00:04<00:02,  2.01s/it]"
     ]
    },
    {
     "name": "stdout",
     "output_type": "stream",
     "text": [
      "Discarding 56490\n"
     ]
    },
    {
     "name": "stderr",
     "output_type": "stream",
     "text": [
      "100%|████████████████████████████████████████████████████████████████████████████████████| 3/3 [00:05<00:00,  1.98s/it]"
     ]
    },
    {
     "name": "stdout",
     "output_type": "stream",
     "text": [
      "Discarding 56491\n"
     ]
    },
    {
     "name": "stderr",
     "output_type": "stream",
     "text": [
      "\n"
     ]
    }
   ],
   "source": [
    "# Below we add the pulse number for which RF power has been used (>threshold of RF power).\n",
    "db.update_pulse_list()"
   ]
  },
  {
   "cell_type": "code",
   "execution_count": 6,
   "metadata": {},
   "outputs": [
    {
     "data": {
      "text/plain": [
       "[56287,\n",
       " 56288,\n",
       " 56289,\n",
       " 56290,\n",
       " 56291,\n",
       " 56292,\n",
       " 56293,\n",
       " 56294,\n",
       " 56295,\n",
       " 56296,\n",
       " 56297,\n",
       " 56298,\n",
       " 56299,\n",
       " 56300,\n",
       " 56301,\n",
       " 56302,\n",
       " 56303,\n",
       " 56304,\n",
       " 56305,\n",
       " 56307,\n",
       " 56309,\n",
       " 56311,\n",
       " 56312,\n",
       " 56313,\n",
       " 56314,\n",
       " 56315,\n",
       " 56316,\n",
       " 56317,\n",
       " 56318,\n",
       " 56319,\n",
       " 56323,\n",
       " 56324,\n",
       " 56326,\n",
       " 56327,\n",
       " 56328,\n",
       " 56329,\n",
       " 56330,\n",
       " 56331,\n",
       " 56332,\n",
       " 56337,\n",
       " 56339,\n",
       " 56340,\n",
       " 56342,\n",
       " 56344,\n",
       " 56345,\n",
       " 56346,\n",
       " 56366,\n",
       " 56367,\n",
       " 56368,\n",
       " 56374,\n",
       " 56375,\n",
       " 56376,\n",
       " 56377,\n",
       " 56378,\n",
       " 56379,\n",
       " 56380,\n",
       " 56382,\n",
       " 56383,\n",
       " 56384,\n",
       " 56385,\n",
       " 56386,\n",
       " 56387,\n",
       " 56388,\n",
       " 56389,\n",
       " 56390,\n",
       " 56437,\n",
       " 56438,\n",
       " 56440,\n",
       " 56441,\n",
       " 56442,\n",
       " 56443,\n",
       " 56444,\n",
       " 56445,\n",
       " 56446,\n",
       " 56447,\n",
       " 56448,\n",
       " 56449,\n",
       " 56450,\n",
       " 56451,\n",
       " 56452,\n",
       " 56457,\n",
       " 56458,\n",
       " 56459,\n",
       " 56464,\n",
       " 56465,\n",
       " 56466,\n",
       " 56467,\n",
       " 56468,\n",
       " 56469,\n",
       " 56470,\n",
       " 56471,\n",
       " 56472,\n",
       " 56473,\n",
       " 56474,\n",
       " 56475,\n",
       " 56476,\n",
       " 56477,\n",
       " 56478,\n",
       " 56479,\n",
       " 56480,\n",
       " 56481,\n",
       " 56482,\n",
       " 56483,\n",
       " 56485,\n",
       " 56487,\n",
       " 56488,\n",
       " 56489,\n",
       " 56489]"
      ]
     },
     "execution_count": 6,
     "metadata": {},
     "output_type": "execute_result"
    }
   ],
   "source": [
    "db.pulse_list"
   ]
  },
  {
   "cell_type": "code",
   "execution_count": 7,
   "metadata": {},
   "outputs": [],
   "source": [
    "# save the pulse list in a text file\n",
    "np.savetxt('WEST_C5_RF_pulse_list.txt', db.pulse_list, fmt='%i')"
   ]
  },
  {
   "cell_type": "markdown",
   "metadata": {},
   "source": [
    "# Filling the database"
   ]
  },
  {
   "cell_type": "code",
   "execution_count": 8,
   "metadata": {},
   "outputs": [
    {
     "data": {
      "application/vnd.jupyter.widget-view+json": {
       "model_id": "3b1b1f5b96464e929df2c3ac12629055",
       "version_major": 2,
       "version_minor": 0
      },
      "text/plain": [
       "HBox(children=(HTML(value=''), FloatProgress(value=0.0, max=108.0), HTML(value='')))"
      ]
     },
     "metadata": {},
     "output_type": "display_data"
    },
    {
     "name": "stdout",
     "output_type": "stream",
     "text": [
      "Getting MHD for #56287\n",
      "GMHD_D1%2 #56287: [Exception tsExQueryError in PyWED] [Query Error] Invalid query, server returned 32: 'Non-acquired data'\n",
      "Getting MHD for #56288\n",
      "GMHD_D1%2 #56288: [Exception tsExQueryError in PyWED] [Query Error] Invalid query, server returned 32: 'Non-acquired data'\n",
      "Getting MHD for #56289\n",
      "GMHD_D1%2 #56289: [Exception tsExQueryError in PyWED] [Query Error] Invalid query, server returned 32: 'Non-acquired data'\n",
      "Getting MHD for #56290\n",
      "GMHD_D1%2 #56290: [Exception tsExQueryError in PyWED] [Query Error] Invalid query, server returned 32: 'Non-acquired data'\n",
      "Getting MHD for #56291\n",
      "GMHD_D1%2 #56291: [Exception tsExQueryError in PyWED] [Query Error] Invalid query, server returned 32: 'Non-acquired data'\n",
      "Getting MHD for #56292\n",
      "GMHD_D1%2 #56292: [Exception tsExQueryError in PyWED] [Query Error] Invalid query, server returned 32: 'Non-acquired data'\n",
      "Getting MHD for #56293\n",
      "GMHD_D1%2 #56293: [Exception tsExQueryError in PyWED] [Query Error] Invalid query, server returned 32: 'Non-acquired data'\n",
      "Getting MHD for #56294\n",
      "GMHD_D1%2 #56294: [Exception tsExQueryError in PyWED] [Query Error] Invalid query, server returned 32: 'Non-acquired data'\n",
      "Getting MHD for #56295\n",
      "GMHD_D1%2 #56295: [Exception tsExQueryError in PyWED] [Query Error] Invalid query, server returned 32: 'Non-acquired data'\n",
      "Getting MHD for #56296\n",
      "GMHD_D1%2 #56296: [Exception tsExQueryError in PyWED] [Query Error] Invalid query, server returned 32: 'Non-acquired data'\n",
      "Getting MHD for #56297\n",
      "GMHD_D1%2 #56297: [Exception tsExQueryError in PyWED] [Query Error] Invalid query, server returned 32: 'Non-acquired data'\n",
      "Getting MHD for #56298\n",
      "GMHD_D1%2 #56298: [Exception tsExQueryError in PyWED] [Query Error] Invalid query, server returned 32: 'Non-acquired data'\n",
      "Getting MHD for #56299\n",
      "GMHD_D1%2 #56299: [Exception tsExQueryError in PyWED] [Query Error] Invalid query, server returned 32: 'Non-acquired data'\n",
      "Getting MHD for #56300\n",
      "GMHD_D1%2 #56300: [Exception tsExQueryError in PyWED] [Query Error] Invalid query, server returned 32: 'Non-acquired data'\n",
      "Getting MHD for #56301\n",
      "GMHD_D1%2 #56301: [Exception tsExQueryError in PyWED] [Query Error] Invalid query, server returned 32: 'Non-acquired data'\n",
      "Getting MHD for #56302\n",
      "GMHD_D1%2 #56302: [Exception tsExQueryError in PyWED] [Query Error] Invalid query, server returned 32: 'Non-acquired data'\n",
      "Getting MHD for #56303\n",
      "GMHD_D1%2 #56303: [Exception tsExQueryError in PyWED] [Query Error] Invalid query, server returned 32: 'Non-acquired data'\n",
      "Getting MHD for #56304\n",
      "GMHD_D1%2 #56304: [Exception tsExQueryError in PyWED] [Query Error] Invalid query, server returned 32: 'Non-acquired data'\n",
      "Getting MHD for #56305\n",
      "GMHD_D1%2 #56305: [Exception tsExQueryError in PyWED] [Query Error] Invalid query, server returned 32: 'Non-acquired data'\n",
      "Getting MHD for #56307\n",
      "GMHD_D1%2 #56307: [Exception tsExQueryError in PyWED] [Query Error] Invalid query, server returned 32: 'Non-acquired data'\n",
      "Getting MHD for #56309\n",
      "GMHD_D1%2 #56309: [Exception tsExQueryError in PyWED] [Query Error] Invalid query, server returned 32: 'Non-acquired data'\n",
      "Getting MHD for #56311\n",
      "GMHD_D1%2 #56311: [Exception tsExQueryError in PyWED] [Query Error] Invalid query, server returned 32: 'Non-acquired data'\n",
      "Getting MHD for #56312\n",
      "GMHD_D1%2 #56312: [Exception tsExQueryError in PyWED] [Query Error] Invalid query, server returned 32: 'Non-acquired data'\n",
      "Getting MHD for #56313\n",
      "GMHD_D1%2 #56313: [Exception tsExQueryError in PyWED] [Query Error] Invalid query, server returned 32: 'Non-acquired data'\n",
      "Getting MHD for #56314\n",
      "GMHD_D1%2 #56314: [Exception tsExQueryError in PyWED] [Query Error] Invalid query, server returned 32: 'Non-acquired data'\n",
      "Getting MHD for #56315\n",
      "GMHD_D1%2 #56315: [Exception tsExQueryError in PyWED] [Query Error] Invalid query, server returned 32: 'Non-acquired data'\n",
      "Getting MHD for #56316\n",
      "GMHD_D1%2 #56316: [Exception tsExQueryError in PyWED] [Query Error] Invalid query, server returned 32: 'Non-acquired data'\n",
      "Getting MHD for #56317\n",
      "GMHD_D1%2 #56317: [Exception tsExQueryError in PyWED] [Query Error] Invalid query, server returned 32: 'Non-acquired data'\n",
      "Getting MHD for #56318\n",
      "GMHD_D1%2 #56318: [Exception tsExQueryError in PyWED] [Query Error] Invalid query, server returned 32: 'Non-acquired data'\n",
      "Getting MHD for #56319\n",
      "GMHD_D1%2 #56319: [Exception tsExQueryError in PyWED] [Query Error] Invalid query, server returned 32: 'Non-acquired data'\n",
      "Getting MHD for #56323\n",
      "GMHD_D1%2 #56323: [Exception tsExQueryError in PyWED] [Query Error] Invalid query, server returned 32: 'Non-acquired data'\n",
      "Getting MHD for #56324\n",
      "GMHD_D1%2 #56324: [Exception tsExQueryError in PyWED] [Query Error] Invalid query, server returned 32: 'Non-acquired data'\n",
      "Getting MHD for #56326\n",
      "GMHD_D1%2 #56326: [Exception tsExQueryError in PyWED] [Query Error] Invalid query, server returned 32: 'Non-acquired data'\n",
      "Getting MHD for #56327\n",
      "GMHD_D1%2 #56327: [Exception tsExQueryError in PyWED] [Query Error] Invalid query, server returned 32: 'Non-acquired data'\n",
      "Getting MHD for #56328\n",
      "GMHD_D1%2 #56328: [Exception tsExQueryError in PyWED] [Query Error] Invalid query, server returned 32: 'Non-acquired data'\n",
      "Getting MHD for #56329\n",
      "GMHD_D1%2 #56329: [Exception tsExQueryError in PyWED] [Query Error] Invalid query, server returned 32: 'Non-acquired data'\n",
      "Getting MHD for #56330\n",
      "GMHD_D1%2 #56330: [Exception tsExQueryError in PyWED] [Query Error] Invalid query, server returned 32: 'Non-acquired data'\n",
      "Getting MHD for #56331\n",
      "GMHD_D1%2 #56331: [Exception tsExQueryError in PyWED] [Query Error] Invalid query, server returned 32: 'Non-acquired data'\n",
      "Getting MHD for #56332\n",
      "GMHD_D1%2 #56332: [Exception tsExQueryError in PyWED] [Query Error] Invalid query, server returned 32: 'Non-acquired data'\n",
      "Getting MHD for #56337\n",
      "GMHD_D1%2 #56337: [Exception tsExQueryError in PyWED] [Query Error] Invalid query, server returned 32: 'Non-acquired data'\n",
      "Getting MHD for #56339\n",
      "GMHD_D1%2 #56339: [Exception tsExQueryError in PyWED] [Query Error] Invalid query, server returned 32: 'Non-acquired data'\n",
      "Getting MHD for #56340\n",
      "GMHD_D1%2 #56340: [Exception tsExQueryError in PyWED] [Query Error] Invalid query, server returned 32: 'Non-acquired data'\n",
      "Getting MHD for #56342\n",
      "GMHD_D1%2 #56342: [Exception tsExQueryError in PyWED] [Query Error] Invalid query, server returned 32: 'Non-acquired data'\n",
      "Getting MHD for #56344\n",
      "GMHD_D1%2 #56344: [Exception tsExQueryError in PyWED] [Query Error] Invalid query, server returned 32: 'Non-acquired data'\n",
      "Getting MHD for #56345\n",
      "GMHD_D1%2 #56345: [Exception tsExQueryError in PyWED] [Query Error] Invalid query, server returned 32: 'Non-acquired data'\n",
      "Getting MHD for #56346\n",
      "GMHD_D1%2 #56346: [Exception tsExQueryError in PyWED] [Query Error] Invalid query, server returned 32: 'Non-acquired data'\n",
      "Getting MHD for #56366\n",
      "Getting MHD for #56367\n",
      "Getting MHD for #56368\n",
      "Getting MHD for #56374\n",
      "Getting MHD for #56375\n",
      "Getting MHD for #56376\n",
      "Getting MHD for #56377\n",
      "Getting MHD for #56378\n",
      "Getting MHD for #56379\n",
      "Getting MHD for #56380\n",
      "Getting MHD for #56382\n",
      "Getting MHD for #56383\n",
      "Getting MHD for #56384\n",
      "Getting MHD for #56385\n",
      "Getting MHD for #56386\n",
      "Getting MHD for #56387\n",
      "Getting MHD for #56388\n",
      "Getting MHD for #56389\n",
      "Getting MHD for #56390\n",
      "Getting MHD for #56437\n",
      "Getting MHD for #56438\n",
      "Getting MHD for #56440\n",
      "Getting MHD for #56441\n",
      "Getting MHD for #56442\n",
      "Getting MHD for #56443\n",
      "Getting MHD for #56444\n",
      "Getting MHD for #56445\n",
      "Getting MHD for #56446\n",
      "Getting MHD for #56447\n",
      "Getting MHD for #56448\n",
      "Getting MHD for #56449\n",
      "Getting MHD for #56450\n",
      "Getting MHD for #56451\n",
      "Getting MHD for #56452\n",
      "Getting MHD for #56457\n",
      "Getting MHD for #56458\n",
      "Getting MHD for #56459\n",
      "Getting MHD for #56464\n",
      "Getting MHD for #56465\n",
      "Getting MHD for #56466\n",
      "Getting MHD for #56467\n",
      "Getting MHD for #56468\n",
      "Getting MHD for #56469\n",
      "Getting MHD for #56470\n",
      "Getting MHD for #56471\n",
      "Getting MHD for #56472\n",
      "Getting MHD for #56473\n",
      "Getting MHD for #56474\n",
      "Getting MHD for #56475\n",
      "Getting MHD for #56476\n",
      "Getting MHD for #56477\n",
      "Getting MHD for #56478\n",
      "Getting MHD for #56479\n",
      "Getting MHD for #56480\n",
      "Getting MHD for #56481\n",
      "Getting MHD for #56482\n",
      "Getting MHD for #56483\n",
      "Getting MHD for #56485\n",
      "Getting MHD for #56487\n",
      "Getting MHD for #56488\n",
      "Getting MHD for #56489\n",
      "MHD already exist in database for #56489: passing...\n",
      "\n"
     ]
    }
   ],
   "source": [
    "# Adding new signals to the database\n",
    "#db.delete_signals(['LH_Positions', 'IC_Positions', 'IC_Frequencies'])\n",
    "signal_names = [#'IC_Capa_Q1_left_upper', 'IC_Capa_Q1_left_lower', 'IC_Capa_Q1_right_upper', 'IC_Capa_Q1_right_lower',\n",
    "                #'IC_Capa_Q2_left_upper', 'IC_Capa_Q2_left_lower', 'IC_Capa_Q2_right_upper', 'IC_Capa_Q2_right_lower', \n",
    "                #'IC_Capa_Q4_left_upper', 'IC_Capa_Q4_left_lower', 'IC_Capa_Q4_right_upper', 'IC_Capa_Q4_right_lower',\n",
    "                'IC_Positions', 'LH_Positions', \n",
    "                #'IC_Vacuum_Q1_left', 'IC_Vacuum_Q1_right', \n",
    "                #'IC_Vacuum_Q2_left', 'IC_Vacuum_Q2_right',\n",
    "                #'IC_Vacuum_Q4_left', 'IC_Vacuum_Q4_right',\n",
    "                #'Langmuir_LHCD1', 'Langmuir_LHCD2', 'Langmuir_LHCD3', 'Langmuir_LHCD4',\n",
    "                #'Langmuir_LHCD5', 'Langmuir_LHCD6', 'Langmuir_LHCD7' ,'Langmuir_LHCD8' ,\n",
    "                'Prad',\n",
    "                'Rext_median',\n",
    "                'Ip', 'nl',\n",
    "                'IC_Frequencies', \n",
    "                'IC_P_Q1', 'IC_P_Q2', 'IC_P_Q4',  \n",
    "                'IC_P_tot', 'LH_P_tot',\n",
    "                'IC_Rc_Q1_avg', 'IC_Rc_Q2_avg', 'IC_Rc_Q4_avg',\n",
    "                'IC_Voltage_left_upper_Q1', 'IC_Voltage_left_lower_Q1', \n",
    "                'IC_Voltage_right_upper_Q1', 'IC_Voltage_right_lower_Q1',\n",
    "                'IC_Voltage_left_upper_Q2', 'IC_Voltage_left_lower_Q2', \n",
    "                'IC_Voltage_right_upper_Q2', 'IC_Voltage_right_lower_Q2',\n",
    "                'IC_Voltage_left_upper_Q4', 'IC_Voltage_left_lower_Q4', \n",
    "                'IC_Voltage_right_upper_Q4', 'IC_Voltage_right_lower_Q4',\n",
    "                'Ohmic_P',\n",
    "                'Separatrix_P',\n",
    "                #'Neutron1',\n",
    "                'Ag18', 'Ag19', 'Cu',\n",
    "                'Datetime',\n",
    "]\n",
    "signal_names = ['MHD']\n",
    "\n",
    "for pulse in tqdm(db.pulse_list):\n",
    "    db.add_signals(int(pulse), signal_names, force_rewrite=False)"
   ]
  },
  {
   "cell_type": "code",
   "execution_count": 9,
   "metadata": {},
   "outputs": [
    {
     "ename": "KeyError",
     "evalue": "'signal 54714/Datetime does not exist'",
     "output_type": "error",
     "traceback": [
      "\u001b[1;31m---------------------------------------------------------------------------\u001b[0m",
      "\u001b[1;31mKeyError\u001b[0m                                  Traceback (most recent call last)",
      "\u001b[1;32m<ipython-input-9-a6304fc3023c>\u001b[0m in \u001b[0;36m<module>\u001b[1;34m\u001b[0m\n\u001b[1;32m----> 1\u001b[1;33m \u001b[0mdb\u001b[0m\u001b[1;33m.\u001b[0m\u001b[0mget_signal\u001b[0m\u001b[1;33m(\u001b[0m\u001b[1;36m54714\u001b[0m\u001b[1;33m,\u001b[0m \u001b[1;34m'Datetime'\u001b[0m\u001b[1;33m)\u001b[0m\u001b[1;33m\u001b[0m\u001b[1;33m\u001b[0m\u001b[0m\n\u001b[0m",
      "\u001b[1;32m~\\Documents\\WEST_C5\\pulse_database.py\u001b[0m in \u001b[0;36mget_signal\u001b[1;34m(self, pulse, signal_name)\u001b[0m\n\u001b[0;32m    185\u001b[0m                 \u001b[1;32mreturn\u001b[0m \u001b[0mf\u001b[0m\u001b[1;33m[\u001b[0m\u001b[0msig_path\u001b[0m\u001b[1;33m+\u001b[0m\u001b[1;34m'/y'\u001b[0m\u001b[1;33m]\u001b[0m\u001b[1;33m[\u001b[0m\u001b[1;33m:\u001b[0m\u001b[1;33m]\u001b[0m\u001b[1;33m,\u001b[0m \u001b[0mf\u001b[0m\u001b[1;33m[\u001b[0m\u001b[0msig_path\u001b[0m\u001b[1;33m+\u001b[0m\u001b[1;34m'/t'\u001b[0m\u001b[1;33m]\u001b[0m\u001b[1;33m[\u001b[0m\u001b[1;33m:\u001b[0m\u001b[1;33m]\u001b[0m\u001b[1;33m\u001b[0m\u001b[1;33m\u001b[0m\u001b[0m\n\u001b[0;32m    186\u001b[0m             \u001b[1;32melse\u001b[0m\u001b[1;33m:\u001b[0m\u001b[1;33m\u001b[0m\u001b[1;33m\u001b[0m\u001b[0m\n\u001b[1;32m--> 187\u001b[1;33m                 \u001b[1;32mraise\u001b[0m \u001b[0mKeyError\u001b[0m\u001b[1;33m(\u001b[0m\u001b[1;34mf'signal {sig_path} does not exist'\u001b[0m\u001b[1;33m)\u001b[0m\u001b[1;33m\u001b[0m\u001b[1;33m\u001b[0m\u001b[0m\n\u001b[0m\u001b[0;32m    188\u001b[0m \u001b[1;33m\u001b[0m\u001b[0m\n\u001b[0;32m    189\u001b[0m     \u001b[1;32mdef\u001b[0m \u001b[0mlist_signal\u001b[0m\u001b[1;33m(\u001b[0m\u001b[0mself\u001b[0m\u001b[1;33m,\u001b[0m \u001b[0mpulse\u001b[0m\u001b[1;33m)\u001b[0m\u001b[1;33m:\u001b[0m\u001b[1;33m\u001b[0m\u001b[1;33m\u001b[0m\u001b[0m\n",
      "\u001b[1;31mKeyError\u001b[0m: 'signal 54714/Datetime does not exist'"
     ]
    }
   ],
   "source": [
    "db.get_signal(54714, 'Datetime')"
   ]
  },
  {
   "cell_type": "code",
   "execution_count": null,
   "metadata": {},
   "outputs": [],
   "source": [
    "#db.delete_signals(['Datetime'])"
   ]
  },
  {
   "cell_type": "code",
   "execution_count": null,
   "metadata": {},
   "outputs": [],
   "source": [
    "db.list_signal(54719)"
   ]
  },
  {
   "cell_type": "code",
   "execution_count": null,
   "metadata": {},
   "outputs": [],
   "source": []
  }
 ],
 "metadata": {
  "kernelspec": {
   "display_name": "Python 3",
   "language": "python",
   "name": "python3"
  },
  "language_info": {
   "codemirror_mode": {
    "name": "ipython",
    "version": 3
   },
   "file_extension": ".py",
   "mimetype": "text/x-python",
   "name": "python",
   "nbconvert_exporter": "python",
   "pygments_lexer": "ipython3",
   "version": "3.7.8"
  }
 },
 "nbformat": 4,
 "nbformat_minor": 4
}
