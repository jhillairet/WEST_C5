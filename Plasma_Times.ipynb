{
 "cells": [
  {
   "cell_type": "code",
   "execution_count": 113,
   "metadata": {},
   "outputs": [],
   "source": [
    "%matplotlib widget"
   ]
  },
  {
   "cell_type": "code",
   "execution_count": 1,
   "metadata": {},
   "outputs": [],
   "source": [
    "# WEST libraries\n",
    "import sys\n",
    "if sys.platform == 'linux':\n",
    "    sys.path.append('/Home/JH218595/pywed')\n",
    "    sys.path.append('/Home/JH218595/IRFMtb')\n",
    "    sys.path.append('/Home/JH218595/PPPAT')\n",
    "else:\n",
    "    sys.path.append('C:\\\\Users\\\\JH218595\\\\Documents\\\\pywed')\n",
    "    sys.path.append('C:\\\\Users\\\\JH218595\\\\Documents\\\\IRFMtb')\n",
    "    sys.path.append('C:\\\\Users\\\\JH218595\\\\Documents\\\\PPPAT') "
   ]
  },
  {
   "cell_type": "code",
   "execution_count": 6,
   "metadata": {},
   "outputs": [
    {
     "name": "stdout",
     "output_type": "stream",
     "text": [
      "IMAS only available on linux machines\n"
     ]
    }
   ],
   "source": [
    "from pppat.control_room.signals import *"
   ]
  },
  {
   "cell_type": "code",
   "execution_count": 13,
   "metadata": {},
   "outputs": [],
   "source": [
    "import pywed as pw"
   ]
  },
  {
   "cell_type": "code",
   "execution_count": 15,
   "metadata": {},
   "outputs": [],
   "source": [
    "from tqdm.notebook import tqdm"
   ]
  },
  {
   "cell_type": "code",
   "execution_count": 12,
   "metadata": {},
   "outputs": [],
   "source": [
    "import pandas as pd"
   ]
  },
  {
   "cell_type": "code",
   "execution_count": 7,
   "metadata": {},
   "outputs": [],
   "source": [
    "pulses = range(56287, 56791)"
   ]
  },
  {
   "cell_type": "code",
   "execution_count": 14,
   "metadata": {},
   "outputs": [
    {
     "name": "stdout",
     "output_type": "stream",
     "text": [
      "[Query Error] Invalid query, server returned 203: 'Unknown directory'\n"
     ]
    }
   ],
   "source": [
    "pulse_dates=[]\n",
    "for pulse in tqdm(pulses):\n",
    "    pulse_date = pd.to_datetime(pw.tsmat(pulse, 'APILOTE;+VME_PIL;Date_Choc'))\n",
    "    pulse_dates.append(pulse_date)"
   ]
  },
  {
   "cell_type": "code",
   "execution_count": 17,
   "metadata": {},
   "outputs": [],
   "source": [
    "import matplotlib.pyplot as plt"
   ]
  },
  {
   "cell_type": "code",
   "execution_count": 22,
   "metadata": {},
   "outputs": [],
   "source": [
    "data=pd.DataFrame({'pulse':pulses, 'time':pulse_dates})"
   ]
  },
  {
   "cell_type": "code",
   "execution_count": 106,
   "metadata": {},
   "outputs": [],
   "source": [
    "delays = []\n",
    "for idx in range(len(data)-1):\n",
    "    _delay = data['time'][idx+1] - data['time'][idx]\n",
    "    try:\n",
    "        delays.append(float(_delay.seconds)/60)\n",
    "    except Exception as e:\n",
    "        delays.append(np.nan)"
   ]
  },
  {
   "cell_type": "code",
   "execution_count": 107,
   "metadata": {},
   "outputs": [],
   "source": [
    "data['delay'] = np.array([np.nan, *delays])"
   ]
  },
  {
   "cell_type": "code",
   "execution_count": 125,
   "metadata": {},
   "outputs": [
    {
     "name": "stderr",
     "output_type": "stream",
     "text": [
      "2021-01-20 18:46:56,690 matplotlib.backend_managers WARNING  Treat the new Tool classes introduced in v1.5 as experimental for now, the API will likely change in version 2.1 and perhaps the rcParam as well\n"
     ]
    },
    {
     "data": {
      "application/vnd.jupyter.widget-view+json": {
       "model_id": "d127f3f645584ed0bbc6b2f3e777db36",
       "version_major": 2,
       "version_minor": 0
      },
      "text/plain": [
       "Canvas(toolbar=Toolbar(toolitems=[('Home', 'Reset original view', 'home', 'home'), ('Back', 'Back to previous …"
      ]
     },
     "metadata": {},
     "output_type": "display_data"
    },
    {
     "data": {
      "text/plain": [
       "<matplotlib.lines.Line2D at 0x7f5e29ea30a0>"
      ]
     },
     "execution_count": 125,
     "metadata": {},
     "output_type": "execute_result"
    }
   ],
   "source": [
    "fig, ax = plt.subplots()\n",
    "_data = data.query('delay < 100 & delay > 0')\n",
    "ax.stem(_data['time'], _data['delay'])\n",
    "plt.xticks(rotation=70)\n",
    "fig.tight_layout()\n",
    "ax.axhline(20, ls='--', color='gray')"
   ]
  },
  {
   "cell_type": "code",
   "execution_count": 117,
   "metadata": {},
   "outputs": [
    {
     "name": "stderr",
     "output_type": "stream",
     "text": [
      "2021-01-20 18:38:11,394 matplotlib.backend_managers WARNING  Treat the new Tool classes introduced in v1.5 as experimental for now, the API will likely change in version 2.1 and perhaps the rcParam as well\n"
     ]
    },
    {
     "data": {
      "application/vnd.jupyter.widget-view+json": {
       "model_id": "f2f5d051f5c04ba4a1ef37c690b3daa4",
       "version_major": 2,
       "version_minor": 0
      },
      "text/plain": [
       "Canvas(toolbar=Toolbar(toolitems=[('Home', 'Reset original view', 'home', 'home'), ('Back', 'Back to previous …"
      ]
     },
     "metadata": {},
     "output_type": "display_data"
    },
    {
     "data": {
      "text/plain": [
       "{'bodies': [<matplotlib.collections.PolyCollection at 0x7f5e2a261c40>],\n",
       " 'cmaxes': <matplotlib.collections.LineCollection at 0x7f5e2a2615b0>,\n",
       " 'cmins': <matplotlib.collections.LineCollection at 0x7f5e2a243940>,\n",
       " 'cbars': <matplotlib.collections.LineCollection at 0x7f5e2a243430>}"
      ]
     },
     "execution_count": 117,
     "metadata": {},
     "output_type": "execute_result"
    }
   ],
   "source": [
    "fig, ax = plt.subplots()\n",
    "ax.violinplot(data.query('delay < 100 & delay > 0')['delay'])"
   ]
  },
  {
   "cell_type": "code",
   "execution_count": null,
   "metadata": {},
   "outputs": [],
   "source": []
  }
 ],
 "metadata": {
  "kernelspec": {
   "display_name": "Python 3",
   "language": "python",
   "name": "python3"
  },
  "language_info": {
   "codemirror_mode": {
    "name": "ipython",
    "version": 3
   },
   "file_extension": ".py",
   "mimetype": "text/x-python",
   "name": "python",
   "nbconvert_exporter": "python",
   "pygments_lexer": "ipython3",
   "version": "3.8.5"
  }
 },
 "nbformat": 4,
 "nbformat_minor": 4
}
