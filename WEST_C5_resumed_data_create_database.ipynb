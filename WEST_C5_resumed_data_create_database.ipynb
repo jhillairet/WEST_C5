{
 "cells": [
  {
   "cell_type": "markdown",
   "metadata": {},
   "source": [
    "# Creating a Database of Scalar Values for WEST C5 Experimental Campaign "
   ]
  },
  {
   "cell_type": "code",
   "execution_count": 1,
   "metadata": {},
   "outputs": [],
   "source": [
    "# assume working in Jupyter Lab\n",
    "%matplotlib inline \n",
    "\n",
    "%load_ext autoreload\n",
    "%autoreload 2"
   ]
  },
  {
   "cell_type": "code",
   "execution_count": 2,
   "metadata": {},
   "outputs": [],
   "source": [
    "# WEST libraries\n",
    "import sys\n",
    "if sys.platform == 'linux':\n",
    "    sys.path.append('/Home/JH218595/pywed')\n",
    "    sys.path.append('/Home/JH218595/IRFMtb')\n",
    "    sys.path.append('/Home/JH218595/PPPAT')\n",
    "else:\n",
    "    sys.path.append('C:\\\\Users\\\\JH218595\\\\Documents\\\\pywed')\n",
    "    sys.path.append('C:\\\\Users\\\\JH218595\\\\Documents\\\\IRFMtb')\n",
    "    sys.path.append('C:\\\\Users\\\\JH218595\\\\Documents\\\\PPPAT')    "
   ]
  },
  {
   "cell_type": "code",
   "execution_count": 3,
   "metadata": {},
   "outputs": [
    {
     "name": "stdout",
     "output_type": "stream",
     "text": [
      "IMAS lib not available...\n"
     ]
    }
   ],
   "source": [
    "import numpy as np\n",
    "import pandas as pd\n",
    "import matplotlib.pyplot as plt \n",
    "plt.rcParams['figure.figsize'] = (10,6)\n",
    "try:\n",
    "    from tqdm.notebook import tqdm\n",
    "except ImportError as e:\n",
    "    from tqdm import tqdm\n",
    "\n",
    "try:\n",
    "    from pppat.control_room.signals import *\n",
    "except ImportError as e:\n",
    "    sys.path.append('../../PPPAT/')\n",
    "    from pppat.control_room.signals import *\n",
    "\n",
    "from pulse_database import PulseDB"
   ]
  },
  {
   "cell_type": "markdown",
   "metadata": {},
   "source": [
    "The database has been created in another notebook. Importing database : "
   ]
  },
  {
   "cell_type": "code",
   "execution_count": 4,
   "metadata": {},
   "outputs": [],
   "source": [
    "dt = 0.10 # s\n",
    "\n",
    "hdf5_filename = 'databases/WEST_C5_pulse_data.hdf5'\n",
    "file_output = 'WEST_C5_database_resumed_parameters.csv'"
   ]
  },
  {
   "cell_type": "code",
   "execution_count": 5,
   "metadata": {},
   "outputs": [
    {
     "name": "stdout",
     "output_type": "stream",
     "text": [
      "Database contains 1709 shots, from #56287 to #56927 \n"
     ]
    }
   ],
   "source": [
    "db = PulseDB(hdf5_filename)\n",
    "print(f'Database contains {len(db.pulse_list)} shots, from #{db.pulse_list[0]} to #{db.pulse_list[-1]} ')"
   ]
  },
  {
   "cell_type": "markdown",
   "metadata": {},
   "source": [
    "## Creating a meaningfull database with pandas\n",
    "The idea is to split time in small pieces and to calculate scalar values for each of them"
   ]
  },
  {
   "cell_type": "code",
   "execution_count": 6,
   "metadata": {},
   "outputs": [],
   "source": [
    "def split_in_pieces(y, t, nb_pieces):\n",
    "    \"\"\"Split a time signel y(t) into smaller piece of length dt, and return t, average, min, max and std of each of them\"\"\"\n",
    "    y_mean_min_max, t_pieces = [], []\n",
    "    if nb_pieces > 0: \n",
    "        ts = np.array_split(np.squeeze(t), nb_pieces)\n",
    "        ys = np.array_split(np.squeeze(y), nb_pieces)\n",
    "        for (_y, _t) in zip(ys, ts):\n",
    "            # Get the mean, min and max values of the data in the time piece\n",
    "            # Keep only if the mean value is within +/- 5% of the min/max\n",
    "            # otherwise use NaN\n",
    "            _mean, _mini, _maxi = mean_min_max(_y)\n",
    "            \n",
    "            if _mean == _mini == _maxi:  # no data\n",
    "                y_mean_min_max.append([_mean, _mini, _maxi])           \n",
    "                t_pieces.append(np.mean(_t))                \n",
    "            elif (np.abs(_mean - _mini)/_mean < 30/100) and (np.abs(_mean - _maxi)/_mean < 30/100):\n",
    "                y_mean_min_max.append([_mean, _mini, _maxi])           \n",
    "                t_pieces.append(np.mean(_t))\n",
    "            else:\n",
    "                y_mean_min_max.append([np.nan, np.nan, np.nan]) \n",
    "                t_pieces.append(np.nan)\n",
    "        return np.array(y_mean_min_max), np.array(t_pieces)    \n",
    "    else:\n",
    "        return np.array([np.nan, np.nan, np.nan]), np.array([np.nan])\n",
    "    "
   ]
  },
  {
   "cell_type": "code",
   "execution_count": 7,
   "metadata": {},
   "outputs": [
    {
     "data": {
      "application/vnd.jupyter.widget-view+json": {
       "model_id": "af27bc1e597d424abb40f4ba44de5f1f",
       "version_major": 2,
       "version_minor": 0
      },
      "text/plain": [
       "HBox(children=(HTML(value=''), FloatProgress(value=0.0, max=1709.0), HTML(value='')))"
      ]
     },
     "metadata": {},
     "output_type": "display_data"
    },
    {
     "name": "stderr",
     "output_type": "stream",
     "text": [
      "/Home/JH218595/anaconda3/lib/python3.8/site-packages/numpy/core/fromnumeric.py:3372: RuntimeWarning: Mean of empty slice.\n",
      "  return _methods._mean(a, axis=axis, dtype=dtype,\n",
      "/Home/JH218595/anaconda3/lib/python3.8/site-packages/numpy/core/_methods.py:170: RuntimeWarning: invalid value encountered in double_scalars\n",
      "  ret = ret.dtype.type(ret / rcount)\n",
      "<ipython-input-6-ccc3c4664544>:16: RuntimeWarning: divide by zero encountered in double_scalars\n",
      "  elif (np.abs(_mean - _mini)/_mean < 30/100) and (np.abs(_mean - _maxi)/_mean < 30/100):\n"
     ]
    },
    {
     "name": "stdout",
     "output_type": "stream",
     "text": [
      "\n"
     ]
    }
   ],
   "source": [
    "data = pd.DataFrame()\n",
    "\n",
    "\n",
    "for pulse in tqdm(db.pulse_list):\n",
    "    # start as ip > 300 kA\n",
    "    try:\n",
    "        ip, t_ip = db.get_signal(pulse, 'Ip')\n",
    "\n",
    "        t_start = t_ip[(ip > 0.3).squeeze()][0]\n",
    "        t_end = t_ip[(ip > 0.3).squeeze()][-1]\n",
    "\n",
    "        nb_pieces = int(np.round((t_end - t_start)/dt))\n",
    "\n",
    "        rows = {'pulse': pulse}\n",
    "        for signame in db.list_signal(pulse):           \n",
    "            try:\n",
    "                y, t = db.get_signal(pulse, signame)\n",
    "                # Smooth some noisy signals\n",
    "                if any(sig in signame for sig in ['Fe', 'Cu', 'Ag18', 'Ag19', 'Langmuir', \n",
    "                                                  'Prad', 'Prad_bulk', 'Prad_imas', \n",
    "                                                  'Rext', 'MHD',\n",
    "                                                  'Rext',\n",
    "                                                  'IC_Phase_Q1 (Pf_left - Pf_right)', 'IC_Phase_Q2 (Pf_left - Pf_right)', 'IC_Phase_Q4 (Pf_left - Pf_right)'\n",
    "                                                  'IC_Phase_Q1', 'IC_Phase_Q2', 'IC_Phase_Q4',\n",
    "                                                  'Rext_median', 'Rext_median_NICE',\n",
    "                                                  'LH_P_tot', 'IC_P_tot', 'IC_P_Q1', 'IC_P_Q2', 'IC_P_Q4']):\n",
    "                    y = smooth(y, window_length=21)\n",
    "\n",
    "                # splitting signals in pieces\n",
    "                _y, _t = in_between(y, t, t_start, t_end)\n",
    "                ys, ts = split_in_pieces(_y, _t, nb_pieces)\n",
    "\n",
    "                # Taking reference time from the plasma current\n",
    "                if signame == 'Ip':\n",
    "                    rows['time'] = np.squeeze(ts)\n",
    "\n",
    "            except IndexError as e:\n",
    "                # deals with resumed data (like IC frequencies):\n",
    "                # replicate the data for the number of pieces\n",
    "                if y.ndim == 1 and len(y)>1:\n",
    "                    ys = np.tile(y, (int(nb_pieces),1))\n",
    "                else:\n",
    "                    # fill with 0 if empty arrays\n",
    "                    ys = np.zeros(nb_pieces)\n",
    "\n",
    "            except ValueError as e:\n",
    "                ys = np.zeros(nb_pieces)\n",
    "\n",
    "            # add data points into the Dataframe\n",
    "            if signame == 'IC_Frequencies':\n",
    "                try:\n",
    "                    rows['freq_Q1'] = ys[:,0]\n",
    "                    rows['freq_Q2'] = ys[:,1]\n",
    "                    rows['freq_Q4'] = ys[:,2]\n",
    "                except Exception as e:\n",
    "                    rows['freq_Q1'] = np.nan\n",
    "                    rows['freq_Q2'] = np.nan\n",
    "                    rows['freq_Q4'] = np.nan                \n",
    "            if signame == 'LH_Positions':\n",
    "                rows['R_LH1'] = ys[:,0]\n",
    "                rows['R_LH2'] = ys[:,1]\n",
    "            if signame == 'IC_Positions':\n",
    "                rows['R_Q1'] = ys[:,0]\n",
    "                rows['R_Q2'] = ys[:,1]\n",
    "                rows['R_Q4'] = ys[:,2]\n",
    "            try:\n",
    "                if signame == 'Datetime':\n",
    "                    rows['year'] = ys[:,0]\n",
    "                    rows['month']= ys[:,1]\n",
    "                    rows['day']  = ys[:,2]\n",
    "                    rows['hour'] = ts[:,0]\n",
    "                    rows['minute'] = ts[:,1]\n",
    "                    rows['second'] = ts[:,2]\n",
    "            except Exception as e:\n",
    "                pass\n",
    "            else:\n",
    "\n",
    "                if ys.ndim > 1:  # if to deal with the case of zeros (ValueError previously)\n",
    "                    ys = ys[:,0]  # keep only mean (yet)\n",
    "                rows[signame] = np.squeeze(ys)\n",
    "\n",
    "            _df = pd.DataFrame(rows)\n",
    "        # append data from each pulse to the final DF\n",
    "        data = data.append(_df)\n",
    "    except Exception as e:\n",
    "        pass"
   ]
  },
  {
   "cell_type": "markdown",
   "metadata": {},
   "source": [
    "Exporting the Dataframe:"
   ]
  },
  {
   "cell_type": "code",
   "execution_count": 8,
   "metadata": {},
   "outputs": [
    {
     "data": {
      "text/plain": [
       "Index(['pulse', 'Ag18', 'Ag19', 'Cu', 'year', 'month', 'day', 'Fe', 'freq_Q1',\n",
       "       'freq_Q2', 'freq_Q4', 'IC_Frequencies', 'IC_P_Q1', 'IC_P_Q2', 'IC_P_Q4',\n",
       "       'IC_P_tot', 'IC_Phase_Q1', 'IC_Phase_Q1 (Pf_left - Pf_right)',\n",
       "       'IC_Phase_Q2', 'IC_Phase_Q2 (Pf_left - Pf_right)', 'IC_Phase_Q4',\n",
       "       'IC_Phase_Q4 (Pf_left - Pf_right)', 'R_Q1', 'R_Q2', 'R_Q4',\n",
       "       'IC_Positions', 'IC_Rc_Q1_avg', 'IC_Rc_Q1_left', 'IC_Rc_Q1_right',\n",
       "       'IC_Rc_Q2_avg', 'IC_Rc_Q2_left', 'IC_Rc_Q2_right', 'IC_Rc_Q4_avg',\n",
       "       'IC_Rc_Q4_left', 'IC_Rc_Q4_right', 'IC_Voltage_left_lower_Q1',\n",
       "       'IC_Voltage_left_lower_Q2', 'IC_Voltage_left_lower_Q4',\n",
       "       'IC_Voltage_left_upper_Q1', 'IC_Voltage_left_upper_Q2',\n",
       "       'IC_Voltage_left_upper_Q4', 'IC_Voltage_right_lower_Q1',\n",
       "       'IC_Voltage_right_lower_Q2', 'IC_Voltage_right_lower_Q4',\n",
       "       'IC_Voltage_right_upper_Q1', 'IC_Voltage_right_upper_Q2',\n",
       "       'IC_Voltage_right_upper_Q4', 'time', 'Ip', 'Isotopic Ratio INBUM04',\n",
       "       'Isotopic Ratio LODIVIN15', 'Isotopic Ratio LODIVOU15', 'LH_P_tot',\n",
       "       'R_LH1', 'R_LH2', 'LH_Positions', 'MHD', 'Ohmic_P', 'Prad', 'Prad_imas',\n",
       "       'Rext_median', 'Rext_median_NICE', 'Separatrix_P', 'W_MHD', 'frad_imas',\n",
       "       'nl'],\n",
       "      dtype='object')"
      ]
     },
     "execution_count": 8,
     "metadata": {},
     "output_type": "execute_result"
    }
   ],
   "source": [
    "data.columns"
   ]
  },
  {
   "cell_type": "code",
   "execution_count": 9,
   "metadata": {},
   "outputs": [],
   "source": [
    "data.to_csv(file_output)"
   ]
  },
  {
   "cell_type": "code",
   "execution_count": 10,
   "metadata": {},
   "outputs": [
    {
     "data": {
      "text/plain": [
       "102974"
      ]
     },
     "execution_count": 10,
     "metadata": {},
     "output_type": "execute_result"
    }
   ],
   "source": [
    "len(data)"
   ]
  },
  {
   "cell_type": "code",
   "execution_count": 11,
   "metadata": {},
   "outputs": [
    {
     "data": {
      "text/html": [
       "<div>\n",
       "<style scoped>\n",
       "    .dataframe tbody tr th:only-of-type {\n",
       "        vertical-align: middle;\n",
       "    }\n",
       "\n",
       "    .dataframe tbody tr th {\n",
       "        vertical-align: top;\n",
       "    }\n",
       "\n",
       "    .dataframe thead th {\n",
       "        text-align: right;\n",
       "    }\n",
       "</style>\n",
       "<table border=\"1\" class=\"dataframe\">\n",
       "  <thead>\n",
       "    <tr style=\"text-align: right;\">\n",
       "      <th></th>\n",
       "      <th>pulse</th>\n",
       "      <th>Ag18</th>\n",
       "      <th>Ag19</th>\n",
       "      <th>Cu</th>\n",
       "      <th>year</th>\n",
       "      <th>month</th>\n",
       "      <th>day</th>\n",
       "      <th>Fe</th>\n",
       "      <th>freq_Q1</th>\n",
       "      <th>freq_Q2</th>\n",
       "      <th>...</th>\n",
       "      <th>MHD</th>\n",
       "      <th>Ohmic_P</th>\n",
       "      <th>Prad</th>\n",
       "      <th>Prad_imas</th>\n",
       "      <th>Rext_median</th>\n",
       "      <th>Rext_median_NICE</th>\n",
       "      <th>Separatrix_P</th>\n",
       "      <th>W_MHD</th>\n",
       "      <th>frad_imas</th>\n",
       "      <th>nl</th>\n",
       "    </tr>\n",
       "  </thead>\n",
       "  <tbody>\n",
       "    <tr>\n",
       "      <th>0</th>\n",
       "      <td>56289</td>\n",
       "      <td>1.330797</td>\n",
       "      <td>0.922018</td>\n",
       "      <td>NaN</td>\n",
       "      <td>2020.0</td>\n",
       "      <td>12.0</td>\n",
       "      <td>10.0</td>\n",
       "      <td>NaN</td>\n",
       "      <td>55.299999</td>\n",
       "      <td>55.799999</td>\n",
       "      <td>...</td>\n",
       "      <td>0.0</td>\n",
       "      <td>0.0</td>\n",
       "      <td>0.0</td>\n",
       "      <td>0.090342</td>\n",
       "      <td>2981.637954</td>\n",
       "      <td>2973.267766</td>\n",
       "      <td>0.0</td>\n",
       "      <td>41387.948887</td>\n",
       "      <td>NaN</td>\n",
       "      <td>1.449843</td>\n",
       "    </tr>\n",
       "    <tr>\n",
       "      <th>1</th>\n",
       "      <td>56289</td>\n",
       "      <td>0.983774</td>\n",
       "      <td>1.000000</td>\n",
       "      <td>NaN</td>\n",
       "      <td>2020.0</td>\n",
       "      <td>12.0</td>\n",
       "      <td>10.0</td>\n",
       "      <td>NaN</td>\n",
       "      <td>55.299999</td>\n",
       "      <td>55.799999</td>\n",
       "      <td>...</td>\n",
       "      <td>0.0</td>\n",
       "      <td>0.0</td>\n",
       "      <td>0.0</td>\n",
       "      <td>0.089766</td>\n",
       "      <td>2946.637476</td>\n",
       "      <td>2968.167753</td>\n",
       "      <td>0.0</td>\n",
       "      <td>47250.362452</td>\n",
       "      <td>NaN</td>\n",
       "      <td>1.562838</td>\n",
       "    </tr>\n",
       "    <tr>\n",
       "      <th>2</th>\n",
       "      <td>56289</td>\n",
       "      <td>1.000000</td>\n",
       "      <td>1.000000</td>\n",
       "      <td>NaN</td>\n",
       "      <td>2020.0</td>\n",
       "      <td>12.0</td>\n",
       "      <td>10.0</td>\n",
       "      <td>6.086065</td>\n",
       "      <td>55.299999</td>\n",
       "      <td>55.799999</td>\n",
       "      <td>...</td>\n",
       "      <td>0.0</td>\n",
       "      <td>0.0</td>\n",
       "      <td>0.0</td>\n",
       "      <td>0.088568</td>\n",
       "      <td>2956.318470</td>\n",
       "      <td>2951.450858</td>\n",
       "      <td>0.0</td>\n",
       "      <td>48850.911413</td>\n",
       "      <td>NaN</td>\n",
       "      <td>1.579303</td>\n",
       "    </tr>\n",
       "    <tr>\n",
       "      <th>3</th>\n",
       "      <td>56289</td>\n",
       "      <td>1.000000</td>\n",
       "      <td>NaN</td>\n",
       "      <td>1.896461</td>\n",
       "      <td>2020.0</td>\n",
       "      <td>12.0</td>\n",
       "      <td>10.0</td>\n",
       "      <td>NaN</td>\n",
       "      <td>55.299999</td>\n",
       "      <td>55.799999</td>\n",
       "      <td>...</td>\n",
       "      <td>0.0</td>\n",
       "      <td>0.0</td>\n",
       "      <td>0.0</td>\n",
       "      <td>0.095068</td>\n",
       "      <td>2942.756561</td>\n",
       "      <td>2946.898475</td>\n",
       "      <td>0.0</td>\n",
       "      <td>49309.269950</td>\n",
       "      <td>39.939243</td>\n",
       "      <td>1.579081</td>\n",
       "    </tr>\n",
       "    <tr>\n",
       "      <th>4</th>\n",
       "      <td>56289</td>\n",
       "      <td>1.000000</td>\n",
       "      <td>NaN</td>\n",
       "      <td>NaN</td>\n",
       "      <td>2020.0</td>\n",
       "      <td>12.0</td>\n",
       "      <td>10.0</td>\n",
       "      <td>3.738001</td>\n",
       "      <td>55.299999</td>\n",
       "      <td>55.799999</td>\n",
       "      <td>...</td>\n",
       "      <td>0.0</td>\n",
       "      <td>0.0</td>\n",
       "      <td>0.0</td>\n",
       "      <td>0.106382</td>\n",
       "      <td>2950.297941</td>\n",
       "      <td>2946.527634</td>\n",
       "      <td>0.0</td>\n",
       "      <td>50541.130810</td>\n",
       "      <td>37.665285</td>\n",
       "      <td>1.586296</td>\n",
       "    </tr>\n",
       "  </tbody>\n",
       "</table>\n",
       "<p>5 rows × 66 columns</p>\n",
       "</div>"
      ],
      "text/plain": [
       "   pulse      Ag18      Ag19        Cu    year  month   day        Fe  \\\n",
       "0  56289  1.330797  0.922018       NaN  2020.0   12.0  10.0       NaN   \n",
       "1  56289  0.983774  1.000000       NaN  2020.0   12.0  10.0       NaN   \n",
       "2  56289  1.000000  1.000000       NaN  2020.0   12.0  10.0  6.086065   \n",
       "3  56289  1.000000       NaN  1.896461  2020.0   12.0  10.0       NaN   \n",
       "4  56289  1.000000       NaN       NaN  2020.0   12.0  10.0  3.738001   \n",
       "\n",
       "     freq_Q1    freq_Q2  ...  MHD  Ohmic_P  Prad  Prad_imas  Rext_median  \\\n",
       "0  55.299999  55.799999  ...  0.0      0.0   0.0   0.090342  2981.637954   \n",
       "1  55.299999  55.799999  ...  0.0      0.0   0.0   0.089766  2946.637476   \n",
       "2  55.299999  55.799999  ...  0.0      0.0   0.0   0.088568  2956.318470   \n",
       "3  55.299999  55.799999  ...  0.0      0.0   0.0   0.095068  2942.756561   \n",
       "4  55.299999  55.799999  ...  0.0      0.0   0.0   0.106382  2950.297941   \n",
       "\n",
       "   Rext_median_NICE  Separatrix_P         W_MHD  frad_imas        nl  \n",
       "0       2973.267766           0.0  41387.948887        NaN  1.449843  \n",
       "1       2968.167753           0.0  47250.362452        NaN  1.562838  \n",
       "2       2951.450858           0.0  48850.911413        NaN  1.579303  \n",
       "3       2946.898475           0.0  49309.269950  39.939243  1.579081  \n",
       "4       2946.527634           0.0  50541.130810  37.665285  1.586296  \n",
       "\n",
       "[5 rows x 66 columns]"
      ]
     },
     "execution_count": 11,
     "metadata": {},
     "output_type": "execute_result"
    }
   ],
   "source": [
    "data.head()"
   ]
  },
  {
   "cell_type": "code",
   "execution_count": null,
   "metadata": {},
   "outputs": [],
   "source": []
  },
  {
   "cell_type": "code",
   "execution_count": null,
   "metadata": {},
   "outputs": [],
   "source": []
  }
 ],
 "metadata": {
  "kernelspec": {
   "display_name": "Python 3",
   "language": "python",
   "name": "python3"
  },
  "language_info": {
   "codemirror_mode": {
    "name": "ipython",
    "version": 3
   },
   "file_extension": ".py",
   "mimetype": "text/x-python",
   "name": "python",
   "nbconvert_exporter": "python",
   "pygments_lexer": "ipython3",
   "version": "3.8.5"
  }
 },
 "nbformat": 4,
 "nbformat_minor": 4
}
