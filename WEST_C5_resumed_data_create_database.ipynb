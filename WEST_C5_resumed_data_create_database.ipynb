{
 "cells": [
  {
   "cell_type": "markdown",
   "metadata": {},
   "source": [
    "# Creating a Database of Scalar Values for WEST C5 Experimental Campaign "
   ]
  },
  {
   "cell_type": "code",
   "execution_count": 1,
   "metadata": {},
   "outputs": [],
   "source": [
    "# assume working in Jupyter Lab\n",
    "%matplotlib inline \n",
    "\n",
    "%load_ext autoreload\n",
    "%autoreload 2"
   ]
  },
  {
   "cell_type": "code",
   "execution_count": 2,
   "metadata": {},
   "outputs": [],
   "source": [
    "# WEST libraries\n",
    "import sys\n",
    "if sys.platform == 'linux':\n",
    "    sys.path.append('/Home/JH218595/pywed')\n",
    "    sys.path.append('/Home/JH218595/IRFMtb')\n",
    "    sys.path.append('/Home/JH218595/PPPAT')\n",
    "else:\n",
    "    sys.path.append('C:\\\\Users\\\\JH218595\\\\Documents\\\\pywed')\n",
    "    sys.path.append('C:\\\\Users\\\\JH218595\\\\Documents\\\\IRFMtb')\n",
    "    sys.path.append('C:\\\\Users\\\\JH218595\\\\Documents\\\\PPPAT')    "
   ]
  },
  {
   "cell_type": "code",
   "execution_count": 3,
   "metadata": {},
   "outputs": [
    {
     "name": "stdout",
     "output_type": "stream",
     "text": [
      "IMAS only available on linux machines\n"
     ]
    }
   ],
   "source": [
    "import numpy as np\n",
    "import pandas as pd\n",
    "import matplotlib.pyplot as plt \n",
    "plt.rcParams['figure.figsize'] = (10,6)\n",
    "try:\n",
    "    from tqdm.notebook import tqdm\n",
    "except ImportError as e:\n",
    "    from tqdm import tqdm\n",
    "\n",
    "try:\n",
    "    from pppat.control_room.signals import *\n",
    "except ImportError as e:\n",
    "    sys.path.append('../../PPPAT/')\n",
    "    from pppat.control_room.signals import *\n",
    "\n",
    "from pulse_database import PulseDB"
   ]
  },
  {
   "cell_type": "markdown",
   "metadata": {},
   "source": [
    "The database has been created in another notebook. Importing database : "
   ]
  },
  {
   "cell_type": "code",
   "execution_count": 4,
   "metadata": {},
   "outputs": [],
   "source": [
    "dt = 0.10 # s\n",
    "\n",
    "hdf5_filename = 'databases/WEST_C5_pulse_data.hdf5'\n",
    "file_output = 'WEST_C5_database_resumed_parameters.csv'"
   ]
  },
  {
   "cell_type": "code",
   "execution_count": 5,
   "metadata": {},
   "outputs": [
    {
     "name": "stdout",
     "output_type": "stream",
     "text": [
      "Database contains 592 shots, from #56287 to #56789 \n"
     ]
    }
   ],
   "source": [
    "db = PulseDB(hdf5_filename)\n",
    "print(f'Database contains {len(db.pulse_list)} shots, from #{db.pulse_list[0]} to #{db.pulse_list[-1]} ')"
   ]
  },
  {
   "cell_type": "markdown",
   "metadata": {},
   "source": [
    "## Creating a meaningfull database with pandas\n",
    "The idea is to split time in small pieces and to calculate scalar values for each of them"
   ]
  },
  {
   "cell_type": "code",
   "execution_count": 6,
   "metadata": {},
   "outputs": [],
   "source": [
    "def split_in_pieces(y, t, nb_pieces):\n",
    "    \"\"\"Split a time signel y(t) into smaller piece of length dt, and return t, average, min, max and std of each of them\"\"\"\n",
    "    y_mean_min_max, t_pieces = [], []\n",
    "    if nb_pieces > 0: \n",
    "        ts = np.array_split(np.squeeze(t), nb_pieces)\n",
    "        ys = np.array_split(np.squeeze(y), nb_pieces)\n",
    "        for (_y, _t) in zip(ys, ts):\n",
    "            # Get the mean, min and max values of the data in the time piece\n",
    "            # Keep only if the mean value is within +/- 5% of the min/max\n",
    "            # otherwise use NaN\n",
    "            _mean, _mini, _maxi = mean_min_max(_y)\n",
    "            \n",
    "            if _mean == _mini == _maxi:  # no data\n",
    "                y_mean_min_max.append([_mean, _mini, _maxi])           \n",
    "                t_pieces.append(np.mean(_t))                \n",
    "            elif (np.abs(_mean - _mini)/_mean < 30/100) and (np.abs(_mean - _maxi)/_mean < 30/100):\n",
    "                y_mean_min_max.append([_mean, _mini, _maxi])           \n",
    "                t_pieces.append(np.mean(_t))\n",
    "            else:\n",
    "                y_mean_min_max.append([np.nan, np.nan, np.nan]) \n",
    "                t_pieces.append(np.nan)\n",
    "        return np.array(y_mean_min_max), np.array(t_pieces)    \n",
    "    else:\n",
    "        return np.array([np.nan, np.nan, np.nan]), np.array([np.nan])\n",
    "    "
   ]
  },
  {
   "cell_type": "code",
   "execution_count": 15,
   "metadata": {},
   "outputs": [
    {
     "data": {
      "application/vnd.jupyter.widget-view+json": {
       "model_id": "4a43d72893d94a71ae7625d7668a6ddb",
       "version_major": 2,
       "version_minor": 0
      },
      "text/plain": [
       "HBox(children=(HTML(value=''), FloatProgress(value=0.0, max=592.0), HTML(value='')))"
      ]
     },
     "metadata": {},
     "output_type": "display_data"
    },
    {
     "name": "stderr",
     "output_type": "stream",
     "text": [
      "/Home/JH218595/anaconda3/lib/python3.8/site-packages/numpy/core/fromnumeric.py:3372: RuntimeWarning: Mean of empty slice.\n",
      "  return _methods._mean(a, axis=axis, dtype=dtype,\n",
      "/Home/JH218595/anaconda3/lib/python3.8/site-packages/numpy/core/_methods.py:170: RuntimeWarning: invalid value encountered in double_scalars\n",
      "  ret = ret.dtype.type(ret / rcount)\n",
      "<ipython-input-6-ccc3c4664544>:16: RuntimeWarning: divide by zero encountered in double_scalars\n",
      "  elif (np.abs(_mean - _mini)/_mean < 30/100) and (np.abs(_mean - _maxi)/_mean < 30/100):\n"
     ]
    },
    {
     "name": "stdout",
     "output_type": "stream",
     "text": [
      "\n"
     ]
    }
   ],
   "source": [
    "data = pd.DataFrame()\n",
    "\n",
    "\n",
    "for pulse in tqdm(db.pulse_list):\n",
    "    # start as ip > 100 kA\n",
    "    try:\n",
    "        ip, t_ip = db.get_signal(pulse, 'Ip')\n",
    "\n",
    "        t_start = t_ip[(ip > 0.3).squeeze()][0]\n",
    "        t_end = t_ip[(ip > 0.3).squeeze()][-1]\n",
    "\n",
    "        nb_pieces = int(np.round((t_end - t_start)/dt))\n",
    "\n",
    "        rows = {'pulse': pulse}\n",
    "        for signame in db.list_signal(pulse):           \n",
    "            try:\n",
    "                y, t = db.get_signal(pulse, signame)\n",
    "                # Smooth some noisy signals\n",
    "                if any(sig in signame for sig in ['Cu', 'Ag18', 'Ag19', 'Langmuir', 'Prad', 'Prad_bulk','LH_P_tot', 'IC_P_tot', 'IC_P_Q1', 'IC_P_Q2', 'IC_P_Q4']):\n",
    "                    y = smooth(y, window_length=21)\n",
    "\n",
    "                # splitting signals in pieces\n",
    "                _y, _t = in_between(y, t, t_start, t_end)\n",
    "                ys, ts = split_in_pieces(_y, _t, nb_pieces)\n",
    "\n",
    "                # Taking reference time from the plasma current\n",
    "                if signame == 'Ip':\n",
    "                    rows['time'] = np.squeeze(ts)\n",
    "\n",
    "            except IndexError as e:\n",
    "                # deals with resumed data (like IC frequencies):\n",
    "                # replicate the data for the number of pieces\n",
    "                if y.ndim == 1 and len(y)>1:\n",
    "                    ys = np.tile(y, (int(nb_pieces),1))\n",
    "                else:\n",
    "                    # fill with 0 if empty arrays\n",
    "                    ys = np.zeros(nb_pieces)\n",
    "\n",
    "            except ValueError as e:\n",
    "                ys = np.zeros(nb_pieces)\n",
    "\n",
    "            # add data points into the Dataframe\n",
    "            if signame == 'IC_Frequencies':\n",
    "                try:\n",
    "                    rows['freq_Q1'] = ys[:,0]\n",
    "                    rows['freq_Q2'] = ys[:,1]\n",
    "                    rows['freq_Q4'] = ys[:,2]\n",
    "                except Exception as e:\n",
    "                    rows['freq_Q1'] = np.nan\n",
    "                    rows['freq_Q2'] = np.nan\n",
    "                    rows['freq_Q4'] = np.nan                \n",
    "            if signame == 'LH_Positions':\n",
    "                rows['R_LH1'] = ys[:,0]\n",
    "                rows['R_LH2'] = ys[:,1]\n",
    "            if signame == 'IC_Positions':\n",
    "                rows['R_Q1'] = ys[:,0]\n",
    "                rows['R_Q2'] = ys[:,1]\n",
    "                rows['R_Q4'] = ys[:,2]\n",
    "            try:\n",
    "                if signame == 'Datetime':\n",
    "                    rows['year'] = ys[:,0]\n",
    "                    rows['month']= ys[:,1]\n",
    "                    rows['day']  = ys[:,2]\n",
    "                    rows['hour'] = ts[:,0]\n",
    "                    rows['minute'] = ts[:,1]\n",
    "                    rows['second'] = ts[:,2]\n",
    "            except Exception as e:\n",
    "                pass\n",
    "            else:\n",
    "\n",
    "                if ys.ndim > 1:  # if to deal with the case of zeros (ValueError previously)\n",
    "                    ys = ys[:,0]  # keep only mean (yet)\n",
    "                rows[signame] = np.squeeze(ys)\n",
    "\n",
    "            _df = pd.DataFrame(rows)\n",
    "        # append data from each pulse to the final DF\n",
    "        data = data.append(_df)\n",
    "    except Exception as e:\n",
    "        pass"
   ]
  },
  {
   "cell_type": "markdown",
   "metadata": {},
   "source": [
    "Exporting the Dataframe:"
   ]
  },
  {
   "cell_type": "code",
   "execution_count": 16,
   "metadata": {},
   "outputs": [
    {
     "data": {
      "text/plain": [
       "Index(['pulse', 'Ag18', 'Ag19', 'Cu', 'year', 'month', 'day', 'Fe', 'freq_Q1',\n",
       "       'freq_Q2', 'freq_Q4', 'IC_Frequencies', 'IC_P_Q1', 'IC_P_Q2', 'IC_P_Q4',\n",
       "       'IC_P_tot', 'R_Q1', 'R_Q2', 'R_Q4', 'IC_Positions', 'IC_Rc_Q1_avg',\n",
       "       'IC_Rc_Q1_left', 'IC_Rc_Q1_right', 'IC_Rc_Q2_avg', 'IC_Rc_Q2_left',\n",
       "       'IC_Rc_Q2_right', 'IC_Rc_Q4_avg', 'IC_Rc_Q4_left', 'IC_Rc_Q4_right',\n",
       "       'IC_Voltage_left_lower_Q1', 'IC_Voltage_left_lower_Q2',\n",
       "       'IC_Voltage_left_lower_Q4', 'IC_Voltage_left_upper_Q1',\n",
       "       'IC_Voltage_left_upper_Q2', 'IC_Voltage_left_upper_Q4',\n",
       "       'IC_Voltage_right_lower_Q1', 'IC_Voltage_right_lower_Q2',\n",
       "       'IC_Voltage_right_lower_Q4', 'IC_Voltage_right_upper_Q1',\n",
       "       'IC_Voltage_right_upper_Q2', 'IC_Voltage_right_upper_Q4', 'time', 'Ip',\n",
       "       'Isotopic Ratio INBUM04', 'Isotopic Ratio LODIVIN15',\n",
       "       'Isotopic Ratio LODIVOU15', 'LH_P_tot', 'R_LH1', 'R_LH2',\n",
       "       'LH_Positions', 'MHD', 'Ohmic_P', 'Prad', 'Rext_median', 'Separatrix_P',\n",
       "       'nl'],\n",
       "      dtype='object')"
      ]
     },
     "execution_count": 16,
     "metadata": {},
     "output_type": "execute_result"
    }
   ],
   "source": [
    "data.columns"
   ]
  },
  {
   "cell_type": "code",
   "execution_count": 17,
   "metadata": {},
   "outputs": [],
   "source": [
    "data.to_csv(file_output)"
   ]
  },
  {
   "cell_type": "code",
   "execution_count": 19,
   "metadata": {},
   "outputs": [
    {
     "data": {
      "text/plain": [
       "45835"
      ]
     },
     "execution_count": 19,
     "metadata": {},
     "output_type": "execute_result"
    }
   ],
   "source": [
    "len(data)"
   ]
  },
  {
   "cell_type": "code",
   "execution_count": 18,
   "metadata": {},
   "outputs": [
    {
     "data": {
      "text/html": [
       "<div>\n",
       "<style scoped>\n",
       "    .dataframe tbody tr th:only-of-type {\n",
       "        vertical-align: middle;\n",
       "    }\n",
       "\n",
       "    .dataframe tbody tr th {\n",
       "        vertical-align: top;\n",
       "    }\n",
       "\n",
       "    .dataframe thead th {\n",
       "        text-align: right;\n",
       "    }\n",
       "</style>\n",
       "<table border=\"1\" class=\"dataframe\">\n",
       "  <thead>\n",
       "    <tr style=\"text-align: right;\">\n",
       "      <th></th>\n",
       "      <th>pulse</th>\n",
       "      <th>Ag18</th>\n",
       "      <th>Ag19</th>\n",
       "      <th>Cu</th>\n",
       "      <th>year</th>\n",
       "      <th>month</th>\n",
       "      <th>day</th>\n",
       "      <th>Fe</th>\n",
       "      <th>freq_Q1</th>\n",
       "      <th>freq_Q2</th>\n",
       "      <th>...</th>\n",
       "      <th>LH_P_tot</th>\n",
       "      <th>R_LH1</th>\n",
       "      <th>R_LH2</th>\n",
       "      <th>LH_Positions</th>\n",
       "      <th>MHD</th>\n",
       "      <th>Ohmic_P</th>\n",
       "      <th>Prad</th>\n",
       "      <th>Rext_median</th>\n",
       "      <th>Separatrix_P</th>\n",
       "      <th>nl</th>\n",
       "    </tr>\n",
       "  </thead>\n",
       "  <tbody>\n",
       "    <tr>\n",
       "      <th>0</th>\n",
       "      <td>56287</td>\n",
       "      <td>1.5407</td>\n",
       "      <td>NaN</td>\n",
       "      <td>3.959761</td>\n",
       "      <td>2020.0</td>\n",
       "      <td>12.0</td>\n",
       "      <td>10.0</td>\n",
       "      <td>NaN</td>\n",
       "      <td>55.299999</td>\n",
       "      <td>55.799999</td>\n",
       "      <td>...</td>\n",
       "      <td>0.0</td>\n",
       "      <td>3.0152</td>\n",
       "      <td>3.0172</td>\n",
       "      <td>3.0152</td>\n",
       "      <td>0.0</td>\n",
       "      <td>0.0</td>\n",
       "      <td>0.0</td>\n",
       "      <td>2980.88</td>\n",
       "      <td>0.0</td>\n",
       "      <td>1.435414</td>\n",
       "    </tr>\n",
       "    <tr>\n",
       "      <th>1</th>\n",
       "      <td>56287</td>\n",
       "      <td>NaN</td>\n",
       "      <td>1.033671</td>\n",
       "      <td>3.550893</td>\n",
       "      <td>2020.0</td>\n",
       "      <td>12.0</td>\n",
       "      <td>10.0</td>\n",
       "      <td>NaN</td>\n",
       "      <td>55.299999</td>\n",
       "      <td>55.799999</td>\n",
       "      <td>...</td>\n",
       "      <td>0.0</td>\n",
       "      <td>3.0152</td>\n",
       "      <td>3.0172</td>\n",
       "      <td>3.0152</td>\n",
       "      <td>0.0</td>\n",
       "      <td>0.0</td>\n",
       "      <td>0.0</td>\n",
       "      <td>2950.44</td>\n",
       "      <td>0.0</td>\n",
       "      <td>1.545745</td>\n",
       "    </tr>\n",
       "    <tr>\n",
       "      <th>2</th>\n",
       "      <td>56287</td>\n",
       "      <td>NaN</td>\n",
       "      <td>1.235728</td>\n",
       "      <td>NaN</td>\n",
       "      <td>2020.0</td>\n",
       "      <td>12.0</td>\n",
       "      <td>10.0</td>\n",
       "      <td>NaN</td>\n",
       "      <td>55.299999</td>\n",
       "      <td>55.799999</td>\n",
       "      <td>...</td>\n",
       "      <td>0.0</td>\n",
       "      <td>3.0152</td>\n",
       "      <td>3.0172</td>\n",
       "      <td>3.0152</td>\n",
       "      <td>0.0</td>\n",
       "      <td>0.0</td>\n",
       "      <td>0.0</td>\n",
       "      <td>2958.22</td>\n",
       "      <td>0.0</td>\n",
       "      <td>1.573494</td>\n",
       "    </tr>\n",
       "    <tr>\n",
       "      <th>3</th>\n",
       "      <td>56287</td>\n",
       "      <td>NaN</td>\n",
       "      <td>1.143154</td>\n",
       "      <td>NaN</td>\n",
       "      <td>2020.0</td>\n",
       "      <td>12.0</td>\n",
       "      <td>10.0</td>\n",
       "      <td>NaN</td>\n",
       "      <td>55.299999</td>\n",
       "      <td>55.799999</td>\n",
       "      <td>...</td>\n",
       "      <td>0.0</td>\n",
       "      <td>3.0152</td>\n",
       "      <td>3.0172</td>\n",
       "      <td>3.0152</td>\n",
       "      <td>0.0</td>\n",
       "      <td>0.0</td>\n",
       "      <td>0.0</td>\n",
       "      <td>2943.20</td>\n",
       "      <td>0.0</td>\n",
       "      <td>1.567759</td>\n",
       "    </tr>\n",
       "    <tr>\n",
       "      <th>4</th>\n",
       "      <td>56287</td>\n",
       "      <td>1.0000</td>\n",
       "      <td>1.000000</td>\n",
       "      <td>2.425662</td>\n",
       "      <td>2020.0</td>\n",
       "      <td>12.0</td>\n",
       "      <td>10.0</td>\n",
       "      <td>NaN</td>\n",
       "      <td>55.299999</td>\n",
       "      <td>55.799999</td>\n",
       "      <td>...</td>\n",
       "      <td>0.0</td>\n",
       "      <td>3.0152</td>\n",
       "      <td>3.0172</td>\n",
       "      <td>3.0152</td>\n",
       "      <td>0.0</td>\n",
       "      <td>0.0</td>\n",
       "      <td>0.0</td>\n",
       "      <td>2950.00</td>\n",
       "      <td>0.0</td>\n",
       "      <td>1.566279</td>\n",
       "    </tr>\n",
       "  </tbody>\n",
       "</table>\n",
       "<p>5 rows × 56 columns</p>\n",
       "</div>"
      ],
      "text/plain": [
       "   pulse    Ag18      Ag19        Cu    year  month   day  Fe    freq_Q1  \\\n",
       "0  56287  1.5407       NaN  3.959761  2020.0   12.0  10.0 NaN  55.299999   \n",
       "1  56287     NaN  1.033671  3.550893  2020.0   12.0  10.0 NaN  55.299999   \n",
       "2  56287     NaN  1.235728       NaN  2020.0   12.0  10.0 NaN  55.299999   \n",
       "3  56287     NaN  1.143154       NaN  2020.0   12.0  10.0 NaN  55.299999   \n",
       "4  56287  1.0000  1.000000  2.425662  2020.0   12.0  10.0 NaN  55.299999   \n",
       "\n",
       "     freq_Q2  ...  LH_P_tot   R_LH1   R_LH2  LH_Positions  MHD  Ohmic_P  Prad  \\\n",
       "0  55.799999  ...       0.0  3.0152  3.0172        3.0152  0.0      0.0   0.0   \n",
       "1  55.799999  ...       0.0  3.0152  3.0172        3.0152  0.0      0.0   0.0   \n",
       "2  55.799999  ...       0.0  3.0152  3.0172        3.0152  0.0      0.0   0.0   \n",
       "3  55.799999  ...       0.0  3.0152  3.0172        3.0152  0.0      0.0   0.0   \n",
       "4  55.799999  ...       0.0  3.0152  3.0172        3.0152  0.0      0.0   0.0   \n",
       "\n",
       "   Rext_median  Separatrix_P        nl  \n",
       "0      2980.88           0.0  1.435414  \n",
       "1      2950.44           0.0  1.545745  \n",
       "2      2958.22           0.0  1.573494  \n",
       "3      2943.20           0.0  1.567759  \n",
       "4      2950.00           0.0  1.566279  \n",
       "\n",
       "[5 rows x 56 columns]"
      ]
     },
     "execution_count": 18,
     "metadata": {},
     "output_type": "execute_result"
    }
   ],
   "source": [
    "data.head()"
   ]
  },
  {
   "cell_type": "code",
   "execution_count": null,
   "metadata": {},
   "outputs": [],
   "source": []
  },
  {
   "cell_type": "code",
   "execution_count": null,
   "metadata": {},
   "outputs": [],
   "source": []
  }
 ],
 "metadata": {
  "kernelspec": {
   "display_name": "Python 3",
   "language": "python",
   "name": "python3"
  },
  "language_info": {
   "codemirror_mode": {
    "name": "ipython",
    "version": 3
   },
   "file_extension": ".py",
   "mimetype": "text/x-python",
   "name": "python",
   "nbconvert_exporter": "python",
   "pygments_lexer": "ipython3",
   "version": "3.8.5"
  }
 },
 "nbformat": 4,
 "nbformat_minor": 4
}
