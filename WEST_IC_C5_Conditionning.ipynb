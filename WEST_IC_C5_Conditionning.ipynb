{
 "cells": [
  {
   "cell_type": "markdown",
   "metadata": {},
   "source": [
    "# WEST IC C5 Conditioning Campaign "
   ]
  },
  {
   "cell_type": "code",
   "execution_count": 1,
   "metadata": {},
   "outputs": [],
   "source": [
    "%matplotlib widget"
   ]
  },
  {
   "cell_type": "code",
   "execution_count": 2,
   "metadata": {},
   "outputs": [],
   "source": [
    "import pandas as pd\n",
    "import numpy as np\n",
    "import matplotlib.pyplot as plt\n",
    "from tqdm import tqdm\n",
    "from glob import glob\n",
    "import matplotlib.dates as mdates\n",
    "import datetime"
   ]
  },
  {
   "cell_type": "code",
   "execution_count": 3,
   "metadata": {},
   "outputs": [],
   "source": [
    "import seaborn as sns"
   ]
  },
  {
   "cell_type": "markdown",
   "metadata": {},
   "source": [
    "# Creating the database"
   ]
  },
  {
   "cell_type": "code",
   "execution_count": 4,
   "metadata": {},
   "outputs": [],
   "source": [
    "def read_conditoning_data(filename):\n",
    "    \"\"\"\n",
    "    Import and return the ICRH Conditioning data into a pandas DataFrame\n",
    "    \"\"\"\n",
    "\n",
    "    data = pd.read_csv(filename, delimiter='\\t', skiprows=18, \n",
    "                names=('Temps',\n",
    "                       'PiG','PrG','PiD','PrD',\n",
    "                       'V1','V2','V3','V4', \n",
    "                       'Ph(V1-V3)','Ph(V2-V4)',\n",
    "                       'Consigne_mes', 'Vide_gauche', 'Vide_droit',\n",
    "                       'reserve1', 'reserve2', '_'),\n",
    "                index_col='Temps') # last element '_' to avoid pandas crashing\n",
    "    # convert phase in degree and wrap it between 0° and 359°\n",
    "    data['Ph(V1-V3)'] /= 100\n",
    "    data['Ph(V2-V4)'] /= 100\n",
    "    #data['Ph(V1-V3)'] %= 360\n",
    "    #data['Ph(V2-V4)'] %= 360\n",
    "    return data \n",
    "\n",
    "def read_conditioning_metadata(filename):\n",
    "    \"\"\"\n",
    "    Import and return the ICRH Conditioning metadata into a dictionary\n",
    "    \"\"\"\n",
    "    para_dic = {}\n",
    "    with  open(filename,'r') as cmt_file:    # open file\n",
    "        for line in cmt_file:    # read each line\n",
    "            if line[0] == '#':    # check the first character\n",
    "                line = line[1:]    # remove first '#'\n",
    "                para = line.split('=')     # seperate string by '='\n",
    "                if len(para) == 2:\n",
    "                    para_dic[ para[0].strip()] = para[1].strip()\n",
    "    return para_dic "
   ]
  },
  {
   "cell_type": "code",
   "execution_count": 5,
   "metadata": {},
   "outputs": [],
   "source": [
    "file = 'Conditionning/2020-12-01_09-37-26.csv'\n",
    "'''\n",
    "Get the metadata of a file and generate a pandas DataFrame of them\n",
    "'''\n",
    "def forge_df(file):\n",
    "    metadata = read_conditioning_metadata(file)\n",
    "    _datetime = pd.datetime.strptime(metadata['Date']+' '+metadata['Heure'], '%Y-%m-%d %H-%M-%S')\n",
    "    _row = pd.DataFrame(data={'Date':_datetime, \n",
    "                       'Antenna':int(metadata['Antenne'][1]), \n",
    "                       'Duration':float(metadata['Duree du tir'].split()[0]),\n",
    "                       'Frequency':float(metadata['Frequence'].split()[0]),\n",
    "                       'Nb of Vr/Vi':int(metadata['Nb interruptions TOS']),\n",
    "                       'Nb of SHAD': int(metadata['Nb interruptions SHAD']),\n",
    "                       'Nb of Optical':int(metadata['Nb interruptions OPT']),\n",
    "                       'Nb total': int(metadata['Nb interruptions TOTAL']),\n",
    "                       'Vacuum stop': int(metadata['Arret sur defaut vide'])\n",
    "                      }, index=[0])#.set_index('Date')\n",
    "\n",
    "    # pass for empty pulses \n",
    "    try:\n",
    "        _all_data = read_conditoning_data(file)\n",
    "        # calculation real pulse duration\n",
    "        t_start = _all_data.query('V1 > 1500 or V2 > 1500 or V3 > 1500 or V4 > 1500').index[0]\n",
    "        t_stop = _all_data.query('V1 > 1500 or V2 > 1500 or V3 > 1500 or V4 > 1500').index[-1]\n",
    "        duration = (t_stop - t_start)/1e6  # s\n",
    "        \n",
    "        # keep only max values of each columns\n",
    "        _data_max = _all_data.max().to_frame().T\n",
    "        # power must be divided by 10 to get kW and divided by 2 as it correspond to total power \n",
    "        _data_max['PiG'] = _data_max['PiG']/10/2\n",
    "        _data_max['PiD'] = _data_max['PiD']/10/2     \n",
    "        # Max Energy\n",
    "        _data_max['Energie_Left'] = np.trapz(_data_max.PiG*1e3, _data_max.index/1e6)\n",
    "        _data_max['Energie_Right'] = np.trapz(_data_max.PiD*1e3, _data_max.index/1e6)\n",
    "                \n",
    "        _data_max.columns = [colname+'_max' for colname in _data_max.columns]\n",
    "        \n",
    "        # mean values during RF pulse\n",
    "        _data_mean = _all_data.query('index >= @t_start and index <= @t_stop').mean().to_frame().T\n",
    "        # power must be divided by 10 to get kW and divided by 2 as it correspond to total power \n",
    "        _data_mean['PiG'] = _data_mean['PiG']/10/2\n",
    "        _data_mean['PiD'] = _data_mean['PiD']/10/2     \n",
    "        # Mean Energy\n",
    "        _data_mean['Energie_Left'] = np.trapz(_data_mean.PiG*1e3, _data_mean.index/1e6)\n",
    "        _data_mean['Energie_Right'] = np.trapz(_data_mean.PiD*1e3, _data_mean.index/1e6)\n",
    "        \n",
    "        _data_mean.columns = [colname+'_mean' for colname in _data_mean.columns]\n",
    "               \n",
    "        # final data\n",
    "        _row_final = pd.concat([_data_max, _data_mean, _row], axis=1)\n",
    "        # Outgassing \n",
    "        _row_final['outgassing_gauche'] = np.trapz(_all_data['Vide_gauche'], _all_data.index/1e6)\n",
    "        _row_final['outgassing_droite'] = np.trapz(_all_data['Vide_droit'], _all_data.index/1e6)\n",
    "\n",
    "        _row_final['Duration_'] = duration                                            \n",
    "        _row_final.set_index('Date')\n",
    "        \n",
    "    except IndexError:\n",
    "        _row_final = None\n",
    "   \n",
    "    return _row_final"
   ]
  },
  {
   "cell_type": "code",
   "execution_count": 6,
   "metadata": {},
   "outputs": [
    {
     "name": "stderr",
     "output_type": "stream",
     "text": [
      "  0%|                                                                                         | 0/1148 [00:00<?, ?it/s]C:\\Users\\JH218595\\AppData\\Local\\Continuum\\anaconda3\\lib\\site-packages\\ipykernel_launcher.py:7: FutureWarning: The pandas.datetime class is deprecated and will be removed from pandas in a future version. Import from datetime module instead.\n",
      "  import sys\n",
      "100%|██████████████████████████████████████████████████████████████████████████████| 1148/1148 [00:41<00:00, 27.68it/s]\n"
     ]
    }
   ],
   "source": [
    "files = glob('../WEST_C4/Conditionning/2019*.csv')\n",
    "\n",
    "df = pd.DataFrame()\n",
    "for file in tqdm(files):\n",
    "    df=df.append(forge_df(file))\n",
    "df2019=df.set_index('Date')\n"
   ]
  },
  {
   "cell_type": "code",
   "execution_count": 7,
   "metadata": {},
   "outputs": [
    {
     "name": "stderr",
     "output_type": "stream",
     "text": [
      "  0%|                                                                                          | 0/924 [00:00<?, ?it/s]C:\\Users\\JH218595\\AppData\\Local\\Continuum\\anaconda3\\lib\\site-packages\\ipykernel_launcher.py:7: FutureWarning: The pandas.datetime class is deprecated and will be removed from pandas in a future version. Import from datetime module instead.\n",
      "  import sys\n",
      "100%|████████████████████████████████████████████████████████████████████████████████| 924/924 [00:32<00:00, 28.60it/s]\n"
     ]
    }
   ],
   "source": [
    "files = glob('Conditionning/2020*.csv')\n",
    "\n",
    "df = pd.DataFrame()\n",
    "for file in tqdm(files):\n",
    "    df=df.append(forge_df(file))\n",
    "df2020=df.set_index('Date')\n"
   ]
  },
  {
   "cell_type": "code",
   "execution_count": 8,
   "metadata": {},
   "outputs": [],
   "source": [
    "# merge 2019 and 2020 data\n",
    "df = pd.concat([df2019, df2020])"
   ]
  },
  {
   "cell_type": "code",
   "execution_count": 9,
   "metadata": {},
   "outputs": [
    {
     "data": {
      "text/plain": [
       "Index(['PiG_max', 'PrG_max', 'PiD_max', 'PrD_max', 'V1_max', 'V2_max',\n",
       "       'V3_max', 'V4_max', 'Ph(V1-V3)_max', 'Ph(V2-V4)_max',\n",
       "       'Consigne_mes_max', 'Vide_gauche_max', 'Vide_droit_max', 'reserve1_max',\n",
       "       'reserve2_max', '__max', 'Energie_Left_max', 'Energie_Right_max',\n",
       "       'PiG_mean', 'PrG_mean', 'PiD_mean', 'PrD_mean', 'V1_mean', 'V2_mean',\n",
       "       'V3_mean', 'V4_mean', 'Ph(V1-V3)_mean', 'Ph(V2-V4)_mean',\n",
       "       'Consigne_mes_mean', 'Vide_gauche_mean', 'Vide_droit_mean',\n",
       "       'reserve1_mean', 'reserve2_mean', '__mean', 'Energie_Left_mean',\n",
       "       'Energie_Right_mean', 'Antenna', 'Duration', 'Frequency', 'Nb of Vr/Vi',\n",
       "       'Nb of SHAD', 'Nb of Optical', 'Nb total', 'Vacuum stop',\n",
       "       'outgassing_gauche', 'outgassing_droite', 'Duration_'],\n",
       "      dtype='object')"
      ]
     },
     "execution_count": 9,
     "metadata": {},
     "output_type": "execute_result"
    }
   ],
   "source": [
    "df.columns"
   ]
  },
  {
   "cell_type": "code",
   "execution_count": 67,
   "metadata": {},
   "outputs": [],
   "source": [
    "df['V_max'] = df[['V1_max','V2_max', 'V3_max', 'V4_max']].max(axis=1)/1e3\n",
    "df['P_max'] = df['PiD_max'] + df['PiG_max']\n",
    "df['V_mean'] = df[['V1_mean','V2_mean', 'V3_mean', 'V4_mean']].max(axis=1)/1e3\n",
    "df['P_mean'] = df['PiD_mean'] + df['PiG_mean']\n",
    "\n",
    "df['pressure_gauche_mean'] = np.power(10, 1.667*df.Vide_gauche_mean*1e-3 - 9.33)\n",
    "df['pressure_droit_mean'] = np.power(10, 1.667*df.Vide_droit_mean*1e-3 - 9.33)\n",
    "df['pressure_mean'] = df[['pressure_gauche_mean', 'pressure_droit_mean']].max(axis=1)\n",
    "\n",
    "df['pressure_gauche_max'] = np.power(10, 1.667*df.Vide_gauche_max*1e-3 - 9.33)\n",
    "df['pressure_droit_max'] = np.power(10, 1.667*df.Vide_droit_max*1e-3 - 9.33)\n",
    "df['pressure_max'] = df[['pressure_gauche_max', 'pressure_droit_max']].max(axis=1)\n",
    "\n",
    "df['year'] = pd.to_datetime(df.index).year\n",
    "df['day'] = pd.to_datetime(df.index).day\n",
    "\n",
    "df['SWR'] = df['Nb of Vr/Vi'] > 0\n",
    "df['optical'] = df['Nb of Optical'] > 0\n",
    "df['SHAD'] = df['Nb of SHAD'] > 0\n",
    "df['pressure'] = df['Vacuum stop'] > 0\n",
    "df['date'] = pd.to_datetime(df.index)\n",
    "# max outgassing (left vs right)\n",
    "df['outgassing'] = df[['outgassing_droite', 'outgassing_gauche']].max(axis=1)\n",
    "# outgassing \"rate\"\n",
    "df['outgassing_rate'] = df['outgassing']/df['Duration_']\n"
   ]
  },
  {
   "cell_type": "code",
   "execution_count": 68,
   "metadata": {},
   "outputs": [],
   "source": [
    "#df.to_csv('C4_C5_Vacuum_Conditionning_Data.csv')"
   ]
  },
  {
   "cell_type": "markdown",
   "metadata": {},
   "source": [
    "# Ploting the results"
   ]
  },
  {
   "cell_type": "markdown",
   "metadata": {},
   "source": [
    "# Duration vs date"
   ]
  },
  {
   "cell_type": "markdown",
   "metadata": {},
   "source": [
    "### Q4 - 2019"
   ]
  },
  {
   "cell_type": "markdown",
   "metadata": {},
   "source": [
    "#### outgassing vs duration"
   ]
  },
  {
   "cell_type": "code",
   "execution_count": 12,
   "metadata": {},
   "outputs": [
    {
     "data": {
      "application/vnd.jupyter.widget-view+json": {
       "model_id": "201d53b82a9b4227bf076bd9b99258c5",
       "version_major": 2,
       "version_minor": 0
      },
      "text/plain": [
       "Canvas(toolbar=Toolbar(toolitems=[('Home', 'Reset original view', 'home', 'home'), ('Back', 'Back to previous …"
      ]
     },
     "metadata": {},
     "output_type": "display_data"
    }
   ],
   "source": [
    "fix, ax = plt.subplots(figsize=(8,6))\n",
    "_df=df.query('Duration_>0 and Antenna == [4] and year == 2019')\n",
    "ax.scatter(_df['Duration_'][_df['Nb of SHAD'] > 0], _df['outgassing'][df['Nb of SHAD'] > 0], alpha=.8, marker='o', facecolor='none', color='k', s=70, label='SHAD Arc Detection')\n",
    "ax.scatter(_df['Duration_'][_df['Nb of Optical'] > 0], _df['outgassing'][df['Nb of Optical'] > 0], marker='d', color='C1', s=90, label='Optical Arc Detection')\n",
    "ax.scatter(_df['Duration_'][_df['Nb of Vr/Vi'] > 0], _df['outgassing'][df['Nb of Vr/Vi'] > 0], marker='v', color='C3', alpha=.8, s=60, label='Vr/Vi Arc Detection')\n",
    "ax.scatter(_df['Duration_'][_df['Vacuum stop'] > 0], _df['outgassing'][df['Vacuum stop'] > 0], marker='s', color='C4', alpha=.8, s=60, label='Vacuum stop')\n",
    "\n",
    "_df_nostop = _df.query(\"`Vacuum stop` == 0 and `Nb total` == 0 \")\n",
    "ax.scatter(_df_nostop['Duration_'], _df_nostop['outgassing'],  marker='o', s=60, color='green', alpha=0.5, label='No Interrupt')\n",
    "\n",
    "ax.set_xscale('log')\n",
    "ax.set_xlim(left=1e-3, right=6)\n",
    "ax.set_yscale('log')\n",
    "# ax.set_ylim(top=22)  # half-side only\n",
    "ax.set_xlim(right=10)\n",
    "ax.grid(True)\n",
    "ax.grid(True, which='minor', alpha=0.4)\n",
    "ax.set_xlabel('Pulse Duration [s]', fontsize=18)\n",
    "ax.set_ylabel('Outgassing [Pa.s]', fontsize=18)\n",
    "ax.legend(fontsize=12)\n",
    "ax.xaxis.set_tick_params(labelsize=16)\n",
    "ax.yaxis.set_tick_params(labelsize=16)\n",
    "ax.set_title('Q4 - 2019')\n",
    "for target_duration in [0.02, 0.05, 0.1, 1, 2, 5]:\n",
    "    ax.axvline(target_duration, color='gray', ls='--', label='target')"
   ]
  },
  {
   "cell_type": "markdown",
   "metadata": {},
   "source": [
    "#### outgassing vs voltage"
   ]
  },
  {
   "cell_type": "code",
   "execution_count": 69,
   "metadata": {},
   "outputs": [
    {
     "data": {
      "application/vnd.jupyter.widget-view+json": {
       "model_id": "581cc96a9a8b476ea8ec9f928a5bc078",
       "version_major": 2,
       "version_minor": 0
      },
      "text/plain": [
       "Canvas(toolbar=Toolbar(toolitems=[('Home', 'Reset original view', 'home', 'home'), ('Back', 'Back to previous …"
      ]
     },
     "metadata": {},
     "output_type": "display_data"
    }
   ],
   "source": [
    "fix, ax = plt.subplots(figsize=(8,6))\n",
    "_df=df.query('Duration_>0 and Antenna == [4] and year == 2019')\n",
    "ax.scatter(_df['V_mean'][_df['Nb of SHAD'] > 0], _df['outgassing_rate'][df['Nb of SHAD'] > 0], alpha=.8, marker='o', facecolor='none', color='k', s=70, label='SHAD Arc Detection')\n",
    "ax.scatter(_df['V_mean'][_df['Nb of Optical'] > 0], _df['outgassing_rate'][df['Nb of Optical'] > 0], marker='d', color='C1', s=90, label='Optical Arc Detection')\n",
    "ax.scatter(_df['V_mean'][_df['Nb of Vr/Vi'] > 0], _df['outgassing_rate'][df['Nb of Vr/Vi'] > 0], marker='v', color='C3', alpha=.8, s=60, label='Vr/Vi Arc Detection')\n",
    "ax.scatter(_df['V_mean'][_df['Vacuum stop'] > 0], _df['outgassing_rate'][df['Vacuum stop'] > 0], marker='s', color='C4', alpha=.8, s=60, label='Vacuum stop')\n",
    "\n",
    "_df_nostop = _df.query(\"`Vacuum stop` == 0 and `Nb total` == 0 \")\n",
    "ax.scatter(_df_nostop['V_mean'], _df_nostop['outgassing_rate'],  marker='o', s=60, color='green', alpha=0.5, label='No Interrupt')\n",
    "\n",
    "#ax.set_xscale('log')\n",
    "#ax.set_xlim(left=1e-3, right=6)\n",
    "ax.set_yscale('log')\n",
    "# ax.set_ylim(top=22)  # half-side only\n",
    "#ax.set_xlim(right=10)\n",
    "ax.grid(True)\n",
    "ax.grid(True, which='minor', alpha=0.4)\n",
    "ax.set_xlabel('Mean Voltage [kV]', fontsize=18)\n",
    "ax.set_ylabel('Outgassing [Pa.s]', fontsize=18)\n",
    "ax.legend(fontsize=12)\n",
    "ax.xaxis.set_tick_params(labelsize=16)\n",
    "ax.yaxis.set_tick_params(labelsize=16)\n",
    "ax.set_title('Q4 - 2019')\n",
    "for target_duration in [0.02, 0.05, 0.1, 1, 2, 5]:\n",
    "    ax.axvline(target_duration, color='gray', ls='--', label='target')"
   ]
  },
  {
   "cell_type": "markdown",
   "metadata": {},
   "source": [
    "#### P mean vs duration"
   ]
  },
  {
   "cell_type": "code",
   "execution_count": 13,
   "metadata": {},
   "outputs": [
    {
     "data": {
      "application/vnd.jupyter.widget-view+json": {
       "model_id": "cb7adf4acf6d419f8d0ebf4ba86ec06f",
       "version_major": 2,
       "version_minor": 0
      },
      "text/plain": [
       "Canvas(toolbar=Toolbar(toolitems=[('Home', 'Reset original view', 'home', 'home'), ('Back', 'Back to previous …"
      ]
     },
     "metadata": {},
     "output_type": "display_data"
    }
   ],
   "source": [
    "fix, ax = plt.subplots(figsize=(8,6))\n",
    "_df=df.query('Duration_>0 and Antenna == [4] and year == 2019')\n",
    "ax.scatter(_df['Duration_'][_df['Nb of SHAD'] > 0], _df['P_mean'][df['Nb of SHAD'] > 0], alpha=.8, marker='o', facecolor='none', color='k', s=70, label='SHAD Arc Detection')\n",
    "ax.scatter(_df['Duration_'][_df['Nb of Optical'] > 0], _df['P_mean'][df['Nb of Optical'] > 0], marker='d', color='C1', s=90, label='Optical Arc Detection')\n",
    "ax.scatter(_df['Duration_'][_df['Nb of Vr/Vi'] > 0], _df['P_mean'][df['Nb of Vr/Vi'] > 0], marker='v', color='C3', alpha=.8, s=60, label='Vr/Vi Arc Detection')\n",
    "ax.scatter(_df['Duration_'][_df['Vacuum stop'] > 0], _df['P_mean'][df['Vacuum stop'] > 0], marker='s', color='C4', alpha=.8, s=60, label='Vacuum stop')\n",
    "\n",
    "_df_nostop = _df.query(\"`Vacuum stop` == 0 and `Nb total` == 0 \")\n",
    "ax.scatter(_df_nostop['Duration_'], _df_nostop['P_mean'],  marker='o', s=60, color='green', alpha=0.5, label='No Interrupt')\n",
    "\n",
    "ax.set_xscale('log')\n",
    "ax.set_xlim(left=1e-3, right=6)\n",
    "# ax.set_yscale('log')\n",
    "ax.set_ylim(top=22)  # half-side only\n",
    "ax.set_xlim(right=10)\n",
    "ax.grid(True)\n",
    "ax.grid(True, which='minor', alpha=0.4)\n",
    "ax.set_xlabel('Pulse Duration [s]', fontsize=18)\n",
    "ax.set_ylabel('Total Fwd. Power [kW]', fontsize=18)\n",
    "ax.legend(fontsize=12)\n",
    "ax.xaxis.set_tick_params(labelsize=16)\n",
    "ax.yaxis.set_tick_params(labelsize=16)\n",
    "ax.set_title('Q4 - 2019')\n",
    "for target_duration in [0.02, 0.05, 0.1, 1, 2, 5]:\n",
    "    ax.axvline(target_duration, color='gray', ls='--', label='target')"
   ]
  },
  {
   "cell_type": "markdown",
   "metadata": {},
   "source": [
    "#### P max vs duration"
   ]
  },
  {
   "cell_type": "code",
   "execution_count": 14,
   "metadata": {},
   "outputs": [
    {
     "data": {
      "application/vnd.jupyter.widget-view+json": {
       "model_id": "288756a2dd5f430abf63b941acb861e1",
       "version_major": 2,
       "version_minor": 0
      },
      "text/plain": [
       "Canvas(toolbar=Toolbar(toolitems=[('Home', 'Reset original view', 'home', 'home'), ('Back', 'Back to previous …"
      ]
     },
     "metadata": {},
     "output_type": "display_data"
    }
   ],
   "source": [
    "fix, ax = plt.subplots(figsize=(8,6))\n",
    "_df=df.query('Duration_>0 and Antenna == [4] and year == 2019')\n",
    "ax.scatter(_df['Duration_'][_df['Nb of SHAD'] > 0], _df['P_max'][df['Nb of SHAD'] > 0], alpha=.8, marker='o', facecolor='none', color='k', s=70, label='SHAD Arc Detection')\n",
    "ax.scatter(_df['Duration_'][_df['Nb of Optical'] > 0], _df['P_max'][df['Nb of Optical'] > 0], marker='d', color='C1', s=90, label='Optical Arc Detection')\n",
    "ax.scatter(_df['Duration_'][_df['Nb of Vr/Vi'] > 0], _df['P_max'][df['Nb of Vr/Vi'] > 0], marker='v', color='C3', alpha=.8, s=60, label='Vr/Vi Arc Detection')\n",
    "ax.scatter(_df['Duration_'][_df['Vacuum stop'] > 0], _df['P_max'][df['Vacuum stop'] > 0], marker='s', color='C4', alpha=.8, s=60, label='Vacuum stop')\n",
    "\n",
    "_df_nostop = _df.query(\"`Vacuum stop` == 0 and `Nb total` == 0 \")\n",
    "ax.scatter(_df_nostop['Duration_'], _df_nostop['P_max'],  marker='o', s=60, color='green', alpha=0.5, label='No Interrupt')\n",
    "\n",
    "ax.set_xscale('log')\n",
    "ax.set_xlim(left=1e-3, right=6)\n",
    "ax.set_ylim(0, 20)\n",
    "ax.set_xlim(right=10)\n",
    "ax.grid(True)\n",
    "ax.grid(True, which='minor', alpha=0.4)\n",
    "ax.set_xlabel('Pulse Duration [s]', fontsize=18)\n",
    "ax.set_ylabel('Max Power [kW]', fontsize=18)\n",
    "ax.legend(fontsize=12)\n",
    "ax.xaxis.set_tick_params(labelsize=16)\n",
    "ax.yaxis.set_tick_params(labelsize=16)\n",
    "ax.set_title('Q4 - 2019')\n",
    "for target_duration in [0.02, 0.5]:\n",
    "    ax.axvline(target_duration, color='gray', ls='--', label='target')"
   ]
  },
  {
   "cell_type": "markdown",
   "metadata": {},
   "source": [
    "#### V max vs duration"
   ]
  },
  {
   "cell_type": "code",
   "execution_count": 15,
   "metadata": {},
   "outputs": [
    {
     "data": {
      "application/vnd.jupyter.widget-view+json": {
       "model_id": "0455b4e47f63492f9765b6653751cfde",
       "version_major": 2,
       "version_minor": 0
      },
      "text/plain": [
       "Canvas(toolbar=Toolbar(toolitems=[('Home', 'Reset original view', 'home', 'home'), ('Back', 'Back to previous …"
      ]
     },
     "metadata": {},
     "output_type": "display_data"
    }
   ],
   "source": [
    "fix, ax = plt.subplots(figsize=(8,6))\n",
    "_df=df.query('Duration_>0 and Antenna == [4] and year == 2019')\n",
    "ax.scatter(_df['Duration_'][_df['Nb of SHAD'] > 0], _df['V_max'][df['Nb of SHAD'] > 0], alpha=.8, marker='o', facecolor='none', color='k', s=70, label='SHAD Arc Detection')\n",
    "ax.scatter(_df['Duration_'][_df['Nb of Optical'] > 0], _df['V_max'][df['Nb of Optical'] > 0], marker='d', color='C1', s=90, label='Optical Arc Detection')\n",
    "ax.scatter(_df['Duration_'][_df['Nb of Vr/Vi'] > 0], _df['V_max'][df['Nb of Vr/Vi'] > 0], marker='v', color='C3', alpha=.8, s=60, label='Vr/Vi Arc Detection')\n",
    "ax.scatter(_df['Duration_'][_df['Vacuum stop'] > 0], _df['V_max'][df['Vacuum stop'] > 0], marker='s', color='C4', alpha=.8, s=60, label='Vacuum stop')\n",
    "\n",
    "_df_nostop = _df.query(\"`Vacuum stop` == 0 and `Nb total` == 0 \")\n",
    "ax.scatter(_df_nostop['Duration_'], _df_nostop['V_max'],  marker='o', s=60, color='green', alpha=0.5, label='No Interrupt')\n",
    "\n",
    "ax.set_xscale('log')\n",
    "ax.set_xlim(left=1e-3, right=6)\n",
    "ax.set_ylim(0, 29)\n",
    "ax.set_xlim(right=10)\n",
    "ax.grid(True)\n",
    "ax.grid(True, which='minor', alpha=0.4)\n",
    "ax.set_xlabel('Pulse Duration [s]', fontsize=18)\n",
    "ax.set_ylabel('Max Voltage[kV]', fontsize=18)\n",
    "ax.legend(fontsize=12)\n",
    "ax.xaxis.set_tick_params(labelsize=16)\n",
    "ax.yaxis.set_tick_params(labelsize=16)\n",
    "ax.set_title('Q4 - 2019')\n",
    "for target_duration in [0.02, 0.5]:\n",
    "    ax.axvline(target_duration, color='gray', ls='--', label='target')"
   ]
  },
  {
   "cell_type": "markdown",
   "metadata": {},
   "source": [
    "### Q1 - 2020"
   ]
  },
  {
   "cell_type": "markdown",
   "metadata": {},
   "source": [
    "#### outgassing vs duration"
   ]
  },
  {
   "cell_type": "code",
   "execution_count": 16,
   "metadata": {},
   "outputs": [
    {
     "data": {
      "application/vnd.jupyter.widget-view+json": {
       "model_id": "f41efd9c05684cbc96ddfb59fb16c6af",
       "version_major": 2,
       "version_minor": 0
      },
      "text/plain": [
       "Canvas(toolbar=Toolbar(toolitems=[('Home', 'Reset original view', 'home', 'home'), ('Back', 'Back to previous …"
      ]
     },
     "metadata": {},
     "output_type": "display_data"
    }
   ],
   "source": [
    "fix, ax = plt.subplots(figsize=(8,6))\n",
    "_df=df.query('Duration_>0 and Antenna == [1] and year == 2020')\n",
    "ax.scatter(_df['Duration_'][_df['Nb of SHAD'] > 0], _df['outgassing'][df['Nb of SHAD'] > 0], alpha=.8, marker='o', facecolor='none', color='k', s=70, label='SHAD Arc Detection')\n",
    "ax.scatter(_df['Duration_'][_df['Nb of Optical'] > 0], _df['outgassing'][df['Nb of Optical'] > 0], marker='d', color='C1', s=90, label='Optical Arc Detection')\n",
    "ax.scatter(_df['Duration_'][_df['Nb of Vr/Vi'] > 0], _df['outgassing'][df['Nb of Vr/Vi'] > 0], marker='v', color='C3', alpha=.8, s=60, label='Vr/Vi Arc Detection')\n",
    "ax.scatter(_df['Duration_'][_df['Vacuum stop'] > 0], _df['outgassing'][df['Vacuum stop'] > 0], marker='s', color='C4', alpha=.8, s=60, label='Vacuum stop')\n",
    "\n",
    "_df_nostop = _df.query(\"`Vacuum stop` == 0 and `Nb total` == 0 \")\n",
    "ax.scatter(_df_nostop['Duration_'], _df_nostop['outgassing'],  marker='o', s=60, color='green', alpha=0.5, label='No Interrupt')\n",
    "\n",
    "ax.set_xscale('log')\n",
    "ax.set_xlim(left=1e-3, right=6)\n",
    "ax.set_yscale('log')\n",
    "# ax.set_ylim(top=22)  # half-side only\n",
    "ax.set_xlim(right=10)\n",
    "ax.grid(True)\n",
    "ax.grid(True, which='minor', alpha=0.4)\n",
    "ax.set_xlabel('Pulse Duration [s]', fontsize=18)\n",
    "ax.set_ylabel('Outgassing [Pa.s]', fontsize=18)\n",
    "ax.legend(fontsize=12)\n",
    "ax.xaxis.set_tick_params(labelsize=16)\n",
    "ax.yaxis.set_tick_params(labelsize=16)\n",
    "ax.set_title('Q1 - 2020')\n",
    "for target_duration in [0.02, 0.05, 0.1, 1, 2, 5]:\n",
    "    ax.axvline(target_duration, color='gray', ls='--', label='target')"
   ]
  },
  {
   "cell_type": "markdown",
   "metadata": {},
   "source": [
    "#### V mean vs duration"
   ]
  },
  {
   "cell_type": "code",
   "execution_count": 17,
   "metadata": {},
   "outputs": [
    {
     "data": {
      "application/vnd.jupyter.widget-view+json": {
       "model_id": "8b37cb82e1a448fcac39f9fcaa798e79",
       "version_major": 2,
       "version_minor": 0
      },
      "text/plain": [
       "Canvas(toolbar=Toolbar(toolitems=[('Home', 'Reset original view', 'home', 'home'), ('Back', 'Back to previous …"
      ]
     },
     "metadata": {},
     "output_type": "display_data"
    }
   ],
   "source": [
    "fix, ax = plt.subplots(figsize=(8,6))\n",
    "_df=df.query('Duration_>0 and Antenna == [1] and year == 2020')\n",
    "ax.scatter(_df['Duration_'][_df['Nb of SHAD'] > 0], _df['V_mean'][df['Nb of SHAD'] > 0], alpha=.8, marker='o', facecolor='none', color='k', s=70, label='SHAD Arc Detection')\n",
    "ax.scatter(_df['Duration_'][_df['Nb of Optical'] > 0], _df['V_mean'][df['Nb of Optical'] > 0], marker='d', color='C1', s=90, label='Optical Arc Detection')\n",
    "ax.scatter(_df['Duration_'][_df['Nb of Vr/Vi'] > 0], _df['V_mean'][df['Nb of Vr/Vi'] > 0], marker='v', color='C3', alpha=.8, s=60, label='Vr/Vi Arc Detection')\n",
    "ax.scatter(_df['Duration_'][_df['Vacuum stop'] > 0], _df['V_mean'][df['Vacuum stop'] > 0], marker='s', color='C4', alpha=.8, s=60, label='Vacuum stop')\n",
    "\n",
    "_df_nostop = _df.query(\"`Vacuum stop` == 0 and `Nb total` == 0 \")\n",
    "ax.scatter(_df_nostop['Duration_'], _df_nostop['V_mean'],  marker='o', s=60, color='green', alpha=0.5, label='No Interrupt')\n",
    "\n",
    "ax.set_xscale('log')\n",
    "ax.set_xlim(left=1e-3, right=6)\n",
    "ax.set_ylim(0, 29)\n",
    "ax.set_xlim(right=10)\n",
    "ax.grid(True)\n",
    "ax.grid(True, which='minor', alpha=0.4)\n",
    "ax.set_xlabel('Pulse Duration [s]', fontsize=18)\n",
    "ax.set_ylabel('Mean Voltage[kV]', fontsize=18)\n",
    "ax.legend(fontsize=12)\n",
    "ax.xaxis.set_tick_params(labelsize=16)\n",
    "ax.yaxis.set_tick_params(labelsize=16)\n",
    "ax.set_title('Q4 - 2019')\n",
    "for target_duration in [0.02, 0.5]:\n",
    "    ax.axvline(target_duration, color='gray', ls='--', label='target')"
   ]
  },
  {
   "cell_type": "markdown",
   "metadata": {},
   "source": [
    "#### V max vs duration"
   ]
  },
  {
   "cell_type": "code",
   "execution_count": 18,
   "metadata": {},
   "outputs": [
    {
     "data": {
      "application/vnd.jupyter.widget-view+json": {
       "model_id": "53f65b0f0ea54d38aee088f62a604863",
       "version_major": 2,
       "version_minor": 0
      },
      "text/plain": [
       "Canvas(toolbar=Toolbar(toolitems=[('Home', 'Reset original view', 'home', 'home'), ('Back', 'Back to previous …"
      ]
     },
     "metadata": {},
     "output_type": "display_data"
    }
   ],
   "source": [
    "fix, ax = plt.subplots(figsize=(8,6))\n",
    "_df=df.query('Duration_>0 and Antenna == [1] and year == 2020')\n",
    "ax.scatter(_df['Duration_'][_df['Nb of SHAD'] > 0], _df['V_max'][df['Nb of SHAD'] > 0], alpha=.8, marker='o', facecolor='none', color='k', s=70, label='SHAD Arc Detection')\n",
    "ax.scatter(_df['Duration_'][_df['Nb of Optical'] > 0], _df['V_max'][df['Nb of Optical'] > 0], marker='d', color='C1', s=90, label='Optical Arc Detection')\n",
    "ax.scatter(_df['Duration_'][_df['Nb of Vr/Vi'] > 0], _df['V_max'][df['Nb of Vr/Vi'] > 0], marker='v', color='C3', alpha=.8, s=60, label='Vr/Vi Arc Detection')\n",
    "ax.scatter(_df['Duration_'][_df['Vacuum stop'] > 0], _df['V_max'][df['Vacuum stop'] > 0], marker='s', color='C4', alpha=.8, s=60, label='Vacuum stop')\n",
    "\n",
    "_df_nostop = _df.query(\"`Vacuum stop` == 0 and `Nb total` == 0 \")\n",
    "ax.scatter(_df_nostop['Duration_'], _df_nostop['V_max'],  marker='o', s=60, color='green', alpha=0.5, label='No Interrupt')\n",
    "\n",
    "ax.set_xscale('log')\n",
    "ax.set_xlim(left=1e-3, right=6)\n",
    "ax.set_ylim(0, 29)\n",
    "ax.set_xlim(right=10)\n",
    "ax.grid(True)\n",
    "ax.grid(True, which='minor', alpha=0.4)\n",
    "ax.set_xlabel('Pulse Duration [s]', fontsize=18)\n",
    "ax.set_ylabel('Max Voltage[kV]', fontsize=18)\n",
    "ax.legend(fontsize=12)\n",
    "ax.xaxis.set_tick_params(labelsize=16)\n",
    "ax.yaxis.set_tick_params(labelsize=16)\n",
    "ax.set_title('Q1 - 2020')\n",
    "for target_duration in [0.02, 0.5]:\n",
    "    ax.axvline(target_duration, color='gray', ls='--', label='target')"
   ]
  },
  {
   "cell_type": "markdown",
   "metadata": {},
   "source": [
    "#### P max vs duration"
   ]
  },
  {
   "cell_type": "code",
   "execution_count": 19,
   "metadata": {},
   "outputs": [
    {
     "data": {
      "application/vnd.jupyter.widget-view+json": {
       "model_id": "6b1fe643cf99409abbf5c50e22cd487b",
       "version_major": 2,
       "version_minor": 0
      },
      "text/plain": [
       "Canvas(toolbar=Toolbar(toolitems=[('Home', 'Reset original view', 'home', 'home'), ('Back', 'Back to previous …"
      ]
     },
     "metadata": {},
     "output_type": "display_data"
    }
   ],
   "source": [
    "fix, ax = plt.subplots(figsize=(8,6))\n",
    "_df=df.query('Duration_>0 and Antenna == [1] and year == 2020')\n",
    "ax.scatter(_df['Duration_'][_df['Nb of SHAD'] > 0], _df['P_max'][df['Nb of SHAD'] > 0], alpha=.8, marker='o', facecolor='none', color='k', s=70, label='SHAD Arc Detection')\n",
    "ax.scatter(_df['Duration_'][_df['Nb of Optical'] > 0], _df['P_max'][df['Nb of Optical'] > 0], marker='d', color='C1', s=90, label='Optical Arc Detection')\n",
    "ax.scatter(_df['Duration_'][_df['Nb of Vr/Vi'] > 0], _df['P_max'][df['Nb of Vr/Vi'] > 0], marker='v', color='C3', alpha=.8, s=60, label='Vr/Vi Arc Detection')\n",
    "ax.scatter(_df['Duration_'][_df['Vacuum stop'] > 0], _df['P_max'][df['Vacuum stop'] > 0], marker='s', color='C4', alpha=.8, s=60, label='Vacuum stop')\n",
    "\n",
    "_df_nostop = _df.query(\"`Vacuum stop` == 0 and `Nb total` == 0 \")\n",
    "ax.scatter(_df_nostop['Duration_'], _df_nostop['P_max'],  marker='o', s=60, color='green', alpha=0.5, label='No Interrupt')\n",
    "\n",
    "ax.set_xscale('log')\n",
    "ax.set_xlim(left=1e-3, right=6)\n",
    "ax.set_ylim(0, 21)\n",
    "ax.set_xlim(right=10)\n",
    "ax.grid(True)\n",
    "ax.grid(True, which='minor', alpha=0.4)\n",
    "ax.set_xlabel('Pulse Duration [s]', fontsize=18)\n",
    "ax.set_ylabel('Max Power [kW]', fontsize=18)\n",
    "ax.legend(fontsize=12)\n",
    "ax.xaxis.set_tick_params(labelsize=16)\n",
    "ax.yaxis.set_tick_params(labelsize=16)\n",
    "ax.set_title('Q1 - 2020')\n",
    "for target_duration in [0.02,  0.5, 1, 2, 5]:\n",
    "    ax.axvline(target_duration, color='gray', ls='--', label='target')"
   ]
  },
  {
   "cell_type": "markdown",
   "metadata": {},
   "source": [
    "#### P mean vs duration"
   ]
  },
  {
   "cell_type": "code",
   "execution_count": 20,
   "metadata": {},
   "outputs": [
    {
     "data": {
      "application/vnd.jupyter.widget-view+json": {
       "model_id": "f3a9a198ef1641a5af43d7fc27167f4a",
       "version_major": 2,
       "version_minor": 0
      },
      "text/plain": [
       "Canvas(toolbar=Toolbar(toolitems=[('Home', 'Reset original view', 'home', 'home'), ('Back', 'Back to previous …"
      ]
     },
     "metadata": {},
     "output_type": "display_data"
    }
   ],
   "source": [
    "fix, ax = plt.subplots(figsize=(8,6))\n",
    "_df=df.query('Duration_>0 and Antenna == [1] and year == 2020')\n",
    "ax.scatter(_df['Duration_'][_df['Nb of SHAD'] > 0], _df['P_mean'][df['Nb of SHAD'] > 0], alpha=.8, marker='o', facecolor='none', color='k', s=70, label='SHAD Arc Detection')\n",
    "ax.scatter(_df['Duration_'][_df['Nb of Optical'] > 0], _df['P_mean'][df['Nb of Optical'] > 0], marker='d', color='C1', s=90, label='Optical Arc Detection')\n",
    "ax.scatter(_df['Duration_'][_df['Nb of Vr/Vi'] > 0], _df['P_mean'][df['Nb of Vr/Vi'] > 0], marker='v', color='C3', alpha=.8, s=60, label='Vr/Vi Arc Detection')\n",
    "ax.scatter(_df['Duration_'][_df['Vacuum stop'] > 0], _df['P_mean'][df['Vacuum stop'] > 0], marker='s', color='C4', alpha=.8, s=60, label='Vacuum stop')\n",
    "\n",
    "_df_nostop = _df.query(\"`Vacuum stop` == 0 and `Nb total` == 0 \")\n",
    "ax.scatter(_df_nostop['Duration_'], _df_nostop['P_mean'],  marker='o', s=60, color='green', alpha=0.5, label='No Interrupt')\n",
    "\n",
    "ax.set_xscale('log')\n",
    "ax.set_xlim(left=1e-3, right=6)\n",
    "ax.set_ylim(0, 21)\n",
    "ax.set_xlim(right=10)\n",
    "ax.grid(True)\n",
    "ax.grid(True, which='minor', alpha=0.4)\n",
    "ax.set_xlabel('Pulse Duration [s]', fontsize=18)\n",
    "ax.set_ylabel('Mean Power [kW]', fontsize=18)\n",
    "ax.legend(fontsize=12)\n",
    "ax.xaxis.set_tick_params(labelsize=16)\n",
    "ax.yaxis.set_tick_params(labelsize=16)\n",
    "ax.set_title('Q4 - 2019')\n",
    "for target_duration in [0.02,  0.5, 1, 2, 5]:\n",
    "    ax.axvline(target_duration, color='gray', ls='--', label='target')"
   ]
  },
  {
   "cell_type": "markdown",
   "metadata": {},
   "source": [
    "#### Pressure mean vs duration"
   ]
  },
  {
   "cell_type": "code",
   "execution_count": 21,
   "metadata": {},
   "outputs": [
    {
     "data": {
      "application/vnd.jupyter.widget-view+json": {
       "model_id": "51a0e168558f496296dd89eece558d8d",
       "version_major": 2,
       "version_minor": 0
      },
      "text/plain": [
       "Canvas(toolbar=Toolbar(toolitems=[('Home', 'Reset original view', 'home', 'home'), ('Back', 'Back to previous …"
      ]
     },
     "metadata": {},
     "output_type": "display_data"
    }
   ],
   "source": [
    "fix, ax = plt.subplots(figsize=(8,6))\n",
    "_df=df.query('Duration_>0 and Antenna == [1] and year == 2020')\n",
    "ax.scatter(_df['Duration_'][_df['Nb of SHAD'] > 0], _df['pressure_mean'][df['Nb of SHAD'] > 0], alpha=.8, marker='o', facecolor='none', color='k', s=70, label='SHAD Arc Detection')\n",
    "ax.scatter(_df['Duration_'][_df['Nb of Optical'] > 0], _df['pressure_mean'][df['Nb of Optical'] > 0], marker='d', color='C1', s=90, label='Optical Arc Detection')\n",
    "ax.scatter(_df['Duration_'][_df['Nb of Vr/Vi'] > 0], _df['pressure_mean'][df['Nb of Vr/Vi'] > 0], marker='v', color='C3', alpha=.8, s=60, label='Vr/Vi Arc Detection')\n",
    "ax.scatter(_df['Duration_'][_df['Vacuum stop'] > 0], _df['pressure_mean'][df['Vacuum stop'] > 0], marker='s', color='C4', alpha=.8, s=60, label='Vacuum stop')\n",
    "\n",
    "_df_nostop = _df.query(\"`Vacuum stop` == 0 and `Nb total` == 0 \")\n",
    "ax.scatter(_df_nostop['Duration_'], _df_nostop['pressure_mean'],  marker='o', s=60, color='green', alpha=0.5, label='No Interrupt')\n",
    "\n",
    "ax.set_xscale('log')\n",
    "ax.set_xlim(left=1e-3, right=6)\n",
    "ax.set_yscale('log')\n",
    "ax.set_xlim(right=10)\n",
    "ax.grid(True)\n",
    "ax.grid(True, which='minor', alpha=0.4)\n",
    "ax.set_xlabel('Pulse Duration [s]', fontsize=18)\n",
    "ax.set_ylabel('Mean Pressure [Pa]', fontsize=18)\n",
    "ax.legend(fontsize=12)\n",
    "ax.xaxis.set_tick_params(labelsize=16)\n",
    "ax.yaxis.set_tick_params(labelsize=16)\n",
    "ax.set_title('Q4 - 2019')\n",
    "for target_duration in [0.02,  0.5, 1, 2, 5]:\n",
    "    ax.axvline(target_duration, color='gray', ls='--', label='target')"
   ]
  },
  {
   "cell_type": "markdown",
   "metadata": {},
   "source": [
    "#### Pressure max vs duration"
   ]
  },
  {
   "cell_type": "code",
   "execution_count": 22,
   "metadata": {},
   "outputs": [
    {
     "data": {
      "application/vnd.jupyter.widget-view+json": {
       "model_id": "1324eb267b164c1c94a48a902a28c2b9",
       "version_major": 2,
       "version_minor": 0
      },
      "text/plain": [
       "Canvas(toolbar=Toolbar(toolitems=[('Home', 'Reset original view', 'home', 'home'), ('Back', 'Back to previous …"
      ]
     },
     "metadata": {},
     "output_type": "display_data"
    }
   ],
   "source": [
    "fix, ax = plt.subplots(figsize=(8,6))\n",
    "_df=df.query('Duration_>0 and Antenna == [4] and year == 2019')\n",
    "ax.scatter(_df['Duration_'][_df['Nb of SHAD'] > 0], _df['pressure_max'][df['Nb of SHAD'] > 0], alpha=.8, marker='o', facecolor='none', color='k', s=70, label='SHAD Arc Detection')\n",
    "ax.scatter(_df['Duration_'][_df['Nb of Optical'] > 0], _df['pressure_max'][df['Nb of Optical'] > 0], marker='d', color='C1', s=90, label='Optical Arc Detection')\n",
    "ax.scatter(_df['Duration_'][_df['Nb of Vr/Vi'] > 0], _df['pressure_max'][df['Nb of Vr/Vi'] > 0], marker='v', color='C3', alpha=.8, s=60, label='Vr/Vi Arc Detection')\n",
    "ax.scatter(_df['Duration_'][_df['Vacuum stop'] > 0], _df['pressure_max'][df['Vacuum stop'] > 0], marker='s', color='C4', alpha=.8, s=60, label='Vacuum stop')\n",
    "\n",
    "_df_nostop = _df.query(\"`Vacuum stop` == 0 and `Nb total` == 0 \")\n",
    "ax.scatter(_df_nostop['Duration_'], _df_nostop['pressure_max'],  marker='o', s=60, color='green', alpha=0.5, label='No Interrupt')\n",
    "\n",
    "ax.set_xscale('log')\n",
    "ax.set_xlim(left=1e-3, right=6)\n",
    "ax.set_yscale('log')\n",
    "ax.set_xlim(right=10)\n",
    "ax.grid(True)\n",
    "ax.grid(True, which='minor', alpha=0.4)\n",
    "ax.set_xlabel('Pulse Duration [s]', fontsize=18)\n",
    "ax.set_ylabel('Max Pressure [Pa]', fontsize=18)\n",
    "ax.legend(fontsize=12)\n",
    "ax.xaxis.set_tick_params(labelsize=16)\n",
    "ax.yaxis.set_tick_params(labelsize=16)\n",
    "# ax.set_title('Q4 - 2019')\n",
    "for target_duration in [0.02,  0.5, 1, 2, 5]:\n",
    "    ax.axvline(target_duration, color='gray', ls='--', label='target')"
   ]
  },
  {
   "cell_type": "markdown",
   "metadata": {},
   "source": [
    "### Chronologie"
   ]
  },
  {
   "cell_type": "markdown",
   "metadata": {},
   "source": [
    "#### Q1 2020"
   ]
  },
  {
   "cell_type": "code",
   "execution_count": 94,
   "metadata": {},
   "outputs": [
    {
     "data": {
      "application/vnd.jupyter.widget-view+json": {
       "model_id": "576a237b7ccd46e98ca4a91b470c0ed1",
       "version_major": 2,
       "version_minor": 0
      },
      "text/plain": [
       "Canvas(toolbar=Toolbar(toolitems=[('Home', 'Reset original view', 'home', 'home'), ('Back', 'Back to previous …"
      ]
     },
     "metadata": {},
     "output_type": "display_data"
    },
    {
     "name": "stderr",
     "output_type": "stream",
     "text": [
      "C:\\Users\\JH218595\\AppData\\Local\\Continuum\\anaconda3\\lib\\site-packages\\ipykernel_launcher.py:31: UserWarning: FixedFormatter should only be used together with FixedLocator\n"
     ]
    }
   ],
   "source": [
    "fix, ax = plt.subplots(figsize=(8,6))\n",
    "_df=df.query('Duration_>0 and Antenna == [1] and year == 2020')\n",
    "_min = _df['date'].min().value\n",
    "_max = _df['date'].max().value\n",
    "_norm = plt.Normalize(vmin=_min, vmax=_max)\n",
    "_cmap = 'plasma'\n",
    "sm = plt.cm.ScalarMappable(cmap=_cmap, norm=_norm)\n",
    "\n",
    "_df_ = _df.query(' SWR == True')\n",
    "ax.scatter(x=_df_['Duration_'], y=_df_['V_mean'], c=_df_['date'],\n",
    "    alpha=.8, marker='v', edgecolor='r', s=120, norm=_norm, label='$P_r/P_i$', cmap=_cmap)\n",
    "\n",
    "_df_ = _df.query('optical == True')\n",
    "ax.scatter(x=_df_['Duration_'], y=_df_['V_mean'], c=_df_['date'],\n",
    "    alpha=.8, marker='d', edgecolor='k', s=70, norm=_norm, label='Optical', cmap=_cmap)\n",
    "\n",
    "_df_ = _df.query('SHAD == True')\n",
    "ax.scatter(x=_df_['Duration_'], y=_df_['V_mean'], c=_df_['date'],\n",
    "    alpha=.8, marker='X', edgecolor='k', s=70, norm=_norm, label='SHAD', cmap=_cmap)\n",
    "\n",
    "_df_ = _df.query('pressure == True')\n",
    "ax.scatter(x=_df_['Duration_'], y=_df_['V_mean'], c=_df_['date'],\n",
    "    alpha=.8, marker='s', edgecolor='k', s=70, norm=_norm, label='Pressure', cmap=_cmap)\n",
    "\n",
    "_df_ = _df.query(' SWR == False and optical == False and SHAD == False and pressure == False')\n",
    "ax.scatter(x=_df_['Duration_'], y=_df_['V_mean'], c=_df_['date'],\n",
    "    alpha=.8, marker='o', edgecolor='g', s=70, norm=_norm, label='No interlock', cmap=_cmap)\n",
    "\n",
    "cbar = plt.colorbar(sm)\n",
    "# Change the numeric ticks into ones that match the x-axis\n",
    "cbar.ax.set_yticklabels(pd.to_datetime(cbar.get_ticks()).strftime(date_format='%H:%M'))\n",
    "cbar.set_label('Time (HH:MM)', fontsize=14)\n",
    "\n",
    "ax.set_xscale('log')\n",
    "ax.set_xlim(left=1e-3, right=6)\n",
    "ax.set_ylim(0, 28)\n",
    "ax.set_xlim(right=10)\n",
    "ax.grid(True)\n",
    "ax.grid(True, which='minor', alpha=0.4)\n",
    "ax.set_xlabel('Pulse Duration [s]', fontsize=18)\n",
    "ax.set_ylabel('Mean Voltage [kV]', fontsize=18)\n",
    "ax.legend(fontsize=14)\n",
    "ax.xaxis.set_tick_params(labelsize=16)\n",
    "ax.yaxis.set_tick_params(labelsize=16)\n",
    "ax.set_title('Q1 Antenna Vacuum Conditionning')\n",
    "#for target_duration in [0.02,  0.1, 0.5, 1, 2, 5]:\n",
    "#    ax.axvline(target_duration, color='gray', ls='--', label='target')\n",
    "fig.tight_layout()"
   ]
  },
  {
   "cell_type": "code",
   "execution_count": 88,
   "metadata": {},
   "outputs": [
    {
     "data": {
      "text/plain": [
       "1.2494489027721476e-05"
      ]
     },
     "execution_count": 88,
     "metadata": {},
     "output_type": "execute_result"
    }
   ],
   "source": [
    "_df['pressure_mean'].min()"
   ]
  },
  {
   "cell_type": "markdown",
   "metadata": {},
   "source": [
    "#### Outgassing rate vs voltage"
   ]
  },
  {
   "cell_type": "code",
   "execution_count": 91,
   "metadata": {},
   "outputs": [
    {
     "data": {
      "application/vnd.jupyter.widget-view+json": {
       "model_id": "2735449eeba44c09a781f8df2cd07ed2",
       "version_major": 2,
       "version_minor": 0
      },
      "text/plain": [
       "Canvas(toolbar=Toolbar(toolitems=[('Home', 'Reset original view', 'home', 'home'), ('Back', 'Back to previous …"
      ]
     },
     "metadata": {},
     "output_type": "display_data"
    },
    {
     "name": "stderr",
     "output_type": "stream",
     "text": [
      "C:\\Users\\JH218595\\AppData\\Local\\Continuum\\anaconda3\\lib\\site-packages\\ipykernel_launcher.py:31: UserWarning: FixedFormatter should only be used together with FixedLocator\n"
     ]
    },
    {
     "data": {
      "text/plain": [
       "Text(0.5, 1.0, 'Q1 Antenna Vacuum Conditionning')"
      ]
     },
     "execution_count": 91,
     "metadata": {},
     "output_type": "execute_result"
    }
   ],
   "source": [
    "fix, ax = plt.subplots(figsize=(8,6))\n",
    "_df=df.query('Duration_>0 and Antenna == [1] and year == 2020')\n",
    "_min = _df['date'].min().value\n",
    "_max = _df['date'].max().value\n",
    "_norm = plt.Normalize(vmin=_min, vmax=_max)\n",
    "_cmap = 'plasma'\n",
    "sm = plt.cm.ScalarMappable(cmap=_cmap, norm=_norm)\n",
    "\n",
    "_df_ = _df.query(' SWR == True')\n",
    "ax.scatter(y=_df_['outgassing_rate'], x=_df_['V_mean'], c=_df_['date'],\n",
    "    alpha=.8, marker='v', edgecolor='r', s=120, norm=_norm, label='SWR', cmap=_cmap)\n",
    "\n",
    "_df_ = _df.query('optical == True')\n",
    "ax.scatter(y=_df_['outgassing_rate'], x=_df_['V_mean'], c=_df_['date'],\n",
    "    alpha=.8, marker='d', edgecolor='k', s=70, norm=_norm, label='Optical', cmap=_cmap)\n",
    "\n",
    "_df_ = _df.query('SHAD == True')\n",
    "ax.scatter(y=_df_['outgassing_rate'], x=_df_['V_mean'], c=_df_['date'],\n",
    "    alpha=.8, marker='X', edgecolor='k', s=70, norm=_norm, label='SHAD', cmap=_cmap)\n",
    "\n",
    "_df_ = _df.query('pressure == True')\n",
    "ax.scatter(y=_df_['outgassing_rate'], x=_df_['V_mean'], c=_df_['date'],\n",
    "    alpha=.8, marker='s', edgecolor='k', s=70, norm=_norm, label='Pressure', cmap=_cmap)\n",
    "\n",
    "_df_ = _df.query(' SWR == False and optical == False and SHAD == False and pressure == False')\n",
    "ax.scatter(y=_df_['outgassing_rate'], x=_df_['V_mean'], c=_df_['date'],\n",
    "    alpha=.8, marker='o', edgecolor='g', s=70, norm=_norm, label='No interlock', cmap=_cmap)\n",
    "\n",
    "cbar = plt.colorbar(sm)\n",
    "# Change the numeric ticks into ones that match the x-axis\n",
    "cbar.ax.set_yticklabels(pd.to_datetime(cbar.get_ticks()).strftime(date_format='%H:%M'))\n",
    "\n",
    "ax.set_yscale('log')\n",
    "ax.grid(True)\n",
    "ax.grid(True, which='minor', alpha=0.4)\n",
    "ax.set_ylabel('Outgassing ratio [Pa.s/s]', fontsize=18)\n",
    "ax.set_xlabel('Mean Voltage [kV]', fontsize=18)\n",
    "ax.legend(fontsize=12)\n",
    "ax.xaxis.set_tick_params(labelsize=16)\n",
    "ax.yaxis.set_tick_params(labelsize=16)\n",
    "ax.set_title('Q1 Antenna Vacuum Conditionning')"
   ]
  },
  {
   "cell_type": "markdown",
   "metadata": {},
   "source": [
    "#### Q4 2019"
   ]
  },
  {
   "cell_type": "code",
   "execution_count": 55,
   "metadata": {},
   "outputs": [
    {
     "data": {
      "application/vnd.jupyter.widget-view+json": {
       "model_id": "9aac2119836245748e21efd39ed49dd4",
       "version_major": 2,
       "version_minor": 0
      },
      "text/plain": [
       "Canvas(toolbar=Toolbar(toolitems=[('Home', 'Reset original view', 'home', 'home'), ('Back', 'Back to previous …"
      ]
     },
     "metadata": {},
     "output_type": "display_data"
    },
    {
     "name": "stderr",
     "output_type": "stream",
     "text": [
      "C:\\Users\\JH218595\\AppData\\Local\\Continuum\\anaconda3\\lib\\site-packages\\ipykernel_launcher.py:31: UserWarning: FixedFormatter should only be used together with FixedLocator\n"
     ]
    }
   ],
   "source": [
    "fix, ax = plt.subplots(figsize=(8,6))\n",
    "_df=df.query('Duration_>0 and Antenna == [4] and year == 2019')\n",
    "_min = _df['date'].min().value\n",
    "_max = _df['date'].max().value\n",
    "_norm = plt.Normalize(vmin=_min, vmax=_max)\n",
    "_cmap = 'plasma'\n",
    "sm = plt.cm.ScalarMappable(cmap=_cmap, norm=_norm)\n",
    "\n",
    "_df_ = _df.query(' SWR == True')\n",
    "ax.scatter(x=_df_['Duration_'], y=_df_['V_mean'], c=_df_['date'],\n",
    "    alpha=.8, marker='v', edgecolor='r', s=120, norm=_norm, label='SWR', cmap=_cmap)\n",
    "\n",
    "_df_ = _df.query('optical == True')\n",
    "ax.scatter(x=_df_['Duration_'], y=_df_['V_mean'], c=_df_['date'],\n",
    "    alpha=.8, marker='d', edgecolor='k', s=70, norm=_norm, label='Optical', cmap=_cmap)\n",
    "\n",
    "_df_ = _df.query('SHAD == True')\n",
    "ax.scatter(x=_df_['Duration_'], y=_df_['V_mean'], c=_df_['date'],\n",
    "    alpha=.8, marker='X', edgecolor='k', s=70, norm=_norm, label='SHAD', cmap=_cmap)\n",
    "\n",
    "_df_ = _df.query('pressure == True')\n",
    "ax.scatter(x=_df_['Duration_'], y=_df_['V_mean'], c=_df_['date'],\n",
    "    alpha=.8, marker='s', edgecolor='k', s=70, norm=_norm, label='Pressure', cmap=_cmap)\n",
    "\n",
    "_df_ = _df.query(' SWR == False and optical == False and SHAD == False and pressure == False')\n",
    "ax.scatter(x=_df_['Duration_'], y=_df_['V_mean'], c=_df_['date'],\n",
    "    alpha=.8, marker='o', edgecolor='g', s=70, norm=_norm, label='No interlock', cmap=_cmap)\n",
    "\n",
    "cbar = plt.colorbar(sm)\n",
    "# Change the numeric ticks into ones that match the x-axis\n",
    "cbar.ax.set_yticklabels(pd.to_datetime(cbar.get_ticks()).strftime(date_format='%H:%M'))\n",
    "cbar.set_label('Time (hours:minutes)', fontsize=14)\n",
    "\n",
    "ax.set_xscale('log')\n",
    "ax.set_xlim(left=1e-3, right=6)\n",
    "ax.set_ylim(0, 28)\n",
    "ax.set_xlim(right=10)\n",
    "ax.grid(True)\n",
    "ax.grid(True, which='minor', alpha=0.4)\n",
    "ax.set_xlabel('Pulse Duration [s]', fontsize=18)\n",
    "ax.set_ylabel('Mean Voltage [kV]', fontsize=18)\n",
    "ax.legend(fontsize=12)\n",
    "ax.xaxis.set_tick_params(labelsize=16)\n",
    "ax.yaxis.set_tick_params(labelsize=16)\n",
    "ax.set_title('Q4 Antenna Vacuum Conditionning')\n",
    "for target_duration in [0.02,  0.1, 0.5, 1, 2, 5]:\n",
    "    ax.axvline(target_duration, color='gray', ls='--', label='target')"
   ]
  },
  {
   "cell_type": "markdown",
   "metadata": {},
   "source": [
    "#### outgassing vs voltage"
   ]
  },
  {
   "cell_type": "code",
   "execution_count": 78,
   "metadata": {},
   "outputs": [
    {
     "data": {
      "application/vnd.jupyter.widget-view+json": {
       "model_id": "e904273a5a4d447f95ba07984be16ae1",
       "version_major": 2,
       "version_minor": 0
      },
      "text/plain": [
       "Canvas(toolbar=Toolbar(toolitems=[('Home', 'Reset original view', 'home', 'home'), ('Back', 'Back to previous …"
      ]
     },
     "metadata": {},
     "output_type": "display_data"
    },
    {
     "name": "stderr",
     "output_type": "stream",
     "text": [
      "C:\\Users\\JH218595\\AppData\\Local\\Continuum\\anaconda3\\lib\\site-packages\\ipykernel_launcher.py:31: UserWarning: FixedFormatter should only be used together with FixedLocator\n"
     ]
    },
    {
     "data": {
      "text/plain": [
       "Text(0.5, 1.0, 'Q4 Antenna Vacuum Conditionning')"
      ]
     },
     "execution_count": 78,
     "metadata": {},
     "output_type": "execute_result"
    }
   ],
   "source": [
    "fix, ax = plt.subplots(figsize=(8,6))\n",
    "_df=df.query('Duration_>0 and Antenna == [4] and year == 2019 and day > 10')\n",
    "_min = _df['date'].min().value\n",
    "_max = _df['date'].max().value\n",
    "_norm = plt.Normalize(vmin=_min, vmax=_max)\n",
    "_cmap = 'plasma'\n",
    "sm = plt.cm.ScalarMappable(cmap=_cmap, norm=_norm)\n",
    "\n",
    "_df_ = _df.query(' SWR == True')\n",
    "ax.scatter(y=_df_['outgassing_rate'], x=_df_['V_mean'], c=_df_['date'],\n",
    "    alpha=.8, marker='v', edgecolor='r', s=120, norm=_norm, label='SWR', cmap=_cmap)\n",
    "\n",
    "_df_ = _df.query('optical == True')\n",
    "ax.scatter(y=_df_['outgassing_rate'], x=_df_['V_mean'], c=_df_['date'],\n",
    "    alpha=.8, marker='d', edgecolor='k', s=70, norm=_norm, label='Optical', cmap=_cmap)\n",
    "\n",
    "_df_ = _df.query('SHAD == True')\n",
    "ax.scatter(y=_df_['outgassing_rate'], x=_df_['V_mean'], c=_df_['date'],\n",
    "    alpha=.8, marker='X', edgecolor='k', s=70, norm=_norm, label='SHAD', cmap=_cmap)\n",
    "\n",
    "_df_ = _df.query('pressure == True')\n",
    "ax.scatter(y=_df_['outgassing_rate'], x=_df_['V_mean'], c=_df_['date'],\n",
    "    alpha=.8, marker='s', edgecolor='k', s=70, norm=_norm, label='Pressure', cmap=_cmap)\n",
    "\n",
    "_df_ = _df.query(' SWR == False and optical == False and SHAD == False and pressure == False')\n",
    "ax.scatter(y=_df_['outgassing_rate'], x=_df_['V_mean'], c=_df_['date'],\n",
    "    alpha=.8, marker='o', edgecolor='g', s=70, norm=_norm, label='No interlock', cmap=_cmap)\n",
    "\n",
    "cbar = plt.colorbar(sm)\n",
    "# Change the numeric ticks into ones that match the x-axis\n",
    "cbar.ax.set_yticklabels(pd.to_datetime(cbar.get_ticks()).strftime(date_format='%H:%M'))\n",
    "\n",
    "ax.set_yscale('log')\n",
    "ax.grid(True)\n",
    "ax.grid(True, which='minor', alpha=0.4)\n",
    "ax.set_ylabel('Outgassing ratio [Pa.s/s]', fontsize=18)\n",
    "ax.set_xlabel('Mean Voltage [kV]', fontsize=18)\n",
    "ax.legend(fontsize=12)\n",
    "ax.xaxis.set_tick_params(labelsize=16)\n",
    "ax.yaxis.set_tick_params(labelsize=16)\n",
    "ax.set_title('Q4 Antenna Vacuum Conditionning')"
   ]
  },
  {
   "cell_type": "code",
   "execution_count": 25,
   "metadata": {},
   "outputs": [
    {
     "data": {
      "application/vnd.jupyter.widget-view+json": {
       "model_id": "45a8c511c80a47e38d8a201f0bb097d9",
       "version_major": 2,
       "version_minor": 0
      },
      "text/plain": [
       "Canvas(toolbar=Toolbar(toolitems=[('Home', 'Reset original view', 'home', 'home'), ('Back', 'Back to previous …"
      ]
     },
     "metadata": {},
     "output_type": "display_data"
    },
    {
     "name": "stderr",
     "output_type": "stream",
     "text": [
      "C:\\Users\\JH218595\\AppData\\Local\\Continuum\\anaconda3\\lib\\site-packages\\pandas\\plotting\\_matplotlib\\core.py:227: UserWarning: 'color' and 'colormap' cannot be used simultaneously. Using 'color'\n",
      "  \"'color' and 'colormap' cannot be used simultaneously. Using 'color'\"\n",
      "No handles with labels found to put in legend.\n"
     ]
    }
   ],
   "source": [
    "fix, ax = plt.subplots(figsize=(8,6))\n",
    "_df=df.query('Duration_>0 and Antenna == [4] and year == 2019 and day > 10')\n",
    "_df.plot(kind='scatter', ax=ax, x='Duration_', y='V_mean', alpha=.8, marker='o', color=_df.reset_index()['Date'], s=70,\n",
    "        cmap='tab20', colorbar=True)\n",
    "\n",
    "ax.set_xscale('log')\n",
    "ax.set_xlim(left=1e-3, right=6)\n",
    "ax.set_ylim(0, 28)\n",
    "ax.set_xlim(right=10)\n",
    "ax.grid(True)\n",
    "ax.grid(True, which='minor', alpha=0.4)\n",
    "ax.set_xlabel('Pulse Duration [s]', fontsize=18)\n",
    "# ax.set_ylabel('Mean Power [kW]', fontsize=18)\n",
    "ax.legend(fontsize=12)\n",
    "ax.xaxis.set_tick_params(labelsize=16)\n",
    "ax.yaxis.set_tick_params(labelsize=16)\n",
    "ax.set_title('Q4 - 2019')\n",
    "for target_duration in [0.02,  0.5, 1, 2, 5]:\n",
    "    ax.axvline(target_duration, color='gray', ls='--', label='target')"
   ]
  },
  {
   "cell_type": "markdown",
   "metadata": {},
   "source": [
    "### V max vs duration"
   ]
  },
  {
   "cell_type": "code",
   "execution_count": 62,
   "metadata": {},
   "outputs": [
    {
     "data": {
      "application/vnd.jupyter.widget-view+json": {
       "model_id": "21aeddc8bb23490bb93d8bcc8eb7bae0",
       "version_major": 2,
       "version_minor": 0
      },
      "text/plain": [
       "Canvas(toolbar=Toolbar(toolitems=[('Home', 'Reset original view', 'home', 'home'), ('Back', 'Back to previous …"
      ]
     },
     "metadata": {},
     "output_type": "display_data"
    },
    {
     "name": "stderr",
     "output_type": "stream",
     "text": [
      "C:\\Users\\JH218595\\AppData\\Local\\Continuum\\anaconda3\\lib\\site-packages\\ipykernel_launcher.py:25: UserWarning: FixedFormatter should only be used together with FixedLocator\n"
     ]
    }
   ],
   "source": [
    "fig, ax = plt.subplots(figsize=(8,6))\n",
    "_df = df.query('Duration_>0 and Antenna == [1] and year == 2020')\n",
    "ax.set_title('Q1 - 2020')\n",
    "\n",
    "_min = _df['date'].min().value\n",
    "_max = _df['date'].max().value\n",
    "_norm = plt.Normalize(vmin=_min, vmax=_max)\n",
    "_cmap = 'plasma'\n",
    "sm = plt.cm.ScalarMappable(cmap=_cmap, norm=_norm)\n",
    "\n",
    "_y = 'V_mean'\n",
    "\n",
    "_df.query('`Nb of Vr/Vi`>0').plot(kind='scatter', ax=ax, x='outgassing', y=_y, \n",
    "                                 alpha=.8, marker='v', edgecolor='r', s=120,  label='SWR',  c='date', norm=_norm)\n",
    "_df.query('`Nb of Optical`>0').plot(kind='scatter', ax=ax, x='outgassing', y=_y, \n",
    "                                   alpha=.8, marker='d', edgecolor='k',  label='Optical', s=120,  c='date', norm=_norm)\n",
    "_df.query('`Nb of SHAD`>0').plot(kind='scatter', ax=ax, x='outgassing', y=_y, \n",
    "                               alpha=.8, marker='X', edgecolor='k', label='SHAD', s=70,  c='date', norm=_norm)\n",
    "_df.query('`Vacuum stop`>0').plot(kind='scatter', ax=ax, x='outgassing', y=_y, \n",
    "                                 alpha=.8, marker='s',  label='Pressure stop', s=70,  c='date', norm=_norm)\n",
    "\n",
    "\n",
    "cbar = plt.colorbar(sm)\n",
    "# Change the numeric ticks into ones that match the x-axis\n",
    "cbar.ax.set_yticklabels(pd.to_datetime(cbar.get_ticks()).strftime(date_format='%H:%M'))\n",
    "cbar.set_label('Time (hours:minutes)', fontsize=14)\n",
    "\n",
    "ax.set_xscale('log')\n",
    "# ax.set_xlim(left=1e-3, right=6)\n",
    "# ax.set_yscale('log')\n",
    "# ax.set_ylim(top=22)  # half-side only\n",
    "# ax.set_xlim(right=10)\n",
    "ax.grid(True)\n",
    "ax.grid(True, which='minor', alpha=0.4)\n",
    "# ax.set_xlabel('Pulse Duration [s]', fontsize=18)\n",
    "# ax.set_ylabel('Fwd. Power [kW]', fontsize=18)\n",
    "ax.legend(fontsize=16)\n",
    "ax.xaxis.set_tick_params(labelsize=16)\n",
    "ax.yaxis.set_tick_params(labelsize=16)\n",
    "fig.tight_layout()"
   ]
  },
  {
   "cell_type": "code",
   "execution_count": 27,
   "metadata": {},
   "outputs": [
    {
     "data": {
      "text/plain": [
       "<AxesSubplot:xlabel='Pulse Duration [s]', ylabel='Fwd. Power [kW]'>"
      ]
     },
     "execution_count": 27,
     "metadata": {},
     "output_type": "execute_result"
    }
   ],
   "source": [
    "ax"
   ]
  },
  {
   "cell_type": "code",
   "execution_count": 28,
   "metadata": {},
   "outputs": [
    {
     "data": {
      "text/html": [
       "<div>\n",
       "<style scoped>\n",
       "    .dataframe tbody tr th:only-of-type {\n",
       "        vertical-align: middle;\n",
       "    }\n",
       "\n",
       "    .dataframe tbody tr th {\n",
       "        vertical-align: top;\n",
       "    }\n",
       "\n",
       "    .dataframe thead th {\n",
       "        text-align: right;\n",
       "    }\n",
       "</style>\n",
       "<table border=\"1\" class=\"dataframe\">\n",
       "  <thead>\n",
       "    <tr style=\"text-align: right;\">\n",
       "      <th></th>\n",
       "      <th>PiG_max</th>\n",
       "      <th>PrG_max</th>\n",
       "      <th>PiD_max</th>\n",
       "      <th>PrD_max</th>\n",
       "      <th>V1_max</th>\n",
       "      <th>V2_max</th>\n",
       "      <th>V3_max</th>\n",
       "      <th>V4_max</th>\n",
       "      <th>Ph(V1-V3)_max</th>\n",
       "      <th>Ph(V2-V4)_max</th>\n",
       "      <th>...</th>\n",
       "      <th>pressure_droit_max</th>\n",
       "      <th>pressure_max</th>\n",
       "      <th>year</th>\n",
       "      <th>day</th>\n",
       "      <th>SWR</th>\n",
       "      <th>optical</th>\n",
       "      <th>SHAD</th>\n",
       "      <th>pressure</th>\n",
       "      <th>date</th>\n",
       "      <th>outgassing</th>\n",
       "    </tr>\n",
       "    <tr>\n",
       "      <th>Date</th>\n",
       "      <th></th>\n",
       "      <th></th>\n",
       "      <th></th>\n",
       "      <th></th>\n",
       "      <th></th>\n",
       "      <th></th>\n",
       "      <th></th>\n",
       "      <th></th>\n",
       "      <th></th>\n",
       "      <th></th>\n",
       "      <th></th>\n",
       "      <th></th>\n",
       "      <th></th>\n",
       "      <th></th>\n",
       "      <th></th>\n",
       "      <th></th>\n",
       "      <th></th>\n",
       "      <th></th>\n",
       "      <th></th>\n",
       "      <th></th>\n",
       "      <th></th>\n",
       "    </tr>\n",
       "  </thead>\n",
       "  <tbody>\n",
       "    <tr>\n",
       "      <th>2019-07-05 13:30:41</th>\n",
       "      <td>15.85</td>\n",
       "      <td>124.0</td>\n",
       "      <td>0.55</td>\n",
       "      <td>10.0</td>\n",
       "      <td>1270.0</td>\n",
       "      <td>33162.0</td>\n",
       "      <td>1089.0</td>\n",
       "      <td>1080.0</td>\n",
       "      <td>522.57</td>\n",
       "      <td>350.11</td>\n",
       "      <td>...</td>\n",
       "      <td>0.000039</td>\n",
       "      <td>0.000039</td>\n",
       "      <td>2019</td>\n",
       "      <td>5</td>\n",
       "      <td>False</td>\n",
       "      <td>False</td>\n",
       "      <td>True</td>\n",
       "      <td>False</td>\n",
       "      <td>2019-07-05 13:30:41</td>\n",
       "      <td>58.1905</td>\n",
       "    </tr>\n",
       "    <tr>\n",
       "      <th>2019-07-05 13:30:53</th>\n",
       "      <td>18.05</td>\n",
       "      <td>108.0</td>\n",
       "      <td>0.55</td>\n",
       "      <td>10.0</td>\n",
       "      <td>1270.0</td>\n",
       "      <td>35299.0</td>\n",
       "      <td>1089.0</td>\n",
       "      <td>1080.0</td>\n",
       "      <td>520.50</td>\n",
       "      <td>541.30</td>\n",
       "      <td>...</td>\n",
       "      <td>0.000040</td>\n",
       "      <td>0.000040</td>\n",
       "      <td>2019</td>\n",
       "      <td>5</td>\n",
       "      <td>False</td>\n",
       "      <td>False</td>\n",
       "      <td>True</td>\n",
       "      <td>False</td>\n",
       "      <td>2019-07-05 13:30:53</td>\n",
       "      <td>58.1975</td>\n",
       "    </tr>\n",
       "    <tr>\n",
       "      <th>2019-07-05 13:31:05</th>\n",
       "      <td>18.45</td>\n",
       "      <td>43.0</td>\n",
       "      <td>0.55</td>\n",
       "      <td>10.0</td>\n",
       "      <td>1270.0</td>\n",
       "      <td>35306.0</td>\n",
       "      <td>1089.0</td>\n",
       "      <td>1080.0</td>\n",
       "      <td>517.12</td>\n",
       "      <td>527.64</td>\n",
       "      <td>...</td>\n",
       "      <td>0.000038</td>\n",
       "      <td>0.000038</td>\n",
       "      <td>2019</td>\n",
       "      <td>5</td>\n",
       "      <td>False</td>\n",
       "      <td>False</td>\n",
       "      <td>True</td>\n",
       "      <td>False</td>\n",
       "      <td>2019-07-05 13:31:05</td>\n",
       "      <td>58.0470</td>\n",
       "    </tr>\n",
       "    <tr>\n",
       "      <th>2019-07-05 13:36:08</th>\n",
       "      <td>21.45</td>\n",
       "      <td>50.0</td>\n",
       "      <td>0.55</td>\n",
       "      <td>10.0</td>\n",
       "      <td>1270.0</td>\n",
       "      <td>38108.0</td>\n",
       "      <td>1089.0</td>\n",
       "      <td>1080.0</td>\n",
       "      <td>520.85</td>\n",
       "      <td>272.92</td>\n",
       "      <td>...</td>\n",
       "      <td>0.000037</td>\n",
       "      <td>0.000037</td>\n",
       "      <td>2019</td>\n",
       "      <td>5</td>\n",
       "      <td>False</td>\n",
       "      <td>False</td>\n",
       "      <td>True</td>\n",
       "      <td>False</td>\n",
       "      <td>2019-07-05 13:36:08</td>\n",
       "      <td>57.6535</td>\n",
       "    </tr>\n",
       "    <tr>\n",
       "      <th>2019-07-05 13:36:55</th>\n",
       "      <td>21.60</td>\n",
       "      <td>50.0</td>\n",
       "      <td>0.55</td>\n",
       "      <td>10.0</td>\n",
       "      <td>1270.0</td>\n",
       "      <td>38848.0</td>\n",
       "      <td>1089.0</td>\n",
       "      <td>1080.0</td>\n",
       "      <td>520.91</td>\n",
       "      <td>266.78</td>\n",
       "      <td>...</td>\n",
       "      <td>0.000034</td>\n",
       "      <td>0.000034</td>\n",
       "      <td>2019</td>\n",
       "      <td>5</td>\n",
       "      <td>False</td>\n",
       "      <td>False</td>\n",
       "      <td>True</td>\n",
       "      <td>False</td>\n",
       "      <td>2019-07-05 13:36:55</td>\n",
       "      <td>57.6645</td>\n",
       "    </tr>\n",
       "    <tr>\n",
       "      <th>...</th>\n",
       "      <td>...</td>\n",
       "      <td>...</td>\n",
       "      <td>...</td>\n",
       "      <td>...</td>\n",
       "      <td>...</td>\n",
       "      <td>...</td>\n",
       "      <td>...</td>\n",
       "      <td>...</td>\n",
       "      <td>...</td>\n",
       "      <td>...</td>\n",
       "      <td>...</td>\n",
       "      <td>...</td>\n",
       "      <td>...</td>\n",
       "      <td>...</td>\n",
       "      <td>...</td>\n",
       "      <td>...</td>\n",
       "      <td>...</td>\n",
       "      <td>...</td>\n",
       "      <td>...</td>\n",
       "      <td>...</td>\n",
       "      <td>...</td>\n",
       "    </tr>\n",
       "    <tr>\n",
       "      <th>2020-12-14 16:40:18</th>\n",
       "      <td>7.20</td>\n",
       "      <td>18.0</td>\n",
       "      <td>5.40</td>\n",
       "      <td>31.0</td>\n",
       "      <td>18938.0</td>\n",
       "      <td>21875.0</td>\n",
       "      <td>18375.0</td>\n",
       "      <td>21188.0</td>\n",
       "      <td>176.00</td>\n",
       "      <td>172.00</td>\n",
       "      <td>...</td>\n",
       "      <td>0.003425</td>\n",
       "      <td>0.003425</td>\n",
       "      <td>2020</td>\n",
       "      <td>14</td>\n",
       "      <td>False</td>\n",
       "      <td>False</td>\n",
       "      <td>False</td>\n",
       "      <td>False</td>\n",
       "      <td>2020-12-14 16:40:18</td>\n",
       "      <td>19871.5095</td>\n",
       "    </tr>\n",
       "    <tr>\n",
       "      <th>2020-12-14 16:40:44</th>\n",
       "      <td>7.20</td>\n",
       "      <td>26.0</td>\n",
       "      <td>5.40</td>\n",
       "      <td>37.0</td>\n",
       "      <td>17688.0</td>\n",
       "      <td>21438.0</td>\n",
       "      <td>17375.0</td>\n",
       "      <td>20688.0</td>\n",
       "      <td>176.00</td>\n",
       "      <td>248.00</td>\n",
       "      <td>...</td>\n",
       "      <td>0.002849</td>\n",
       "      <td>0.002849</td>\n",
       "      <td>2020</td>\n",
       "      <td>14</td>\n",
       "      <td>False</td>\n",
       "      <td>False</td>\n",
       "      <td>False</td>\n",
       "      <td>False</td>\n",
       "      <td>2020-12-14 16:40:44</td>\n",
       "      <td>19730.5680</td>\n",
       "    </tr>\n",
       "    <tr>\n",
       "      <th>2020-12-14 16:50:17</th>\n",
       "      <td>11.60</td>\n",
       "      <td>54.0</td>\n",
       "      <td>8.90</td>\n",
       "      <td>63.0</td>\n",
       "      <td>21375.0</td>\n",
       "      <td>26688.0</td>\n",
       "      <td>21188.0</td>\n",
       "      <td>25438.0</td>\n",
       "      <td>175.00</td>\n",
       "      <td>172.00</td>\n",
       "      <td>...</td>\n",
       "      <td>0.000324</td>\n",
       "      <td>0.000324</td>\n",
       "      <td>2020</td>\n",
       "      <td>14</td>\n",
       "      <td>True</td>\n",
       "      <td>False</td>\n",
       "      <td>False</td>\n",
       "      <td>False</td>\n",
       "      <td>2020-12-14 16:50:17</td>\n",
       "      <td>16713.9285</td>\n",
       "    </tr>\n",
       "    <tr>\n",
       "      <th>2020-12-14 16:50:42</th>\n",
       "      <td>11.55</td>\n",
       "      <td>84.0</td>\n",
       "      <td>8.95</td>\n",
       "      <td>74.0</td>\n",
       "      <td>20062.0</td>\n",
       "      <td>25938.0</td>\n",
       "      <td>20062.0</td>\n",
       "      <td>24562.0</td>\n",
       "      <td>175.00</td>\n",
       "      <td>325.00</td>\n",
       "      <td>...</td>\n",
       "      <td>0.000401</td>\n",
       "      <td>0.000495</td>\n",
       "      <td>2020</td>\n",
       "      <td>14</td>\n",
       "      <td>False</td>\n",
       "      <td>False</td>\n",
       "      <td>False</td>\n",
       "      <td>False</td>\n",
       "      <td>2020-12-14 16:50:42</td>\n",
       "      <td>16889.6910</td>\n",
       "    </tr>\n",
       "    <tr>\n",
       "      <th>2020-12-14 16:51:20</th>\n",
       "      <td>11.40</td>\n",
       "      <td>93.0</td>\n",
       "      <td>8.90</td>\n",
       "      <td>78.0</td>\n",
       "      <td>18062.0</td>\n",
       "      <td>24625.0</td>\n",
       "      <td>18375.0</td>\n",
       "      <td>23375.0</td>\n",
       "      <td>175.00</td>\n",
       "      <td>334.00</td>\n",
       "      <td>...</td>\n",
       "      <td>0.000593</td>\n",
       "      <td>0.000749</td>\n",
       "      <td>2020</td>\n",
       "      <td>14</td>\n",
       "      <td>True</td>\n",
       "      <td>False</td>\n",
       "      <td>False</td>\n",
       "      <td>False</td>\n",
       "      <td>2020-12-14 16:51:20</td>\n",
       "      <td>17320.7510</td>\n",
       "    </tr>\n",
       "  </tbody>\n",
       "</table>\n",
       "<p>1757 rows × 65 columns</p>\n",
       "</div>"
      ],
      "text/plain": [
       "                     PiG_max  PrG_max  PiD_max  PrD_max   V1_max   V2_max  \\\n",
       "Date                                                                        \n",
       "2019-07-05 13:30:41    15.85    124.0     0.55     10.0   1270.0  33162.0   \n",
       "2019-07-05 13:30:53    18.05    108.0     0.55     10.0   1270.0  35299.0   \n",
       "2019-07-05 13:31:05    18.45     43.0     0.55     10.0   1270.0  35306.0   \n",
       "2019-07-05 13:36:08    21.45     50.0     0.55     10.0   1270.0  38108.0   \n",
       "2019-07-05 13:36:55    21.60     50.0     0.55     10.0   1270.0  38848.0   \n",
       "...                      ...      ...      ...      ...      ...      ...   \n",
       "2020-12-14 16:40:18     7.20     18.0     5.40     31.0  18938.0  21875.0   \n",
       "2020-12-14 16:40:44     7.20     26.0     5.40     37.0  17688.0  21438.0   \n",
       "2020-12-14 16:50:17    11.60     54.0     8.90     63.0  21375.0  26688.0   \n",
       "2020-12-14 16:50:42    11.55     84.0     8.95     74.0  20062.0  25938.0   \n",
       "2020-12-14 16:51:20    11.40     93.0     8.90     78.0  18062.0  24625.0   \n",
       "\n",
       "                      V3_max   V4_max  Ph(V1-V3)_max  Ph(V2-V4)_max  ...  \\\n",
       "Date                                                                 ...   \n",
       "2019-07-05 13:30:41   1089.0   1080.0         522.57         350.11  ...   \n",
       "2019-07-05 13:30:53   1089.0   1080.0         520.50         541.30  ...   \n",
       "2019-07-05 13:31:05   1089.0   1080.0         517.12         527.64  ...   \n",
       "2019-07-05 13:36:08   1089.0   1080.0         520.85         272.92  ...   \n",
       "2019-07-05 13:36:55   1089.0   1080.0         520.91         266.78  ...   \n",
       "...                      ...      ...            ...            ...  ...   \n",
       "2020-12-14 16:40:18  18375.0  21188.0         176.00         172.00  ...   \n",
       "2020-12-14 16:40:44  17375.0  20688.0         176.00         248.00  ...   \n",
       "2020-12-14 16:50:17  21188.0  25438.0         175.00         172.00  ...   \n",
       "2020-12-14 16:50:42  20062.0  24562.0         175.00         325.00  ...   \n",
       "2020-12-14 16:51:20  18375.0  23375.0         175.00         334.00  ...   \n",
       "\n",
       "                     pressure_droit_max  pressure_max  year  day    SWR  \\\n",
       "Date                                                                      \n",
       "2019-07-05 13:30:41            0.000039      0.000039  2019    5  False   \n",
       "2019-07-05 13:30:53            0.000040      0.000040  2019    5  False   \n",
       "2019-07-05 13:31:05            0.000038      0.000038  2019    5  False   \n",
       "2019-07-05 13:36:08            0.000037      0.000037  2019    5  False   \n",
       "2019-07-05 13:36:55            0.000034      0.000034  2019    5  False   \n",
       "...                                 ...           ...   ...  ...    ...   \n",
       "2020-12-14 16:40:18            0.003425      0.003425  2020   14  False   \n",
       "2020-12-14 16:40:44            0.002849      0.002849  2020   14  False   \n",
       "2020-12-14 16:50:17            0.000324      0.000324  2020   14   True   \n",
       "2020-12-14 16:50:42            0.000401      0.000495  2020   14  False   \n",
       "2020-12-14 16:51:20            0.000593      0.000749  2020   14   True   \n",
       "\n",
       "                     optical   SHAD  pressure                date  outgassing  \n",
       "Date                                                                           \n",
       "2019-07-05 13:30:41    False   True     False 2019-07-05 13:30:41     58.1905  \n",
       "2019-07-05 13:30:53    False   True     False 2019-07-05 13:30:53     58.1975  \n",
       "2019-07-05 13:31:05    False   True     False 2019-07-05 13:31:05     58.0470  \n",
       "2019-07-05 13:36:08    False   True     False 2019-07-05 13:36:08     57.6535  \n",
       "2019-07-05 13:36:55    False   True     False 2019-07-05 13:36:55     57.6645  \n",
       "...                      ...    ...       ...                 ...         ...  \n",
       "2020-12-14 16:40:18    False  False     False 2020-12-14 16:40:18  19871.5095  \n",
       "2020-12-14 16:40:44    False  False     False 2020-12-14 16:40:44  19730.5680  \n",
       "2020-12-14 16:50:17    False  False     False 2020-12-14 16:50:17  16713.9285  \n",
       "2020-12-14 16:50:42    False  False     False 2020-12-14 16:50:42  16889.6910  \n",
       "2020-12-14 16:51:20    False  False     False 2020-12-14 16:51:20  17320.7510  \n",
       "\n",
       "[1757 rows x 65 columns]"
      ]
     },
     "execution_count": 28,
     "metadata": {},
     "output_type": "execute_result"
    }
   ],
   "source": [
    "df"
   ]
  },
  {
   "cell_type": "code",
   "execution_count": null,
   "metadata": {},
   "outputs": [],
   "source": []
  }
 ],
 "metadata": {
  "kernelspec": {
   "display_name": "Python 3",
   "language": "python",
   "name": "python3"
  },
  "language_info": {
   "codemirror_mode": {
    "name": "ipython",
    "version": 3
   },
   "file_extension": ".py",
   "mimetype": "text/x-python",
   "name": "python",
   "nbconvert_exporter": "python",
   "pygments_lexer": "ipython3",
   "version": "3.7.8"
  }
 },
 "nbformat": 4,
 "nbformat_minor": 4
}
