{
 "cells": [
  {
   "cell_type": "code",
   "execution_count": 1,
   "metadata": {},
   "outputs": [],
   "source": [
    "# assume working in Jupyter Lab\n",
    "%matplotlib widget\n",
    "\n",
    "%load_ext autoreload\n",
    "%autoreload 2"
   ]
  },
  {
   "cell_type": "code",
   "execution_count": 2,
   "metadata": {},
   "outputs": [],
   "source": [
    "import sys\n",
    "import numpy as np\n",
    "import pandas as pd\n",
    "import matplotlib.pyplot as plt \n",
    "import seaborn as sns\n",
    "from scipy.optimize import curve_fit \n",
    "from tqdm.notebook import tqdm"
   ]
  },
  {
   "cell_type": "code",
   "execution_count": 3,
   "metadata": {},
   "outputs": [],
   "source": [
    "sns.set_style('whitegrid')\n",
    "sns.set_context('paper', font_scale=1.4)\n",
    "plt.rcParams['figure.figsize'] = (10,6)\n",
    "plt.rcParams['axes.labelsize'] = 18\n",
    "plt.rcParams['axes.titlesize'] = 18\n",
    "plt.rcParams['xtick.labelsize'] = 14\n",
    "plt.rcParams['ytick.labelsize'] = 14"
   ]
  },
  {
   "cell_type": "markdown",
   "metadata": {},
   "source": [
    "# Importing the database"
   ]
  },
  {
   "cell_type": "code",
   "execution_count": 4,
   "metadata": {},
   "outputs": [
    {
     "data": {
      "text/html": [
       "<div>\n",
       "<style scoped>\n",
       "    .dataframe tbody tr th:only-of-type {\n",
       "        vertical-align: middle;\n",
       "    }\n",
       "\n",
       "    .dataframe tbody tr th {\n",
       "        vertical-align: top;\n",
       "    }\n",
       "\n",
       "    .dataframe thead th {\n",
       "        text-align: right;\n",
       "    }\n",
       "</style>\n",
       "<table border=\"1\" class=\"dataframe\">\n",
       "  <thead>\n",
       "    <tr style=\"text-align: right;\">\n",
       "      <th></th>\n",
       "      <th>Unnamed: 0</th>\n",
       "      <th>pulse</th>\n",
       "      <th>Ag18</th>\n",
       "      <th>Ag19</th>\n",
       "      <th>Cu</th>\n",
       "      <th>year</th>\n",
       "      <th>month</th>\n",
       "      <th>day</th>\n",
       "      <th>Fe</th>\n",
       "      <th>freq_Q1</th>\n",
       "      <th>...</th>\n",
       "      <th>MHD</th>\n",
       "      <th>Ohmic_P</th>\n",
       "      <th>Prad</th>\n",
       "      <th>Prad_imas</th>\n",
       "      <th>Rext_median</th>\n",
       "      <th>Rext_median_NICE</th>\n",
       "      <th>Separatrix_P</th>\n",
       "      <th>W_MHD</th>\n",
       "      <th>frad_imas</th>\n",
       "      <th>nl</th>\n",
       "    </tr>\n",
       "  </thead>\n",
       "  <tbody>\n",
       "    <tr>\n",
       "      <th>0</th>\n",
       "      <td>0</td>\n",
       "      <td>56289</td>\n",
       "      <td>1.330797</td>\n",
       "      <td>0.922018</td>\n",
       "      <td>NaN</td>\n",
       "      <td>2020.0</td>\n",
       "      <td>12.0</td>\n",
       "      <td>10.0</td>\n",
       "      <td>NaN</td>\n",
       "      <td>55.299999</td>\n",
       "      <td>...</td>\n",
       "      <td>0.000000</td>\n",
       "      <td>0.000000</td>\n",
       "      <td>0.000000</td>\n",
       "      <td>0.090342</td>\n",
       "      <td>2981.637954</td>\n",
       "      <td>2973.267766</td>\n",
       "      <td>0.000000</td>\n",
       "      <td>41387.948887</td>\n",
       "      <td>NaN</td>\n",
       "      <td>1.449843</td>\n",
       "    </tr>\n",
       "    <tr>\n",
       "      <th>1</th>\n",
       "      <td>1</td>\n",
       "      <td>56289</td>\n",
       "      <td>0.983774</td>\n",
       "      <td>1.000000</td>\n",
       "      <td>NaN</td>\n",
       "      <td>2020.0</td>\n",
       "      <td>12.0</td>\n",
       "      <td>10.0</td>\n",
       "      <td>NaN</td>\n",
       "      <td>55.299999</td>\n",
       "      <td>...</td>\n",
       "      <td>0.000000</td>\n",
       "      <td>0.000000</td>\n",
       "      <td>0.000000</td>\n",
       "      <td>0.089766</td>\n",
       "      <td>2946.637476</td>\n",
       "      <td>2968.167753</td>\n",
       "      <td>0.000000</td>\n",
       "      <td>47250.362452</td>\n",
       "      <td>NaN</td>\n",
       "      <td>1.562838</td>\n",
       "    </tr>\n",
       "    <tr>\n",
       "      <th>2</th>\n",
       "      <td>2</td>\n",
       "      <td>56289</td>\n",
       "      <td>1.000000</td>\n",
       "      <td>1.000000</td>\n",
       "      <td>NaN</td>\n",
       "      <td>2020.0</td>\n",
       "      <td>12.0</td>\n",
       "      <td>10.0</td>\n",
       "      <td>6.086065</td>\n",
       "      <td>55.299999</td>\n",
       "      <td>...</td>\n",
       "      <td>0.000000</td>\n",
       "      <td>0.000000</td>\n",
       "      <td>0.000000</td>\n",
       "      <td>0.088568</td>\n",
       "      <td>2956.318470</td>\n",
       "      <td>2951.450858</td>\n",
       "      <td>0.000000</td>\n",
       "      <td>48850.911413</td>\n",
       "      <td>NaN</td>\n",
       "      <td>1.579303</td>\n",
       "    </tr>\n",
       "    <tr>\n",
       "      <th>3</th>\n",
       "      <td>3</td>\n",
       "      <td>56289</td>\n",
       "      <td>1.000000</td>\n",
       "      <td>NaN</td>\n",
       "      <td>1.896461</td>\n",
       "      <td>2020.0</td>\n",
       "      <td>12.0</td>\n",
       "      <td>10.0</td>\n",
       "      <td>NaN</td>\n",
       "      <td>55.299999</td>\n",
       "      <td>...</td>\n",
       "      <td>0.000000</td>\n",
       "      <td>0.000000</td>\n",
       "      <td>0.000000</td>\n",
       "      <td>0.095068</td>\n",
       "      <td>2942.756561</td>\n",
       "      <td>2946.898475</td>\n",
       "      <td>0.000000</td>\n",
       "      <td>49309.269950</td>\n",
       "      <td>39.939243</td>\n",
       "      <td>1.579081</td>\n",
       "    </tr>\n",
       "    <tr>\n",
       "      <th>4</th>\n",
       "      <td>4</td>\n",
       "      <td>56289</td>\n",
       "      <td>1.000000</td>\n",
       "      <td>NaN</td>\n",
       "      <td>NaN</td>\n",
       "      <td>2020.0</td>\n",
       "      <td>12.0</td>\n",
       "      <td>10.0</td>\n",
       "      <td>3.738001</td>\n",
       "      <td>55.299999</td>\n",
       "      <td>...</td>\n",
       "      <td>0.000000</td>\n",
       "      <td>0.000000</td>\n",
       "      <td>0.000000</td>\n",
       "      <td>0.106382</td>\n",
       "      <td>2950.297941</td>\n",
       "      <td>2946.527634</td>\n",
       "      <td>0.000000</td>\n",
       "      <td>50541.130810</td>\n",
       "      <td>37.665285</td>\n",
       "      <td>1.586296</td>\n",
       "    </tr>\n",
       "    <tr>\n",
       "      <th>...</th>\n",
       "      <td>...</td>\n",
       "      <td>...</td>\n",
       "      <td>...</td>\n",
       "      <td>...</td>\n",
       "      <td>...</td>\n",
       "      <td>...</td>\n",
       "      <td>...</td>\n",
       "      <td>...</td>\n",
       "      <td>...</td>\n",
       "      <td>...</td>\n",
       "      <td>...</td>\n",
       "      <td>...</td>\n",
       "      <td>...</td>\n",
       "      <td>...</td>\n",
       "      <td>...</td>\n",
       "      <td>...</td>\n",
       "      <td>...</td>\n",
       "      <td>...</td>\n",
       "      <td>...</td>\n",
       "      <td>...</td>\n",
       "      <td>...</td>\n",
       "    </tr>\n",
       "    <tr>\n",
       "      <th>102969</th>\n",
       "      <td>133</td>\n",
       "      <td>56927</td>\n",
       "      <td>3.255704</td>\n",
       "      <td>NaN</td>\n",
       "      <td>938.807028</td>\n",
       "      <td>2021.0</td>\n",
       "      <td>1.0</td>\n",
       "      <td>27.0</td>\n",
       "      <td>57.705132</td>\n",
       "      <td>55.650002</td>\n",
       "      <td>...</td>\n",
       "      <td>55.154390</td>\n",
       "      <td>0.194942</td>\n",
       "      <td>0.215554</td>\n",
       "      <td>1.981225</td>\n",
       "      <td>2999.502356</td>\n",
       "      <td>2954.231467</td>\n",
       "      <td>4.491285</td>\n",
       "      <td>159950.885865</td>\n",
       "      <td>42.787203</td>\n",
       "      <td>3.881966</td>\n",
       "    </tr>\n",
       "    <tr>\n",
       "      <th>102970</th>\n",
       "      <td>134</td>\n",
       "      <td>56927</td>\n",
       "      <td>4.305329</td>\n",
       "      <td>NaN</td>\n",
       "      <td>1125.728768</td>\n",
       "      <td>2021.0</td>\n",
       "      <td>1.0</td>\n",
       "      <td>27.0</td>\n",
       "      <td>52.723995</td>\n",
       "      <td>55.650002</td>\n",
       "      <td>...</td>\n",
       "      <td>51.023682</td>\n",
       "      <td>NaN</td>\n",
       "      <td>0.273737</td>\n",
       "      <td>1.971765</td>\n",
       "      <td>2996.066164</td>\n",
       "      <td>2939.076437</td>\n",
       "      <td>4.369750</td>\n",
       "      <td>119691.346640</td>\n",
       "      <td>43.464882</td>\n",
       "      <td>3.964103</td>\n",
       "    </tr>\n",
       "    <tr>\n",
       "      <th>102971</th>\n",
       "      <td>135</td>\n",
       "      <td>56927</td>\n",
       "      <td>NaN</td>\n",
       "      <td>NaN</td>\n",
       "      <td>1305.258287</td>\n",
       "      <td>2021.0</td>\n",
       "      <td>1.0</td>\n",
       "      <td>27.0</td>\n",
       "      <td>43.369206</td>\n",
       "      <td>55.650002</td>\n",
       "      <td>...</td>\n",
       "      <td>48.604170</td>\n",
       "      <td>NaN</td>\n",
       "      <td>0.256551</td>\n",
       "      <td>1.874935</td>\n",
       "      <td>2995.771317</td>\n",
       "      <td>2919.308808</td>\n",
       "      <td>4.201980</td>\n",
       "      <td>67748.948100</td>\n",
       "      <td>43.038818</td>\n",
       "      <td>4.014365</td>\n",
       "    </tr>\n",
       "    <tr>\n",
       "      <th>102972</th>\n",
       "      <td>136</td>\n",
       "      <td>56927</td>\n",
       "      <td>1.347270</td>\n",
       "      <td>NaN</td>\n",
       "      <td>1641.330827</td>\n",
       "      <td>2021.0</td>\n",
       "      <td>1.0</td>\n",
       "      <td>27.0</td>\n",
       "      <td>NaN</td>\n",
       "      <td>55.650002</td>\n",
       "      <td>...</td>\n",
       "      <td>NaN</td>\n",
       "      <td>NaN</td>\n",
       "      <td>NaN</td>\n",
       "      <td>NaN</td>\n",
       "      <td>2979.209430</td>\n",
       "      <td>2894.406853</td>\n",
       "      <td>NaN</td>\n",
       "      <td>2836.158112</td>\n",
       "      <td>NaN</td>\n",
       "      <td>3.813805</td>\n",
       "    </tr>\n",
       "    <tr>\n",
       "      <th>102973</th>\n",
       "      <td>137</td>\n",
       "      <td>56927</td>\n",
       "      <td>1.071788</td>\n",
       "      <td>13.421314</td>\n",
       "      <td>NaN</td>\n",
       "      <td>2021.0</td>\n",
       "      <td>1.0</td>\n",
       "      <td>27.0</td>\n",
       "      <td>NaN</td>\n",
       "      <td>55.650002</td>\n",
       "      <td>...</td>\n",
       "      <td>NaN</td>\n",
       "      <td>NaN</td>\n",
       "      <td>NaN</td>\n",
       "      <td>1.932687</td>\n",
       "      <td>NaN</td>\n",
       "      <td>2863.848843</td>\n",
       "      <td>3.402092</td>\n",
       "      <td>-76334.555456</td>\n",
       "      <td>NaN</td>\n",
       "      <td>NaN</td>\n",
       "    </tr>\n",
       "  </tbody>\n",
       "</table>\n",
       "<p>102974 rows × 67 columns</p>\n",
       "</div>"
      ],
      "text/plain": [
       "        Unnamed: 0  pulse      Ag18       Ag19           Cu    year  month  \\\n",
       "0                0  56289  1.330797   0.922018          NaN  2020.0   12.0   \n",
       "1                1  56289  0.983774   1.000000          NaN  2020.0   12.0   \n",
       "2                2  56289  1.000000   1.000000          NaN  2020.0   12.0   \n",
       "3                3  56289  1.000000        NaN     1.896461  2020.0   12.0   \n",
       "4                4  56289  1.000000        NaN          NaN  2020.0   12.0   \n",
       "...            ...    ...       ...        ...          ...     ...    ...   \n",
       "102969         133  56927  3.255704        NaN   938.807028  2021.0    1.0   \n",
       "102970         134  56927  4.305329        NaN  1125.728768  2021.0    1.0   \n",
       "102971         135  56927       NaN        NaN  1305.258287  2021.0    1.0   \n",
       "102972         136  56927  1.347270        NaN  1641.330827  2021.0    1.0   \n",
       "102973         137  56927  1.071788  13.421314          NaN  2021.0    1.0   \n",
       "\n",
       "         day         Fe    freq_Q1  ...        MHD   Ohmic_P      Prad  \\\n",
       "0       10.0        NaN  55.299999  ...   0.000000  0.000000  0.000000   \n",
       "1       10.0        NaN  55.299999  ...   0.000000  0.000000  0.000000   \n",
       "2       10.0   6.086065  55.299999  ...   0.000000  0.000000  0.000000   \n",
       "3       10.0        NaN  55.299999  ...   0.000000  0.000000  0.000000   \n",
       "4       10.0   3.738001  55.299999  ...   0.000000  0.000000  0.000000   \n",
       "...      ...        ...        ...  ...        ...       ...       ...   \n",
       "102969  27.0  57.705132  55.650002  ...  55.154390  0.194942  0.215554   \n",
       "102970  27.0  52.723995  55.650002  ...  51.023682       NaN  0.273737   \n",
       "102971  27.0  43.369206  55.650002  ...  48.604170       NaN  0.256551   \n",
       "102972  27.0        NaN  55.650002  ...        NaN       NaN       NaN   \n",
       "102973  27.0        NaN  55.650002  ...        NaN       NaN       NaN   \n",
       "\n",
       "        Prad_imas  Rext_median  Rext_median_NICE  Separatrix_P          W_MHD  \\\n",
       "0        0.090342  2981.637954       2973.267766      0.000000   41387.948887   \n",
       "1        0.089766  2946.637476       2968.167753      0.000000   47250.362452   \n",
       "2        0.088568  2956.318470       2951.450858      0.000000   48850.911413   \n",
       "3        0.095068  2942.756561       2946.898475      0.000000   49309.269950   \n",
       "4        0.106382  2950.297941       2946.527634      0.000000   50541.130810   \n",
       "...           ...          ...               ...           ...            ...   \n",
       "102969   1.981225  2999.502356       2954.231467      4.491285  159950.885865   \n",
       "102970   1.971765  2996.066164       2939.076437      4.369750  119691.346640   \n",
       "102971   1.874935  2995.771317       2919.308808      4.201980   67748.948100   \n",
       "102972        NaN  2979.209430       2894.406853           NaN    2836.158112   \n",
       "102973   1.932687          NaN       2863.848843      3.402092  -76334.555456   \n",
       "\n",
       "        frad_imas        nl  \n",
       "0             NaN  1.449843  \n",
       "1             NaN  1.562838  \n",
       "2             NaN  1.579303  \n",
       "3       39.939243  1.579081  \n",
       "4       37.665285  1.586296  \n",
       "...           ...       ...  \n",
       "102969  42.787203  3.881966  \n",
       "102970  43.464882  3.964103  \n",
       "102971  43.038818  4.014365  \n",
       "102972        NaN  3.813805  \n",
       "102973        NaN       NaN  \n",
       "\n",
       "[102974 rows x 67 columns]"
      ]
     },
     "execution_count": 4,
     "metadata": {},
     "output_type": "execute_result"
    }
   ],
   "source": [
    "# Importing Resumed Parameters\n",
    "data = pd.read_csv('WEST_C5_database_resumed_parameters.csv')\n",
    "data"
   ]
  },
  {
   "cell_type": "markdown",
   "metadata": {},
   "source": [
    "# Cleaning the data"
   ]
  },
  {
   "cell_type": "markdown",
   "metadata": {},
   "source": [
    "Below we remove non physical or not relevant values"
   ]
  },
  {
   "cell_type": "code",
   "execution_count": 5,
   "metadata": {},
   "outputs": [
    {
     "data": {
      "text/plain": [
       "102974"
      ]
     },
     "execution_count": 5,
     "metadata": {},
     "output_type": "execute_result"
    }
   ],
   "source": [
    "len(data)"
   ]
  },
  {
   "cell_type": "code",
   "execution_count": 6,
   "metadata": {},
   "outputs": [],
   "source": [
    "data = data.query('nl > 2 and Ip > 0.4')\\\n",
    "            .query('Rext_median > 2700')"
   ]
  },
  {
   "cell_type": "markdown",
   "metadata": {},
   "source": [
    "Total number of points:"
   ]
  },
  {
   "cell_type": "code",
   "execution_count": 7,
   "metadata": {},
   "outputs": [
    {
     "data": {
      "text/plain": [
       "67142"
      ]
     },
     "execution_count": 7,
     "metadata": {},
     "output_type": "execute_result"
    }
   ],
   "source": [
    "len(data)"
   ]
  },
  {
   "cell_type": "markdown",
   "metadata": {},
   "source": [
    "Names of available data in the dataset:"
   ]
  },
  {
   "cell_type": "code",
   "execution_count": 8,
   "metadata": {},
   "outputs": [
    {
     "data": {
      "text/plain": [
       "Index(['Unnamed: 0', 'pulse', 'Ag18', 'Ag19', 'Cu', 'year', 'month', 'day',\n",
       "       'Fe', 'freq_Q1', 'freq_Q2', 'freq_Q4', 'IC_Frequencies', 'IC_P_Q1',\n",
       "       'IC_P_Q2', 'IC_P_Q4', 'IC_P_tot', 'IC_Phase_Q1',\n",
       "       'IC_Phase_Q1 (Pf_left - Pf_right)', 'IC_Phase_Q2',\n",
       "       'IC_Phase_Q2 (Pf_left - Pf_right)', 'IC_Phase_Q4',\n",
       "       'IC_Phase_Q4 (Pf_left - Pf_right)', 'R_Q1', 'R_Q2', 'R_Q4',\n",
       "       'IC_Positions', 'IC_Rc_Q1_avg', 'IC_Rc_Q1_left', 'IC_Rc_Q1_right',\n",
       "       'IC_Rc_Q2_avg', 'IC_Rc_Q2_left', 'IC_Rc_Q2_right', 'IC_Rc_Q4_avg',\n",
       "       'IC_Rc_Q4_left', 'IC_Rc_Q4_right', 'IC_Voltage_left_lower_Q1',\n",
       "       'IC_Voltage_left_lower_Q2', 'IC_Voltage_left_lower_Q4',\n",
       "       'IC_Voltage_left_upper_Q1', 'IC_Voltage_left_upper_Q2',\n",
       "       'IC_Voltage_left_upper_Q4', 'IC_Voltage_right_lower_Q1',\n",
       "       'IC_Voltage_right_lower_Q2', 'IC_Voltage_right_lower_Q4',\n",
       "       'IC_Voltage_right_upper_Q1', 'IC_Voltage_right_upper_Q2',\n",
       "       'IC_Voltage_right_upper_Q4', 'time', 'Ip', 'Isotopic Ratio INBUM04',\n",
       "       'Isotopic Ratio LODIVIN15', 'Isotopic Ratio LODIVOU15', 'LH_P_tot',\n",
       "       'R_LH1', 'R_LH2', 'LH_Positions', 'MHD', 'Ohmic_P', 'Prad', 'Prad_imas',\n",
       "       'Rext_median', 'Rext_median_NICE', 'Separatrix_P', 'W_MHD', 'frad_imas',\n",
       "       'nl'],\n",
       "      dtype='object')"
      ]
     },
     "execution_count": 8,
     "metadata": {},
     "output_type": "execute_result"
    }
   ],
   "source": [
    "data.columns"
   ]
  },
  {
   "cell_type": "code",
   "execution_count": 9,
   "metadata": {},
   "outputs": [],
   "source": [
    "first_C5_pulse = 56247\n",
    "january_restart = 56544\n",
    "post_boro = [56247, 56597]\n",
    "phase_control_OK = 56469\n",
    "Q2_position_OK = 56737"
   ]
  },
  {
   "cell_type": "code",
   "execution_count": 10,
   "metadata": {},
   "outputs": [],
   "source": [
    "sessions = {\n",
    "    'C1-C5-W1-21': {\n",
    "        'name': 'Impact of BN tiles on W Sources during start up/divertor phase - Ohmic',\n",
    "        'pulses': (56415,56435),\n",
    "        'date': ('2020-12-16')\n",
    "    },\n",
    "    'C1-C5-W1-23': {\n",
    "        'name': 'Impact of BN tiles on W Sources during divertor phase - Heating',\n",
    "        'pulses': (56462,56489),\n",
    "        'date': ('2020-12-18')\n",
    "    },\n",
    "    'C1-C5-W1-11': {\n",
    "        'name': 'Melting experiments',\n",
    "        'pulses': (56516,56543),\n",
    "        'date': ('2020-12-22')\n",
    "    },\n",
    "    'C1-C5-W1-10': {\n",
    "        'name': 'Weight of W divertor sources vs main chamber W sources',\n",
    "        'pulses': [(56803,56819), (56850,56860)],\n",
    "        'date': ('2021-01-21', '2020-01-22')\n",
    "    },\n",
    "    'C1-C5-W1-22': {\n",
    "        'name': 'Divertor exhaust enhancement studies with the IPD',\n",
    "        'pulses': [(56820,56833), (56913,56927)],\n",
    "        'date': ('2020-01-21', '2020-01-27')\n",
    "    },\n",
    "    'C1-C5-W1-25': {\n",
    "        'name': 'Impurity Powder dropper commisionning',\n",
    "        'pulses': (56635,56640),\n",
    "        'date': ('2021-01-12')\n",
    "    },\n",
    "    'C1-C5-W1-24': {\n",
    "        'name': 'Heat load on misalignmed PFU/gaps',\n",
    "        'pulses': (56670,56698),\n",
    "        'date': ('2021-01-14')\n",
    "    },\n",
    "}"
   ]
  },
  {
   "cell_type": "code",
   "execution_count": 11,
   "metadata": {},
   "outputs": [
    {
     "name": "stdout",
     "output_type": "stream",
     "text": [
      "Q1: [2.94910002]\n",
      "Q2: [2.94910002]\n",
      "Q4: [2.94889998]\n",
      "LH1: [2.95549989]\n",
      "LH2: [2.95719981]\n"
     ]
    }
   ],
   "source": [
    "def position_antennes(pulse):\n",
    "    print('Q1:', data.query(f'pulse == {pulse}')['R_Q1'].unique())\n",
    "    print('Q2:', data.query(f'pulse == {pulse}')['R_Q2'].unique())\n",
    "    print('Q4:', data.query(f'pulse == {pulse}')['R_Q4'].unique())\n",
    "    print('LH1:', data.query(f'pulse == {pulse}')['R_LH1'].unique())\n",
    "    print('LH2:', data.query(f'pulse == {pulse}')['R_LH2'].unique())\n",
    "    \n",
    "position_antennes(56737)"
   ]
  },
  {
   "cell_type": "markdown",
   "metadata": {},
   "source": [
    "# Derived quantities"
   ]
  },
  {
   "cell_type": "markdown",
   "metadata": {},
   "source": [
    "Below we calculate some quantities derived from the others"
   ]
  },
  {
   "cell_type": "code",
   "execution_count": 12,
   "metadata": {},
   "outputs": [],
   "source": [
    "# Radiated/Convected powers & radiated power fraction\n",
    "data['P_RF'] = data['LH_P_tot'] + data['IC_P_tot']\n",
    "data['Ptot'] = data['Ohmic_P'] + data['P_RF']\n",
    "data['P_conv'] = data['Ptot'] - data['Prad']\n",
    "data['frad'] = data['Prad']/data['Ptot']\n",
    "\n",
    "# Normalized data\n",
    "data['Cu_norm'] = data['Cu']/data['nl']\n",
    "data['Fe_norm'] = data['Fe']/data['nl']\n",
    "data['Ag18_norm'] = data['Ag18']/data['nl']\n",
    "data['Ag19_norm'] = data['Ag19']/data['nl']\n",
    "data['Ag18_norm_nl_IC'] = data['Ag18']/data['nl']/data['IC_P_tot']\n",
    "data['Ag19_norm_nl_IC'] = data['Ag19']/data['nl']/data['IC_P_tot']\n",
    "\n",
    "data['Cu_norm_nl_IC'] = data['Cu_norm']/data['IC_P_tot']\n",
    "data['Cu_norm_nl_LH'] = data['Cu_norm']/data['LH_P_tot']\n",
    "data['Cu_norm_nl_RF'] = data['Cu_norm']/data['P_RF']\n",
    "\n",
    "data['ratio_Pic_Plh'] = data['IC_P_tot']/data['LH_P_tot']\n",
    "data['Isotopic Ratio INBUM04_norm_PLH'] = data['Isotopic Ratio INBUM04']/data['LH_P_tot']\n",
    "data['Isotopic Ratio LODIVOU15_norm_PLH'] = data['Isotopic Ratio LODIVOU15']/data['LH_P_tot']\n",
    "\n",
    "data['Isotopic Ratio INBUM04_norm_PRF'] = data['Isotopic Ratio INBUM04']/data['P_RF']\n",
    "data['Isotopic Ratio LODIVOU15_norm_PRF'] = data['Isotopic Ratio INBUM04']/data['P_RF']\n",
    "\n",
    "data['IC_Q1_Rc_left_over_right'] = data['IC_Rc_Q1_left']/data['IC_Rc_Q1_right']\n",
    "data['IC_Q2_Rc_left_over_right'] = data['IC_Rc_Q2_left']/data['IC_Rc_Q2_right']\n",
    "data['IC_Q4_Rc_left_over_right'] = data['IC_Rc_Q4_left']/data['IC_Rc_Q4_right']\n",
    "\n",
    "data['pulse_relative'] = data['pulse'] - first_C5_pulse\n",
    "\n",
    "# LSN and USN shots\n",
    "data['Xpoint'] = 'LSN'\n",
    "data.loc[(data['pulse'] >= 56737) & (data['pulse'] <=56769), 'Xpoint'] = 'USN' # 2021-01-19\n",
    "data.loc[(data['pulse'] >= 56770) & (data['pulse'] <=56802), 'Xpoint'] = 'USN' # 2021-01-20\n",
    "\n",
    "# objet le plus avancé\n",
    "data['R_obj'] = data[['R_Q1', 'R_Q2', 'R_Q4', 'R_LH1', 'R_LH2']].min(axis=1)*1e3\n",
    "\n",
    "# ROG wrt VACTH magnetic reconstruction in [mm]\n",
    "data['ROG_LH'] = data['R_obj'] - data['Rext_median']\n",
    "data['ROG_Q1'] = data['R_Q1']*1e3 - data['Rext_median']\n",
    "data['ROG_Q2'] = data['R_Q2']*1e3 - data['Rext_median']\n",
    "data['ROG_Q4'] = data['R_Q4']*1e3 - data['Rext_median']\n",
    "data['ROG'] = data['R_obj'] - data['Rext_median']\n",
    "# ROG wrt NICE magnetic reconstruction in [mm]\n",
    "data['ROG_Q1_NICE'] = data['R_Q1']*1e3 - data['Rext_median_NICE']\n",
    "data['ROG_Q2_NICE'] = data['R_Q2']*1e3 - data['Rext_median_NICE']\n",
    "data['ROG_Q4_NICE'] = data['R_Q4']*1e3 - data['Rext_median_NICE']\n",
    "data['ROG_NICE'] = data['R_obj'] - data['Rext_median_NICE']\n"
   ]
  },
  {
   "cell_type": "code",
   "execution_count": 13,
   "metadata": {},
   "outputs": [],
   "source": [
    "# saving back the data\n",
    "data.to_csv('WEST_C5_database_resumed_parameters_cleaned.csv')"
   ]
  },
  {
   "cell_type": "markdown",
   "metadata": {},
   "source": [
    "# Electric Field vs Xpoint"
   ]
  },
  {
   "cell_type": "code",
   "execution_count": 14,
   "metadata": {},
   "outputs": [],
   "source": [
    "data['IC_Voltage_ratio_upper_lower_Q1_left'] = data['IC_Voltage_left_upper_Q1']/data['IC_Voltage_left_lower_Q1']\n",
    "data['IC_Voltage_ratio_upper_lower_Q1_right'] = data['IC_Voltage_right_upper_Q1']/data['IC_Voltage_right_lower_Q1']\n",
    "\n",
    "data['IC_Voltage_ratio_upper_lower_Q2_left'] = data['IC_Voltage_left_upper_Q2']/data['IC_Voltage_left_lower_Q2']\n",
    "data['IC_Voltage_ratio_upper_lower_Q2_right'] = data['IC_Voltage_right_upper_Q2']/data['IC_Voltage_right_lower_Q2']\n"
   ]
  },
  {
   "cell_type": "code",
   "execution_count": 15,
   "metadata": {},
   "outputs": [
    {
     "data": {
      "application/vnd.jupyter.widget-view+json": {
       "model_id": "58021fa1779f418ca0f0b386e5d085ee",
       "version_major": 2,
       "version_minor": 0
      },
      "text/plain": [
       "Canvas(toolbar=Toolbar(toolitems=[('Home', 'Reset original view', 'home', 'home'), ('Back', 'Back to previous …"
      ]
     },
     "metadata": {},
     "output_type": "display_data"
    },
    {
     "data": {
      "text/plain": [
       "<AxesSubplot:xlabel='pulse', ylabel='IC_Voltage_ratio_upper_lower_Q2_right'>"
      ]
     },
     "execution_count": 15,
     "metadata": {},
     "output_type": "execute_result"
    }
   ],
   "source": [
    "_data1_LSN = data.query(\"IC_P_Q1 > 0.1 & Xpoint == 'LSN' & pulse>@phase_control_OK\").groupby('pulse')\n",
    "_data1_USN = data.query(\"IC_P_Q1 > 0.1 & Xpoint == 'USN' & pulse>@phase_control_OK\").groupby('pulse')\n",
    "_data2_LSN = data.query(\"IC_P_Q2 > 0.1 & Xpoint == 'LSN' & pulse>@phase_control_OK\").groupby('pulse')\n",
    "_data2_USN = data.query(\"IC_P_Q2 > 0.1 & Xpoint == 'USN' & pulse>@phase_control_OK\").groupby('pulse')\n",
    "\n",
    "\n",
    "fig, ax = plt.subplots()\n",
    "_data1_LSN.mean().reset_index().plot(ax=ax, kind='scatter', \n",
    "                                     x='pulse', y='IC_Voltage_ratio_upper_lower_Q1_left', \n",
    "                                     yerr=_data1_LSN.std().reset_index(),\n",
    "                                     marker='o', label='Q1 LSN')\n",
    "_data1_USN.mean().reset_index().plot(ax=ax, kind='scatter', \n",
    "                                     x='pulse', y='IC_Voltage_ratio_upper_lower_Q1_right', \n",
    "                                     yerr=_data1_USN.std().reset_index(),\n",
    "                                     marker='o', color='C1')\n",
    "\n",
    "_data1_LSN.mean().reset_index().plot(ax=ax, kind='scatter', \n",
    "                                     x='pulse', y='IC_Voltage_ratio_upper_lower_Q1_left', \n",
    "                                     yerr=_data1_LSN.std().reset_index(),\n",
    "                                     marker='^', label='Q1 USN')\n",
    "_data1_USN.mean().reset_index().plot(ax=ax, kind='scatter', \n",
    "                                     x='pulse', y='IC_Voltage_ratio_upper_lower_Q1_right', \n",
    "                                     yerr=_data1_USN.std().reset_index(),\n",
    "                                     marker='^', color='C1')\n",
    "\n",
    "_data2_LSN.mean().reset_index().plot(ax=ax, kind='scatter', \n",
    "                                     x='pulse', y='IC_Voltage_ratio_upper_lower_Q2_left', \n",
    "                                     yerr=_data2_LSN.std().reset_index(),\n",
    "                                     marker='o', label='Q2 LSN')\n",
    "_data2_USN.mean().reset_index().plot(ax=ax, kind='scatter', \n",
    "                                     x='pulse', y='IC_Voltage_ratio_upper_lower_Q2_right', \n",
    "                                     yerr=_data2_USN.std().reset_index(),\n",
    "                                     marker='o', color='C1')\n",
    "\n",
    "_data2_LSN.mean().reset_index().plot(ax=ax, kind='scatter', \n",
    "                                     x='pulse', y='IC_Voltage_ratio_upper_lower_Q2_left', \n",
    "                                     yerr=_data2_LSN.std().reset_index(),\n",
    "                                     marker='^', label='Q2 USN')\n",
    "_data2_USN.mean().reset_index().plot(ax=ax, kind='scatter', \n",
    "                                     x='pulse', y='IC_Voltage_ratio_upper_lower_Q2_right', \n",
    "                                     yerr=_data2_USN.std().reset_index(),\n",
    "                                     marker='^', color='C1')\n",
    "\n"
   ]
  },
  {
   "cell_type": "code",
   "execution_count": 36,
   "metadata": {},
   "outputs": [],
   "source": [
    "pulses = data.query(\"IC_P_Q2 > 0.1 & IC_P_Q1 < 0.1 & IC_P_Q4 <0.1 & LH_P_tot < 0.1 & pulse > @phase_control_OK\")['pulse'].unique()"
   ]
  },
  {
   "cell_type": "code",
   "execution_count": 37,
   "metadata": {},
   "outputs": [
    {
     "name": "stdout",
     "output_type": "stream",
     "text": [
      "56889 [1.0160109]\n"
     ]
    }
   ],
   "source": [
    "for pulse in pulses:\n",
    "    print(pulse, data.query('pulse == @pulse').groupby('pulse').max()['IC_P_Q2'].values)\n",
    "    "
   ]
  },
  {
   "cell_type": "markdown",
   "metadata": {},
   "source": [
    "# ROG Evolution"
   ]
  },
  {
   "cell_type": "code",
   "execution_count": 16,
   "metadata": {},
   "outputs": [
    {
     "data": {
      "application/vnd.jupyter.widget-view+json": {
       "model_id": "e65667a0744849758efa7c841e72b06c",
       "version_major": 2,
       "version_minor": 0
      },
      "text/plain": [
       "Canvas(toolbar=Toolbar(toolitems=[('Home', 'Reset original view', 'home', 'home'), ('Back', 'Back to previous …"
      ]
     },
     "metadata": {},
     "output_type": "display_data"
    },
    {
     "data": {
      "text/plain": [
       "<matplotlib.legend.Legend at 0x198ce68ec08>"
      ]
     },
     "execution_count": 16,
     "metadata": {},
     "output_type": "execute_result"
    }
   ],
   "source": [
    "fig, ax = plt.subplots(figsize=(8,6))\n",
    "_data = data.query(\"P_RF>0.5 & MHD < 50 & Xpoint == 'LSN'\").groupby('pulse')\n",
    "_data.mean().reset_index().plot(ax=ax, kind='scatter',  yerr=_data.std().reset_index(),\n",
    "                                x='pulse', y='ROG', label='VACTH LSN', \n",
    "                                color='C0', alpha=0.5,  s=80)\n",
    "_data.mean().reset_index().plot(ax=ax, kind='scatter', yerr=_data.std().reset_index(),\n",
    "                                x='pulse', y='ROG_NICE', label='NICE LSN', \n",
    "                                color='C1', alpha=0.5, s=80)\n",
    "_data = data.query(\"P_RF>0.5 & MHD < 50 & Xpoint == 'USN'\").groupby('pulse')\n",
    "_data.mean().reset_index().plot(ax=ax, kind='scatter',  yerr=_data.std().reset_index(),\n",
    "                                x='pulse', y='ROG', label='VACTH USN', marker='^', edgecolor='k',\n",
    "                                color='C0', alpha=0.5,  s=80)\n",
    "_data.mean().reset_index().plot(ax=ax, kind='scatter', yerr=_data.std().reset_index(),\n",
    "                                x='pulse', y='ROG_NICE', label='NICE USN', marker='^', edgecolor='k',\n",
    "                                color='C1', alpha=0.5, s=80)\n",
    "\n",
    "ax.set_xlabel('WEST Pulse #')\n",
    "ax.set_ylabel('ROG [mm]')\n",
    "ax.set_ylim(0, 75)\n",
    "ax.set_title('Data: pulse averaged, times for RF>0.5 MW ; MHD < 50')\n",
    "ax.legend(ncol=2)"
   ]
  },
  {
   "cell_type": "markdown",
   "metadata": {},
   "source": [
    "# Phase feedback Evolution"
   ]
  },
  {
   "cell_type": "code",
   "execution_count": 35,
   "metadata": {},
   "outputs": [
    {
     "data": {
      "application/vnd.jupyter.widget-view+json": {
       "model_id": "f6a39032f09742b0a850c74e3204b0e5",
       "version_major": 2,
       "version_minor": 0
      },
      "text/plain": [
       "Canvas(toolbar=Toolbar(toolitems=[('Home', 'Reset original view', 'home', 'home'), ('Back', 'Back to previous …"
      ]
     },
     "metadata": {},
     "output_type": "display_data"
    }
   ],
   "source": [
    "fig, ax = plt.subplots()\n",
    "data.query('IC_P_Q1>0.05').plot(ax=ax, kind='scatter', \n",
    "                                x='pulse', y='IC_Phase_Q1', \n",
    "                                label='Q1', color='C0',  s=80, alpha=.5, edgecolor='k')\n",
    "data.query('IC_P_Q2>0.05').plot(ax=ax, kind='scatter', \n",
    "                                x='pulse', y='IC_Phase_Q2', \n",
    "                                label='Q2', color='C1',  s=80, alpha=.5, edgecolor='k')\n",
    "data.query('IC_P_Q4>0.05').plot(ax=ax, kind='scatter', \n",
    "                                x='pulse', y='IC_Phase_Q4', \n",
    "                                label='Q4', color='C2',  s=80, alpha=.5, edgecolor='k')\n",
    "ax.annotate('#56469: Phase Control OK', xy=(56469, 190), xytext=(56500, 250), \n",
    "            arrowprops=dict(facecolor='black'), zorder=1)\n",
    "ax.axhline(180, ls='--', color='gray', zorder=0)\n",
    "ax.set_ylabel('Toroidal Phase [deg]')\n",
    "ax.set_xlabel('WEST Pulse #')\n",
    "fig.tight_layout()"
   ]
  },
  {
   "cell_type": "code",
   "execution_count": 36,
   "metadata": {},
   "outputs": [
    {
     "data": {
      "application/vnd.jupyter.widget-view+json": {
       "model_id": "d2921d07b30c4c36bd6591e9fa4d6513",
       "version_major": 2,
       "version_minor": 0
      },
      "text/plain": [
       "Canvas(toolbar=Toolbar(toolitems=[('Home', 'Reset original view', 'home', 'home'), ('Back', 'Back to previous …"
      ]
     },
     "metadata": {},
     "output_type": "display_data"
    },
    {
     "data": {
      "text/plain": [
       "Text(0.5, 0, 'WEST Pulse #')"
      ]
     },
     "execution_count": 36,
     "metadata": {},
     "output_type": "execute_result"
    }
   ],
   "source": [
    "fig, ax = plt.subplots()\n",
    "data_Q1=data.query('IC_P_Q1>0.05').groupby('pulse')\n",
    "data_Q2=data.query('IC_P_Q2>0.05').groupby('pulse')\n",
    "data_Q4=data.query('IC_P_Q4>0.05').groupby('pulse')\n",
    "\n",
    "data_Q1.mean().reset_index().plot(ax=ax, kind='scatter', x='pulse', y='IC_Phase_Q1', label='Q1', color='C0', yerr=data_Q1.std().reset_index(), s=80, alpha=.8)\n",
    "data_Q2.mean().reset_index().plot(ax=ax, kind='scatter', x='pulse', y='IC_Phase_Q2', label='Q2', color='C1', yerr=data_Q2.std().reset_index(), s=80, alpha=.8)\n",
    "data_Q4.mean().reset_index().plot(ax=ax, kind='scatter', x='pulse', y='IC_Phase_Q4', label='Q4', color='C2', yerr=data_Q4.std().reset_index(), s=80, alpha=.8)\n",
    "ax.annotate('#56469: Phase Control OK', xy=(56469, 190), xytext=(56500, 250), \n",
    "            arrowprops=dict(facecolor='black'), zorder=1)\n",
    "ax.axhline(180, ls='--', color='gray', zorder=0)\n",
    "ax.set_title('Pulse Averaged Data')\n",
    "ax.set_ylabel('Toroidal Phase [deg]')\n",
    "ax.set_xlabel('WEST Pulse #')"
   ]
  },
  {
   "cell_type": "markdown",
   "metadata": {},
   "source": [
    "# Coupling Resistance vs..."
   ]
  },
  {
   "cell_type": "code",
   "execution_count": 90,
   "metadata": {},
   "outputs": [
    {
     "data": {
      "application/vnd.jupyter.widget-view+json": {
       "model_id": "851c03de19964895927dc0ed330c1046",
       "version_major": 2,
       "version_minor": 0
      },
      "text/plain": [
       "Canvas(toolbar=Toolbar(toolitems=[('Home', 'Reset original view', 'home', 'home'), ('Back', 'Back to previous …"
      ]
     },
     "metadata": {},
     "output_type": "display_data"
    }
   ],
   "source": [
    "fig, ax = plt.subplots()\n",
    "_data = pd.concat([data.query(\"IC_P_Q1 > 0.1 & pulse>=@phase_control_OK  \"), \n",
    "                  data.query(\"IC_P_Q1 > 0.1 & pulse>=@phase_control_OK \"), \n",
    "                  data.query(\"IC_P_Q2 > 0.1 & pulse>=@phase_control_OK & pulse>=@Q2_position_OK \"),\n",
    "                  data.query(\"IC_P_Q2 > 0.1 & pulse>=@phase_control_OK & pulse>=@Q2_position_OK \"),\n",
    "                  data.query(\"IC_P_Q4 > 0.1 & pulse>=@phase_control_OK \"),\n",
    "                  data.query(\"IC_P_Q4 > 0.1 & pulse>=@phase_control_OK \")])"
   ]
  },
  {
   "cell_type": "code",
   "execution_count": 94,
   "metadata": {},
   "outputs": [
    {
     "data": {
      "text/html": [
       "<div>\n",
       "<style scoped>\n",
       "    .dataframe tbody tr th:only-of-type {\n",
       "        vertical-align: middle;\n",
       "    }\n",
       "\n",
       "    .dataframe tbody tr th {\n",
       "        vertical-align: top;\n",
       "    }\n",
       "\n",
       "    .dataframe thead th {\n",
       "        text-align: right;\n",
       "    }\n",
       "</style>\n",
       "<table border=\"1\" class=\"dataframe\">\n",
       "  <thead>\n",
       "    <tr style=\"text-align: right;\">\n",
       "      <th></th>\n",
       "      <th>Unnamed: 0</th>\n",
       "      <th>pulse</th>\n",
       "      <th>Ag18</th>\n",
       "      <th>Ag19</th>\n",
       "      <th>Cu</th>\n",
       "      <th>year</th>\n",
       "      <th>month</th>\n",
       "      <th>day</th>\n",
       "      <th>Fe</th>\n",
       "      <th>freq_Q1</th>\n",
       "      <th>...</th>\n",
       "      <th>R_obj</th>\n",
       "      <th>ROG_LH</th>\n",
       "      <th>ROG_Q1</th>\n",
       "      <th>ROG_Q2</th>\n",
       "      <th>ROG_Q4</th>\n",
       "      <th>ROG</th>\n",
       "      <th>ROG_Q1_NICE</th>\n",
       "      <th>ROG_Q2_NICE</th>\n",
       "      <th>ROG_Q4_NICE</th>\n",
       "      <th>ROG_NICE</th>\n",
       "    </tr>\n",
       "  </thead>\n",
       "  <tbody>\n",
       "    <tr>\n",
       "      <th>23</th>\n",
       "      <td>23</td>\n",
       "      <td>56289</td>\n",
       "      <td>1.000000</td>\n",
       "      <td>NaN</td>\n",
       "      <td>NaN</td>\n",
       "      <td>2020.0</td>\n",
       "      <td>12.0</td>\n",
       "      <td>10.0</td>\n",
       "      <td>4.504544</td>\n",
       "      <td>55.299999</td>\n",
       "      <td>...</td>\n",
       "      <td>3005.100012</td>\n",
       "      <td>44.017412</td>\n",
       "      <td>99.817373</td>\n",
       "      <td>44.017412</td>\n",
       "      <td>44.317342</td>\n",
       "      <td>44.017412</td>\n",
       "      <td>123.372836</td>\n",
       "      <td>67.572875</td>\n",
       "      <td>67.872806</td>\n",
       "      <td>67.572875</td>\n",
       "    </tr>\n",
       "    <tr>\n",
       "      <th>24</th>\n",
       "      <td>24</td>\n",
       "      <td>56289</td>\n",
       "      <td>1.000000</td>\n",
       "      <td>NaN</td>\n",
       "      <td>NaN</td>\n",
       "      <td>2020.0</td>\n",
       "      <td>12.0</td>\n",
       "      <td>10.0</td>\n",
       "      <td>NaN</td>\n",
       "      <td>55.299999</td>\n",
       "      <td>...</td>\n",
       "      <td>3005.100012</td>\n",
       "      <td>37.111900</td>\n",
       "      <td>92.911862</td>\n",
       "      <td>37.111900</td>\n",
       "      <td>37.411831</td>\n",
       "      <td>37.111900</td>\n",
       "      <td>115.489658</td>\n",
       "      <td>59.689697</td>\n",
       "      <td>59.989628</td>\n",
       "      <td>59.689697</td>\n",
       "    </tr>\n",
       "    <tr>\n",
       "      <th>25</th>\n",
       "      <td>25</td>\n",
       "      <td>56289</td>\n",
       "      <td>1.000000</td>\n",
       "      <td>NaN</td>\n",
       "      <td>NaN</td>\n",
       "      <td>2020.0</td>\n",
       "      <td>12.0</td>\n",
       "      <td>10.0</td>\n",
       "      <td>NaN</td>\n",
       "      <td>55.299999</td>\n",
       "      <td>...</td>\n",
       "      <td>3005.100012</td>\n",
       "      <td>32.191799</td>\n",
       "      <td>87.991760</td>\n",
       "      <td>32.191799</td>\n",
       "      <td>32.491729</td>\n",
       "      <td>32.191799</td>\n",
       "      <td>110.197627</td>\n",
       "      <td>54.397665</td>\n",
       "      <td>54.697596</td>\n",
       "      <td>54.397665</td>\n",
       "    </tr>\n",
       "    <tr>\n",
       "      <th>26</th>\n",
       "      <td>26</td>\n",
       "      <td>56289</td>\n",
       "      <td>0.975776</td>\n",
       "      <td>NaN</td>\n",
       "      <td>3.426218</td>\n",
       "      <td>2020.0</td>\n",
       "      <td>12.0</td>\n",
       "      <td>10.0</td>\n",
       "      <td>3.609415</td>\n",
       "      <td>55.299999</td>\n",
       "      <td>...</td>\n",
       "      <td>3005.100012</td>\n",
       "      <td>27.527949</td>\n",
       "      <td>83.327911</td>\n",
       "      <td>27.527949</td>\n",
       "      <td>27.827880</td>\n",
       "      <td>27.527949</td>\n",
       "      <td>106.815263</td>\n",
       "      <td>51.015302</td>\n",
       "      <td>51.315233</td>\n",
       "      <td>51.015302</td>\n",
       "    </tr>\n",
       "    <tr>\n",
       "      <th>27</th>\n",
       "      <td>27</td>\n",
       "      <td>56289</td>\n",
       "      <td>1.222131</td>\n",
       "      <td>NaN</td>\n",
       "      <td>NaN</td>\n",
       "      <td>2020.0</td>\n",
       "      <td>12.0</td>\n",
       "      <td>10.0</td>\n",
       "      <td>4.645799</td>\n",
       "      <td>55.299999</td>\n",
       "      <td>...</td>\n",
       "      <td>3005.100012</td>\n",
       "      <td>23.208017</td>\n",
       "      <td>79.007978</td>\n",
       "      <td>23.208017</td>\n",
       "      <td>23.507948</td>\n",
       "      <td>23.208017</td>\n",
       "      <td>105.005243</td>\n",
       "      <td>49.205282</td>\n",
       "      <td>49.505213</td>\n",
       "      <td>49.205282</td>\n",
       "    </tr>\n",
       "    <tr>\n",
       "      <th>...</th>\n",
       "      <td>...</td>\n",
       "      <td>...</td>\n",
       "      <td>...</td>\n",
       "      <td>...</td>\n",
       "      <td>...</td>\n",
       "      <td>...</td>\n",
       "      <td>...</td>\n",
       "      <td>...</td>\n",
       "      <td>...</td>\n",
       "      <td>...</td>\n",
       "      <td>...</td>\n",
       "      <td>...</td>\n",
       "      <td>...</td>\n",
       "      <td>...</td>\n",
       "      <td>...</td>\n",
       "      <td>...</td>\n",
       "      <td>...</td>\n",
       "      <td>...</td>\n",
       "      <td>...</td>\n",
       "      <td>...</td>\n",
       "      <td>...</td>\n",
       "    </tr>\n",
       "    <tr>\n",
       "      <th>102968</th>\n",
       "      <td>132</td>\n",
       "      <td>56927</td>\n",
       "      <td>2.716803</td>\n",
       "      <td>NaN</td>\n",
       "      <td>1073.711965</td>\n",
       "      <td>2021.0</td>\n",
       "      <td>1.0</td>\n",
       "      <td>27.0</td>\n",
       "      <td>50.452370</td>\n",
       "      <td>55.650002</td>\n",
       "      <td>...</td>\n",
       "      <td>3004.799843</td>\n",
       "      <td>6.985688</td>\n",
       "      <td>7.185721</td>\n",
       "      <td>7.185721</td>\n",
       "      <td>6.985688</td>\n",
       "      <td>6.985688</td>\n",
       "      <td>39.704249</td>\n",
       "      <td>39.704249</td>\n",
       "      <td>39.504216</td>\n",
       "      <td>39.504216</td>\n",
       "    </tr>\n",
       "    <tr>\n",
       "      <th>102969</th>\n",
       "      <td>133</td>\n",
       "      <td>56927</td>\n",
       "      <td>3.255704</td>\n",
       "      <td>NaN</td>\n",
       "      <td>938.807028</td>\n",
       "      <td>2021.0</td>\n",
       "      <td>1.0</td>\n",
       "      <td>27.0</td>\n",
       "      <td>57.705132</td>\n",
       "      <td>55.650002</td>\n",
       "      <td>...</td>\n",
       "      <td>3004.799843</td>\n",
       "      <td>5.297486</td>\n",
       "      <td>5.497520</td>\n",
       "      <td>5.497520</td>\n",
       "      <td>5.297486</td>\n",
       "      <td>5.297486</td>\n",
       "      <td>50.768409</td>\n",
       "      <td>50.768409</td>\n",
       "      <td>50.568376</td>\n",
       "      <td>50.568376</td>\n",
       "    </tr>\n",
       "    <tr>\n",
       "      <th>102970</th>\n",
       "      <td>134</td>\n",
       "      <td>56927</td>\n",
       "      <td>4.305329</td>\n",
       "      <td>NaN</td>\n",
       "      <td>1125.728768</td>\n",
       "      <td>2021.0</td>\n",
       "      <td>1.0</td>\n",
       "      <td>27.0</td>\n",
       "      <td>52.723995</td>\n",
       "      <td>55.650002</td>\n",
       "      <td>...</td>\n",
       "      <td>3004.799843</td>\n",
       "      <td>8.733679</td>\n",
       "      <td>8.933712</td>\n",
       "      <td>8.933712</td>\n",
       "      <td>8.733679</td>\n",
       "      <td>8.733679</td>\n",
       "      <td>65.923439</td>\n",
       "      <td>65.923439</td>\n",
       "      <td>65.723406</td>\n",
       "      <td>65.723406</td>\n",
       "    </tr>\n",
       "    <tr>\n",
       "      <th>102971</th>\n",
       "      <td>135</td>\n",
       "      <td>56927</td>\n",
       "      <td>NaN</td>\n",
       "      <td>NaN</td>\n",
       "      <td>1305.258287</td>\n",
       "      <td>2021.0</td>\n",
       "      <td>1.0</td>\n",
       "      <td>27.0</td>\n",
       "      <td>43.369206</td>\n",
       "      <td>55.650002</td>\n",
       "      <td>...</td>\n",
       "      <td>3004.799843</td>\n",
       "      <td>9.028526</td>\n",
       "      <td>9.228559</td>\n",
       "      <td>9.228559</td>\n",
       "      <td>9.028526</td>\n",
       "      <td>9.028526</td>\n",
       "      <td>85.691068</td>\n",
       "      <td>85.691068</td>\n",
       "      <td>85.491035</td>\n",
       "      <td>85.491035</td>\n",
       "    </tr>\n",
       "    <tr>\n",
       "      <th>102972</th>\n",
       "      <td>136</td>\n",
       "      <td>56927</td>\n",
       "      <td>1.347270</td>\n",
       "      <td>NaN</td>\n",
       "      <td>1641.330827</td>\n",
       "      <td>2021.0</td>\n",
       "      <td>1.0</td>\n",
       "      <td>27.0</td>\n",
       "      <td>NaN</td>\n",
       "      <td>55.650002</td>\n",
       "      <td>...</td>\n",
       "      <td>3004.799843</td>\n",
       "      <td>25.590413</td>\n",
       "      <td>25.790446</td>\n",
       "      <td>25.790446</td>\n",
       "      <td>25.590413</td>\n",
       "      <td>25.590413</td>\n",
       "      <td>110.593023</td>\n",
       "      <td>110.593023</td>\n",
       "      <td>110.392990</td>\n",
       "      <td>110.392990</td>\n",
       "    </tr>\n",
       "  </tbody>\n",
       "</table>\n",
       "<p>67142 rows × 100 columns</p>\n",
       "</div>"
      ],
      "text/plain": [
       "        Unnamed: 0  pulse      Ag18  Ag19           Cu    year  month   day  \\\n",
       "23              23  56289  1.000000   NaN          NaN  2020.0   12.0  10.0   \n",
       "24              24  56289  1.000000   NaN          NaN  2020.0   12.0  10.0   \n",
       "25              25  56289  1.000000   NaN          NaN  2020.0   12.0  10.0   \n",
       "26              26  56289  0.975776   NaN     3.426218  2020.0   12.0  10.0   \n",
       "27              27  56289  1.222131   NaN          NaN  2020.0   12.0  10.0   \n",
       "...            ...    ...       ...   ...          ...     ...    ...   ...   \n",
       "102968         132  56927  2.716803   NaN  1073.711965  2021.0    1.0  27.0   \n",
       "102969         133  56927  3.255704   NaN   938.807028  2021.0    1.0  27.0   \n",
       "102970         134  56927  4.305329   NaN  1125.728768  2021.0    1.0  27.0   \n",
       "102971         135  56927       NaN   NaN  1305.258287  2021.0    1.0  27.0   \n",
       "102972         136  56927  1.347270   NaN  1641.330827  2021.0    1.0  27.0   \n",
       "\n",
       "               Fe    freq_Q1  ...        R_obj     ROG_LH     ROG_Q1  \\\n",
       "23       4.504544  55.299999  ...  3005.100012  44.017412  99.817373   \n",
       "24            NaN  55.299999  ...  3005.100012  37.111900  92.911862   \n",
       "25            NaN  55.299999  ...  3005.100012  32.191799  87.991760   \n",
       "26       3.609415  55.299999  ...  3005.100012  27.527949  83.327911   \n",
       "27       4.645799  55.299999  ...  3005.100012  23.208017  79.007978   \n",
       "...           ...        ...  ...          ...        ...        ...   \n",
       "102968  50.452370  55.650002  ...  3004.799843   6.985688   7.185721   \n",
       "102969  57.705132  55.650002  ...  3004.799843   5.297486   5.497520   \n",
       "102970  52.723995  55.650002  ...  3004.799843   8.733679   8.933712   \n",
       "102971  43.369206  55.650002  ...  3004.799843   9.028526   9.228559   \n",
       "102972        NaN  55.650002  ...  3004.799843  25.590413  25.790446   \n",
       "\n",
       "           ROG_Q2     ROG_Q4        ROG  ROG_Q1_NICE  ROG_Q2_NICE  \\\n",
       "23      44.017412  44.317342  44.017412   123.372836    67.572875   \n",
       "24      37.111900  37.411831  37.111900   115.489658    59.689697   \n",
       "25      32.191799  32.491729  32.191799   110.197627    54.397665   \n",
       "26      27.527949  27.827880  27.527949   106.815263    51.015302   \n",
       "27      23.208017  23.507948  23.208017   105.005243    49.205282   \n",
       "...           ...        ...        ...          ...          ...   \n",
       "102968   7.185721   6.985688   6.985688    39.704249    39.704249   \n",
       "102969   5.497520   5.297486   5.297486    50.768409    50.768409   \n",
       "102970   8.933712   8.733679   8.733679    65.923439    65.923439   \n",
       "102971   9.228559   9.028526   9.028526    85.691068    85.691068   \n",
       "102972  25.790446  25.590413  25.590413   110.593023   110.593023   \n",
       "\n",
       "        ROG_Q4_NICE    ROG_NICE  \n",
       "23        67.872806   67.572875  \n",
       "24        59.989628   59.689697  \n",
       "25        54.697596   54.397665  \n",
       "26        51.315233   51.015302  \n",
       "27        49.505213   49.205282  \n",
       "...             ...         ...  \n",
       "102968    39.504216   39.504216  \n",
       "102969    50.568376   50.568376  \n",
       "102970    65.723406   65.723406  \n",
       "102971    85.491035   85.491035  \n",
       "102972   110.392990  110.392990  \n",
       "\n",
       "[67142 rows x 100 columns]"
      ]
     },
     "execution_count": 94,
     "metadata": {},
     "output_type": "execute_result"
    }
   ],
   "source": [
    "_data"
   ]
  },
  {
   "cell_type": "code",
   "execution_count": 69,
   "metadata": {},
   "outputs": [
    {
     "data": {
      "application/vnd.jupyter.widget-view+json": {
       "model_id": "ce4912ba340a470694e652fa1fc4bb30",
       "version_major": 2,
       "version_minor": 0
      },
      "text/plain": [
       "Canvas(toolbar=Toolbar(toolitems=[('Home', 'Reset original view', 'home', 'home'), ('Back', 'Back to previous …"
      ]
     },
     "metadata": {},
     "output_type": "display_data"
    },
    {
     "data": {
      "text/plain": [
       "Text(0.5, 1.0, 'Data: P_IC>0.1 NICE')"
      ]
     },
     "execution_count": 69,
     "metadata": {},
     "output_type": "execute_result"
    }
   ],
   "source": [
    "fig, ax = plt.subplots()\n",
    "data.query(\"IC_P_Q1 > 0.1 & pulse>=@phase_control_OK \").plot(ax=ax, kind='scatter', x='ROG_NICE', y='IC_Rc_Q1_left', color='C0', label='Q1', alpha=0.4)\n",
    "data.query(\"IC_P_Q1 > 0.1 & pulse>=@phase_control_OK \").plot(ax=ax, kind='scatter', x='ROG_NICE', y='IC_Rc_Q1_right', color='C0', alpha=0.4)\n",
    "\n",
    "data.query(\"IC_P_Q2 > 0.1 & pulse>=@phase_control_OK & pulse>=@Q2_position_OK \").plot(ax=ax, kind='scatter', x='ROG_NICE', y='IC_Rc_Q2_left', color='C1', label='Q2', alpha=0.4)\n",
    "data.query(\"IC_P_Q2 > 0.1 & pulse>=@phase_control_OK & pulse>=@Q2_position_OK \").plot(ax=ax, kind='scatter', x='ROG_NICE', y='IC_Rc_Q2_right', color='C1', alpha=0.4)\n",
    "\n",
    "data.query(\"IC_P_Q4 > 0.1 & pulse>=@phase_control_OK \").plot(ax=ax, kind='scatter', x='ROG_NICE', y='IC_Rc_Q4_left', color='C2', label='Q4', alpha=0.4)\n",
    "data.query(\"IC_P_Q4 > 0.1 & pulse>=@phase_control_OK \").plot(ax=ax, kind='scatter', x='ROG_NICE', y='IC_Rc_Q4_right', color='C2', alpha=0.4)\n",
    "\n",
    "ax.set_xlim(left=0, right=80)\n",
    "ax.set_ylabel('Coupling Resistance Rc [Ohm]')\n",
    "ax.set_title('Data: P_IC>0.1 NICE')\n",
    "#ax.scatter(x, y, color='k')"
   ]
  },
  {
   "cell_type": "code",
   "execution_count": 97,
   "metadata": {},
   "outputs": [
    {
     "data": {
      "application/vnd.jupyter.widget-view+json": {
       "model_id": "a8000174133246f882cff1e92cc5474c",
       "version_major": 2,
       "version_minor": 0
      },
      "text/plain": [
       "Canvas(toolbar=Toolbar(toolitems=[('Home', 'Reset original view', 'home', 'home'), ('Back', 'Back to previous …"
      ]
     },
     "metadata": {},
     "output_type": "display_data"
    },
    {
     "data": {
      "text/plain": [
       "Text(0.5, 1.0, 'Data: P_IC>0.1 VACTH')"
      ]
     },
     "execution_count": 97,
     "metadata": {},
     "output_type": "execute_result"
    }
   ],
   "source": [
    "\n",
    "fig, ax = plt.subplots()\n",
    "data.query(\"IC_P_Q1 > 0.1 & pulse>=@phase_control_OK  \").plot(ax=ax, kind='scatter', x='ROG', y='IC_Rc_Q1_left', color='C0', label='Q1', alpha=0.4)\n",
    "data.query(\"IC_P_Q1 > 0.1 & pulse>=@phase_control_OK \").plot(ax=ax, kind='scatter', x='ROG', y='IC_Rc_Q1_right', color='C0', alpha=0.4)\n",
    "\n",
    "data.query(\"IC_P_Q2 > 0.1 & pulse>=@phase_control_OK & pulse>=@Q2_position_OK \").plot(ax=ax, kind='scatter', x='ROG', y='IC_Rc_Q2_left', color='C1', label='Q2', alpha=0.4)\n",
    "data.query(\"IC_P_Q2 > 0.1 & pulse>=@phase_control_OK & pulse>=@Q2_position_OK \").plot(ax=ax, kind='scatter', x='ROG', y='IC_Rc_Q2_right', color='C1', alpha=0.4)\n",
    "\n",
    "data.query(\"IC_P_Q4 > 0.1 & pulse>=@phase_control_OK \").plot(ax=ax, kind='scatter', x='ROG', y='IC_Rc_Q4_left', color='C2', label='Q4', alpha=0.4)\n",
    "data.query(\"IC_P_Q4 > 0.1 & pulse>=@phase_control_OK \").plot(ax=ax, kind='scatter', x='ROG', y='IC_Rc_Q4_right', color='C2', alpha=0.4)\n",
    "\n",
    "ax.set_xlim(left=0, right=30)\n",
    "ax.set_ylabel('Coupling Resistance Rc [Ohm]')\n",
    "ax.set_title('Data: P_IC>0.1 VACTH')"
   ]
  },
  {
   "cell_type": "code",
   "execution_count": null,
   "metadata": {},
   "outputs": [],
   "source": []
  },
  {
   "cell_type": "markdown",
   "metadata": {},
   "source": [
    "# Radiated Power Evolution"
   ]
  },
  {
   "cell_type": "code",
   "execution_count": 329,
   "metadata": {},
   "outputs": [
    {
     "data": {
      "application/vnd.jupyter.widget-view+json": {
       "model_id": "625585ea15e243f3ad55d1af85499806",
       "version_major": 2,
       "version_minor": 0
      },
      "text/plain": [
       "Canvas(toolbar=Toolbar(toolitems=[('Home', 'Reset original view', 'home', 'home'), ('Back', 'Back to previous …"
      ]
     },
     "metadata": {},
     "output_type": "display_data"
    },
    {
     "name": "stderr",
     "output_type": "stream",
     "text": [
      "C:\\Users\\JH218595\\AppData\\Local\\Continuum\\anaconda3\\lib\\site-packages\\numpy\\core\\_asarray.py:83: UserWarning: Warning: converting a masked element to nan.\n",
      "  return array(a, dtype, copy=False, order=order)\n"
     ]
    }
   ],
   "source": [
    "fig, ax = plt.subplots()\n",
    "datagrp_LSN = data.query(\"Prad_imas>0 & P_RF > 0.5 & pulse > @post_boro[1] & Xpoint == 'LSN'\").groupby('pulse')\n",
    "datagrp_USN = data.query(\"Prad_imas>0 & P_RF > 0.5 & pulse > @post_boro[1] & Xpoint == 'USN'\").groupby('pulse')\n",
    "\n",
    "cbar=datagrp_LSN.mean().reset_index().plot(ax=ax, kind='scatter', x='Ptot', y='Prad_imas', alpha=0.6, edgecolor='k',\n",
    "                               c='ratio_Pic_Plh', cmap='plasma', yerr=datagrp_LSN.std(), s=60, vmin=0, vmax=1)\n",
    "datagrp_USN.mean().reset_index().plot(ax=ax, kind='scatter', x='Ptot', y='Prad_imas', alpha=0.6, edgecolor='k',\n",
    "                               c='ratio_Pic_Plh', cmap='plasma', yerr=datagrp_USN.std(), s=60, marker='^', colorbar=False, vmin=0, vmax=1)\n",
    "ax.legend(('LSN', 'USN'))\n",
    "ax.plot([0,7], [0, 0.5*7], ls='--', color='k', zorder=-10)\n",
    "ax.plot([0,7], [0, 0.4*7], ls='--', color='grey', zorder=-10)\n",
    "ax.plot([0,7], [0, 0.6*7], ls='--', color='grey', zorder=-10)\n",
    "ax.set_xlim(left=0, right=6)\n",
    "ax.set_ylim(bottom=0, top=4)\n",
    "ax.set_title('P_RF > 0.5')\n",
    "ax.text(5.5, 2.3, '40%', rotation=30)\n",
    "ax.text(5.5, 2.9, '50%', rotation=35)\n",
    "ax.text(5.5, 3.4, '60%', rotation=40)\n",
    "\n",
    "ax.set_ylabel('Radiated Power [MW]')\n",
    "ax.set_xlabel('Total Power (Ohmic+RF) [MW]')\n",
    "ax.set_title('WEST - January 2021 (pulse average for RF>0.5MW)')\n",
    "cbar.set_label('$P_{ic}/P_{lh}$')"
   ]
  },
  {
   "cell_type": "code",
   "execution_count": 344,
   "metadata": {},
   "outputs": [
    {
     "data": {
      "application/vnd.jupyter.widget-view+json": {
       "model_id": "85b6e2d52321434f9917a7739897cb66",
       "version_major": 2,
       "version_minor": 0
      },
      "text/plain": [
       "Canvas(toolbar=Toolbar(toolitems=[('Home', 'Reset original view', 'home', 'home'), ('Back', 'Back to previous …"
      ]
     },
     "metadata": {},
     "output_type": "display_data"
    },
    {
     "data": {
      "text/plain": [
       "(0.0, 1.0)"
      ]
     },
     "execution_count": 344,
     "metadata": {},
     "output_type": "execute_result"
    }
   ],
   "source": [
    "data['frad_tot']= data['Prad_imas']/data['Ptot']\n",
    "\n",
    "#_data_C4_LSN = data_C4.query(\"Prad_imas>0 & P_RF > 0.5 & pulse > @post_boro[1] & Xpoint == 'LSN'\")\n",
    "#_data_C4_USN = data_C4.query(\"Prad_imas>0 & P_RF > 0.5 & pulse > @post_boro[1] & Xpoint == 'USN'\")\n",
    "_data_C5_LSN = data.query(\"Prad_imas>0 & P_RF > 0.5 & pulse > @post_boro[1] & Xpoint == 'LSN'\").groupby('pulse')\n",
    "_data_C5_USN = data.query(\"Prad_imas>0 & P_RF > 0.5 & pulse > @post_boro[1] & Xpoint == 'USN'\").groupby('pulse')\n",
    "\n",
    "\n",
    "fig, ax = plt.subplots()\n",
    "_data_C5_LSN.mean().plot(ax=ax, kind='scatter', x='ratio_Pic_Plh', y='frad_tot', s=60, xerr=_data_C5_LSN.std(), yerr=_data_C5_LSN.std())\n",
    "_data_C5_USN.mean().plot(ax=ax, kind='scatter', x='ratio_Pic_Plh', y='frad_tot', marker='^', s=60, xerr=_data_C5_USN.std(), yerr=_data_C5_USN.std())\n",
    "\n",
    "ax.set_xlim(left=0, right=1)"
   ]
  },
  {
   "cell_type": "code",
   "execution_count": 333,
   "metadata": {},
   "outputs": [
    {
     "data": {
      "application/vnd.jupyter.widget-view+json": {
       "model_id": "2a6bd6cc15c9427981c0295221b1718c",
       "version_major": 2,
       "version_minor": 0
      },
      "text/plain": [
       "Canvas(toolbar=Toolbar(toolitems=[('Home', 'Reset original view', 'home', 'home'), ('Back', 'Back to previous …"
      ]
     },
     "metadata": {},
     "output_type": "display_data"
    },
    {
     "data": {
      "text/plain": [
       "(0.0, 1.0)"
      ]
     },
     "execution_count": 333,
     "metadata": {},
     "output_type": "execute_result"
    }
   ],
   "source": []
  },
  {
   "cell_type": "markdown",
   "metadata": {},
   "source": [
    "# Coupling Resistance Evolution"
   ]
  },
  {
   "cell_type": "code",
   "execution_count": 40,
   "metadata": {},
   "outputs": [
    {
     "data": {
      "application/vnd.jupyter.widget-view+json": {
       "model_id": "68f99bd5ea844016a81cece627082043",
       "version_major": 2,
       "version_minor": 0
      },
      "text/plain": [
       "Canvas(toolbar=Toolbar(toolitems=[('Home', 'Reset original view', 'home', 'home'), ('Back', 'Back to previous …"
      ]
     },
     "metadata": {},
     "output_type": "display_data"
    },
    {
     "data": {
      "text/plain": [
       "Text(0, 0.5, 'Rc left / Rc right')"
      ]
     },
     "execution_count": 40,
     "metadata": {},
     "output_type": "execute_result"
    }
   ],
   "source": [
    "# means and errors values for each pulse\n",
    "data_means = data.query('IC_P_tot > 0.2').groupby('pulse').mean().reset_index()\n",
    "data_errors = data.query('IC_P_tot > 0.2').groupby('pulse').std().reset_index()\n",
    "\n",
    "fig, ax = plt.subplots()\n",
    "\n",
    "data_means.plot(kind='scatter', ax=ax, x='pulse_relative', y='IC_Q1_Rc_left_over_right', label='Q1', yerr=data_errors, color='C0')\n",
    "data_means.plot(kind='scatter', ax=ax, x='pulse_relative', y='IC_Q2_Rc_left_over_right', label='Q2', yerr=data_errors, color='C1')\n",
    "data_means.plot(kind='scatter', ax=ax, x='pulse_relative', y='IC_Q4_Rc_left_over_right', label='Q4', yerr=data_errors, color='C2')\n",
    "\n",
    "ax.set_ylim(bottom=0, top=2.5)\n",
    "ax.set_ylabel('Rc left / Rc right')\n"
   ]
  },
  {
   "cell_type": "code",
   "execution_count": 41,
   "metadata": {},
   "outputs": [
    {
     "data": {
      "application/vnd.jupyter.widget-view+json": {
       "model_id": "3360d7207bed4b06b1af63c750527610",
       "version_major": 2,
       "version_minor": 0
      },
      "text/plain": [
       "Canvas(toolbar=Toolbar(toolitems=[('Home', 'Reset original view', 'home', 'home'), ('Back', 'Back to previous …"
      ]
     },
     "metadata": {},
     "output_type": "display_data"
    },
    {
     "data": {
      "text/plain": [
       "Text(0, 0.5, 'Rc left / Rc right')"
      ]
     },
     "execution_count": 41,
     "metadata": {},
     "output_type": "execute_result"
    }
   ],
   "source": [
    "fig, ax = plt.subplots()\n",
    "\n",
    "data.plot(kind='scatter', ax=ax, x='pulse', y='IC_Q1_Rc_left_over_right', label='Q1', color='C0', alpha=0.5)\n",
    "data.plot(kind='scatter', ax=ax, x='pulse', y='IC_Q2_Rc_left_over_right', label='Q2', color='C1', alpha=0.5)\n",
    "data.plot(kind='scatter', ax=ax, x='pulse', y='IC_Q4_Rc_left_over_right', label='Q4', color='C2', alpha=0.5)\n",
    "\n",
    "ax.set_ylim(bottom=0, top=2.5)\n",
    "ax.set_ylabel('Rc left / Rc right')"
   ]
  },
  {
   "cell_type": "code",
   "execution_count": 42,
   "metadata": {},
   "outputs": [
    {
     "data": {
      "application/vnd.jupyter.widget-view+json": {
       "model_id": "344c74f2e6c24593b775c78cc45564e1",
       "version_major": 2,
       "version_minor": 0
      },
      "text/plain": [
       "Canvas(toolbar=Toolbar(toolitems=[('Home', 'Reset original view', 'home', 'home'), ('Back', 'Back to previous …"
      ]
     },
     "metadata": {},
     "output_type": "display_data"
    },
    {
     "data": {
      "text/plain": [
       "[<matplotlib.lines.Line2D at 0x2151a798748>,\n",
       " <matplotlib.lines.Line2D at 0x2151a7ed0c8>,\n",
       " <matplotlib.lines.Line2D at 0x2151a7cc148>]"
      ]
     },
     "execution_count": 42,
     "metadata": {},
     "output_type": "execute_result"
    }
   ],
   "source": [
    "fig, ax = plt.subplots(3,1,sharex=True)\n",
    "sns.violinplot(ax=ax[0], x='IC_Q1_Rc_left_over_right', data=data.query('IC_P_Q1 > 0.2 & pulse >= @phase_control_OK'), color='C0', inner=None, label='Q1')\n",
    "sns.violinplot(ax=ax[1], x='IC_Q2_Rc_left_over_right', data=data.query('IC_P_Q2 > 0.2 & pulse >= @phase_control_OK & pulse < @Q2_position_OK'), color='C1', inner=None, label='Q2')\n",
    "sns.violinplot(ax=ax[1], x='IC_Q2_Rc_left_over_right', data=data.query('IC_P_Q2 > 0.2 & pulse >= @phase_control_OK & pulse >= @Q2_position_OK'), color='orange', inner=None, label='Q2 Position Corrected', alpha=0.1)\n",
    "sns.violinplot(ax=ax[2], x='IC_Q4_Rc_left_over_right', data=data.query('IC_P_Q4 > 0.2'), color='C2', inner=None, label='Q4')\n",
    "ax[0].set_xlim(0, 2) \n",
    "fig.subplots_adjust(hspace=0)\n",
    "ax[0].set_xlabel(''); ax[1].set_ylabel('')\n",
    "ax[-1].set_xlabel('Rc left / Rc right')\n",
    "[a.legend([f'Q{ant}']) for a,ant in zip(ax, ['1', '2', '4'])]\n",
    "[a.axvline(1, ls='--', color='gray') for a in ax]"
   ]
  },
  {
   "cell_type": "markdown",
   "metadata": {},
   "source": [
    "# Impurity Content Evolution"
   ]
  },
  {
   "cell_type": "code",
   "execution_count": 271,
   "metadata": {},
   "outputs": [
    {
     "data": {
      "application/vnd.jupyter.widget-view+json": {
       "model_id": "d2f2189f5e7e40e68eeb65f15ee40aac",
       "version_major": 2,
       "version_minor": 0
      },
      "text/plain": [
       "Canvas(toolbar=Toolbar(toolitems=[('Home', 'Reset original view', 'home', 'home'), ('Back', 'Back to previous …"
      ]
     },
     "metadata": {},
     "output_type": "display_data"
    }
   ],
   "source": [
    "# means and errors values for each pulse\n",
    "data_means = data.query('P_RF>0.2').groupby('pulse').mean().reset_index()\n",
    "data_errors = data.query('P_RF>0.2').groupby('pulse').std().reset_index()\n",
    "\n",
    "fig, ax = plt.subplots(3, 1, sharex=True)\n",
    "\n",
    "data_means.plot(ax=ax[0], kind='scatter', \n",
    "                x='pulse_relative', y='Cu_norm', yerr=data_errors,\n",
    "               color='darkorange', label='Cu/nl', s=60, edgecolor='k', alpha=0.7)\n",
    "\n",
    "data_means.plot(ax=ax[1], kind='scatter', \n",
    "                x='pulse_relative', y='Fe_norm', yerr=data_errors,\n",
    "               color='lightgray', label='Fe/nl', s=60, edgecolor='k', alpha=0.7)\n",
    "data_means.plot(ax=ax[2], kind='scatter', \n",
    "                x='pulse_relative', y='Ag19_norm', yerr=data_errors,\n",
    "               color='lightblue', label='Ag19/nl', s=60, edgecolor='k', alpha=0.7)\n",
    "\n",
    "\n",
    "ax[0].set_title('$P_{RF}$ > 0.2 MW')\n",
    "[a.set_ylim(bottom=0) for a in ax]\n",
    "\n",
    "[[a.axvline(shot-first_C5_pulse, ls='--', color='gray') for shot in post_boro] for a in ax]\n",
    "[a.axvline(january_restart-first_C5_pulse, ls='-.', color='gray') for a in ax]\n",
    "ax[0].annotate('Christmas Break', xy=(56544-first_C5_pulse, 300), xytext=(200, 350), \n",
    "            arrowprops=dict(facecolor='black'))\n",
    "\n",
    "ax[0].annotate('Boro', xy=(56597-first_C5_pulse, 300), xytext=(400, 350), \n",
    "            arrowprops=dict(facecolor='black'))\n",
    "ax[0].set_ylim(0,300)\n",
    "ax[1].set_ylim(0,30)\n",
    "ax[2].set_ylim(0,70)\n",
    "\n",
    "[a.set_ylabel('a.u.') for a in ax]\n",
    "# liste des chocs avec puissance FCI\n",
    "IC_pulses = data.query('IC_P_tot > 0.2')['pulse'].unique()\n",
    "for IC_pulse in IC_pulses:\n",
    "    [a.axvline(IC_pulse-first_C5_pulse, ls='-', color='gray', alpha=0.2) for a in ax]"
   ]
  },
  {
   "cell_type": "markdown",
   "metadata": {},
   "source": [
    "# Isotopic Ratio vs ..."
   ]
  },
  {
   "cell_type": "code",
   "execution_count": 269,
   "metadata": {},
   "outputs": [
    {
     "data": {
      "application/vnd.jupyter.widget-view+json": {
       "model_id": "61aac14c7f6b4f4f9b1e61c321bc425c",
       "version_major": 2,
       "version_minor": 0
      },
      "text/plain": [
       "Canvas(toolbar=Toolbar(toolitems=[('Home', 'Reset original view', 'home', 'home'), ('Back', 'Back to previous …"
      ]
     },
     "metadata": {},
     "output_type": "display_data"
    },
    {
     "name": "stderr",
     "output_type": "stream",
     "text": [
      "C:\\Users\\JH218595\\AppData\\Local\\Continuum\\anaconda3\\lib\\site-packages\\pandas\\plotting\\_matplotlib\\core.py:227: UserWarning: 'color' and 'colormap' cannot be used simultaneously. Using 'color'\n",
      "  \"'color' and 'colormap' cannot be used simultaneously. Using 'color'\"\n"
     ]
    },
    {
     "data": {
      "text/plain": [
       "Text(0.5, 0, 'RF Power [MW]')"
      ]
     },
     "execution_count": 269,
     "metadata": {},
     "output_type": "execute_result"
    }
   ],
   "source": [
    "fig, ax = plt.subplots()\n",
    "# Boros : 56247, 56641\n",
    "data_LH_only=data.query(\"LH_P_tot > 0.3 & IC_P_tot < 0.05 & Cu_norm > 0 & pulse > @january_restart & Xpoint == 'USN'\").groupby('pulse')\n",
    "data_IC_only=data.query(\"LH_P_tot < 0.3 & IC_P_tot > 0.3 & Cu_norm > 0 & pulse > @january_restart & Xpoint == 'USN'\").groupby('pulse')\n",
    "data_LH_and_IC=data.query(\"LH_P_tot > 0.3 & IC_P_tot > 0.3 & Cu_norm > 0 & pulse > @january_restart & Xpoint == 'USN'\").groupby('pulse')\n",
    "\n",
    "data_LH_only.mean().plot(ax=ax, kind='scatter',\n",
    "            x='P_RF', y='Cu_norm', yerr=data_LH_only.std(),\n",
    "            cmap='plasma', s=40, alpha=0.6, label='C5 experiments LH only', colorbar=False)\n",
    "\n",
    "data_LH_and_IC.mean().plot(ax=ax, kind='scatter',\n",
    "            x='P_RF', y='Cu_norm', color='C1', yerr=data_LH_and_IC.std(),\n",
    "            cmap='plasma', alpha=0.6, s=100, marker='d', label='C5 experiments LH+IC', colorbar=False, edgecolor='k')\n",
    "\n",
    "data_IC_only.mean().plot(ax=ax, kind='scatter',\n",
    "            x='P_RF', y='Cu_norm', color='C2', yerr=data_IC_only.std(),\n",
    "            cmap='plasma', alpha=0.6, s=100, marker='o', label='C5 experiments IC only', colorbar=False, edgecolor='k')\n",
    "\n",
    "# ax.set_xscale('log')\n",
    "ax.set_title('pulse average / USN')\n",
    "ax.set_ylim(bottom=0, top=400)\n",
    "ax.set_ylabel('Cu/nl [a.u.]')\n",
    "ax.set_xlabel('RF Power [MW]')"
   ]
  },
  {
   "cell_type": "code",
   "execution_count": 270,
   "metadata": {},
   "outputs": [
    {
     "data": {
      "application/vnd.jupyter.widget-view+json": {
       "model_id": "8b12e716917a436288a689721e314e82",
       "version_major": 2,
       "version_minor": 0
      },
      "text/plain": [
       "Canvas(toolbar=Toolbar(toolitems=[('Home', 'Reset original view', 'home', 'home'), ('Back', 'Back to previous …"
      ]
     },
     "metadata": {},
     "output_type": "display_data"
    },
    {
     "data": {
      "text/plain": [
       "Text(0.5, 0, 'RF Power [MW]')"
      ]
     },
     "execution_count": 270,
     "metadata": {},
     "output_type": "execute_result"
    }
   ],
   "source": [
    "fig, ax = plt.subplots()\n",
    "# Boros : 56247, 56641\n",
    "data_LH_only=data.query(\"LH_P_tot > 0.3 & IC_P_tot < 0.05 & Cu_norm > 0 & pulse > @january_restart & Xpoint == 'LSN'\").groupby('pulse')\n",
    "data_IC_only=data.query(\"LH_P_tot < 0.3 & IC_P_tot > 0.3 & Cu_norm > 0 & pulse > @january_restart & Xpoint == 'LSN'\").groupby('pulse')\n",
    "data_LH_and_IC=data.query(\"LH_P_tot > 0.3 & IC_P_tot > 0.3 & Cu_norm > 0 & pulse > @january_restart & Xpoint == 'LSN'\").groupby('pulse')\n",
    "\n",
    "data_LH_only.mean().plot(ax=ax, kind='scatter',\n",
    "            x='P_RF', y='Cu_norm', yerr=data_LH_only.std(),\n",
    "            cmap='plasma', s=40, alpha=0.6, label='C5 experiments LH only', colorbar=False)\n",
    "\n",
    "data_LH_and_IC.mean().plot(ax=ax, kind='scatter',\n",
    "            x='P_RF', y='Cu_norm', color='C1', yerr=data_LH_and_IC.std(),\n",
    "            cmap='plasma', alpha=0.6, s=100, marker='d', label='C5 experiments LH+IC', colorbar=False, edgecolor='k')\n",
    "\n",
    "data_IC_only.mean().plot(ax=ax, kind='scatter',\n",
    "            x='P_RF', y='Cu_norm', color='C2', yerr=data_IC_only.std(),\n",
    "            cmap='plasma', alpha=0.6, s=100, marker='o', label='C5 experiments IC only', colorbar=False, edgecolor='k')\n",
    "\n",
    "# ax.set_xscale('log')\n",
    "ax.set_title('pulse average / LSN')\n",
    "ax.set_ylim(bottom=0, top=400)\n",
    "ax.set_ylabel('Cu/nl [a.u.]')\n",
    "ax.set_xlabel('RF Power [MW]')"
   ]
  },
  {
   "cell_type": "code",
   "execution_count": 46,
   "metadata": {},
   "outputs": [
    {
     "data": {
      "text/plain": [
       "4     56602\n",
       "5     56604\n",
       "6     56605\n",
       "7     56606\n",
       "9     56609\n",
       "11    56612\n",
       "14    56649\n",
       "Name: pulse, dtype: int64"
      ]
     },
     "execution_count": 46,
     "metadata": {},
     "output_type": "execute_result"
    }
   ],
   "source": [
    "data_LH_and_IC.mean().reset_index().query('Cu_norm < 170 & P_RF > 3.5')['pulse']"
   ]
  },
  {
   "cell_type": "code",
   "execution_count": 47,
   "metadata": {},
   "outputs": [
    {
     "data": {
      "application/vnd.jupyter.widget-view+json": {
       "model_id": "3c8786a93e1d423b9ca50d11d9b273a2",
       "version_major": 2,
       "version_minor": 0
      },
      "text/plain": [
       "Canvas(toolbar=Toolbar(toolitems=[('Home', 'Reset original view', 'home', 'home'), ('Back', 'Back to previous …"
      ]
     },
     "metadata": {},
     "output_type": "display_data"
    }
   ],
   "source": [
    "fig, ax = plt.subplots(1,2,sharey=True)\n",
    "# Boros : 56247, 56641\n",
    "data.query(f'IC_P_tot > 0.3 & Cu_norm > 10  & `Isotopic Ratio INBUM04`>0 & MHD < 50').plot(ax=ax[0], kind='scatter', \n",
    "                                x='Isotopic Ratio INBUM04', y='Cu_norm', \n",
    "                                c='LH_P_tot', cmap='plasma', alpha=0.8, s=40, label='C5 experiments with ICRH', colorbar=False)\n",
    "data.query(f'IC_P_tot > 0.3 & Cu_norm > 10  & `Isotopic Ratio LODIVOU15`>0 & MHD < 50').plot(ax=ax[1], kind='scatter', \n",
    "                                x='Isotopic Ratio LODIVOU15', y='Cu_norm', \n",
    "                                c='LH_P_tot', cmap='plasma', alpha=0.8, s=40, label='C5 experiments with ICRH', colorbar=False)\n",
    "im = plt.gca().get_children()[0]\n",
    "cax = fig.add_axes([0.92,0.1,0.02,0.8]) \n",
    "fig.colorbar(im, cax=cax, label='LH Power [MW]')\n",
    "fig.suptitle('data for: $P_{IC}>0.3$MW ; MHD < 50')\n",
    "[a.set_xlim(0, 25) for a in ax]\n",
    "[a.set_ylim(bottom=0, top=500) for a in ax]\n",
    "[a.legend(loc='upper center') for a in ax]\n",
    "[a.set_ylabel('$Cu/n_l$ [a.u.]') for a in ax]\n",
    "fig.subplots_adjust(wspace=0.05, left=.08)\n",
    "#fig.tight_layout()\n"
   ]
  },
  {
   "cell_type": "code",
   "execution_count": 48,
   "metadata": {},
   "outputs": [
    {
     "data": {
      "application/vnd.jupyter.widget-view+json": {
       "model_id": "9a4789a47d104bbdb243da1841ea8931",
       "version_major": 2,
       "version_minor": 0
      },
      "text/plain": [
       "Canvas(toolbar=Toolbar(toolitems=[('Home', 'Reset original view', 'home', 'home'), ('Back', 'Back to previous …"
      ]
     },
     "metadata": {},
     "output_type": "display_data"
    }
   ],
   "source": [
    "fig, ax = plt.subplots(1,2,sharey=True,sharex=True)\n",
    "# INBUM04 ou LODIVOU15\n",
    "\n",
    "# Boros : 56247, 56641\n",
    "data_means = data.query(f'P_RF > 0.3 & Cu_norm > 10 & pulse > 56450 & `Isotopic Ratio INBUM04`>0').groupby('pulse').mean().reset_index()\n",
    "data_errors = data.query(f'P_RF > 0.3 & Cu_norm > 10 & pulse > 56450 &  `Isotopic Ratio INBUM04`>0').groupby('pulse').std().reset_index()\n",
    "\n",
    "data_means.plot(ax=ax[0], kind='scatter', \n",
    "                                x='Isotopic Ratio INBUM04', y='Cu_norm', yerr=data_errors,\n",
    "                                c='ratio_Pic_Plh', cmap='plasma', alpha=0.8,  s=50, label='Before Chrismas Break', colorbar=False, vmin=0, vmax=1)\n",
    "data_means.plot(ax=ax[1], kind='scatter', \n",
    "                                x='Isotopic Ratio LODIVOU15', y='Cu_norm', yerr=data_errors,\n",
    "                                c='ratio_Pic_Plh', cmap='plasma', alpha=0.8, s=50, label='Before Chrismas Break', colorbar=False, vmin=0, vmax=1)\n",
    "im = plt.gca().get_children()[0]\n",
    "cax = fig.add_axes([0.91,0.1,0.02,0.88]) \n",
    "fig.colorbar(im, cax=cax, label='$P_{IC}/P_{LH}$')\n",
    "fig.suptitle('data for $P_{RF} > 0.3$ MW ; size proportional to $P_{IC}$')\n",
    "[a.set_xlim(0, 30) for a in ax]\n",
    "[a.set_ylim(bottom=0, top=450) for a in ax]\n",
    "[a.legend(loc='upper center') for a in ax]\n",
    "[a.set_ylabel('$Cu/n_l$') for a in ax]\n",
    "fig.subplots_adjust(wspace=0.05, left=0.08, top=0.92)\n",
    "#fig.tight_layout()"
   ]
  },
  {
   "cell_type": "code",
   "execution_count": 49,
   "metadata": {},
   "outputs": [
    {
     "data": {
      "application/vnd.jupyter.widget-view+json": {
       "model_id": "6c98a45376b34931813fa654b204f495",
       "version_major": 2,
       "version_minor": 0
      },
      "text/plain": [
       "Canvas(toolbar=Toolbar(toolitems=[('Home', 'Reset original view', 'home', 'home'), ('Back', 'Back to previous …"
      ]
     },
     "metadata": {},
     "output_type": "display_data"
    }
   ],
   "source": [
    "fig, ax = plt.subplots(1,2,sharey=True,sharex=True)\n",
    "# INBUM04 ou LODIVOU15\n",
    "\n",
    "# Boros : 56247, 56641\n",
    "data_means = data.query(f'P_RF > 0.3 & Cu_norm > 10 & pulse < {january_restart} & `Isotopic Ratio INBUM04`>0').groupby('pulse').mean().reset_index()\n",
    "data_errors = data.query(f'P_RF > 0.3 & Cu_norm > 10 & pulse < {january_restart} & `Isotopic Ratio INBUM04`>0').groupby('pulse').std().reset_index()\n",
    "\n",
    "data_means.plot(ax=ax[0], kind='scatter', \n",
    "                                x='Isotopic Ratio INBUM04', y='Cu_norm', yerr=data_errors,\n",
    "                                c='P_RF', cmap='plasma', alpha=0.8,  s=(60+1000*data_means.replace([np.inf, -np.inf], 0)['IC_P_tot']**2), label='Before Chrismas Break', colorbar=False)\n",
    "data_means.plot(ax=ax[1], kind='scatter', \n",
    "                                x='Isotopic Ratio LODIVOU15', y='Cu_norm', yerr=data_errors,\n",
    "                                c='P_RF', cmap='plasma', alpha=0.8, s=(60+1000*data_means.replace([np.inf, -np.inf], 0)['IC_P_tot']**2), label='Before Chrismas Break', colorbar=False)\n",
    "im = plt.gca().get_children()[0]\n",
    "cax = fig.add_axes([0.91,0.1,0.02,0.88]) \n",
    "fig.colorbar(im, cax=cax, label='$P_{RF}$ [MW]')\n",
    "fig.suptitle('data for $P_{RF} > 0.3$ MW ; size proportional to $P_{IC}$')\n",
    "[a.set_xlim(0, 30) for a in ax]\n",
    "[a.set_ylim(bottom=0, top=450) for a in ax]\n",
    "[a.legend(loc='upper center') for a in ax]\n",
    "[a.set_ylabel('$Cu/n_l$') for a in ax]\n",
    "fig.subplots_adjust(wspace=0.05, left=0.08, top=0.92)\n",
    "#fig.tight_layout()"
   ]
  },
  {
   "cell_type": "code",
   "execution_count": 50,
   "metadata": {},
   "outputs": [
    {
     "data": {
      "application/vnd.jupyter.widget-view+json": {
       "model_id": "0122ef795a7e4f27b5fa033c31339740",
       "version_major": 2,
       "version_minor": 0
      },
      "text/plain": [
       "Canvas(toolbar=Toolbar(toolitems=[('Home', 'Reset original view', 'home', 'home'), ('Back', 'Back to previous …"
      ]
     },
     "metadata": {},
     "output_type": "display_data"
    }
   ],
   "source": [
    "fig, ax = plt.subplots(1,2,sharey=True,sharex=True)\n",
    "# INBUM04 ou LODIVOU15\n",
    "\n",
    "# Boros : 56247, 56641\n",
    "data_means = data.query(f'P_RF > 0.3 & Cu_norm > 10 & pulse > {post_boro[1]} & `Isotopic Ratio INBUM04`>0').groupby('pulse').mean().reset_index()\n",
    "data_errors = data.query(f'P_RF > 0.3 & Cu_norm > 10 & pulse > {post_boro[1]} & `Isotopic Ratio INBUM04`>0').groupby('pulse').std().reset_index()\n",
    "\n",
    "data_means.plot(ax=ax[0], kind='scatter', \n",
    "                                x='Isotopic Ratio INBUM04', y='Cu_norm', yerr=data_errors,\n",
    "                                c='P_RF', cmap='plasma', alpha=0.8,  s=(60+100*data_means.replace([np.inf, -np.inf], 0)['IC_P_tot']**2), label='After Chrismas Break', colorbar=False)\n",
    "data_means.plot(ax=ax[1], kind='scatter', \n",
    "                                x='Isotopic Ratio LODIVOU15', y='Cu_norm', yerr=data_errors,\n",
    "                                c='P_RF', cmap='plasma', alpha=0.8, s=(60+100*data_means.replace([np.inf, -np.inf], 0)['IC_P_tot']**2), label='After Chrismas Break', colorbar=False)\n",
    "im = plt.gca().get_children()[0]\n",
    "cax = fig.add_axes([0.91,0.1,0.02,0.88]) \n",
    "fig.colorbar(im, cax=cax, label='$P_{RF}$ [MW]')\n",
    "fig.suptitle('data for $P_{RF} > 0.3$ MW ; size proportional to $P_{IC}/P_{LH}$')\n",
    "[a.set_xlim(0, 12) for a in ax]\n",
    "[a.set_ylim(bottom=0, top=450) for a in ax]\n",
    "[a.legend(loc='upper center') for a in ax]\n",
    "[a.set_ylabel('$Cu/n_l$') for a in ax]\n",
    "fig.subplots_adjust(wspace=0.05, left=0.08, top=0.92)\n",
    "#fig.tight_layout()"
   ]
  },
  {
   "cell_type": "code",
   "execution_count": 51,
   "metadata": {},
   "outputs": [
    {
     "data": {
      "application/vnd.jupyter.widget-view+json": {
       "model_id": "846aa68f7e0f4f60bc32f3965446366a",
       "version_major": 2,
       "version_minor": 0
      },
      "text/plain": [
       "Canvas(toolbar=Toolbar(toolitems=[('Home', 'Reset original view', 'home', 'home'), ('Back', 'Back to previous …"
      ]
     },
     "metadata": {},
     "output_type": "display_data"
    }
   ],
   "source": [
    "fig, ax = plt.subplots(1,2,sharey=True,sharex=True)\n",
    "# INBUM04 ou LODIVOU15\n",
    "\n",
    "# Boros : 56247, 56641\n",
    "data_means = data.query(f'P_RF > 0.3 & Cu_norm > 10 & pulse < {january_restart} & `Isotopic Ratio INBUM04`>0').groupby('pulse').mean().reset_index()\n",
    "data_errors = data.query(f'P_RF > 0.3 & Cu_norm > 10 & pulse < {january_restart} & `Isotopic Ratio INBUM04`>0').groupby('pulse').std().reset_index()\n",
    "\n",
    "data_means.plot(ax=ax[0], kind='scatter', \n",
    "                                x='Isotopic Ratio INBUM04', y='Cu_norm_nl_RF', yerr=data_errors,\n",
    "                                c='P_RF', cmap='plasma', alpha=0.8, label='Before Chrismas Break', colorbar=False, s=(60+1000*data_means['IC_P_tot']**2))\n",
    "data_means.plot(ax=ax[1], kind='scatter', \n",
    "                                x='Isotopic Ratio LODIVOU15', y='Cu_norm_nl_RF', yerr=data_errors,\n",
    "                                c='P_RF', cmap='plasma', alpha=0.8,  label='Before Chrismas Break', colorbar=False, s=(60+1000*data_means['IC_P_tot']**2))\n",
    "im = plt.gca().get_children()[0]\n",
    "cax = fig.add_axes([0.91,0.1,0.02,0.88]) \n",
    "fig.colorbar(im, cax=cax)\n",
    "fig.suptitle('$P_{RF} > 0.3$ MW ; colorbar: P_RF ; size: P_IC')\n",
    "[a.set_xlim(0, 30) for a in ax]\n",
    "[a.set_ylim(bottom=0, top=200) for a in ax]\n",
    "[a.legend(loc='upper center') for a in ax]\n",
    "[a.set_ylabel('$Cu/n_l/P_{RF}$ [a.u.]') for a in ax]\n",
    "fig.subplots_adjust(wspace=0.05, left=0.08, top=0.92)\n",
    "#fig.tight_layout()"
   ]
  },
  {
   "cell_type": "code",
   "execution_count": 52,
   "metadata": {},
   "outputs": [
    {
     "data": {
      "application/vnd.jupyter.widget-view+json": {
       "model_id": "9f88807aada54ed099ce6fc1b02bbdf9",
       "version_major": 2,
       "version_minor": 0
      },
      "text/plain": [
       "Canvas(toolbar=Toolbar(toolitems=[('Home', 'Reset original view', 'home', 'home'), ('Back', 'Back to previous …"
      ]
     },
     "metadata": {},
     "output_type": "display_data"
    }
   ],
   "source": [
    "fig, ax = plt.subplots(1,2,sharey=True,sharex=True)\n",
    "# INBUM04 ou LODIVOU15\n",
    "\n",
    "# Boros : 56247, 56641\n",
    "data_means = data.query(f'P_RF > 0.3 & Cu_norm > 10 & pulse > {january_restart} & `Isotopic Ratio INBUM04`>0').groupby('pulse').mean().reset_index()\n",
    "data_errors = data.query(f'P_RF > 0.3 & Cu_norm > 10 & pulse > {january_restart} & `Isotopic Ratio INBUM04`>0').groupby('pulse').std().reset_index()\n",
    "\n",
    "data_means.plot(ax=ax[0], kind='scatter', \n",
    "                                x='Isotopic Ratio INBUM04', y='Cu_norm_nl_RF', yerr=data_errors,\n",
    "                                c='P_RF', cmap='plasma', alpha=0.8, label='After Chrismas Break', colorbar=False, s=(60+100*data_means['IC_P_tot']**2))\n",
    "data_means.plot(ax=ax[1], kind='scatter', \n",
    "                                x='Isotopic Ratio LODIVOU15', y='Cu_norm_nl_RF', yerr=data_errors,\n",
    "                                c='P_RF', cmap='plasma', alpha=0.8,  label='After Chrismas Break', colorbar=False, s=(60+100*data_means['IC_P_tot']**2))\n",
    "im = plt.gca().get_children()[0]\n",
    "cax = fig.add_axes([0.91,0.1,0.02,0.88]) \n",
    "fig.colorbar(im, cax=cax)\n",
    "fig.suptitle('$P_{RF} > 0.3$ MW ; colorbar: P_RF ; size: P_IC')\n",
    "[a.set_xlim(0, 20) for a in ax]\n",
    "[a.set_ylim(bottom=0, top=200) for a in ax]\n",
    "[a.legend(loc='upper center') for a in ax]\n",
    "[a.set_ylabel('$Cu/n_l/P_{RF}$ [a.u.]') for a in ax]\n",
    "fig.subplots_adjust(wspace=0.05, left=0.08, top=0.92)\n",
    "#fig.tight_layout()"
   ]
  },
  {
   "cell_type": "code",
   "execution_count": 53,
   "metadata": {},
   "outputs": [
    {
     "data": {
      "application/vnd.jupyter.widget-view+json": {
       "model_id": "7b3d473aa83d458a998608ef5dd013ba",
       "version_major": 2,
       "version_minor": 0
      },
      "text/plain": [
       "Canvas(toolbar=Toolbar(toolitems=[('Home', 'Reset original view', 'home', 'home'), ('Back', 'Back to previous …"
      ]
     },
     "metadata": {},
     "output_type": "display_data"
    }
   ],
   "source": [
    "fig, ax = plt.subplots(1,2,sharey=True,sharex=True)\n",
    "# INBUM04 ou LODIVOU15\n",
    "\n",
    "# Boros : 56247, 56641\n",
    "data.query(f'P_RF > 0.3 & Cu_norm > 10 & pulse < {january_restart} & `Isotopic Ratio INBUM04`>0').plot(ax=ax[0], kind='scatter', \n",
    "                                x='Isotopic Ratio INBUM04', y='Cu_norm_nl_IC', \n",
    "                                c='pulse', cmap='plasma', alpha=0.8, s=40, label='Before Chrismas Break', colorbar=False)\n",
    "data.query(f'P_RF > 0.3 & Cu_norm > 10 & pulse < {january_restart} & `Isotopic Ratio INBUM04`>0').plot(ax=ax[1], kind='scatter', \n",
    "                                x='Isotopic Ratio LODIVOU15', y='Cu_norm_nl_IC', \n",
    "                                c='pulse', cmap='plasma', alpha=0.8, s=40, label='Before Chrismas Break', colorbar=False)\n",
    "im = plt.gca().get_children()[0]\n",
    "cax = fig.add_axes([0.91,0.1,0.02,0.88]) \n",
    "fig.colorbar(im, cax=cax)\n",
    "fig.suptitle('$P_{RF} > 0.3$ MW')\n",
    "[a.set_xlim(0, 30) for a in ax]\n",
    "[a.set_ylim(bottom=0, top=450) for a in ax]\n",
    "[a.legend(loc='upper center') for a in ax]\n",
    "[a.set_ylabel('$Cu/n_l/P_{IC}$') for a in ax]\n",
    "fig.subplots_adjust(wspace=0.05, left=0.08, top=0.92)\n",
    "#fig.tight_layout()"
   ]
  },
  {
   "cell_type": "code",
   "execution_count": 54,
   "metadata": {},
   "outputs": [
    {
     "data": {
      "application/vnd.jupyter.widget-view+json": {
       "model_id": "dd6a78156cdd4d9da0561da8a18f9f57",
       "version_major": 2,
       "version_minor": 0
      },
      "text/plain": [
       "Canvas(toolbar=Toolbar(toolitems=[('Home', 'Reset original view', 'home', 'home'), ('Back', 'Back to previous …"
      ]
     },
     "metadata": {},
     "output_type": "display_data"
    }
   ],
   "source": [
    "fig, ax = plt.subplots(1,2,sharey=True,sharex=True)\n",
    "# INBUM04 ou LODIVOU15\n",
    "\n",
    "# Boros : 56247, 56641\n",
    "data.query(f'P_RF > 0.3 & Cu_norm > 10 & pulse > {post_boro[1]} & `Isotopic Ratio INBUM04`>0').plot(ax=ax[0], kind='scatter', \n",
    "                                x='Isotopic Ratio INBUM04', y='Cu_norm_nl_IC', \n",
    "                                c='pulse', cmap='plasma', alpha=0.8, s=40, label='After Boro', colorbar=False)\n",
    "data.query(f'P_RF > 0.3 & Cu_norm > 10 & pulse > {post_boro[1]} & `Isotopic Ratio INBUM04`>0').plot(ax=ax[1], kind='scatter', \n",
    "                                x='Isotopic Ratio LODIVOU15', y='Cu_norm_nl_IC', \n",
    "                                c='pulse', cmap='plasma', alpha=0.8, s=40, label='After Boro', colorbar=False)\n",
    "im = plt.gca().get_children()[0]\n",
    "cax = fig.add_axes([0.91,0.1,0.02,0.88]) \n",
    "fig.colorbar(im, cax=cax)\n",
    "fig.suptitle('$P_{RF} > 0.3$ MW')\n",
    "[a.set_xlim(0, 20) for a in ax]\n",
    "[a.set_ylim(bottom=0, top=450) for a in ax]\n",
    "[a.legend(loc='upper center') for a in ax]\n",
    "[a.set_ylabel('$Cu/n_l/P_{IC}$') for a in ax]\n",
    "fig.subplots_adjust(wspace=0.05, left=0.08, top=0.92)\n",
    "#fig.tight_layout()"
   ]
  },
  {
   "cell_type": "code",
   "execution_count": 55,
   "metadata": {},
   "outputs": [],
   "source": [
    "data_means = data.query('P_RF > 0.3 & Cu_norm > 10').groupby('pulse').mean().reset_index()\n",
    "data_errors = data.query('P_RF > 0.3 & Cu_norm > 10').groupby('pulse').std().reset_index()"
   ]
  },
  {
   "cell_type": "code",
   "execution_count": 56,
   "metadata": {},
   "outputs": [
    {
     "name": "stderr",
     "output_type": "stream",
     "text": [
      "C:\\Users\\JH218595\\AppData\\Local\\Continuum\\anaconda3\\lib\\site-packages\\ipykernel_launcher.py:1: RuntimeWarning: More than 20 figures have been opened. Figures created through the pyplot interface (`matplotlib.pyplot.figure`) are retained until explicitly closed and may consume too much memory. (To control this warning, see the rcParam `figure.max_open_warning`).\n",
      "  \"\"\"Entry point for launching an IPython kernel.\n"
     ]
    },
    {
     "data": {
      "application/vnd.jupyter.widget-view+json": {
       "model_id": "be6e39860b2e48d3bdcde6d45a247d26",
       "version_major": 2,
       "version_minor": 0
      },
      "text/plain": [
       "Canvas(toolbar=Toolbar(toolitems=[('Home', 'Reset original view', 'home', 'home'), ('Back', 'Back to previous …"
      ]
     },
     "metadata": {},
     "output_type": "display_data"
    }
   ],
   "source": [
    "fig, ax = plt.subplots()\n",
    "# INBUM04 ou LODIVOU15\n",
    "\n",
    "# Boros : 56247, 56641\n",
    "data.query(f'P_RF > 0.3 & Cu_norm > 10 & pulse < {january_restart}').plot(ax=ax, kind='scatter', \n",
    "                                y='Cu_norm', x='P_RF', \n",
    "                                c='ratio_Pic_Plh', cmap='plasma', alpha=0.8, s=40, label='Before Chrismas Break', colorbar=False, vmin=0, vmax=1)\n",
    "m = plt.gca().get_children()[0]\n",
    "cax = fig.add_axes([0.92,0.1,0.02,0.8]) \n",
    "fig.colorbar(im, cax=cax)\n",
    "\n",
    "ax.set_xlim(0, 6)\n",
    "ax.legend(loc='upper center')\n",
    "ax.set_ylabel('$Cu/n_l$')\n",
    "ax.set_xlabel('$P_{RF}$ [MW]')\n",
    "fig.suptitle('$P_{RF}$>0.3MW - Color: $P_{IC}/P_{LH}$')\n",
    "fig.subplots_adjust(wspace=0.05)\n",
    "\n",
    "#fig.tight_layout()"
   ]
  },
  {
   "cell_type": "code",
   "execution_count": 57,
   "metadata": {},
   "outputs": [
    {
     "data": {
      "application/vnd.jupyter.widget-view+json": {
       "model_id": "e2d225ab6e1b439b9676dd42f17a5d6a",
       "version_major": 2,
       "version_minor": 0
      },
      "text/plain": [
       "Canvas(toolbar=Toolbar(toolitems=[('Home', 'Reset original view', 'home', 'home'), ('Back', 'Back to previous …"
      ]
     },
     "metadata": {},
     "output_type": "display_data"
    }
   ],
   "source": [
    "fig, ax = plt.subplots()\n",
    "# INBUM04 ou LODIVOU15\n",
    "\n",
    "# Boros : 56247, 56641\n",
    "data_means.query(f'pulse < {january_restart}').plot(ax=ax, kind='scatter', \n",
    "                                y='Cu_norm', x='P_RF', yerr=data_errors,\n",
    "                                c='ratio_Pic_Plh', cmap='plasma', alpha=0.8, s=40, label='Before Chrismas Break', colorbar=False, vmin=0, vmax=1)\n",
    "m = plt.gca().get_children()[0]\n",
    "cax = fig.add_axes([0.92,0.1,0.02,0.8]) \n",
    "fig.colorbar(im, cax=cax)\n",
    "\n",
    "ax.set_xlim(0, 6)\n",
    "ax.legend(loc='upper center')\n",
    "ax.set_ylabel('$Cu/n_l$')\n",
    "ax.set_xlabel('$P_{RF}$ [MW]')\n",
    "fig.suptitle('$P_{RF}$>0.3MW - Color: $P_{IC}/P_{LH}$ - pulse average')\n",
    "fig.subplots_adjust(wspace=0.05)\n",
    "\n",
    "#fig.tight_layout()"
   ]
  },
  {
   "cell_type": "code",
   "execution_count": 58,
   "metadata": {},
   "outputs": [
    {
     "data": {
      "application/vnd.jupyter.widget-view+json": {
       "model_id": "57c3f8e0e977457fb387d812f914118c",
       "version_major": 2,
       "version_minor": 0
      },
      "text/plain": [
       "Canvas(toolbar=Toolbar(toolitems=[('Home', 'Reset original view', 'home', 'home'), ('Back', 'Back to previous …"
      ]
     },
     "metadata": {},
     "output_type": "display_data"
    }
   ],
   "source": [
    "fig, ax = plt.subplots()\n",
    "# INBUM04 ou LODIVOU15\n",
    "\n",
    "# Boros : 56247, 56641\n",
    "data.query(f'P_RF > 0.3 & Cu_norm > 10 & pulse > {post_boro[1]}').plot(ax=ax, kind='scatter', \n",
    "                                y='Cu_norm', x='P_RF', \n",
    "                                c='ratio_Pic_Plh', cmap='plasma', alpha=0.8, s=40, label='After Boro', colorbar=False, vmin=0, vmax=1)\n",
    "m = plt.gca().get_children()[0]\n",
    "cax = fig.add_axes([0.92,0.1,0.02,0.8]) \n",
    "fig.colorbar(im, cax=cax)\n",
    "\n",
    "ax.set_xlim(0, 6)\n",
    "ax.legend(loc='upper center')\n",
    "ax.set_ylabel('$Cu/n_l$')\n",
    "ax.set_xlabel('$P_{RF}$ [MW]')\n",
    "fig.suptitle('$P_{RF}$>0.3MW - Color: $P_{IC}/P_{LH}$')\n",
    "fig.subplots_adjust(wspace=0.05)\n",
    "\n",
    "#fig.tight_layout()"
   ]
  },
  {
   "cell_type": "code",
   "execution_count": 59,
   "metadata": {},
   "outputs": [
    {
     "data": {
      "application/vnd.jupyter.widget-view+json": {
       "model_id": "54b55281641741f48e713898e1e4e2d4",
       "version_major": 2,
       "version_minor": 0
      },
      "text/plain": [
       "Canvas(toolbar=Toolbar(toolitems=[('Home', 'Reset original view', 'home', 'home'), ('Back', 'Back to previous …"
      ]
     },
     "metadata": {},
     "output_type": "display_data"
    }
   ],
   "source": [
    "fig, ax = plt.subplots()\n",
    "# INBUM04 ou LODIVOU15\n",
    "\n",
    "# Boros : 56247, 56641\n",
    "data_means.query(f'pulse > {post_boro[1]}').plot(ax=ax, kind='scatter', \n",
    "                                y='Cu_norm', x='P_RF', yerr=data_errors,\n",
    "                                c='ratio_Pic_Plh', cmap='plasma', alpha=0.8, s=40, label='After Boro', colorbar=False, vmin=0, vmax=1)\n",
    "m = plt.gca().get_children()[0]\n",
    "cax = fig.add_axes([0.92,0.1,0.02,0.8]) \n",
    "fig.colorbar(im, cax=cax)\n",
    "\n",
    "ax.set_xlim(0, 6)\n",
    "ax.legend(loc='upper center')\n",
    "ax.set_ylabel('$Cu/n_l$')\n",
    "ax.set_xlabel('$P_{RF}$ [MW]')\n",
    "fig.suptitle('$P_{RF}$>0.3MW - Color: $P_{IC}/P_{LH} - pulse average $')\n",
    "fig.subplots_adjust(wspace=0.05)\n",
    "\n",
    "#fig.tight_layout()"
   ]
  },
  {
   "cell_type": "markdown",
   "metadata": {},
   "source": [
    "# Evolution du rapport isotopique"
   ]
  },
  {
   "cell_type": "code",
   "execution_count": 48,
   "metadata": {},
   "outputs": [
    {
     "data": {
      "application/vnd.jupyter.widget-view+json": {
       "model_id": "50cecf072cbf4640b37ea079aa25a99a",
       "version_major": 2,
       "version_minor": 0
      },
      "text/plain": [
       "Canvas(toolbar=Toolbar(toolitems=[('Home', 'Reset original view', 'home', 'home'), ('Back', 'Back to previous …"
      ]
     },
     "metadata": {},
     "output_type": "display_data"
    }
   ],
   "source": [
    "fig, ax = plt.subplots()\n",
    "data_means = data.query('Ip>0.4').groupby('pulse').mean().reset_index()\n",
    "data_errors = data.query('Ip>0.4').groupby('pulse').std().reset_index()\n",
    "\n",
    "data_means.query('`Isotopic Ratio LODIVOU15`>0.5').plot(ax=ax, kind='scatter', \n",
    "                x='pulse', y='Isotopic Ratio LODIVOU15', yerr=data_errors,\n",
    "               color='C0', label='Outer Divertor (LODIVOU15)', s=60, edgecolor='k', alpha=.8)\n",
    "data_means.query('`Isotopic Ratio INBUM04`>0.5').plot(ax=ax, kind='scatter', \n",
    "                x='pulse', y='Isotopic Ratio INBUM04', yerr=data_errors,\n",
    "               color='C1', label='Inner Bumper (INBUM04)', s=60, edgecolor='k', alpha=.8)\n",
    "ax.set_xlim(left=56240, right=56925)\n",
    "\n",
    "ax.axvline(january_restart, ls='-.', color='gray')\n",
    "\n",
    "[ax.axvline(shot, ls='--', color='gray') for shot in post_boro]\n",
    "\n",
    "ax.set_title('Data for $I_p>0.4$MA')\n",
    "ax.set_ylim(bottom=0, top=40)\n",
    "ax.set_ylabel('Isotopic Ratio [%]')\n",
    "ax.annotate('Christmas Break', xy=(56544, 32), xytext=(56400, 35), arrowprops=dict(facecolor='black'))\n",
    "ax.annotate('1st Boronization', xy=(post_boro[0], 15), xytext=(56300, 20), arrowprops=dict(facecolor='black'))\n",
    "ax.annotate('2nd Boronization', xy=(post_boro[1], 20), xytext=(56650, 25), arrowprops=dict(facecolor='black'))\n",
    "\n",
    "ax.axhspan(5,10, color='green', alpha=0.2)\n",
    "fig.tight_layout()"
   ]
  },
  {
   "cell_type": "markdown",
   "metadata": {},
   "source": [
    "# Fitting to Power Scaling Laws"
   ]
  },
  {
   "cell_type": "code",
   "execution_count": 61,
   "metadata": {},
   "outputs": [
    {
     "data": {
      "text/plain": [
       "Index(['Unnamed: 0', 'pulse', 'Ag18', 'Ag19', 'Cu', 'year', 'month', 'day',\n",
       "       'Fe', 'freq_Q1', 'freq_Q2', 'freq_Q4', 'IC_Frequencies', 'IC_P_Q1',\n",
       "       'IC_P_Q2', 'IC_P_Q4', 'IC_P_tot', 'IC_Phase_Q1',\n",
       "       'IC_Phase_Q1 (Pf_left - Pf_right)', 'IC_Phase_Q2',\n",
       "       'IC_Phase_Q2 (Pf_left - Pf_right)', 'IC_Phase_Q4',\n",
       "       'IC_Phase_Q4 (Pf_left - Pf_right)', 'R_Q1', 'R_Q2', 'R_Q4',\n",
       "       'IC_Positions', 'IC_Rc_Q1_avg', 'IC_Rc_Q1_left', 'IC_Rc_Q1_right',\n",
       "       'IC_Rc_Q2_avg', 'IC_Rc_Q2_left', 'IC_Rc_Q2_right', 'IC_Rc_Q4_avg',\n",
       "       'IC_Rc_Q4_left', 'IC_Rc_Q4_right', 'IC_Voltage_left_lower_Q1',\n",
       "       'IC_Voltage_left_lower_Q2', 'IC_Voltage_left_lower_Q4',\n",
       "       'IC_Voltage_left_upper_Q1', 'IC_Voltage_left_upper_Q2',\n",
       "       'IC_Voltage_left_upper_Q4', 'IC_Voltage_right_lower_Q1',\n",
       "       'IC_Voltage_right_lower_Q2', 'IC_Voltage_right_lower_Q4',\n",
       "       'IC_Voltage_right_upper_Q1', 'IC_Voltage_right_upper_Q2',\n",
       "       'IC_Voltage_right_upper_Q4', 'time', 'Ip', 'Isotopic Ratio INBUM04',\n",
       "       'Isotopic Ratio LODIVIN15', 'Isotopic Ratio LODIVOU15', 'LH_P_tot',\n",
       "       'R_LH1', 'R_LH2', 'LH_Positions', 'MHD', 'Ohmic_P', 'Prad', 'Prad_imas',\n",
       "       'Rext_median', 'Rext_median_NICE', 'Separatrix_P', 'W_MHD', 'frad_imas',\n",
       "       'nl', 'P_RF', 'Ptot', 'P_conv', 'frad', 'Cu_norm', 'Fe_norm',\n",
       "       'Ag18_norm', 'Ag19_norm', 'Ag18_norm_nl_IC', 'Ag19_norm_nl_IC',\n",
       "       'Cu_norm_nl_IC', 'Cu_norm_nl_LH', 'Cu_norm_nl_RF', 'ratio_Pic_Plh',\n",
       "       'Isotopic Ratio INBUM04_norm_PLH', 'Isotopic Ratio LODIVOU15_norm_PLH',\n",
       "       'Isotopic Ratio INBUM04_norm_PRF', 'Isotopic Ratio LODIVOU15_norm_PRF',\n",
       "       'IC_Q1_Rc_left_over_right', 'IC_Q2_Rc_left_over_right',\n",
       "       'IC_Q4_Rc_left_over_right', 'pulse_relative', 'Xpoint', 'R_obj',\n",
       "       'ROG_LH', 'ROG_Q1', 'ROG_Q2', 'ROG_Q4', 'ROG', 'ROG_Q1_NICE',\n",
       "       'ROG_Q2_NICE', 'ROG_Q4_NICE', 'ROG_NICE'],\n",
       "      dtype='object')"
      ]
     },
     "execution_count": 61,
     "metadata": {},
     "output_type": "execute_result"
    }
   ],
   "source": [
    "data.columns"
   ]
  },
  {
   "cell_type": "code",
   "execution_count": 62,
   "metadata": {},
   "outputs": [],
   "source": [
    "from sklearn import linear_model"
   ]
  },
  {
   "cell_type": "code",
   "execution_count": 63,
   "metadata": {},
   "outputs": [
    {
     "name": "stdout",
     "output_type": "stream",
     "text": [
      "Scaling coefficients: a=[ 0.95602851 -0.03754504 -0.0066343   0.26588844]\n",
      "Intersection A: 4.708710272726446\n"
     ]
    }
   ],
   "source": [
    "# let's first filter only the usefull data from the whole dataset\n",
    "signames = ['Cu_norm','IC_P_Q1', 'IC_P_Q2', 'IC_P_Q4', 'LH_P_tot']\n",
    "query = f' IC_P_tot > 0.3 & Cu_norm > 10'\n",
    "# Convert into log values and remove spurious points\n",
    "data_log = data.query(query)[signames].apply(np.log).replace([np.inf, -np.inf], np.nan).dropna()\n",
    "\n",
    "# Make a linear regression on the log values\n",
    "lin_reg = linear_model.LinearRegression()\n",
    "lin_reg.fit(data_log[signames[1:]], data_log[signames[0]])\n",
    "coefs = np.squeeze(lin_reg.coef_)\n",
    "\n",
    "print(f'Scaling coefficients: a={coefs}')\n",
    "print(f'Intersection A: {lin_reg.intercept_}')"
   ]
  },
  {
   "cell_type": "code",
   "execution_count": 64,
   "metadata": {},
   "outputs": [],
   "source": [
    "def power_law(signames, coefs, A0, query='index == index or index != index'):\n",
    "    y = A0\n",
    "    for (signame, coef) in zip(signames[1:], coefs):\n",
    "        y *= data.query(query)[signame]**coef\n",
    "    return y"
   ]
  },
  {
   "cell_type": "code",
   "execution_count": 65,
   "metadata": {},
   "outputs": [
    {
     "data": {
      "application/vnd.jupyter.widget-view+json": {
       "model_id": "b4557a9310454b8f80d8d2844907b9ed",
       "version_major": 2,
       "version_minor": 0
      },
      "text/plain": [
       "Canvas(toolbar=Toolbar(toolitems=[('Home', 'Reset original view', 'home', 'home'), ('Back', 'Back to previous …"
      ]
     },
     "metadata": {},
     "output_type": "display_data"
    }
   ],
   "source": [
    "Cu_scale = power_law(signames, coefs, np.exp(lin_reg.intercept_), query=query)\n",
    "\n",
    "fig, ax = plt.subplots()\n",
    "ax.scatter(Cu_scale, data.query(query)['Cu_norm'], alpha=0.2)\n",
    "ax.plot(Cu_scale, Cu_scale, color='r')\n",
    "# ax.set_xscale('log')\n",
    "# ax.set_yscale('log')\n",
    "ax.grid(True, which='minor')\n",
    "ax.set_xlabel(r'$ \\times $'.join([f'({signame})^({coef:.1f})' for (signame, coef) in zip(signames[1:], coefs)]))\n",
    "ax.set_ylabel('Cu_norm')\n",
    "fig.tight_layout()\n"
   ]
  },
  {
   "cell_type": "markdown",
   "metadata": {},
   "source": [
    "## Evolution of the Copper Impurity"
   ]
  },
  {
   "cell_type": "code",
   "execution_count": 53,
   "metadata": {},
   "outputs": [
    {
     "data": {
      "application/vnd.jupyter.widget-view+json": {
       "model_id": "0a63bde9ad6e4456be5685138f00e61a",
       "version_major": 2,
       "version_minor": 0
      },
      "text/plain": [
       "Canvas(toolbar=Toolbar(toolitems=[('Home', 'Reset original view', 'home', 'home'), ('Back', 'Back to previous …"
      ]
     },
     "metadata": {},
     "output_type": "display_data"
    }
   ],
   "source": [
    "with plt.style.context('ggplot'):\n",
    "    fig, axes = plt.subplots(2, 1, sharex=True)\n",
    "    data.query('IC_P_tot>0.25').plot(kind='scatter', x='pulse', y='Cu_norm_nl_IC', c='Ip', ax=axes[0], cmap=\"viridis\", s=50, vmax=0.75, alpha=.6)\n",
    "    data.query('LH_P_tot>0.25').plot(kind='scatter', x='pulse', y='Cu_norm_nl_LH', c='Ip', ax=axes[1], cmap=\"viridis\", s=50, vmax=0.75, alpha=.6)\n",
    "    [ax.set_ylim(bottom=0, top=500) for ax in axes]\n",
    "    axes[0].set_ylabel('Cu / nl / IC Power [a.u.]')\n",
    "    axes[1].set_ylabel('Cu / nl / LH Power [a.u.]')\n",
    "    axes[-1].set_xlabel('WEST Pulse #')\n",
    "    #plt.xticks(rotation=40)\n",
    "    fig.suptitle('Evolution of Copper Impurity')\n",
    "    fig.tight_layout()\n",
    "    fig.subplots_adjust(hspace=0.2)\n",
    "    axes[-1].xaxis.tick_top()"
   ]
  },
  {
   "cell_type": "markdown",
   "metadata": {},
   "source": [
    "# Performances Comparaison Between Campaign"
   ]
  },
  {
   "cell_type": "code",
   "execution_count": 113,
   "metadata": {},
   "outputs": [],
   "source": [
    "# Importing Resumed Parameters\n",
    "data_C4 = pd.read_csv('../WEST_C4/WEST_C4_database_resumed_parameters.csv')"
   ]
  },
  {
   "cell_type": "code",
   "execution_count": 135,
   "metadata": {},
   "outputs": [],
   "source": [
    "data_C4['IC_P_tot_MW'] = data_C4['IC_P_tot']/1e3\n",
    "data_C4['IC_P_Q1_MW'] = data_C4['IC_P_Q1']/1e3\n",
    "data_C4['IC_P_Q2_MW'] = data_C4['IC_P_Q2']/1e3\n",
    "data_C4['IC_P_Q4_MW'] = data_C4['IC_P_Q4']/1e3\n",
    "data_C4['pulse_relative'] = data_C4['pulse'] - data_C4['pulse'][0]\n",
    "data_C4['P_RF'] = data['LH_P_tot'] + data['IC_P_tot']\n",
    "data_C4['Ip_MA'] = data['Ip']/1e3\n",
    "data_C4['Cu_norm'] = data['Cu']/data['nl']\n",
    "\n",
    "\n",
    "# objet le plus avancé\n",
    "data_C4['R_obj'] = data_C4[['R_Q1', 'R_Q2', 'R_Q4', 'LH_Positions']].min(axis=1)*1e3\n",
    "# ROG wrt VACTH magnetic reconstruction in [mm]\n",
    "data_C4['ROG_LH'] = data_C4['R_obj'] - data_C4['Rext_median']\n",
    "data_C4['ROG_Q1'] = data_C4['R_Q1']*1e3 - data_C4['Rext_median']\n",
    "data_C4['ROG_Q2'] = data_C4['R_Q2']*1e3 - data_C4['Rext_median']\n",
    "data_C4['ROG_Q4'] = data_C4['R_Q4']*1e3 - data_C4['Rext_median']\n",
    "data_C4['ROG'] = data_C4['R_obj'] - data_C4['Rext_median']\n",
    "# ROG wrt NICE magnetic reconstruction in [mm]\n",
    "data_C4['ROG_Q1_NICE'] = data_C4['R_Q1']*1e3 - data_C4['Rext_median_NICE']*1e3\n",
    "data_C4['ROG_Q2_NICE'] = data_C4['R_Q2']*1e3 - data_C4['Rext_median_NICE']*1e3\n",
    "data_C4['ROG_Q4_NICE'] = data_C4['R_Q4']*1e3 - data_C4['Rext_median_NICE']*1e3\n",
    "data_C4['ROG_NICE'] = data_C4['R_obj'] - data_C4['Rext_median_NICE']*1e3\n",
    "\n",
    "\n",
    "C4_after_boro_pulses = [53453, 54288, 54403, 54502, 54596, 54719, 54881, 55000, 55138, 55499, 55548, 55747, 55795]\n",
    "C5_after_boro_pulses = [56244, 56596]"
   ]
  },
  {
   "cell_type": "code",
   "execution_count": 115,
   "metadata": {},
   "outputs": [
    {
     "data": {
      "application/vnd.jupyter.widget-view+json": {
       "model_id": "e8d673de10c24656a44faac1d3a78f80",
       "version_major": 2,
       "version_minor": 0
      },
      "text/plain": [
       "Canvas(toolbar=Toolbar(toolitems=[('Home', 'Reset original view', 'home', 'home'), ('Back', 'Back to previous …"
      ]
     },
     "metadata": {},
     "output_type": "display_data"
    },
    {
     "data": {
      "text/plain": [
       "Text(0.5, 1.0, 'Total IC Power')"
      ]
     },
     "execution_count": 115,
     "metadata": {},
     "output_type": "execute_result"
    }
   ],
   "source": [
    "fig, ax = plt.subplots()\n",
    "data_C4_grp = data_C4.query('IC_P_tot_MW>0.1').groupby('pulse')\n",
    "data_C5_grp = data.query('IC_P_tot>0.1').groupby('pulse')\n",
    "\n",
    "data_C4_grp.mean().reset_index().plot(ax=ax, kind='scatter', x='pulse_relative', y='IC_P_tot_MW', \n",
    "                                      color='C0', label='C4', yerr=data_C4_grp.std().reset_index(), s=80, edgecolor='k', alpha=0.5)\n",
    "data_C5_grp.mean().reset_index().plot(ax=ax, kind='scatter', x='pulse_relative', y='IC_P_tot', \n",
    "                                      color='C1', label='C5', yerr=data_C5_grp.std().reset_index(), s=80, edgecolor='k', alpha=0.5)\n",
    "ax.set_xlabel('Relative WEST Pulse # wrt. Campaign Start')\n",
    "ax.set_ylabel('Coupled Power [MW]')\n",
    "for pulse in C4_after_boro_pulses:\n",
    "    ax.axvline(pulse-data_C4['pulse'][0], ls='--', color='blue')\n",
    "for pulse in C5_after_boro_pulses:\n",
    "    ax.axvline(pulse-data['pulse'][23], ls='--', color='orange')\n",
    "ax.set_xlim(left=0)\n",
    "ax.set_title('Total IC Power')"
   ]
  },
  {
   "cell_type": "code",
   "execution_count": 116,
   "metadata": {},
   "outputs": [
    {
     "data": {
      "application/vnd.jupyter.widget-view+json": {
       "model_id": "89a67e3aa5d842be839cc1ba11805c19",
       "version_major": 2,
       "version_minor": 0
      },
      "text/plain": [
       "Canvas(toolbar=Toolbar(toolitems=[('Home', 'Reset original view', 'home', 'home'), ('Back', 'Back to previous …"
      ]
     },
     "metadata": {},
     "output_type": "display_data"
    }
   ],
   "source": [
    "fig, ax = plt.subplots()\n",
    "data_C4_grp = data_C4.query('IC_P_tot_MW>0.1').groupby('pulse')\n",
    "data_C5_grp = data.query('IC_P_tot>0.1').groupby('pulse')\n",
    "\n",
    "data_C4_grp.mean().reset_index().plot(ax=ax, kind='scatter', x='pulse', y='IC_P_tot_MW', \n",
    "                                      color='C0', label='C4', yerr=data_C4_grp.std().reset_index(), s=80, edgecolor='k', alpha=0.5)\n",
    "data_C5_grp.mean().reset_index().plot(ax=ax, kind='scatter', x='pulse', y='IC_P_tot', \n",
    "                                      color='C1', label='C5', yerr=data_C5_grp.std().reset_index(), s=80, edgecolor='k', alpha=0.5)\n",
    "ax.set_xlabel('Relative WEST Pulse #')\n",
    "ax.set_ylabel('Coupled Power [MW]')\n",
    "for pulse in C4_after_boro_pulses:\n",
    "    ax.axvline(pulse, ls='--', color='gray')\n",
    "for pulse in C5_after_boro_pulses:\n",
    "    ax.axvline(pulse, ls='--', color='gray')\n",
    "ax.set_xlim(left=data_C4['pulse'][0])\n",
    "ax.set_title('Total IC Power')\n",
    "fig.tight_layout()"
   ]
  },
  {
   "cell_type": "code",
   "execution_count": 117,
   "metadata": {},
   "outputs": [],
   "source": [
    "data_C4['Ip_MA']=data_C4['Ip']/1e3"
   ]
  },
  {
   "cell_type": "code",
   "execution_count": 118,
   "metadata": {},
   "outputs": [
    {
     "data": {
      "application/vnd.jupyter.widget-view+json": {
       "model_id": "831d9e68a90641aea0b91aeda998470b",
       "version_major": 2,
       "version_minor": 0
      },
      "text/plain": [
       "Canvas(toolbar=Toolbar(toolitems=[('Home', 'Reset original view', 'home', 'home'), ('Back', 'Back to previous …"
      ]
     },
     "metadata": {},
     "output_type": "display_data"
    }
   ],
   "source": [
    "fig, ax = plt.subplots()\n",
    "data_C4_grp = data_C4.query('IC_P_tot_MW>0.1').groupby('pulse')\n",
    "data_C5_grp = data.query('IC_P_tot>0.1').groupby('pulse')\n",
    "\n",
    "data_C4_grp.mean().reset_index().plot(ax=ax, kind='scatter', x='pulse', y='IC_P_tot_MW', cmap='tab10', colorbar=False,\n",
    "                                      c='Ip_MA', label='C4', s=100, marker=\"s\", edgecolor='k', alpha=0.8, vmin=0.5, vmax=0.8)\n",
    "data_C5_grp.mean().reset_index().plot(ax=ax, kind='scatter', x='pulse', y='IC_P_tot', cmap='tab10',\n",
    "                                      c='Ip', label='C5', s=100, edgecolor='k', alpha=0.8, vmin=0.5, vmax=0.8)\n",
    "ax.set_xlabel('Relative WEST Pulse #')\n",
    "ax.set_ylabel('Coupled Power [MW]')\n",
    "for pulse in C4_after_boro_pulses:\n",
    "    ax.axvline(pulse, ls='--', color='gray')\n",
    "for pulse in C5_after_boro_pulses:\n",
    "    ax.axvline(pulse, ls='--', color='gray')\n",
    "ax.set_xlim(left=data_C4['pulse'][0])\n",
    "ax.set_title('Total IC Power')\n",
    "fig.tight_layout()"
   ]
  },
  {
   "cell_type": "code",
   "execution_count": 119,
   "metadata": {},
   "outputs": [
    {
     "data": {
      "application/vnd.jupyter.widget-view+json": {
       "model_id": "1fb560d1f75c4de3a20bc367dbeeb371",
       "version_major": 2,
       "version_minor": 0
      },
      "text/plain": [
       "Canvas(toolbar=Toolbar(toolitems=[('Home', 'Reset original view', 'home', 'home'), ('Back', 'Back to previous …"
      ]
     },
     "metadata": {},
     "output_type": "display_data"
    },
    {
     "data": {
      "text/plain": [
       "(54404.0, 57100.7)"
      ]
     },
     "execution_count": 119,
     "metadata": {},
     "output_type": "execute_result"
    }
   ],
   "source": [
    "fig, ax = plt.subplots()\n",
    "data_C4_grp = data_C4.query('P_RF>0.1').groupby('pulse')\n",
    "data_C5_grp = data.query('P_RF>0.1').groupby('pulse')\n",
    "\n",
    "data_C4_grp.mean().reset_index().plot(ax=ax, kind='scatter', x='pulse', y='P_RF', \n",
    "                                      color='C0', label='C4', yerr=data_C4_grp.std().reset_index(), s=80, edgecolor='k', alpha=0.5)\n",
    "data_C5_grp.mean().reset_index().plot(ax=ax, kind='scatter', x='pulse', y='P_RF', \n",
    "                                      color='C1', label='C5', yerr=data_C5_grp.std().reset_index(), s=80, edgecolor='k', alpha=0.5)\n",
    "ax.set_xlabel('WEST Pulse #')\n",
    "ax.set_ylabel('Coupled Power [MW]')\n",
    "ax.set_title('Total RF Power')\n",
    "for pulse in C4_after_boro_pulses:\n",
    "    ax.axvline(pulse, ls='--', color='grey')\n",
    "for pulse in C5_after_boro_pulses:\n",
    "    ax.axvline(pulse, ls='--', color='grey')\n",
    "ax.set_xlim(left=data_C4['pulse'][0])"
   ]
  },
  {
   "cell_type": "code",
   "execution_count": 120,
   "metadata": {},
   "outputs": [
    {
     "data": {
      "application/vnd.jupyter.widget-view+json": {
       "model_id": "2fa347b340c8471683493f8641bfc4bf",
       "version_major": 2,
       "version_minor": 0
      },
      "text/plain": [
       "Canvas(toolbar=Toolbar(toolitems=[('Home', 'Reset original view', 'home', 'home'), ('Back', 'Back to previous …"
      ]
     },
     "metadata": {},
     "output_type": "display_data"
    },
    {
     "data": {
      "text/plain": [
       "(54404.0, 57077.6)"
      ]
     },
     "execution_count": 120,
     "metadata": {},
     "output_type": "execute_result"
    }
   ],
   "source": [
    "fig, ax = plt.subplots()\n",
    "data_C4_grp = data_C4.query('IC_P_Q2_MW>0.1').groupby('pulse')\n",
    "data_C5_grp = data.query('IC_P_Q2>0.1').groupby('pulse')\n",
    "\n",
    "data_C4_grp.mean().reset_index().plot(ax=ax, kind='scatter', x='pulse', y='IC_P_Q2_MW', \n",
    "                                      color='C0', label='C4', yerr=data_C4_grp.std().reset_index(), s=80, edgecolor='k', alpha=0.5)\n",
    "data_C5_grp.mean().reset_index().plot(ax=ax, kind='scatter', x='pulse', y='IC_P_Q2', \n",
    "                                      color='C1', label='C5', yerr=data_C5_grp.std().reset_index(), s=80, edgecolor='k', alpha=0.5)\n",
    "ax.set_xlabel('WEST Pulse #')\n",
    "ax.set_ylabel('Coupled Power [MW]')\n",
    "ax.set_title('Q2 Antenna')\n",
    "\n",
    "for pulse in C4_after_boro_pulses:\n",
    "    ax.axvline(pulse, ls='--', color='grey')\n",
    "for pulse in C5_after_boro_pulses:\n",
    "    ax.axvline(pulse, ls='--', color='grey')\n",
    "ax.set_xlim(left=data_C4['pulse'][0])"
   ]
  },
  {
   "cell_type": "code",
   "execution_count": 121,
   "metadata": {},
   "outputs": [
    {
     "data": {
      "application/vnd.jupyter.widget-view+json": {
       "model_id": "eeedd6e1c1a74c31aaff9ab01376faba",
       "version_major": 2,
       "version_minor": 0
      },
      "text/plain": [
       "Canvas(toolbar=Toolbar(toolitems=[('Home', 'Reset original view', 'home', 'home'), ('Back', 'Back to previous …"
      ]
     },
     "metadata": {},
     "output_type": "display_data"
    },
    {
     "data": {
      "text/plain": [
       "(54404.0, 57077.6)"
      ]
     },
     "execution_count": 121,
     "metadata": {},
     "output_type": "execute_result"
    }
   ],
   "source": [
    "fig, ax = plt.subplots()\n",
    "data_C4_grp = data_C4.query('IC_P_Q1_MW>0.1').groupby('pulse')\n",
    "data_C5_grp = data.query('IC_P_Q1>0.1').groupby('pulse')\n",
    "\n",
    "data_C4_grp.mean().reset_index().plot(ax=ax, kind='scatter', x='pulse', y='IC_P_Q1_MW', \n",
    "                                      color='C0', label='C4', yerr=data_C4_grp.std().reset_index(), s=60, edgecolor='k', alpha=0.5)\n",
    "data_C5_grp.mean().reset_index().plot(ax=ax, kind='scatter', x='pulse', y='IC_P_Q1', \n",
    "                                      color='C1', label='C5', yerr=data_C5_grp.std().reset_index(), s=60, edgecolor='k', alpha=0.5)\n",
    "ax.set_xlabel('WEST Pulse #')\n",
    "ax.set_ylabel('Coupled Power [MW]')\n",
    "ax.set_title('Q1 Antenna')\n",
    "for pulse in C4_after_boro_pulses:\n",
    "    ax.axvline(pulse, ls='--', color='grey')\n",
    "for pulse in C5_after_boro_pulses:\n",
    "    ax.axvline(pulse, ls='--', color='grey')\n",
    "ax.set_xlim(left=data_C4['pulse'][0])"
   ]
  },
  {
   "cell_type": "code",
   "execution_count": 122,
   "metadata": {},
   "outputs": [
    {
     "data": {
      "application/vnd.jupyter.widget-view+json": {
       "model_id": "585e21edbd6340249c5503443e69cc86",
       "version_major": 2,
       "version_minor": 0
      },
      "text/plain": [
       "Canvas(toolbar=Toolbar(toolitems=[('Home', 'Reset original view', 'home', 'home'), ('Back', 'Back to previous …"
      ]
     },
     "metadata": {},
     "output_type": "display_data"
    },
    {
     "data": {
      "text/plain": [
       "(54404.0, 57077.6)"
      ]
     },
     "execution_count": 122,
     "metadata": {},
     "output_type": "execute_result"
    }
   ],
   "source": [
    "fig, ax = plt.subplots()\n",
    "data_C4_grp = data_C4.query('IC_P_Q4_MW>0.1').groupby('pulse')\n",
    "data_C5_grp = data.query('IC_P_Q4>0.1').groupby('pulse')\n",
    "\n",
    "data_C4_grp.mean().reset_index().plot(ax=ax, kind='scatter', x='pulse', y='IC_P_Q4_MW', \n",
    "                                      color='C0', label='C4', yerr=data_C4_grp.std().reset_index(), s=60, edgecolor='k', alpha=0.5)\n",
    "data_C5_grp.mean().reset_index().plot(ax=ax, kind='scatter', x='pulse', y='IC_P_Q4', \n",
    "                                      color='C1', label='C5', yerr=data_C5_grp.std().reset_index(), s=60, edgecolor='k', alpha=0.5)\n",
    "ax.set_xlabel('WEST Pulse #')\n",
    "ax.set_ylabel('Coupled Power [MW]')\n",
    "ax.set_title('Q4 Antenna')\n",
    "for pulse in C4_after_boro_pulses:\n",
    "    ax.axvline(pulse, ls='--', color='grey')\n",
    "for pulse in C5_after_boro_pulses:\n",
    "    ax.axvline(pulse, ls='--', color='grey')\n",
    "ax.set_xlim(left=data_C4['pulse'][0])"
   ]
  },
  {
   "cell_type": "markdown",
   "metadata": {},
   "source": [
    "### Coper Evolution between C4 and C5"
   ]
  },
  {
   "cell_type": "code",
   "execution_count": 123,
   "metadata": {},
   "outputs": [
    {
     "data": {
      "application/vnd.jupyter.widget-view+json": {
       "model_id": "60fbd8b29e984700b48cc4203de7bfab",
       "version_major": 2,
       "version_minor": 0
      },
      "text/plain": [
       "Canvas(toolbar=Toolbar(toolitems=[('Home', 'Reset original view', 'home', 'home'), ('Back', 'Back to previous …"
      ]
     },
     "metadata": {},
     "output_type": "display_data"
    },
    {
     "data": {
      "text/plain": [
       "(0.0, 460.80112706898115)"
      ]
     },
     "execution_count": 123,
     "metadata": {},
     "output_type": "execute_result"
    }
   ],
   "source": [
    "data_C4_grp = data_C4.query('IC_P_tot_MW>0.1 & LH_P_tot < 0.1').groupby('pulse')\n",
    "data_C5_grp = data.query('IC_P_tot>0.1 & LH_P_tot < 0.1').groupby('pulse')\n",
    "\n",
    "\n",
    "fig, ax = plt.subplots()\n",
    "data_C4_grp.max().reset_index().plot(ax=ax, kind='scatter', x='pulse', y='Cu_norm', \n",
    "                                      color='C0', label='C4', s=60, edgecolor='k', alpha=0.5)\n",
    "data_C5_grp.max().reset_index().plot(ax=ax, kind='scatter', x='pulse', y='Cu_norm', \n",
    "                                      color='C1', label='C5', s=60, edgecolor='k', alpha=0.5)\n",
    "ax.set_xlabel('WEST Pulse #')\n",
    "ax.set_ylabel('Max Cu/nl [a.u.]')\n",
    "ax.set_title('Normalized Copper Signal during RF Power')\n",
    "for pulse in C4_after_boro_pulses:\n",
    "    ax.axvline(pulse, ls='--', color='grey')\n",
    "for pulse in C5_after_boro_pulses:\n",
    "    ax.axvline(pulse, ls='--', color='grey')\n",
    "ax.set_xlim(left=data_C4['pulse'][0])\n",
    "ax.set_ylim(bottom=0)"
   ]
  },
  {
   "cell_type": "code",
   "execution_count": null,
   "metadata": {},
   "outputs": [],
   "source": [
    "fig, ax = plt.subplots()\n",
    "sns.kdeplot(ax=ax, dataset=data.query(\"pulse < @january_restart & IC_P_tot > 0.1\"), \n",
    "                                      x=data['Isotopic Ratio INBUM04'], y=data['Cu_norm'], \n",
    "                                      shade=True, cmap='Reds', fill=True)"
   ]
  },
  {
   "cell_type": "markdown",
   "metadata": {},
   "source": [
    "# Coupling Resistance vs ROG in C4"
   ]
  },
  {
   "cell_type": "code",
   "execution_count": 210,
   "metadata": {},
   "outputs": [],
   "source": [
    "data_C4['Rext_median_NICE_mm'] = data_C4['Rext_median_NICE']*1e3\n",
    "data_C4['Rext_upper_NICE_mm'] = data_C4['Rext_upper_NICE']*1e3\n",
    "data_C4['Rext_lower_NICE_mm'] = data_C4['Rext_lower_NICE']*1e3\n",
    "# 1st object found at LFS in [mm]\n",
    "data_C4['Robj'] = data_C4[['R_Q1', 'R_Q2', 'R_Q4', 'LH_Positions', 'LPA']].min(axis=1)*1e3\n",
    "# ROG wrt VACTH magnetic reconstruction in [mm]\n",
    "data_C4['ROG_LH'] =  - data_C4['Rext_median']\n",
    "data_C4['ROG_Q1'] = data_C4['R_Q1']*1e3 - data_C4['Rext_median']\n",
    "data_C4['ROG_Q2'] = data_C4['R_Q2']*1e3 - data_C4['Rext_median']\n",
    "data_C4['ROG_Q4'] = data_C4['R_Q4']*1e3 - data_C4['Rext_median']\n",
    "data_C4['ROG'] = data_C4['Robj'] - data_C4['Rext_median']\n",
    "data_C4['ROG_upper'] = data_C4['Robj'] - data_C4['Rext_upper']\n",
    "data_C4['ROG_lower'] = data_C4['Robj'] - data_C4['Rext_lower']\n",
    "# ROG wrt NICE magnetic reconstruction in [mm]\n",
    "data_C4['ROG_Q1_NICE'] = data_C4['R_Q1']*1e3 - data_C4['Rext_median_NICE_mm']\n",
    "data_C4['ROG_Q2_NICE'] = data_C4['R_Q2']*1e3 - data_C4['Rext_median_NICE_mm']\n",
    "data_C4['ROG_Q4_NICE'] = data_C4['R_Q4']*1e3 - data_C4['Rext_median_NICE_mm']\n",
    "data_C4['ROG_NICE'] = data_C4['Robj'] - data_C4['Rext_median_NICE_mm']\n",
    "data_C4['ROG_upper_NICE'] = data_C4['Robj'] - data_C4['Rext_upper_NICE_mm']\n",
    "data_C4['ROG_lower_NICE'] = data_C4['Robj'] - data_C4['Rext_lower_NICE_mm']"
   ]
  },
  {
   "cell_type": "code",
   "execution_count": 212,
   "metadata": {},
   "outputs": [],
   "source": [
    "# Define USN.LSN plasma configuration\n",
    "data_C4['Xpoint'] = 'LSN'  # default plasma are LSN, only a few listed below are USN\n",
    "USN_list = np.r_[55227, 55174, 55173, 55172, 55171, 55170]\n",
    "USN_list = np.append(USN_list, np.arange(54882, 54892))\n",
    "USN_list = np.append(USN_list, np.arange(54894, 54903))\n",
    "USN_list = np.append(USN_list, np.load('WEST_C4_USN_pulse.npy'))  # List by J.Morales\n",
    "USN_list = np.unique(USN_list)\n",
    "data_C4.loc[data_C4['pulse'].isin(USN_list), 'Xpoint'] = 'USN'"
   ]
  },
  {
   "cell_type": "code",
   "execution_count": 214,
   "metadata": {},
   "outputs": [],
   "source": [
    "from scipy.stats import kde"
   ]
  },
  {
   "cell_type": "code",
   "execution_count": 218,
   "metadata": {},
   "outputs": [],
   "source": [
    "####### C4\n",
    "xy = np.r_[\n",
    "    data_C4.query(\"IC_P_Q1 > 0.3 & ROG_NICE > 0 & ROG_NICE < 100 & Xpoint=='LSN'\")[['ROG_NICE','IC_Rc_Q1_avg']].dropna().values,\n",
    "    data_C4.query(\"IC_P_Q2 > 0.3 & ROG_NICE > 0 & ROG_NICE < 100 & Xpoint=='LSN'\")[['ROG_NICE','IC_Rc_Q2_avg']].dropna().values,\n",
    "    data_C4.query(\"IC_P_Q4 > 0.3 & ROG_NICE > 0 & ROG_NICE < 100 & Xpoint=='LSN'\")[['ROG_NICE','IC_Rc_Q4_avg']].dropna().values,\n",
    "]\n",
    "x=xy[:,0]; y=xy[:,1]\n",
    "\n",
    "# Evaluate a gaussian kde on a regular grid of nbins x nbins over data extents\n",
    "nbins=200\n",
    "\n",
    "k = kde.gaussian_kde([x,y])\n",
    "# complex bins number means end is inclusive\n",
    "xi_C4_NICE, yi_C4_NICE = np.mgrid[x.min():x.max():nbins*1j, y.min():y.max():nbins*1j]\n",
    "zi_C4_NICE = k(np.vstack([xi_C4_NICE.flatten(), yi_C4_NICE.flatten()]))\n",
    "\n",
    "xy = np.r_[\n",
    "    data_C4.query(\"IC_P_Q1 > 0.3 & ROG > 0 & ROG < 100 & Xpoint=='LSN'\")[['ROG','IC_Rc_Q1_avg']].dropna().values,\n",
    "    data_C4.query(\"IC_P_Q2 > 0.3 & ROG > 0 & ROG < 100 & Xpoint=='LSN'\")[['ROG','IC_Rc_Q2_avg']].dropna().values,\n",
    "    data_C4.query(\"IC_P_Q4 > 0.3 & ROG > 0 & ROG < 100 & Xpoint=='LSN'\")[['ROG','IC_Rc_Q4_avg']].dropna().values,\n",
    "]\n",
    "x=xy[:,0]; y=xy[:,1]\n",
    "\n",
    "# Evaluate a gaussian kde on a regular grid of nbins x nbins over data extents\n",
    "nbins=200\n",
    "\n",
    "k = kde.gaussian_kde([x,y])\n",
    "# complex bins number means end is inclusive\n",
    "xi_C4_VACTH, yi_C4_VACTH = np.mgrid[x.min():x.max():nbins*1j, y.min():y.max():nbins*1j]\n",
    "zi_C4_VACTH = k(np.vstack([xi_C4_VACTH.flatten(), yi_C4_VACTH.flatten()]))\n",
    "\n",
    "\n",
    "### C5\n",
    "xy = np.r_[\n",
    "    data.query(\"IC_P_Q1 > 0.1 & pulse>=@phase_control_OK & ROG_NICE > 0 & Xpoint=='LSN'\")[['ROG_NICE','IC_Rc_Q1_avg']].dropna().values,\n",
    "    data.query(\"IC_P_Q2 > 0.1 & pulse>=@phase_control_OK & ROG_NICE > 0 & Xpoint=='LSN'\")[['ROG_NICE','IC_Rc_Q2_avg']].dropna().values,\n",
    "    data.query(\"IC_P_Q4 > 0.1 & pulse>=@phase_control_OK & ROG_NICE > 0 & Xpoint=='LSN'\")[['ROG_NICE','IC_Rc_Q4_avg']].dropna().values,\n",
    "]\n",
    "x=xy[:,0]; y=xy[:,1]\n",
    "\n",
    "# Evaluate a gaussian kde on a regular grid of nbins x nbins over data extents\n",
    "nbins=400\n",
    "\n",
    "k = kde.gaussian_kde([x,y])\n",
    "# complex bins number means end is inclusive\n",
    "xi_C5_NICE, yi_C5_NICE = np.mgrid[x.min():x.max():nbins*1j, y.min():y.max():nbins*1j]\n",
    "zi_C5_NICE = k(np.vstack([xi_C5_NICE.flatten(), yi_C5_NICE.flatten()]))\n",
    "\n",
    "\n",
    "xy = np.r_[\n",
    "    data.query(\"IC_P_Q1 > 0.1 & pulse>=@phase_control_OK & ROG > 0 & Xpoint=='LSN'\")[['ROG','IC_Rc_Q1_avg']].dropna().values,\n",
    "    data.query(\"IC_P_Q2 > 0.1 & pulse>=@phase_control_OK & ROG > 0 & Xpoint=='LSN'\")[['ROG','IC_Rc_Q2_avg']].dropna().values,\n",
    "    data.query(\"IC_P_Q4 > 0.1 & pulse>=@phase_control_OK & ROG > 0 & Xpoint=='LSN'\")[['ROG','IC_Rc_Q4_avg']].dropna().values,\n",
    "]\n",
    "x=xy[:,0]; y=xy[:,1]\n",
    "\n",
    "# Evaluate a gaussian kde on a regular grid of nbins x nbins over data extents\n",
    "nbins=400\n",
    "\n",
    "k = kde.gaussian_kde([x,y])\n",
    "# complex bins number means end is inclusive\n",
    "xi_C5_VACTH, yi_C5_VACTH = np.mgrid[x.min():x.max():nbins*1j, y.min():y.max():nbins*1j]\n",
    "zi_C5_VACTH = k(np.vstack([xi_C5_VACTH.flatten(), yi_C5_VACTH.flatten()]))"
   ]
  },
  {
   "cell_type": "code",
   "execution_count": 225,
   "metadata": {},
   "outputs": [
    {
     "data": {
      "application/vnd.jupyter.widget-view+json": {
       "model_id": "68b783891c2f41ce903f04717335a22a",
       "version_major": 2,
       "version_minor": 0
      },
      "text/plain": [
       "Canvas(toolbar=Toolbar(toolitems=[('Home', 'Reset original view', 'home', 'home'), ('Back', 'Back to previous …"
      ]
     },
     "metadata": {},
     "output_type": "display_data"
    },
    {
     "name": "stderr",
     "output_type": "stream",
     "text": [
      "C:\\Users\\JH218595\\AppData\\Local\\Continuum\\anaconda3\\lib\\site-packages\\ipykernel_launcher.py:2: UserWarning: The following kwargs were not used by contour: 'label', 'lw'\n",
      "  \n",
      "C:\\Users\\JH218595\\AppData\\Local\\Continuum\\anaconda3\\lib\\site-packages\\ipykernel_launcher.py:3: UserWarning: The following kwargs were not used by contour: 'label', 'lw'\n",
      "  This is separate from the ipykernel package so we can avoid doing imports until\n",
      "C:\\Users\\JH218595\\AppData\\Local\\Continuum\\anaconda3\\lib\\site-packages\\ipykernel_launcher.py:5: UserWarning: The following kwargs were not used by contour: 'label', 'lw'\n",
      "  \"\"\"\n",
      "C:\\Users\\JH218595\\AppData\\Local\\Continuum\\anaconda3\\lib\\site-packages\\ipykernel_launcher.py:6: UserWarning: The following kwargs were not used by contour: 'label', 'lw'\n",
      "  \n"
     ]
    },
    {
     "data": {
      "text/plain": [
       "Text(0.5, 1.0, 'LSN Plasmas')"
      ]
     },
     "execution_count": 225,
     "metadata": {},
     "output_type": "execute_result"
    }
   ],
   "source": [
    "fig, ax = plt.subplots()\n",
    "ax.contour(xi_C4_NICE, yi_C4_NICE, zi_C4_NICE.reshape(xi_C4_NICE.shape), cmap='Blues', label='C4 - NICE', lw=2)\n",
    "ax.contour(xi_C4_VACTH, yi_C4_VACTH, zi_C4_VACTH.reshape(xi_C4_VACTH.shape), cmap='Purples', label='C4 - VACTH', lw=2)\n",
    "\n",
    "ax.contour(xi_C5_NICE, yi_C5_NICE, zi_C5_NICE.reshape(xi_C5_NICE.shape), cmap='Oranges', label='C5 - NICE', lw=2)\n",
    "ax.contour(xi_C5_VACTH, yi_C5_VACTH, zi_C5_VACTH.reshape(xi_C5_VACTH.shape), cmap='Reds', label='C5 - VACTH', lw=2)\n",
    "\n",
    "#ax.scatter(x,y,color='gray', alpha=0.4)\n",
    "ax.set_ylim(bottom=0, top=1.75)\n",
    "ax.set_xlim(left=0, right=50) \n",
    "ax.legend(('test'))\n",
    "ax.set_title('LSN Plasmas')\n"
   ]
  },
  {
   "cell_type": "code",
   "execution_count": 230,
   "metadata": {},
   "outputs": [
    {
     "data": {
      "application/vnd.jupyter.widget-view+json": {
       "model_id": "d4c96b0d272341829c28f2faa35a75b8",
       "version_major": 2,
       "version_minor": 0
      },
      "text/plain": [
       "Canvas(toolbar=Toolbar(toolitems=[('Home', 'Reset original view', 'home', 'home'), ('Back', 'Back to previous …"
      ]
     },
     "metadata": {},
     "output_type": "display_data"
    },
    {
     "name": "stderr",
     "output_type": "stream",
     "text": [
      "C:\\Users\\JH218595\\AppData\\Local\\Continuum\\anaconda3\\lib\\site-packages\\ipykernel_launcher.py:2: UserWarning: The following kwargs were not used by contour: 'label', 'lw'\n",
      "  \n",
      "C:\\Users\\JH218595\\AppData\\Local\\Continuum\\anaconda3\\lib\\site-packages\\ipykernel_launcher.py:3: UserWarning: The following kwargs were not used by contour: 'label', 'lw'\n",
      "  This is separate from the ipykernel package so we can avoid doing imports until\n",
      "C:\\Users\\JH218595\\AppData\\Local\\Continuum\\anaconda3\\lib\\site-packages\\ipykernel_launcher.py:5: UserWarning: The following kwargs were not used by contour: 'label', 'lw'\n",
      "  \"\"\"\n",
      "C:\\Users\\JH218595\\AppData\\Local\\Continuum\\anaconda3\\lib\\site-packages\\ipykernel_launcher.py:6: UserWarning: The following kwargs were not used by contour: 'label', 'lw'\n",
      "  \n"
     ]
    }
   ],
   "source": [
    "fig, axes = plt.subplots(2,1,sharex=True)\n",
    "axes[0].contour(xi_C4_VACTH, yi_C4_VACTH, zi_C4_VACTH.reshape(xi_C4_VACTH.shape), cmap='Blues', label='C4 - VACTH', lw=2)\n",
    "axes[0].contour(xi_C5_VACTH, yi_C5_VACTH, zi_C5_VACTH.reshape(xi_C5_VACTH.shape), cmap='Reds', label='C5 - VACTH', lw=2)\n",
    "\n",
    "axes[1].contour(xi_C4_NICE, yi_C4_NICE, zi_C4_NICE.reshape(xi_C4_NICE.shape), cmap='Blues', label='C4 - NICE', lw=2)\n",
    "axes[1].contour(xi_C5_NICE, yi_C5_NICE, zi_C5_NICE.reshape(xi_C5_NICE.shape), cmap='Reds', label='C5 - NICE', lw=2)\n",
    "\n",
    "\n",
    "for ax in axes:\n",
    "    ax.set_ylim(bottom=0, top=1.75)\n",
    "    ax.set_xlim(left=0, right=50) \n",
    "    ax.legend(('test'))\n",
    "    ax.set_ylabel('Average $R_c$ [Ohm]')\n",
    "\n",
    "\n",
    "fig.suptitle('LSN Plasmas')\n",
    "ax.set_xlabel('ROG [mm]')\n",
    "fig.tight_layout()\n",
    "fig.subplots_adjust(hspace=0.1)"
   ]
  },
  {
   "cell_type": "code",
   "execution_count": 221,
   "metadata": {
    "scrolled": true
   },
   "outputs": [
    {
     "data": {
      "application/vnd.jupyter.widget-view+json": {
       "model_id": "7cf234a02b85441881fbe0ded279dffd",
       "version_major": 2,
       "version_minor": 0
      },
      "text/plain": [
       "Canvas(toolbar=Toolbar(toolitems=[('Home', 'Reset original view', 'home', 'home'), ('Back', 'Back to previous …"
      ]
     },
     "metadata": {},
     "output_type": "display_data"
    },
    {
     "data": {
      "text/plain": [
       "Text(0.5, 0.98, 'LSN Plasmas')"
      ]
     },
     "execution_count": 221,
     "metadata": {},
     "output_type": "execute_result"
    }
   ],
   "source": [
    "fig, axes = plt.subplots(2, 2, sharex=True, sharey=True)\n",
    "axes[0,0].contourf(xi_C4_NICE, yi_C4_NICE, zi_C4_NICE.reshape(xi_C4_NICE.shape), cmap='Purples')\n",
    "axes[0,1].contourf(xi_C4_VACTH, yi_C4_VACTH, zi_C4_VACTH.reshape(xi_C4_VACTH.shape), cmap='Purples')\n",
    "\n",
    "axes[1,0].contourf(xi_C5_NICE, yi_C5_NICE, zi_C5_NICE.reshape(xi_C5_NICE.shape), cmap='Oranges')\n",
    "axes[1,1].contourf(xi_C5_VACTH, yi_C5_VACTH, zi_C5_VACTH.reshape(xi_C5_VACTH.shape), cmap='Oranges')\n",
    "\n",
    "#ax.scatter(x,y,color='gray', alpha=0.4)\n",
    "[ax.set_ylim(bottom=0, top=2.5) for ax in axes.flatten()]\n",
    "[ax.set_xlim(left=0, right=50) for ax in axes.flatten()]\n",
    "fig.suptitle('LSN Plasmas')"
   ]
  },
  {
   "cell_type": "code",
   "execution_count": 233,
   "metadata": {},
   "outputs": [],
   "source": [
    "####### C4\n",
    "xy = np.r_[\n",
    "    data_C4.query(\"IC_P_Q1 > 0.3 & ROG_NICE > 0 & ROG_NICE < 100 & Xpoint=='USN'\")[['ROG_NICE','IC_Rc_Q1_avg']].dropna().values,\n",
    "    data_C4.query(\"IC_P_Q2 > 0.3 & ROG_NICE > 0 & ROG_NICE < 100 & Xpoint=='USN'\")[['ROG_NICE','IC_Rc_Q2_avg']].dropna().values,\n",
    "    data_C4.query(\"IC_P_Q4 > 0.3 & ROG_NICE > 0 & ROG_NICE < 100 & Xpoint=='USN'\")[['ROG_NICE','IC_Rc_Q4_avg']].dropna().values,\n",
    "]\n",
    "x=xy[:,0]; y=xy[:,1]\n",
    "\n",
    "# Evaluate a gaussian kde on a regular grid of nbins x nbins over data extents\n",
    "nbins=400\n",
    "\n",
    "k = kde.gaussian_kde([x,y])\n",
    "# complex bins number means end is inclusive\n",
    "xi_C4_NICE, yi_C4_NICE = np.mgrid[x.min():x.max():nbins*1j, y.min():y.max():nbins*1j]\n",
    "zi_C4_NICE = k(np.vstack([xi_C4_NICE.flatten(), yi_C4_NICE.flatten()]))\n",
    "\n",
    "xy = np.r_[\n",
    "    data_C4.query(\"IC_P_Q1 > 0.3 & ROG > 0 & ROG < 100 & Xpoint=='USN'\")[['ROG','IC_Rc_Q1_avg']].dropna().values,\n",
    "    data_C4.query(\"IC_P_Q2 > 0.3 & ROG > 0 & ROG < 100 & Xpoint=='USN'\")[['ROG','IC_Rc_Q2_avg']].dropna().values,\n",
    "    data_C4.query(\"IC_P_Q4 > 0.3 & ROG > 0 & ROG < 100 & Xpoint=='USN'\")[['ROG','IC_Rc_Q4_avg']].dropna().values,\n",
    "]\n",
    "x=xy[:,0]; y=xy[:,1]\n",
    "\n",
    "# Evaluate a gaussian kde on a regular grid of nbins x nbins over data extents\n",
    "nbins=400\n",
    "\n",
    "k = kde.gaussian_kde([x,y])\n",
    "# complex bins number means end is inclusive\n",
    "xi_C4_VACTH, yi_C4_VACTH = np.mgrid[x.min():x.max():nbins*1j, y.min():y.max():nbins*1j]\n",
    "zi_C4_VACTH = k(np.vstack([xi_C4_VACTH.flatten(), yi_C4_VACTH.flatten()]))\n",
    "\n",
    "\n",
    "### C5\n",
    "xy = np.r_[\n",
    "    data.query(\"IC_P_Q1 > 0.1 & pulse>=@phase_control_OK & ROG_NICE > 0 & Xpoint=='USN'\")[['ROG_NICE','IC_Rc_Q1_avg']].dropna().values,\n",
    "    data.query(\"IC_P_Q2 > 0.1 & pulse>=@phase_control_OK & ROG_NICE > 0 & Xpoint=='USN'\")[['ROG_NICE','IC_Rc_Q2_avg']].dropna().values,\n",
    "    data.query(\"IC_P_Q4 > 0.1 & pulse>=@phase_control_OK & ROG_NICE > 0 & Xpoint=='USN'\")[['ROG_NICE','IC_Rc_Q4_avg']].dropna().values,\n",
    "]\n",
    "x=xy[:,0]; y=xy[:,1]\n",
    "\n",
    "# Evaluate a gaussian kde on a regular grid of nbins x nbins over data extents\n",
    "nbins=400\n",
    "\n",
    "k = kde.gaussian_kde([x,y])\n",
    "# complex bins number means end is inclusive\n",
    "xi_C5_NICE, yi_C5_NICE = np.mgrid[x.min():x.max():nbins*1j, y.min():y.max():nbins*1j]\n",
    "zi_C5_NICE = k(np.vstack([xi_C5_NICE.flatten(), yi_C5_NICE.flatten()]))\n",
    "\n",
    "\n",
    "xy = np.r_[\n",
    "    data.query(\"IC_P_Q1 > 0.1 & pulse>=@phase_control_OK & ROG > 0 & Xpoint=='USN'\")[['ROG','IC_Rc_Q1_avg']].dropna().values,\n",
    "    data.query(\"IC_P_Q2 > 0.1 & pulse>=@phase_control_OK & ROG > 0 & Xpoint=='USN'\")[['ROG','IC_Rc_Q2_avg']].dropna().values,\n",
    "    data.query(\"IC_P_Q4 > 0.1 & pulse>=@phase_control_OK & ROG > 0 & Xpoint=='USN'\")[['ROG','IC_Rc_Q4_avg']].dropna().values,\n",
    "]\n",
    "x=xy[:,0]; y=xy[:,1]\n",
    "\n",
    "# Evaluate a gaussian kde on a regular grid of nbins x nbins over data extents\n",
    "nbins=400\n",
    "\n",
    "k = kde.gaussian_kde([x,y])\n",
    "# complex bins number means end is inclusive\n",
    "xi_C5_VACTH, yi_C5_VACTH = np.mgrid[x.min():x.max():nbins*1j, y.min():y.max():nbins*1j]\n",
    "zi_C5_VACTH = k(np.vstack([xi_C5_VACTH.flatten(), yi_C5_VACTH.flatten()]))"
   ]
  },
  {
   "cell_type": "code",
   "execution_count": 234,
   "metadata": {},
   "outputs": [
    {
     "data": {
      "application/vnd.jupyter.widget-view+json": {
       "model_id": "7cf7b6a01cd04c7d813856a77def3520",
       "version_major": 2,
       "version_minor": 0
      },
      "text/plain": [
       "Canvas(toolbar=Toolbar(toolitems=[('Home', 'Reset original view', 'home', 'home'), ('Back', 'Back to previous …"
      ]
     },
     "metadata": {},
     "output_type": "display_data"
    },
    {
     "name": "stderr",
     "output_type": "stream",
     "text": [
      "C:\\Users\\JH218595\\AppData\\Local\\Continuum\\anaconda3\\lib\\site-packages\\ipykernel_launcher.py:2: UserWarning: The following kwargs were not used by contour: 'label', 'lw'\n",
      "  \n",
      "C:\\Users\\JH218595\\AppData\\Local\\Continuum\\anaconda3\\lib\\site-packages\\ipykernel_launcher.py:3: UserWarning: The following kwargs were not used by contour: 'label', 'lw'\n",
      "  This is separate from the ipykernel package so we can avoid doing imports until\n",
      "C:\\Users\\JH218595\\AppData\\Local\\Continuum\\anaconda3\\lib\\site-packages\\ipykernel_launcher.py:5: UserWarning: The following kwargs were not used by contour: 'label', 'lw'\n",
      "  \"\"\"\n",
      "C:\\Users\\JH218595\\AppData\\Local\\Continuum\\anaconda3\\lib\\site-packages\\ipykernel_launcher.py:6: UserWarning: The following kwargs were not used by contour: 'label', 'lw'\n",
      "  \n"
     ]
    }
   ],
   "source": [
    "fig, axes = plt.subplots(2,1,sharex=True)\n",
    "axes[0].contour(xi_C4_VACTH, yi_C4_VACTH, zi_C4_VACTH.reshape(xi_C4_VACTH.shape), cmap='Blues', label='C4 - VACTH', lw=2)\n",
    "axes[0].contour(xi_C5_VACTH, yi_C5_VACTH, zi_C5_VACTH.reshape(xi_C5_VACTH.shape), cmap='Reds', label='C5 - VACTH', lw=2)\n",
    "\n",
    "axes[1].contour(xi_C4_NICE, yi_C4_NICE, zi_C4_NICE.reshape(xi_C4_NICE.shape), cmap='Blues', label='C4 - NICE', lw=2)\n",
    "axes[1].contour(xi_C5_NICE, yi_C5_NICE, zi_C5_NICE.reshape(xi_C5_NICE.shape), cmap='Reds', label='C5 - NICE', lw=2)\n",
    "\n",
    "\n",
    "for ax in axes:\n",
    "    ax.set_ylim(bottom=0, top=1.75)\n",
    "    ax.set_xlim(left=0, right=50) \n",
    "    ax.legend(('test'))\n",
    "    ax.set_ylabel('Average $R_c$ [Ohm]')\n",
    "\n",
    "\n",
    "fig.suptitle('USN Plasmas')\n",
    "ax.set_xlabel('ROG [mm]')\n",
    "fig.tight_layout()\n",
    "fig.subplots_adjust(hspace=0.1)"
   ]
  },
  {
   "cell_type": "code",
   "execution_count": 244,
   "metadata": {},
   "outputs": [
    {
     "data": {
      "application/vnd.jupyter.widget-view+json": {
       "model_id": "994b920ff2c84b8a9346e1fd0c12aa33",
       "version_major": 2,
       "version_minor": 0
      },
      "text/plain": [
       "Canvas(toolbar=Toolbar(toolitems=[('Home', 'Reset original view', 'home', 'home'), ('Back', 'Back to previous …"
      ]
     },
     "metadata": {},
     "output_type": "display_data"
    }
   ],
   "source": [
    "fig, ax = plt.subplots(2,1,sharex=True)\n",
    "alp=0.5\n",
    "data_C4.query(\"IC_P_Q1 > 0.3 & ROG > 0 & ROG < 100 & Xpoint=='LSN'\").plot(ax=ax[0], kind='scatter', x='ROG', y='IC_Rc_Q1_avg', label='C4', alpha=alp)\n",
    "data_C4.query(\"IC_P_Q2 > 0.3 & ROG > 0 & ROG < 100 & Xpoint=='LSN'\").plot(ax=ax[0], kind='scatter', x='ROG', y='IC_Rc_Q2_avg', alpha=alp)\n",
    "data_C4.query(\"IC_P_Q4 > 0.3 & ROG > 0 & ROG < 100 & Xpoint=='LSN'\").plot(ax=ax[0], kind='scatter', x='ROG', y='IC_Rc_Q4_avg', alpha=alp)\n",
    "data.query(\"IC_P_Q1 > 0.3 & ROG > 0 & ROG < 100 & Xpoint=='LSN'\").plot(ax=ax[0], kind='scatter', x='ROG', y='IC_Rc_Q1_avg', color='C1', label='C5', alpha=alp)\n",
    "data.query(\"IC_P_Q2 > 0.3 & ROG > 0 & ROG < 100 & Xpoint=='LSN'\").plot(ax=ax[0], kind='scatter', x='ROG', y='IC_Rc_Q2_avg', color='C1', alpha=alp)\n",
    "data.query(\"IC_P_Q4 > 0.3 & ROG > 0 & ROG < 100 & Xpoint=='LSN'\").plot(ax=ax[0], kind='scatter', x='ROG', y='IC_Rc_Q4_avg', color='C1', alpha=alp) \n",
    "\n",
    "data_C4.query(\"IC_P_Q1 > 0.3 & ROG_NICE > 0 & ROG_NICE < 100 & Xpoint=='LSN'\").plot(ax=ax[1], kind='scatter', x='ROG_NICE', y='IC_Rc_Q1_avg', label='C4', alpha=alp)\n",
    "data_C4.query(\"IC_P_Q2 > 0.3 & ROG_NICE > 0 & ROG_NICE < 100 & Xpoint=='LSN'\").plot(ax=ax[1], kind='scatter', x='ROG_NICE', y='IC_Rc_Q2_avg', alpha=alp)\n",
    "data_C4.query(\"IC_P_Q4 > 0.3 & ROG_NICE > 0 & ROG < 100 & Xpoint=='LSN'\").plot(ax=ax[1], kind='scatter', x='ROG_NICE', y='IC_Rc_Q4_avg', alpha=alp)\n",
    "data.query(\"IC_P_Q1 > 0.3 & ROG_NICE > 0 & ROG_NICE < 100 & Xpoint=='LSN'\").plot(ax=ax[1], kind='scatter', x='ROG_NICE', y='IC_Rc_Q1_avg', color='C1', label='C5', alpha=alp)\n",
    "data.query(\"IC_P_Q2 > 0.3 & ROG_NICE > 0 & ROG_NICE < 100 & Xpoint=='LSN'\").plot(ax=ax[1], kind='scatter', x='ROG_NICE', y='IC_Rc_Q2_avg', color='C1', alpha=alp)\n",
    "data.query(\"IC_P_Q4 > 0.3 & ROG_NICE > 0 & ROG_NICE < 100 & Xpoint=='LSN'\").plot(ax=ax[1], kind='scatter', x='ROG_NICE', y='IC_Rc_Q4_avg', color='C1', alpha=alp)\n",
    "\n",
    "for a in ax:\n",
    "    a.set_ylim(bottom=0, top=2.5)\n",
    "    a.set_xlim(left=0, right=70) \n",
    "    a.set_ylabel('Average $R_c$ [Ohm]')\n",
    "\n",
    "fig.suptitle('LSN Plasmas')\n",
    "ax[-1].set_xlabel('ROG [mm]')\n",
    "fig.tight_layout()\n",
    "fig.subplots_adjust(hspace=0.1)"
   ]
  },
  {
   "cell_type": "code",
   "execution_count": 245,
   "metadata": {},
   "outputs": [
    {
     "data": {
      "application/vnd.jupyter.widget-view+json": {
       "model_id": "5f43c04ac9484998bcddea1739c5c0a4",
       "version_major": 2,
       "version_minor": 0
      },
      "text/plain": [
       "Canvas(toolbar=Toolbar(toolitems=[('Home', 'Reset original view', 'home', 'home'), ('Back', 'Back to previous …"
      ]
     },
     "metadata": {},
     "output_type": "display_data"
    }
   ],
   "source": [
    "fig, ax = plt.subplots(2,1,sharex=True)\n",
    "\n",
    "data_C4.query(\"IC_P_Q1 > 0.3 & ROG > 0 & ROG < 100 & Xpoint=='USN'\").plot(ax=ax[0], kind='scatter', x='ROG', y='IC_Rc_Q1_avg', label='C4')\n",
    "data_C4.query(\"IC_P_Q2 > 0.3 & ROG > 0 & ROG < 100 & Xpoint=='USN'\").plot(ax=ax[0], kind='scatter', x='ROG', y='IC_Rc_Q2_avg')\n",
    "data_C4.query(\"IC_P_Q4 > 0.3 & ROG > 0 & ROG < 100 & Xpoint=='USN'\").plot(ax=ax[0], kind='scatter', x='ROG', y='IC_Rc_Q4_avg')\n",
    "data.query(\"IC_P_Q1 > 0.3 & ROG > 0 & ROG < 100 & Xpoint=='USN'\").plot(ax=ax[0], kind='scatter', x='ROG', y='IC_Rc_Q1_avg', color='C1', label='C5')\n",
    "data.query(\"IC_P_Q2 > 0.3 & ROG > 0 & ROG < 100 & Xpoint=='USN'\").plot(ax=ax[0], kind='scatter', x='ROG', y='IC_Rc_Q2_avg', color='C1')\n",
    "data.query(\"IC_P_Q4 > 0.3 & ROG > 0 & ROG < 100 & Xpoint=='USN'\").plot(ax=ax[0], kind='scatter', x='ROG', y='IC_Rc_Q4_avg', color='C1') \n",
    "\n",
    "data_C4.query(\"IC_P_Q1 > 0.3 & ROG_NICE > 0 & ROG_NICE < 100 & Xpoint=='USN'\").plot(ax=ax[1], kind='scatter', x='ROG_NICE', y='IC_Rc_Q1_avg', label='C4')\n",
    "data_C4.query(\"IC_P_Q2 > 0.3 & ROG_NICE > 0 & ROG_NICE < 100 & Xpoint=='USN'\").plot(ax=ax[1], kind='scatter', x='ROG_NICE', y='IC_Rc_Q2_avg')\n",
    "data_C4.query(\"IC_P_Q4 > 0.3 & ROG_NICE > 0 & ROG < 100 & Xpoint=='USN'\").plot(ax=ax[1], kind='scatter', x='ROG_NICE', y='IC_Rc_Q4_avg')\n",
    "data.query(\"IC_P_Q1 > 0.3 & ROG_NICE > 0 & ROG_NICE < 100 & Xpoint=='USN'\").plot(ax=ax[1], kind='scatter', x='ROG_NICE', y='IC_Rc_Q1_avg', color='C1', label='C5')\n",
    "data.query(\"IC_P_Q2 > 0.3 & ROG_NICE > 0 & ROG_NICE < 100 & Xpoint=='USN'\").plot(ax=ax[1], kind='scatter', x='ROG_NICE', y='IC_Rc_Q2_avg', color='C1')\n",
    "data.query(\"IC_P_Q4 > 0.3 & ROG_NICE > 0 & ROG_NICE < 100 & Xpoint=='USN'\").plot(ax=ax[1], kind='scatter', x='ROG_NICE', y='IC_Rc_Q4_avg', color='C1')\n",
    "\n",
    "for a in ax:\n",
    "    a.set_ylim(bottom=0, top=2.5)\n",
    "    a.set_xlim(left=0, right=70) \n",
    "    a.set_ylabel('Average $R_c$ [Ohm]')\n",
    "\n",
    "fig.suptitle('USN Plasmas')\n",
    "ax[-1].set_xlabel('ROG [mm]')\n",
    "fig.tight_layout()\n",
    "fig.subplots_adjust(hspace=0.1)"
   ]
  },
  {
   "cell_type": "code",
   "execution_count": 268,
   "metadata": {},
   "outputs": [
    {
     "data": {
      "application/vnd.jupyter.widget-view+json": {
       "model_id": "5ccab1dda8534204bb99b13b5013365e",
       "version_major": 2,
       "version_minor": 0
      },
      "text/plain": [
       "Canvas(toolbar=Toolbar(toolitems=[('Home', 'Reset original view', 'home', 'home'), ('Back', 'Back to previous …"
      ]
     },
     "metadata": {},
     "output_type": "display_data"
    }
   ],
   "source": [
    "\n",
    "fig, ax = plt.subplots(2,1,sharex=True)\n",
    "alp=0.5\n",
    "Pth = 0.3\n",
    "_C4_Q1 = data_C4.query(\"IC_P_Q1 > @Pth & ROG > 0 & ROG < 100 & Xpoint=='LSN' & MHD<60\").groupby('pulse')\n",
    "_C4_Q2 = data_C4.query(\"IC_P_Q2 > @Pth & ROG > 0 & ROG < 100 & Xpoint=='LSN' & MHD<60\").groupby('pulse')\n",
    "_C4_Q4 = data_C4.query(\"IC_P_Q4 > @Pth & ROG > 0 & ROG < 100 & Xpoint=='LSN' & MHD<60\").groupby('pulse')\n",
    "_C5_Q1 = data.query(\"IC_P_Q1 > @Pth & ROG > 0 & ROG < 100 & Xpoint=='LSN' & MHD<60\").groupby('pulse')\n",
    "_C5_Q2 = data.query(\"IC_P_Q2 > @Pth & ROG > 0 & ROG < 100 & Xpoint=='LSN' & MHD<60\").groupby('pulse')\n",
    "_C5_Q4 = data.query(\"IC_P_Q4 > @Pth & ROG > 0 & ROG < 100 & Xpoint=='LSN' & MHD<60\").groupby('pulse')\n",
    "\n",
    "_C4_Q1.mean().plot(ax=ax[0], kind='scatter', x='ROG', y='IC_Rc_Q1_avg', label='C4', color='C0', alpha=alp, yerr=_C4_Q1.std(), edgecolor='k', s=40, xerr=_C4_Q1.std())\n",
    "_C4_Q2.mean().plot(ax=ax[0], kind='scatter', x='ROG', y='IC_Rc_Q2_avg', color='C0', alpha=alp, yerr=_C4_Q2.std(), edgecolor='k', s=40, xerr=_C4_Q2.std())\n",
    "_C4_Q4.mean().plot(ax=ax[0], kind='scatter', x='ROG', y='IC_Rc_Q4_avg', color='C0', alpha=alp, yerr=_C4_Q4.std(), edgecolor='k', s=40, xerr=_C4_Q4.std())\n",
    "_C5_Q1.mean().plot(ax=ax[0], kind='scatter', x='ROG', y='IC_Rc_Q1_avg', label='C5', color='C1', alpha=alp, yerr=_C5_Q1.std(), edgecolor='k', s=40, xerr=_C5_Q1.std())\n",
    "_C5_Q2.mean().plot(ax=ax[0], kind='scatter', x='ROG', y='IC_Rc_Q2_avg', color='C1', alpha=alp, yerr=_C5_Q2.std(), edgecolor='k', s=40, xerr=_C5_Q2.std())\n",
    "_C5_Q4.mean().plot(ax=ax[0], kind='scatter', x='ROG', y='IC_Rc_Q4_avg', color='C1', alpha=alp, yerr=_C5_Q4.std(), edgecolor='k', s=40, xerr=_C5_Q4.std())\n",
    "\n",
    "_C4_Q1.mean().plot(ax=ax[1], kind='scatter', x='ROG_NICE', y='IC_Rc_Q1_avg', label='C4', color='C0', alpha=alp, yerr=_C4_Q1.std(), edgecolor='k', s=40, xerr=_C4_Q1.std())\n",
    "_C4_Q2.mean().plot(ax=ax[1], kind='scatter', x='ROG_NICE', y='IC_Rc_Q2_avg', color='C0', alpha=alp, yerr=_C4_Q2.std(), edgecolor='k', s=40, xerr=_C4_Q2.std())\n",
    "_C4_Q4.mean().plot(ax=ax[1], kind='scatter', x='ROG_NICE', y='IC_Rc_Q4_avg', color='C0', alpha=alp, yerr=_C4_Q4.std(), edgecolor='k', s=40, xerr=_C4_Q4.std())\n",
    "_C5_Q1.mean().plot(ax=ax[1], kind='scatter', x='ROG_NICE', y='IC_Rc_Q1_avg', label='C5', color='C1', alpha=alp, yerr=_C5_Q1.std(), edgecolor='k', s=40, xerr=_C5_Q1.std())\n",
    "_C5_Q2.mean().plot(ax=ax[1], kind='scatter', x='ROG_NICE', y='IC_Rc_Q2_avg', color='C1', alpha=alp, yerr=_C5_Q2.std(), edgecolor='k', s=40, xerr=_C5_Q2.std())\n",
    "_C5_Q4.mean().plot(ax=ax[1], kind='scatter', x='ROG_NICE', y='IC_Rc_Q4_avg', color='C1', alpha=alp, yerr=_C5_Q4.std(), edgecolor='k', s=40, xerr=_C5_Q4.std())\n",
    "\n",
    "for a in ax:\n",
    "    a.set_ylim(bottom=0, top=2.5)\n",
    "    a.set_xlim(left=0, right=70) \n",
    "    a.set_ylabel('$\\overline{R_c}$ [Ohm]')\n",
    "\n",
    "fig.suptitle('LSN Plasmas ; $P_{IC}>'+str(Pth)+'$MW')\n",
    "ax[-1].set_xlabel('ROG [mm]')\n",
    "fig.tight_layout()\n",
    "fig.subplots_adjust(hspace=0.1)"
   ]
  },
  {
   "cell_type": "code",
   "execution_count": 262,
   "metadata": {},
   "outputs": [
    {
     "data": {
      "application/vnd.jupyter.widget-view+json": {
       "model_id": "d0df2c9b44bd4c519c5dec5fdbef0920",
       "version_major": 2,
       "version_minor": 0
      },
      "text/plain": [
       "Canvas(toolbar=Toolbar(toolitems=[('Home', 'Reset original view', 'home', 'home'), ('Back', 'Back to previous …"
      ]
     },
     "metadata": {},
     "output_type": "display_data"
    }
   ],
   "source": [
    "\n",
    "fig, ax = plt.subplots(2,1,sharex=True)\n",
    "alp=0.5\n",
    "_C4_Q1 = data_C4.query(\"IC_P_Q1 > 0.3 & ROG > 0 & ROG < 100 & Xpoint=='USN' & MHD<60\").groupby('pulse')\n",
    "_C4_Q2 = data_C4.query(\"IC_P_Q2 > 0.3 & ROG > 0 & ROG < 100 & Xpoint=='USN' & MHD<60\").groupby('pulse')\n",
    "_C4_Q4 = data_C4.query(\"IC_P_Q4 > 0.3 & ROG > 0 & ROG < 100 & Xpoint=='USN' & MHD<60\").groupby('pulse')\n",
    "_C5_Q1 = data.query(\"IC_P_Q1 > 0.3 & ROG > 0 & ROG < 100 & Xpoint=='USN' & MHD<60\").groupby('pulse')\n",
    "_C5_Q2 = data.query(\"IC_P_Q2 > 0.3 & ROG > 0 & ROG < 100 & Xpoint=='USN' & MHD<60\").groupby('pulse')\n",
    "_C5_Q4 = data.query(\"IC_P_Q4 > 0.3 & ROG > 0 & ROG < 100 & Xpoint=='USN' & MHD<60\").groupby('pulse')\n",
    "\n",
    "_C4_Q1.mean().plot(ax=ax[0], kind='scatter', x='ROG', y='IC_Rc_Q1_avg', label='C4', color='C0', alpha=alp, yerr=_C4_Q1.std(), edgecolor='k', s=40, xerr=_C4_Q1.std())\n",
    "_C4_Q2.mean().plot(ax=ax[0], kind='scatter', x='ROG', y='IC_Rc_Q2_avg', color='C0', alpha=alp, yerr=_C4_Q2.std(), edgecolor='k', s=40, xerr=_C4_Q2.std())\n",
    "_C4_Q4.mean().plot(ax=ax[0], kind='scatter', x='ROG', y='IC_Rc_Q4_avg', color='C0', alpha=alp, yerr=_C4_Q4.std(), edgecolor='k', s=40, xerr=_C4_Q4.std())\n",
    "_C5_Q1.mean().plot(ax=ax[0], kind='scatter', x='ROG', y='IC_Rc_Q1_avg', label='C5', color='C1', alpha=alp, yerr=_C5_Q1.std(), edgecolor='k', s=40, xerr=_C5_Q1.std())\n",
    "_C5_Q2.mean().plot(ax=ax[0], kind='scatter', x='ROG', y='IC_Rc_Q2_avg', color='C1', alpha=alp, yerr=_C5_Q2.std(), edgecolor='k', s=40, xerr=_C5_Q2.std())\n",
    "_C5_Q4.mean().plot(ax=ax[0], kind='scatter', x='ROG', y='IC_Rc_Q4_avg', color='C1', alpha=alp, yerr=_C5_Q4.std(), edgecolor='k', s=40, xerr=_C5_Q4.std())\n",
    "\n",
    "_C4_Q1.mean().plot(ax=ax[1], kind='scatter', x='ROG_NICE', y='IC_Rc_Q1_avg', label='C4', color='C0', alpha=alp, yerr=_C4_Q1.std(), edgecolor='k', s=40, xerr=_C4_Q1.std())\n",
    "_C4_Q2.mean().plot(ax=ax[1], kind='scatter', x='ROG_NICE', y='IC_Rc_Q2_avg', color='C0', alpha=alp, yerr=_C4_Q2.std(), edgecolor='k', s=40, xerr=_C4_Q2.std())\n",
    "_C4_Q4.mean().plot(ax=ax[1], kind='scatter', x='ROG_NICE', y='IC_Rc_Q4_avg', color='C0', alpha=alp, yerr=_C4_Q4.std(), edgecolor='k', s=40, xerr=_C4_Q4.std())\n",
    "_C5_Q1.mean().plot(ax=ax[1], kind='scatter', x='ROG_NICE', y='IC_Rc_Q1_avg', label='C5', color='C1', alpha=alp, yerr=_C5_Q1.std(), edgecolor='k', s=40, xerr=_C5_Q1.std())\n",
    "_C5_Q2.mean().plot(ax=ax[1], kind='scatter', x='ROG_NICE', y='IC_Rc_Q2_avg', color='C1', alpha=alp, yerr=_C5_Q2.std(), edgecolor='k', s=40, xerr=_C5_Q2.std())\n",
    "_C5_Q4.mean().plot(ax=ax[1], kind='scatter', x='ROG_NICE', y='IC_Rc_Q4_avg', color='C1', alpha=alp, yerr=_C5_Q4.std(), edgecolor='k', s=40, xerr=_C5_Q4.std())\n",
    "\n",
    "for a in ax:\n",
    "    a.set_ylim(bottom=0, top=2.5)\n",
    "    a.set_xlim(left=0, right=70) \n",
    "    a.set_ylabel('$\\overline{R_c}$ [Ohm]')\n",
    "\n",
    "fig.suptitle('USN Plasmas ; $P_{IC}>0.3$MW')\n",
    "ax[-1].set_xlabel('ROG [mm]')\n",
    "fig.tight_layout()\n",
    "fig.subplots_adjust(hspace=0.1)"
   ]
  },
  {
   "cell_type": "code",
   "execution_count": null,
   "metadata": {},
   "outputs": [],
   "source": []
  }
 ],
 "metadata": {
  "kernelspec": {
   "display_name": "Python 3",
   "language": "python",
   "name": "python3"
  },
  "language_info": {
   "codemirror_mode": {
    "name": "ipython",
    "version": 3
   },
   "file_extension": ".py",
   "mimetype": "text/x-python",
   "name": "python",
   "nbconvert_exporter": "python",
   "pygments_lexer": "ipython3",
   "version": "3.7.8"
  }
 },
 "nbformat": 4,
 "nbformat_minor": 4
}
