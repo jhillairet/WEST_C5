{
 "cells": [
  {
   "cell_type": "code",
   "execution_count": 36,
   "metadata": {},
   "outputs": [
    {
     "name": "stdout",
     "output_type": "stream",
     "text": [
      "The autoreload extension is already loaded. To reload it, use:\n",
      "  %reload_ext autoreload\n"
     ]
    }
   ],
   "source": [
    "# assume working in Jupyter Lab\n",
    "%matplotlib widget\n",
    "\n",
    "%load_ext autoreload\n",
    "%autoreload 2"
   ]
  },
  {
   "cell_type": "code",
   "execution_count": 37,
   "metadata": {},
   "outputs": [],
   "source": [
    "import sys\n",
    "import numpy as np\n",
    "import pandas as pd\n",
    "import matplotlib.pyplot as plt \n",
    "import seaborn as sns\n",
    "from scipy.optimize import curve_fit \n",
    "from tqdm.notebook import tqdm"
   ]
  },
  {
   "cell_type": "code",
   "execution_count": 38,
   "metadata": {},
   "outputs": [],
   "source": [
    "sns.set_style('whitegrid')\n",
    "sns.set_context('paper', font_scale=1.4)\n",
    "plt.rcParams['figure.figsize'] = (10,6)\n",
    "plt.rcParams['axes.labelsize'] = 18\n",
    "plt.rcParams['axes.titlesize'] = 18\n",
    "plt.rcParams['xtick.labelsize'] = 14\n",
    "plt.rcParams['ytick.labelsize'] = 14"
   ]
  },
  {
   "cell_type": "markdown",
   "metadata": {},
   "source": [
    "# Importing the database"
   ]
  },
  {
   "cell_type": "code",
   "execution_count": 39,
   "metadata": {},
   "outputs": [
    {
     "data": {
      "text/html": [
       "<div>\n",
       "<style scoped>\n",
       "    .dataframe tbody tr th:only-of-type {\n",
       "        vertical-align: middle;\n",
       "    }\n",
       "\n",
       "    .dataframe tbody tr th {\n",
       "        vertical-align: top;\n",
       "    }\n",
       "\n",
       "    .dataframe thead th {\n",
       "        text-align: right;\n",
       "    }\n",
       "</style>\n",
       "<table border=\"1\" class=\"dataframe\">\n",
       "  <thead>\n",
       "    <tr style=\"text-align: right;\">\n",
       "      <th></th>\n",
       "      <th>Unnamed: 0</th>\n",
       "      <th>pulse</th>\n",
       "      <th>Ag18</th>\n",
       "      <th>Ag19</th>\n",
       "      <th>Cu</th>\n",
       "      <th>year</th>\n",
       "      <th>month</th>\n",
       "      <th>day</th>\n",
       "      <th>Fe</th>\n",
       "      <th>freq_Q1</th>\n",
       "      <th>...</th>\n",
       "      <th>MHD</th>\n",
       "      <th>Ohmic_P</th>\n",
       "      <th>Prad</th>\n",
       "      <th>Prad_imas</th>\n",
       "      <th>Rext_median</th>\n",
       "      <th>Rext_median_NICE</th>\n",
       "      <th>Separatrix_P</th>\n",
       "      <th>W_MHD</th>\n",
       "      <th>frad_imas</th>\n",
       "      <th>nl</th>\n",
       "    </tr>\n",
       "  </thead>\n",
       "  <tbody>\n",
       "    <tr>\n",
       "      <th>0</th>\n",
       "      <td>0</td>\n",
       "      <td>56289</td>\n",
       "      <td>1.330797</td>\n",
       "      <td>0.922018</td>\n",
       "      <td>NaN</td>\n",
       "      <td>2020.0</td>\n",
       "      <td>12.0</td>\n",
       "      <td>10.0</td>\n",
       "      <td>NaN</td>\n",
       "      <td>55.299999</td>\n",
       "      <td>...</td>\n",
       "      <td>0.000000</td>\n",
       "      <td>0.000000</td>\n",
       "      <td>0.000000</td>\n",
       "      <td>0.090342</td>\n",
       "      <td>2981.637954</td>\n",
       "      <td>2973.267766</td>\n",
       "      <td>0.000000</td>\n",
       "      <td>41387.948887</td>\n",
       "      <td>NaN</td>\n",
       "      <td>1.449843</td>\n",
       "    </tr>\n",
       "    <tr>\n",
       "      <th>1</th>\n",
       "      <td>1</td>\n",
       "      <td>56289</td>\n",
       "      <td>0.983774</td>\n",
       "      <td>1.000000</td>\n",
       "      <td>NaN</td>\n",
       "      <td>2020.0</td>\n",
       "      <td>12.0</td>\n",
       "      <td>10.0</td>\n",
       "      <td>NaN</td>\n",
       "      <td>55.299999</td>\n",
       "      <td>...</td>\n",
       "      <td>0.000000</td>\n",
       "      <td>0.000000</td>\n",
       "      <td>0.000000</td>\n",
       "      <td>0.089766</td>\n",
       "      <td>2946.637476</td>\n",
       "      <td>2968.167753</td>\n",
       "      <td>0.000000</td>\n",
       "      <td>47250.362452</td>\n",
       "      <td>NaN</td>\n",
       "      <td>1.562838</td>\n",
       "    </tr>\n",
       "    <tr>\n",
       "      <th>2</th>\n",
       "      <td>2</td>\n",
       "      <td>56289</td>\n",
       "      <td>1.000000</td>\n",
       "      <td>1.000000</td>\n",
       "      <td>NaN</td>\n",
       "      <td>2020.0</td>\n",
       "      <td>12.0</td>\n",
       "      <td>10.0</td>\n",
       "      <td>6.086065</td>\n",
       "      <td>55.299999</td>\n",
       "      <td>...</td>\n",
       "      <td>0.000000</td>\n",
       "      <td>0.000000</td>\n",
       "      <td>0.000000</td>\n",
       "      <td>0.088568</td>\n",
       "      <td>2956.318470</td>\n",
       "      <td>2951.450858</td>\n",
       "      <td>0.000000</td>\n",
       "      <td>48850.911413</td>\n",
       "      <td>NaN</td>\n",
       "      <td>1.579303</td>\n",
       "    </tr>\n",
       "    <tr>\n",
       "      <th>3</th>\n",
       "      <td>3</td>\n",
       "      <td>56289</td>\n",
       "      <td>1.000000</td>\n",
       "      <td>NaN</td>\n",
       "      <td>1.896461</td>\n",
       "      <td>2020.0</td>\n",
       "      <td>12.0</td>\n",
       "      <td>10.0</td>\n",
       "      <td>NaN</td>\n",
       "      <td>55.299999</td>\n",
       "      <td>...</td>\n",
       "      <td>0.000000</td>\n",
       "      <td>0.000000</td>\n",
       "      <td>0.000000</td>\n",
       "      <td>0.095068</td>\n",
       "      <td>2942.756561</td>\n",
       "      <td>2946.898475</td>\n",
       "      <td>0.000000</td>\n",
       "      <td>49309.269950</td>\n",
       "      <td>39.939243</td>\n",
       "      <td>1.579081</td>\n",
       "    </tr>\n",
       "    <tr>\n",
       "      <th>4</th>\n",
       "      <td>4</td>\n",
       "      <td>56289</td>\n",
       "      <td>1.000000</td>\n",
       "      <td>NaN</td>\n",
       "      <td>NaN</td>\n",
       "      <td>2020.0</td>\n",
       "      <td>12.0</td>\n",
       "      <td>10.0</td>\n",
       "      <td>3.738001</td>\n",
       "      <td>55.299999</td>\n",
       "      <td>...</td>\n",
       "      <td>0.000000</td>\n",
       "      <td>0.000000</td>\n",
       "      <td>0.000000</td>\n",
       "      <td>0.106382</td>\n",
       "      <td>2950.297941</td>\n",
       "      <td>2946.527634</td>\n",
       "      <td>0.000000</td>\n",
       "      <td>50541.130810</td>\n",
       "      <td>37.665285</td>\n",
       "      <td>1.586296</td>\n",
       "    </tr>\n",
       "    <tr>\n",
       "      <th>...</th>\n",
       "      <td>...</td>\n",
       "      <td>...</td>\n",
       "      <td>...</td>\n",
       "      <td>...</td>\n",
       "      <td>...</td>\n",
       "      <td>...</td>\n",
       "      <td>...</td>\n",
       "      <td>...</td>\n",
       "      <td>...</td>\n",
       "      <td>...</td>\n",
       "      <td>...</td>\n",
       "      <td>...</td>\n",
       "      <td>...</td>\n",
       "      <td>...</td>\n",
       "      <td>...</td>\n",
       "      <td>...</td>\n",
       "      <td>...</td>\n",
       "      <td>...</td>\n",
       "      <td>...</td>\n",
       "      <td>...</td>\n",
       "      <td>...</td>\n",
       "    </tr>\n",
       "    <tr>\n",
       "      <th>102969</th>\n",
       "      <td>133</td>\n",
       "      <td>56927</td>\n",
       "      <td>3.255704</td>\n",
       "      <td>NaN</td>\n",
       "      <td>938.807028</td>\n",
       "      <td>2021.0</td>\n",
       "      <td>1.0</td>\n",
       "      <td>27.0</td>\n",
       "      <td>57.705132</td>\n",
       "      <td>55.650002</td>\n",
       "      <td>...</td>\n",
       "      <td>55.154390</td>\n",
       "      <td>0.194942</td>\n",
       "      <td>0.215554</td>\n",
       "      <td>1.981225</td>\n",
       "      <td>2999.502356</td>\n",
       "      <td>2954.231467</td>\n",
       "      <td>4.491285</td>\n",
       "      <td>159950.885865</td>\n",
       "      <td>42.787203</td>\n",
       "      <td>3.881966</td>\n",
       "    </tr>\n",
       "    <tr>\n",
       "      <th>102970</th>\n",
       "      <td>134</td>\n",
       "      <td>56927</td>\n",
       "      <td>4.305329</td>\n",
       "      <td>NaN</td>\n",
       "      <td>1125.728768</td>\n",
       "      <td>2021.0</td>\n",
       "      <td>1.0</td>\n",
       "      <td>27.0</td>\n",
       "      <td>52.723995</td>\n",
       "      <td>55.650002</td>\n",
       "      <td>...</td>\n",
       "      <td>51.023682</td>\n",
       "      <td>NaN</td>\n",
       "      <td>0.273737</td>\n",
       "      <td>1.971765</td>\n",
       "      <td>2996.066164</td>\n",
       "      <td>2939.076437</td>\n",
       "      <td>4.369750</td>\n",
       "      <td>119691.346640</td>\n",
       "      <td>43.464882</td>\n",
       "      <td>3.964103</td>\n",
       "    </tr>\n",
       "    <tr>\n",
       "      <th>102971</th>\n",
       "      <td>135</td>\n",
       "      <td>56927</td>\n",
       "      <td>NaN</td>\n",
       "      <td>NaN</td>\n",
       "      <td>1305.258287</td>\n",
       "      <td>2021.0</td>\n",
       "      <td>1.0</td>\n",
       "      <td>27.0</td>\n",
       "      <td>43.369206</td>\n",
       "      <td>55.650002</td>\n",
       "      <td>...</td>\n",
       "      <td>48.604170</td>\n",
       "      <td>NaN</td>\n",
       "      <td>0.256551</td>\n",
       "      <td>1.874935</td>\n",
       "      <td>2995.771317</td>\n",
       "      <td>2919.308808</td>\n",
       "      <td>4.201980</td>\n",
       "      <td>67748.948100</td>\n",
       "      <td>43.038818</td>\n",
       "      <td>4.014365</td>\n",
       "    </tr>\n",
       "    <tr>\n",
       "      <th>102972</th>\n",
       "      <td>136</td>\n",
       "      <td>56927</td>\n",
       "      <td>1.347270</td>\n",
       "      <td>NaN</td>\n",
       "      <td>1641.330827</td>\n",
       "      <td>2021.0</td>\n",
       "      <td>1.0</td>\n",
       "      <td>27.0</td>\n",
       "      <td>NaN</td>\n",
       "      <td>55.650002</td>\n",
       "      <td>...</td>\n",
       "      <td>NaN</td>\n",
       "      <td>NaN</td>\n",
       "      <td>NaN</td>\n",
       "      <td>NaN</td>\n",
       "      <td>2979.209430</td>\n",
       "      <td>2894.406853</td>\n",
       "      <td>NaN</td>\n",
       "      <td>2836.158112</td>\n",
       "      <td>NaN</td>\n",
       "      <td>3.813805</td>\n",
       "    </tr>\n",
       "    <tr>\n",
       "      <th>102973</th>\n",
       "      <td>137</td>\n",
       "      <td>56927</td>\n",
       "      <td>1.071788</td>\n",
       "      <td>13.421314</td>\n",
       "      <td>NaN</td>\n",
       "      <td>2021.0</td>\n",
       "      <td>1.0</td>\n",
       "      <td>27.0</td>\n",
       "      <td>NaN</td>\n",
       "      <td>55.650002</td>\n",
       "      <td>...</td>\n",
       "      <td>NaN</td>\n",
       "      <td>NaN</td>\n",
       "      <td>NaN</td>\n",
       "      <td>1.932687</td>\n",
       "      <td>NaN</td>\n",
       "      <td>2863.848843</td>\n",
       "      <td>3.402092</td>\n",
       "      <td>-76334.555456</td>\n",
       "      <td>NaN</td>\n",
       "      <td>NaN</td>\n",
       "    </tr>\n",
       "  </tbody>\n",
       "</table>\n",
       "<p>102974 rows × 67 columns</p>\n",
       "</div>"
      ],
      "text/plain": [
       "        Unnamed: 0  pulse      Ag18       Ag19           Cu    year  month  \\\n",
       "0                0  56289  1.330797   0.922018          NaN  2020.0   12.0   \n",
       "1                1  56289  0.983774   1.000000          NaN  2020.0   12.0   \n",
       "2                2  56289  1.000000   1.000000          NaN  2020.0   12.0   \n",
       "3                3  56289  1.000000        NaN     1.896461  2020.0   12.0   \n",
       "4                4  56289  1.000000        NaN          NaN  2020.0   12.0   \n",
       "...            ...    ...       ...        ...          ...     ...    ...   \n",
       "102969         133  56927  3.255704        NaN   938.807028  2021.0    1.0   \n",
       "102970         134  56927  4.305329        NaN  1125.728768  2021.0    1.0   \n",
       "102971         135  56927       NaN        NaN  1305.258287  2021.0    1.0   \n",
       "102972         136  56927  1.347270        NaN  1641.330827  2021.0    1.0   \n",
       "102973         137  56927  1.071788  13.421314          NaN  2021.0    1.0   \n",
       "\n",
       "         day         Fe    freq_Q1  ...        MHD   Ohmic_P      Prad  \\\n",
       "0       10.0        NaN  55.299999  ...   0.000000  0.000000  0.000000   \n",
       "1       10.0        NaN  55.299999  ...   0.000000  0.000000  0.000000   \n",
       "2       10.0   6.086065  55.299999  ...   0.000000  0.000000  0.000000   \n",
       "3       10.0        NaN  55.299999  ...   0.000000  0.000000  0.000000   \n",
       "4       10.0   3.738001  55.299999  ...   0.000000  0.000000  0.000000   \n",
       "...      ...        ...        ...  ...        ...       ...       ...   \n",
       "102969  27.0  57.705132  55.650002  ...  55.154390  0.194942  0.215554   \n",
       "102970  27.0  52.723995  55.650002  ...  51.023682       NaN  0.273737   \n",
       "102971  27.0  43.369206  55.650002  ...  48.604170       NaN  0.256551   \n",
       "102972  27.0        NaN  55.650002  ...        NaN       NaN       NaN   \n",
       "102973  27.0        NaN  55.650002  ...        NaN       NaN       NaN   \n",
       "\n",
       "        Prad_imas  Rext_median  Rext_median_NICE  Separatrix_P          W_MHD  \\\n",
       "0        0.090342  2981.637954       2973.267766      0.000000   41387.948887   \n",
       "1        0.089766  2946.637476       2968.167753      0.000000   47250.362452   \n",
       "2        0.088568  2956.318470       2951.450858      0.000000   48850.911413   \n",
       "3        0.095068  2942.756561       2946.898475      0.000000   49309.269950   \n",
       "4        0.106382  2950.297941       2946.527634      0.000000   50541.130810   \n",
       "...           ...          ...               ...           ...            ...   \n",
       "102969   1.981225  2999.502356       2954.231467      4.491285  159950.885865   \n",
       "102970   1.971765  2996.066164       2939.076437      4.369750  119691.346640   \n",
       "102971   1.874935  2995.771317       2919.308808      4.201980   67748.948100   \n",
       "102972        NaN  2979.209430       2894.406853           NaN    2836.158112   \n",
       "102973   1.932687          NaN       2863.848843      3.402092  -76334.555456   \n",
       "\n",
       "        frad_imas        nl  \n",
       "0             NaN  1.449843  \n",
       "1             NaN  1.562838  \n",
       "2             NaN  1.579303  \n",
       "3       39.939243  1.579081  \n",
       "4       37.665285  1.586296  \n",
       "...           ...       ...  \n",
       "102969  42.787203  3.881966  \n",
       "102970  43.464882  3.964103  \n",
       "102971  43.038818  4.014365  \n",
       "102972        NaN  3.813805  \n",
       "102973        NaN       NaN  \n",
       "\n",
       "[102974 rows x 67 columns]"
      ]
     },
     "execution_count": 39,
     "metadata": {},
     "output_type": "execute_result"
    }
   ],
   "source": [
    "# Importing Resumed Parameters\n",
    "data = pd.read_csv('WEST_C5_database_resumed_parameters.csv')\n",
    "data"
   ]
  },
  {
   "cell_type": "markdown",
   "metadata": {},
   "source": [
    "# Cleaning the data"
   ]
  },
  {
   "cell_type": "markdown",
   "metadata": {},
   "source": [
    "Below we remove non physical or not relevant values"
   ]
  },
  {
   "cell_type": "code",
   "execution_count": 40,
   "metadata": {},
   "outputs": [
    {
     "data": {
      "text/plain": [
       "102974"
      ]
     },
     "execution_count": 40,
     "metadata": {},
     "output_type": "execute_result"
    }
   ],
   "source": [
    "len(data)"
   ]
  },
  {
   "cell_type": "code",
   "execution_count": 41,
   "metadata": {},
   "outputs": [],
   "source": [
    "data = data.query('nl > 2 and Ip > 0.4')\\\n",
    "            .query('Rext_median > 2700')"
   ]
  },
  {
   "cell_type": "markdown",
   "metadata": {},
   "source": [
    "Total number of points:"
   ]
  },
  {
   "cell_type": "code",
   "execution_count": 42,
   "metadata": {},
   "outputs": [
    {
     "data": {
      "text/plain": [
       "67142"
      ]
     },
     "execution_count": 42,
     "metadata": {},
     "output_type": "execute_result"
    }
   ],
   "source": [
    "len(data)"
   ]
  },
  {
   "cell_type": "markdown",
   "metadata": {},
   "source": [
    "Names of available data in the dataset:"
   ]
  },
  {
   "cell_type": "code",
   "execution_count": 43,
   "metadata": {},
   "outputs": [
    {
     "data": {
      "text/plain": [
       "Index(['Unnamed: 0', 'pulse', 'Ag18', 'Ag19', 'Cu', 'year', 'month', 'day',\n",
       "       'Fe', 'freq_Q1', 'freq_Q2', 'freq_Q4', 'IC_Frequencies', 'IC_P_Q1',\n",
       "       'IC_P_Q2', 'IC_P_Q4', 'IC_P_tot', 'IC_Phase_Q1',\n",
       "       'IC_Phase_Q1 (Pf_left - Pf_right)', 'IC_Phase_Q2',\n",
       "       'IC_Phase_Q2 (Pf_left - Pf_right)', 'IC_Phase_Q4',\n",
       "       'IC_Phase_Q4 (Pf_left - Pf_right)', 'R_Q1', 'R_Q2', 'R_Q4',\n",
       "       'IC_Positions', 'IC_Rc_Q1_avg', 'IC_Rc_Q1_left', 'IC_Rc_Q1_right',\n",
       "       'IC_Rc_Q2_avg', 'IC_Rc_Q2_left', 'IC_Rc_Q2_right', 'IC_Rc_Q4_avg',\n",
       "       'IC_Rc_Q4_left', 'IC_Rc_Q4_right', 'IC_Voltage_left_lower_Q1',\n",
       "       'IC_Voltage_left_lower_Q2', 'IC_Voltage_left_lower_Q4',\n",
       "       'IC_Voltage_left_upper_Q1', 'IC_Voltage_left_upper_Q2',\n",
       "       'IC_Voltage_left_upper_Q4', 'IC_Voltage_right_lower_Q1',\n",
       "       'IC_Voltage_right_lower_Q2', 'IC_Voltage_right_lower_Q4',\n",
       "       'IC_Voltage_right_upper_Q1', 'IC_Voltage_right_upper_Q2',\n",
       "       'IC_Voltage_right_upper_Q4', 'time', 'Ip', 'Isotopic Ratio INBUM04',\n",
       "       'Isotopic Ratio LODIVIN15', 'Isotopic Ratio LODIVOU15', 'LH_P_tot',\n",
       "       'R_LH1', 'R_LH2', 'LH_Positions', 'MHD', 'Ohmic_P', 'Prad', 'Prad_imas',\n",
       "       'Rext_median', 'Rext_median_NICE', 'Separatrix_P', 'W_MHD', 'frad_imas',\n",
       "       'nl'],\n",
       "      dtype='object')"
      ]
     },
     "execution_count": 43,
     "metadata": {},
     "output_type": "execute_result"
    }
   ],
   "source": [
    "data.columns"
   ]
  },
  {
   "cell_type": "code",
   "execution_count": 44,
   "metadata": {},
   "outputs": [],
   "source": [
    "first_C5_pulse = 56247\n",
    "january_restart = 56544\n",
    "post_boro = [56247, 56597]\n",
    "phase_control_OK = 56469\n",
    "Q2_position_OK = 56737"
   ]
  },
  {
   "cell_type": "code",
   "execution_count": 45,
   "metadata": {},
   "outputs": [],
   "source": [
    "sessions = {\n",
    "    'C1-C5-W1-21': {\n",
    "        'name': 'Impact of BN tiles on W Sources during start up/divertor phase - Ohmic',\n",
    "        'pulses': (56415,56435),\n",
    "        'date': ('2020-12-16')\n",
    "    },\n",
    "    'C1-C5-W1-23': {\n",
    "        'name': 'Impact of BN tiles on W Sources during divertor phase - Heating',\n",
    "        'pulses': (56462,56489),\n",
    "        'date': ('2020-12-18')\n",
    "    },\n",
    "    'C1-C5-W1-11': {\n",
    "        'name': 'Melting experiments',\n",
    "        'pulses': (56516,56543),\n",
    "        'date': ('2020-12-22')\n",
    "    },\n",
    "    'C1-C5-W1-10': {\n",
    "        'name': 'Weight of W divertor sources vs main chamber W sources',\n",
    "        'pulses': [(56803,56819), (56850,56860)],\n",
    "        'date': ('2021-01-21', '2020-01-22')\n",
    "    },\n",
    "    'C1-C5-W1-22': {\n",
    "        'name': 'Divertor exhaust enhancement studies with the IPD',\n",
    "        'pulses': [(56820,56833), (56913,56927)],\n",
    "        'date': ('2020-01-21', '2020-01-27')\n",
    "    },\n",
    "    'C1-C5-W1-25': {\n",
    "        'name': 'Impurity Powder dropper commisionning',\n",
    "        'pulses': (56635,56640),\n",
    "        'date': ('2021-01-12')\n",
    "    },\n",
    "    'C1-C5-W1-24': {\n",
    "        'name': 'Heat load on misalignmed PFU/gaps',\n",
    "        'pulses': (56670,56698),\n",
    "        'date': ('2021-01-14')\n",
    "    },\n",
    "}"
   ]
  },
  {
   "cell_type": "code",
   "execution_count": 46,
   "metadata": {},
   "outputs": [
    {
     "name": "stdout",
     "output_type": "stream",
     "text": [
      "Q1: [2.94910002]\n",
      "Q2: [2.94910002]\n",
      "Q4: [2.94889998]\n",
      "LH1: [2.95549989]\n",
      "LH2: [2.95719981]\n"
     ]
    }
   ],
   "source": [
    "def position_antennes(pulse):\n",
    "    print('Q1:', data.query(f'pulse == {pulse}')['R_Q1'].unique())\n",
    "    print('Q2:', data.query(f'pulse == {pulse}')['R_Q2'].unique())\n",
    "    print('Q4:', data.query(f'pulse == {pulse}')['R_Q4'].unique())\n",
    "    print('LH1:', data.query(f'pulse == {pulse}')['R_LH1'].unique())\n",
    "    print('LH2:', data.query(f'pulse == {pulse}')['R_LH2'].unique())\n",
    "    \n",
    "position_antennes(56737)"
   ]
  },
  {
   "cell_type": "markdown",
   "metadata": {},
   "source": [
    "# Derived quantities"
   ]
  },
  {
   "cell_type": "markdown",
   "metadata": {},
   "source": [
    "Below we calculate some quantities derived from the others"
   ]
  },
  {
   "cell_type": "code",
   "execution_count": 47,
   "metadata": {},
   "outputs": [],
   "source": [
    "# Radiated/Convected powers & radiated power fraction\n",
    "data['P_RF'] = data['LH_P_tot'] + data['IC_P_tot']\n",
    "data['Ptot'] = data['Ohmic_P'] + data['P_RF']\n",
    "data['P_conv'] = data['Ptot'] - data['Prad']\n",
    "data['frad'] = data['Prad']/data['Ptot']\n",
    "\n",
    "# Normalized data\n",
    "data['Cu_norm'] = data['Cu']/data['nl']\n",
    "data['Fe_norm'] = data['Fe']/data['nl']\n",
    "data['Ag18_norm'] = data['Ag18']/data['nl']\n",
    "data['Ag19_norm'] = data['Ag19']/data['nl']\n",
    "data['Ag18_norm_nl_IC'] = data['Ag18']/data['nl']/data['IC_P_tot']\n",
    "data['Ag19_norm_nl_IC'] = data['Ag19']/data['nl']/data['IC_P_tot']\n",
    "\n",
    "data['Cu_norm_nl_IC'] = data['Cu_norm']/data['IC_P_tot']\n",
    "data['Cu_norm_nl_LH'] = data['Cu_norm']/data['LH_P_tot']\n",
    "data['Cu_norm_nl_RF'] = data['Cu_norm']/data['P_RF']\n",
    "\n",
    "data['ratio_Pic_Plh'] = data['IC_P_tot']/data['LH_P_tot']\n",
    "data['Isotopic Ratio INBUM04_norm_PLH'] = data['Isotopic Ratio INBUM04']/data['LH_P_tot']\n",
    "data['Isotopic Ratio LODIVOU15_norm_PLH'] = data['Isotopic Ratio LODIVOU15']/data['LH_P_tot']\n",
    "\n",
    "data['Isotopic Ratio INBUM04_norm_PRF'] = data['Isotopic Ratio INBUM04']/data['P_RF']\n",
    "data['Isotopic Ratio LODIVOU15_norm_PRF'] = data['Isotopic Ratio INBUM04']/data['P_RF']\n",
    "\n",
    "data['IC_Q1_Rc_left_over_right'] = data['IC_Rc_Q1_left']/data['IC_Rc_Q1_right']\n",
    "data['IC_Q2_Rc_left_over_right'] = data['IC_Rc_Q2_left']/data['IC_Rc_Q2_right']\n",
    "data['IC_Q4_Rc_left_over_right'] = data['IC_Rc_Q4_left']/data['IC_Rc_Q4_right']\n",
    "\n",
    "data['pulse_relative'] = data['pulse'] - first_C5_pulse\n",
    "\n",
    "# LSN and USN shots\n",
    "data['Xpoint'] = 'LSN'\n",
    "data.loc[(data['pulse'] >= 56737) & (data['pulse'] <=56769), 'Xpoint'] = 'USN' # 2021-01-19\n",
    "data.loc[(data['pulse'] >= 56770) & (data['pulse'] <=56802), 'Xpoint'] = 'USN' # 2021-01-20\n",
    "\n",
    "# objet le plus avancé\n",
    "data['R_obj'] = data[['R_Q1', 'R_Q2', 'R_Q4', 'R_LH1', 'R_LH2']].min(axis=1)*1e3\n",
    "\n",
    "# ROG wrt VACTH magnetic reconstruction in [mm]\n",
    "data['ROG_LH'] = data['R_obj'] - data['Rext_median']\n",
    "data['ROG_Q1'] = data['R_Q1']*1e3 - data['Rext_median']\n",
    "data['ROG_Q2'] = data['R_Q2']*1e3 - data['Rext_median']\n",
    "data['ROG_Q4'] = data['R_Q4']*1e3 - data['Rext_median']\n",
    "data['ROG'] = data['R_obj'] - data['Rext_median']\n",
    "# ROG wrt NICE magnetic reconstruction in [mm]\n",
    "data['ROG_Q1_NICE'] = data['R_Q1']*1e3 - data['Rext_median_NICE']\n",
    "data['ROG_Q2_NICE'] = data['R_Q2']*1e3 - data['Rext_median_NICE']\n",
    "data['ROG_Q4_NICE'] = data['R_Q4']*1e3 - data['Rext_median_NICE']\n",
    "data['ROG_NICE'] = data['R_obj'] - data['Rext_median_NICE']\n"
   ]
  },
  {
   "cell_type": "code",
   "execution_count": 48,
   "metadata": {},
   "outputs": [],
   "source": [
    "# saving back the data\n",
    "data.to_csv('WEST_C5_database_resumed_parameters_cleaned.csv')"
   ]
  },
  {
   "cell_type": "markdown",
   "metadata": {},
   "source": [
    "# ROG Evolution"
   ]
  },
  {
   "cell_type": "code",
   "execution_count": 49,
   "metadata": {},
   "outputs": [
    {
     "data": {
      "application/vnd.jupyter.widget-view+json": {
       "model_id": "ab8c75a5c4474ac8b4c4b7b1df9eb059",
       "version_major": 2,
       "version_minor": 0
      },
      "text/plain": [
       "Canvas(toolbar=Toolbar(toolitems=[('Home', 'Reset original view', 'home', 'home'), ('Back', 'Back to previous …"
      ]
     },
     "metadata": {},
     "output_type": "display_data"
    },
    {
     "data": {
      "text/plain": [
       "<matplotlib.legend.Legend at 0x7fec10c1a070>"
      ]
     },
     "execution_count": 49,
     "metadata": {},
     "output_type": "execute_result"
    }
   ],
   "source": [
    "fig, ax = plt.subplots(figsize=(8,6))\n",
    "_data = data.query(\"P_RF>0.5 & MHD < 50 & Xpoint == 'LSN'\").groupby('pulse')\n",
    "_data.mean().reset_index().plot(ax=ax, kind='scatter',  yerr=_data.std().reset_index(),\n",
    "                                x='pulse', y='ROG', label='VACTH LSN', \n",
    "                                color='C0', alpha=0.5,  s=80)\n",
    "_data.mean().reset_index().plot(ax=ax, kind='scatter', yerr=_data.std().reset_index(),\n",
    "                                x='pulse', y='ROG_NICE', label='NICE LSN', \n",
    "                                color='C1', alpha=0.5, s=80)\n",
    "_data = data.query(\"P_RF>0.5 & MHD < 50 & Xpoint == 'USN'\").groupby('pulse')\n",
    "_data.mean().reset_index().plot(ax=ax, kind='scatter',  yerr=_data.std().reset_index(),\n",
    "                                x='pulse', y='ROG', label='VACTH USN', marker='^', edgecolor='k',\n",
    "                                color='C0', alpha=0.5,  s=80)\n",
    "_data.mean().reset_index().plot(ax=ax, kind='scatter', yerr=_data.std().reset_index(),\n",
    "                                x='pulse', y='ROG_NICE', label='NICE USN', marker='^', edgecolor='k',\n",
    "                                color='C1', alpha=0.5, s=80)\n",
    "\n",
    "ax.set_xlabel('WEST Pulse #')\n",
    "ax.set_ylabel('ROG [mm]')\n",
    "ax.set_ylim(0, 75)\n",
    "ax.set_title('Data: pulse averaged, times for RF>0.5 MW ; MHD < 50')\n",
    "ax.legend(ncol=2)"
   ]
  },
  {
   "cell_type": "markdown",
   "metadata": {},
   "source": [
    "# Phase feedback Evolution"
   ]
  },
  {
   "cell_type": "code",
   "execution_count": 55,
   "metadata": {},
   "outputs": [
    {
     "data": {
      "application/vnd.jupyter.widget-view+json": {
       "model_id": "a2ca7f17811343b684ffd2fcff70dc23",
       "version_major": 2,
       "version_minor": 0
      },
      "text/plain": [
       "Canvas(toolbar=Toolbar(toolitems=[('Home', 'Reset original view', 'home', 'home'), ('Back', 'Back to previous …"
      ]
     },
     "metadata": {},
     "output_type": "display_data"
    }
   ],
   "source": [
    "fig, ax = plt.subplots()\n",
    "data.query('IC_P_Q1>0.05').plot(ax=ax, kind='scatter', \n",
    "                                x='pulse', y='IC_Phase_Q1', \n",
    "                                label='Q1', color='C0',  s=80, alpha=.5, edgecolor='k')\n",
    "data.query('IC_P_Q2>0.05').plot(ax=ax, kind='scatter', \n",
    "                                x='pulse', y='IC_Phase_Q2', \n",
    "                                label='Q2', color='C1',  s=80, alpha=.5, edgecolor='k')\n",
    "data.query('IC_P_Q4>0.05').plot(ax=ax, kind='scatter', \n",
    "                                x='pulse', y='IC_Phase_Q4', \n",
    "                                label='Q4', color='C2',  s=80, alpha=.5, edgecolor='k')\n",
    "ax.annotate('#56469: Phase Control OK', xy=(56469, 190), xytext=(56500, 250), \n",
    "            arrowprops=dict(facecolor='black'), zorder=1)\n",
    "ax.axhline(180, ls='--', color='gray', zorder=0)\n",
    "ax.set_ylabel('Toroidal Phase [deg]')\n",
    "ax.set_xlabel('WEST Pulse #')\n",
    "fig.tight_layout()"
   ]
  },
  {
   "cell_type": "code",
   "execution_count": 51,
   "metadata": {},
   "outputs": [
    {
     "data": {
      "application/vnd.jupyter.widget-view+json": {
       "model_id": "d65e609ba4b941018c4adb2ec0f43185",
       "version_major": 2,
       "version_minor": 0
      },
      "text/plain": [
       "Canvas(toolbar=Toolbar(toolitems=[('Home', 'Reset original view', 'home', 'home'), ('Back', 'Back to previous …"
      ]
     },
     "metadata": {},
     "output_type": "display_data"
    },
    {
     "data": {
      "text/plain": [
       "array([<AxesSubplot:title={'center':'IC_Phase_Q2'}>], dtype=object)"
      ]
     },
     "execution_count": 51,
     "metadata": {},
     "output_type": "execute_result"
    }
   ],
   "source": [
    "fig, ax = plt.subplots()\n",
    "data.query('IC_P_Q2>0.05 & pulse < @phase_control_OK').hist('IC_Phase_Q2', ax=ax, bins=180)\n",
    "data.query('IC_P_Q2>0.05 & pulse >= @phase_control_OK').hist('IC_Phase_Q2', ax=ax, bins=180, color='C1')\n",
    "# ax.hist(dataset=data.query('IC_P_Q2>0.05 & pulse >= @phase_control_OK').dropna()['IC_Phase_Q2'])\n"
   ]
  },
  {
   "cell_type": "code",
   "execution_count": 52,
   "metadata": {},
   "outputs": [
    {
     "data": {
      "application/vnd.jupyter.widget-view+json": {
       "model_id": "f4512f6578a14f8daff149fa40527e0e",
       "version_major": 2,
       "version_minor": 0
      },
      "text/plain": [
       "Canvas(toolbar=Toolbar(toolitems=[('Home', 'Reset original view', 'home', 'home'), ('Back', 'Back to previous …"
      ]
     },
     "metadata": {},
     "output_type": "display_data"
    },
    {
     "data": {
      "text/plain": [
       "Text(0.5, 0, 'WEST Pulse #')"
      ]
     },
     "execution_count": 52,
     "metadata": {},
     "output_type": "execute_result"
    }
   ],
   "source": [
    "fig, ax = plt.subplots()\n",
    "data_Q1=data.query('IC_P_Q1>0.05').groupby('pulse')\n",
    "data_Q2=data.query('IC_P_Q2>0.05').groupby('pulse')\n",
    "data_Q4=data.query('IC_P_Q4>0.05').groupby('pulse')\n",
    "\n",
    "data_Q1.mean().reset_index().plot(ax=ax, kind='scatter', x='pulse', y='IC_Phase_Q1', label='Q1', color='C0', yerr=data_Q1.std().reset_index(), s=80, alpha=.8)\n",
    "data_Q2.mean().reset_index().plot(ax=ax, kind='scatter', x='pulse', y='IC_Phase_Q2', label='Q2', color='C1', yerr=data_Q2.std().reset_index(), s=80, alpha=.8)\n",
    "data_Q4.mean().reset_index().plot(ax=ax, kind='scatter', x='pulse', y='IC_Phase_Q4', label='Q4', color='C2', yerr=data_Q4.std().reset_index(), s=80, alpha=.8)\n",
    "ax.annotate('#56469: Phase Control OK', xy=(56469, 190), xytext=(56500, 250), \n",
    "            arrowprops=dict(facecolor='black'), zorder=1)\n",
    "ax.axhline(180, ls='--', color='gray', zorder=0)\n",
    "ax.set_title('Pulse Averaged Data')\n",
    "ax.set_ylabel('Toroidal Phase [deg]')\n",
    "ax.set_xlabel('WEST Pulse #')"
   ]
  },
  {
   "cell_type": "markdown",
   "metadata": {},
   "source": [
    "# Coupling Resistance vs..."
   ]
  },
  {
   "cell_type": "code",
   "execution_count": 53,
   "metadata": {},
   "outputs": [
    {
     "data": {
      "application/vnd.jupyter.widget-view+json": {
       "model_id": "4307a07173ca4a3d9a586b4ba2fdb8b2",
       "version_major": 2,
       "version_minor": 0
      },
      "text/plain": [
       "Canvas(toolbar=Toolbar(toolitems=[('Home', 'Reset original view', 'home', 'home'), ('Back', 'Back to previous …"
      ]
     },
     "metadata": {},
     "output_type": "display_data"
    },
    {
     "ename": "ValueError",
     "evalue": "scatter requires an x and y column",
     "output_type": "error",
     "traceback": [
      "\u001b[0;31m---------------------------------------------------------------------------\u001b[0m",
      "\u001b[0;31mValueError\u001b[0m                                Traceback (most recent call last)",
      "\u001b[0;32m<ipython-input-53-508df6d758ff>\u001b[0m in \u001b[0;36m<module>\u001b[0;34m\u001b[0m\n\u001b[1;32m      1\u001b[0m \u001b[0mfig\u001b[0m\u001b[0;34m,\u001b[0m \u001b[0max\u001b[0m \u001b[0;34m=\u001b[0m \u001b[0mplt\u001b[0m\u001b[0;34m.\u001b[0m\u001b[0msubplots\u001b[0m\u001b[0;34m(\u001b[0m\u001b[0;34m)\u001b[0m\u001b[0;34m\u001b[0m\u001b[0;34m\u001b[0m\u001b[0m\n\u001b[0;32m----> 2\u001b[0;31m \u001b[0mdata\u001b[0m\u001b[0;34m.\u001b[0m\u001b[0mquery\u001b[0m\u001b[0;34m(\u001b[0m\u001b[0;34m'IC_P_Q2>0.1'\u001b[0m\u001b[0;34m)\u001b[0m\u001b[0;34m.\u001b[0m\u001b[0mplot\u001b[0m\u001b[0;34m(\u001b[0m\u001b[0max\u001b[0m\u001b[0;34m=\u001b[0m\u001b[0max\u001b[0m\u001b[0;34m,\u001b[0m \u001b[0mkind\u001b[0m\u001b[0;34m=\u001b[0m\u001b[0;34m'scatter'\u001b[0m\u001b[0;34m,\u001b[0m \u001b[0mx\u001b[0m\u001b[0;34m=\u001b[0m\u001b[0;34m'ROG'\u001b[0m\u001b[0;34m,\u001b[0m \u001b[0;34m)\u001b[0m\u001b[0;34m\u001b[0m\u001b[0;34m\u001b[0m\u001b[0m\n\u001b[0m",
      "\u001b[0;32m~/anaconda3/lib/python3.8/site-packages/pandas/plotting/_core.py\u001b[0m in \u001b[0;36m__call__\u001b[0;34m(self, *args, **kwargs)\u001b[0m\n\u001b[1;32m    892\u001b[0m         \u001b[0;32mif\u001b[0m \u001b[0mkind\u001b[0m \u001b[0;32min\u001b[0m \u001b[0mself\u001b[0m\u001b[0;34m.\u001b[0m\u001b[0m_dataframe_kinds\u001b[0m\u001b[0;34m:\u001b[0m\u001b[0;34m\u001b[0m\u001b[0;34m\u001b[0m\u001b[0m\n\u001b[1;32m    893\u001b[0m             \u001b[0;32mif\u001b[0m \u001b[0misinstance\u001b[0m\u001b[0;34m(\u001b[0m\u001b[0mdata\u001b[0m\u001b[0;34m,\u001b[0m \u001b[0mABCDataFrame\u001b[0m\u001b[0;34m)\u001b[0m\u001b[0;34m:\u001b[0m\u001b[0;34m\u001b[0m\u001b[0;34m\u001b[0m\u001b[0m\n\u001b[0;32m--> 894\u001b[0;31m                 \u001b[0;32mreturn\u001b[0m \u001b[0mplot_backend\u001b[0m\u001b[0;34m.\u001b[0m\u001b[0mplot\u001b[0m\u001b[0;34m(\u001b[0m\u001b[0mdata\u001b[0m\u001b[0;34m,\u001b[0m \u001b[0mx\u001b[0m\u001b[0;34m=\u001b[0m\u001b[0mx\u001b[0m\u001b[0;34m,\u001b[0m \u001b[0my\u001b[0m\u001b[0;34m=\u001b[0m\u001b[0my\u001b[0m\u001b[0;34m,\u001b[0m \u001b[0mkind\u001b[0m\u001b[0;34m=\u001b[0m\u001b[0mkind\u001b[0m\u001b[0;34m,\u001b[0m \u001b[0;34m**\u001b[0m\u001b[0mkwargs\u001b[0m\u001b[0;34m)\u001b[0m\u001b[0;34m\u001b[0m\u001b[0;34m\u001b[0m\u001b[0m\n\u001b[0m\u001b[1;32m    895\u001b[0m             \u001b[0;32melse\u001b[0m\u001b[0;34m:\u001b[0m\u001b[0;34m\u001b[0m\u001b[0;34m\u001b[0m\u001b[0m\n\u001b[1;32m    896\u001b[0m                 \u001b[0;32mraise\u001b[0m \u001b[0mValueError\u001b[0m\u001b[0;34m(\u001b[0m\u001b[0;34mf\"plot kind {kind} can only be used for data frames\"\u001b[0m\u001b[0;34m)\u001b[0m\u001b[0;34m\u001b[0m\u001b[0;34m\u001b[0m\u001b[0m\n",
      "\u001b[0;32m~/anaconda3/lib/python3.8/site-packages/pandas/plotting/_matplotlib/__init__.py\u001b[0m in \u001b[0;36mplot\u001b[0;34m(data, kind, **kwargs)\u001b[0m\n\u001b[1;32m     58\u001b[0m                 \u001b[0max\u001b[0m \u001b[0;34m=\u001b[0m \u001b[0mplt\u001b[0m\u001b[0;34m.\u001b[0m\u001b[0mgca\u001b[0m\u001b[0;34m(\u001b[0m\u001b[0;34m)\u001b[0m\u001b[0;34m\u001b[0m\u001b[0;34m\u001b[0m\u001b[0m\n\u001b[1;32m     59\u001b[0m             \u001b[0mkwargs\u001b[0m\u001b[0;34m[\u001b[0m\u001b[0;34m\"ax\"\u001b[0m\u001b[0;34m]\u001b[0m \u001b[0;34m=\u001b[0m \u001b[0mgetattr\u001b[0m\u001b[0;34m(\u001b[0m\u001b[0max\u001b[0m\u001b[0;34m,\u001b[0m \u001b[0;34m\"left_ax\"\u001b[0m\u001b[0;34m,\u001b[0m \u001b[0max\u001b[0m\u001b[0;34m)\u001b[0m\u001b[0;34m\u001b[0m\u001b[0;34m\u001b[0m\u001b[0m\n\u001b[0;32m---> 60\u001b[0;31m     \u001b[0mplot_obj\u001b[0m \u001b[0;34m=\u001b[0m \u001b[0mPLOT_CLASSES\u001b[0m\u001b[0;34m[\u001b[0m\u001b[0mkind\u001b[0m\u001b[0;34m]\u001b[0m\u001b[0;34m(\u001b[0m\u001b[0mdata\u001b[0m\u001b[0;34m,\u001b[0m \u001b[0;34m**\u001b[0m\u001b[0mkwargs\u001b[0m\u001b[0;34m)\u001b[0m\u001b[0;34m\u001b[0m\u001b[0;34m\u001b[0m\u001b[0m\n\u001b[0m\u001b[1;32m     61\u001b[0m     \u001b[0mplot_obj\u001b[0m\u001b[0;34m.\u001b[0m\u001b[0mgenerate\u001b[0m\u001b[0;34m(\u001b[0m\u001b[0;34m)\u001b[0m\u001b[0;34m\u001b[0m\u001b[0;34m\u001b[0m\u001b[0m\n\u001b[1;32m     62\u001b[0m     \u001b[0mplot_obj\u001b[0m\u001b[0;34m.\u001b[0m\u001b[0mdraw\u001b[0m\u001b[0;34m(\u001b[0m\u001b[0;34m)\u001b[0m\u001b[0;34m\u001b[0m\u001b[0;34m\u001b[0m\u001b[0m\n",
      "\u001b[0;32m~/anaconda3/lib/python3.8/site-packages/pandas/plotting/_matplotlib/core.py\u001b[0m in \u001b[0;36m__init__\u001b[0;34m(self, data, x, y, s, c, **kwargs)\u001b[0m\n\u001b[1;32m    972\u001b[0m         \u001b[0;32melif\u001b[0m \u001b[0mis_hashable\u001b[0m\u001b[0;34m(\u001b[0m\u001b[0ms\u001b[0m\u001b[0;34m)\u001b[0m \u001b[0;32mand\u001b[0m \u001b[0ms\u001b[0m \u001b[0;32min\u001b[0m \u001b[0mdata\u001b[0m\u001b[0;34m.\u001b[0m\u001b[0mcolumns\u001b[0m\u001b[0;34m:\u001b[0m\u001b[0;34m\u001b[0m\u001b[0;34m\u001b[0m\u001b[0m\n\u001b[1;32m    973\u001b[0m             \u001b[0ms\u001b[0m \u001b[0;34m=\u001b[0m \u001b[0mdata\u001b[0m\u001b[0;34m[\u001b[0m\u001b[0ms\u001b[0m\u001b[0;34m]\u001b[0m\u001b[0;34m\u001b[0m\u001b[0;34m\u001b[0m\u001b[0m\n\u001b[0;32m--> 974\u001b[0;31m         \u001b[0msuper\u001b[0m\u001b[0;34m(\u001b[0m\u001b[0;34m)\u001b[0m\u001b[0;34m.\u001b[0m\u001b[0m__init__\u001b[0m\u001b[0;34m(\u001b[0m\u001b[0mdata\u001b[0m\u001b[0;34m,\u001b[0m \u001b[0mx\u001b[0m\u001b[0;34m,\u001b[0m \u001b[0my\u001b[0m\u001b[0;34m,\u001b[0m \u001b[0ms\u001b[0m\u001b[0;34m=\u001b[0m\u001b[0ms\u001b[0m\u001b[0;34m,\u001b[0m \u001b[0;34m**\u001b[0m\u001b[0mkwargs\u001b[0m\u001b[0;34m)\u001b[0m\u001b[0;34m\u001b[0m\u001b[0;34m\u001b[0m\u001b[0m\n\u001b[0m\u001b[1;32m    975\u001b[0m         \u001b[0;32mif\u001b[0m \u001b[0mis_integer\u001b[0m\u001b[0;34m(\u001b[0m\u001b[0mc\u001b[0m\u001b[0;34m)\u001b[0m \u001b[0;32mand\u001b[0m \u001b[0;32mnot\u001b[0m \u001b[0mself\u001b[0m\u001b[0;34m.\u001b[0m\u001b[0mdata\u001b[0m\u001b[0;34m.\u001b[0m\u001b[0mcolumns\u001b[0m\u001b[0;34m.\u001b[0m\u001b[0mholds_integer\u001b[0m\u001b[0;34m(\u001b[0m\u001b[0;34m)\u001b[0m\u001b[0;34m:\u001b[0m\u001b[0;34m\u001b[0m\u001b[0;34m\u001b[0m\u001b[0m\n\u001b[1;32m    976\u001b[0m             \u001b[0mc\u001b[0m \u001b[0;34m=\u001b[0m \u001b[0mself\u001b[0m\u001b[0;34m.\u001b[0m\u001b[0mdata\u001b[0m\u001b[0;34m.\u001b[0m\u001b[0mcolumns\u001b[0m\u001b[0;34m[\u001b[0m\u001b[0mc\u001b[0m\u001b[0;34m]\u001b[0m\u001b[0;34m\u001b[0m\u001b[0;34m\u001b[0m\u001b[0m\n",
      "\u001b[0;32m~/anaconda3/lib/python3.8/site-packages/pandas/plotting/_matplotlib/core.py\u001b[0m in \u001b[0;36m__init__\u001b[0;34m(self, data, x, y, **kwargs)\u001b[0m\n\u001b[1;32m    897\u001b[0m         \u001b[0mMPLPlot\u001b[0m\u001b[0;34m.\u001b[0m\u001b[0m__init__\u001b[0m\u001b[0;34m(\u001b[0m\u001b[0mself\u001b[0m\u001b[0;34m,\u001b[0m \u001b[0mdata\u001b[0m\u001b[0;34m,\u001b[0m \u001b[0;34m**\u001b[0m\u001b[0mkwargs\u001b[0m\u001b[0;34m)\u001b[0m\u001b[0;34m\u001b[0m\u001b[0;34m\u001b[0m\u001b[0m\n\u001b[1;32m    898\u001b[0m         \u001b[0;32mif\u001b[0m \u001b[0mx\u001b[0m \u001b[0;32mis\u001b[0m \u001b[0;32mNone\u001b[0m \u001b[0;32mor\u001b[0m \u001b[0my\u001b[0m \u001b[0;32mis\u001b[0m \u001b[0;32mNone\u001b[0m\u001b[0;34m:\u001b[0m\u001b[0;34m\u001b[0m\u001b[0;34m\u001b[0m\u001b[0m\n\u001b[0;32m--> 899\u001b[0;31m             \u001b[0;32mraise\u001b[0m \u001b[0mValueError\u001b[0m\u001b[0;34m(\u001b[0m\u001b[0mself\u001b[0m\u001b[0;34m.\u001b[0m\u001b[0m_kind\u001b[0m \u001b[0;34m+\u001b[0m \u001b[0;34m\" requires an x and y column\"\u001b[0m\u001b[0;34m)\u001b[0m\u001b[0;34m\u001b[0m\u001b[0;34m\u001b[0m\u001b[0m\n\u001b[0m\u001b[1;32m    900\u001b[0m         \u001b[0;32mif\u001b[0m \u001b[0mis_integer\u001b[0m\u001b[0;34m(\u001b[0m\u001b[0mx\u001b[0m\u001b[0;34m)\u001b[0m \u001b[0;32mand\u001b[0m \u001b[0;32mnot\u001b[0m \u001b[0mself\u001b[0m\u001b[0;34m.\u001b[0m\u001b[0mdata\u001b[0m\u001b[0;34m.\u001b[0m\u001b[0mcolumns\u001b[0m\u001b[0;34m.\u001b[0m\u001b[0mholds_integer\u001b[0m\u001b[0;34m(\u001b[0m\u001b[0;34m)\u001b[0m\u001b[0;34m:\u001b[0m\u001b[0;34m\u001b[0m\u001b[0;34m\u001b[0m\u001b[0m\n\u001b[1;32m    901\u001b[0m             \u001b[0mx\u001b[0m \u001b[0;34m=\u001b[0m \u001b[0mself\u001b[0m\u001b[0;34m.\u001b[0m\u001b[0mdata\u001b[0m\u001b[0;34m.\u001b[0m\u001b[0mcolumns\u001b[0m\u001b[0;34m[\u001b[0m\u001b[0mx\u001b[0m\u001b[0;34m]\u001b[0m\u001b[0;34m\u001b[0m\u001b[0;34m\u001b[0m\u001b[0m\n",
      "\u001b[0;31mValueError\u001b[0m: scatter requires an x and y column"
     ]
    }
   ],
   "source": [
    "fig, ax = plt.subplots()\n",
    "data.query('IC_P_Q2>0.1').plot(ax=ax, kind='scatter', x='ROG', )"
   ]
  },
  {
   "cell_type": "code",
   "execution_count": null,
   "metadata": {},
   "outputs": [],
   "source": [
    "fig, ax = plt.subplots()\n",
    "data.query(\"IC_P_Q1 > 0.1 & pulse>=@phase_control_OK  \").plot(ax=ax, kind='scatter', x='ROG_NICE', y='IC_Rc_Q1_left', color='C0', label='Q1', alpha=0.4)\n",
    "data.query(\"IC_P_Q1 > 0.1 & pulse>=@phase_control_OK \").plot(ax=ax, kind='scatter', x='ROG_NICE', y='IC_Rc_Q1_right', color='C0', alpha=0.4)\n",
    "\n",
    "data.query(\"IC_P_Q2 > 0.1 & pulse>=@phase_control_OK & pulse>=@Q2_position_OK \").plot(ax=ax, kind='scatter', x='ROG_NICE', y='IC_Rc_Q2_left', color='C1', label='Q2', alpha=0.4)\n",
    "data.query(\"IC_P_Q2 > 0.1 & pulse>=@phase_control_OK & pulse>=@Q2_position_OK \").plot(ax=ax, kind='scatter', x='ROG_NICE', y='IC_Rc_Q2_right', color='C1', alpha=0.4)\n",
    "\n",
    "data.query(\"IC_P_Q4 > 0.1 & pulse>=@phase_control_OK \").plot(ax=ax, kind='scatter', x='ROG_NICE', y='IC_Rc_Q4_left', color='C2', label='Q4', alpha=0.4)\n",
    "data.query(\"IC_P_Q4 > 0.1 & pulse>=@phase_control_OK \").plot(ax=ax, kind='scatter', x='ROG_NICE', y='IC_Rc_Q4_right', color='C2', alpha=0.4)\n",
    "\n",
    "ax.set_xlim(left=0, right=80)\n",
    "ax.set_ylabel('Coupling Resistance Rc [Ohm]')\n",
    "ax.set_title('Data: P_IC>0.1 NICE')"
   ]
  },
  {
   "cell_type": "code",
   "execution_count": null,
   "metadata": {},
   "outputs": [],
   "source": [
    "\n",
    "fig, ax = plt.subplots()\n",
    "data.query(\"IC_P_Q1 > 0.1 & pulse>=@phase_control_OK  \").plot(ax=ax, kind='scatter', x='ROG', y='IC_Rc_Q1_left', color='C0', label='Q1', alpha=0.4)\n",
    "data.query(\"IC_P_Q1 > 0.1 & pulse>=@phase_control_OK \").plot(ax=ax, kind='scatter', x='ROG', y='IC_Rc_Q1_right', color='C0', alpha=0.4)\n",
    "\n",
    "data.query(\"IC_P_Q2 > 0.1 & pulse>=@phase_control_OK & pulse>=@Q2_position_OK \").plot(ax=ax, kind='scatter', x='ROG', y='IC_Rc_Q2_left', color='C1', label='Q2', alpha=0.4)\n",
    "data.query(\"IC_P_Q2 > 0.1 & pulse>=@phase_control_OK & pulse>=@Q2_position_OK \").plot(ax=ax, kind='scatter', x='ROG', y='IC_Rc_Q2_right', color='C1', alpha=0.4)\n",
    "\n",
    "data.query(\"IC_P_Q4 > 0.1 & pulse>=@phase_control_OK \").plot(ax=ax, kind='scatter', x='ROG', y='IC_Rc_Q4_left', color='C2', label='Q4', alpha=0.4)\n",
    "data.query(\"IC_P_Q4 > 0.1 & pulse>=@phase_control_OK \").plot(ax=ax, kind='scatter', x='ROG', y='IC_Rc_Q4_right', color='C2', alpha=0.4)\n",
    "\n",
    "ax.set_xlim(left=0, right=30)\n",
    "ax.set_ylabel('Coupling Resistance Rc [Ohm]')\n",
    "ax.set_title('Data: P_IC>0.1 VACTH')"
   ]
  },
  {
   "cell_type": "code",
   "execution_count": null,
   "metadata": {},
   "outputs": [],
   "source": []
  },
  {
   "cell_type": "markdown",
   "metadata": {},
   "source": [
    "# Radiated Power Evolution"
   ]
  },
  {
   "cell_type": "code",
   "execution_count": null,
   "metadata": {},
   "outputs": [],
   "source": [
    "fig, ax = plt.subplots()\n",
    "datagrp_LSN = data.query(\"Prad_imas>0 & P_RF > 0.5 & pulse > @post_boro[1] & Xpoint == 'LSN'\").groupby('pulse')\n",
    "datagrp_USN = data.query(\"Prad_imas>0 & P_RF > 0.5 & pulse > @post_boro[1] & Xpoint == 'USN'\").groupby('pulse')\n",
    "\n",
    "cbar=datagrp_LSN.mean().reset_index().plot(ax=ax, kind='scatter', x='Ptot', y='Prad_imas', alpha=0.6,\n",
    "                               c='pulse', cmap='viridis', yerr=datagrp_LSN.std(), s=60)\n",
    "datagrp_USN.mean().reset_index().plot(ax=ax, kind='scatter', x='Ptot', y='Prad_imas', alpha=0.6,\n",
    "                               c='pulse', cmap='viridis', yerr=datagrp_USN.std(), s=60, marker='x', colorbar=False)\n",
    "ax.legend(('LSN', 'USN'))\n",
    "ax.plot([0,7], [0, 0.5*7], ls='--', color='k', zorder=-10)\n",
    "ax.plot([0,7], [0, 0.4*7], ls='--', color='k', zorder=-10)\n",
    "ax.set_xlim(left=0, right=7)\n",
    "ax.set_ylim(bottom=0, top=4)\n",
    "ax.set_title('P_RF > 0.5')\n",
    "ax.text(6, 2.5, '40%', rotation=30)\n",
    "ax.text(6, 3.1, '50%', rotation=35)\n",
    "ax.set_ylabel('Radiated Power [MW]')\n",
    "ax.set_xlabel('Total Power (Ohmic+RF) [MW]')\n",
    "ax.set_title('WEST - January 2021 (pulse average for RF>0.5MW)')"
   ]
  },
  {
   "cell_type": "markdown",
   "metadata": {},
   "source": [
    "# Coupling Resistance Evolution"
   ]
  },
  {
   "cell_type": "code",
   "execution_count": null,
   "metadata": {},
   "outputs": [],
   "source": [
    "# means and errors values for each pulse\n",
    "data_means = data.query('IC_P_tot > 0.2').groupby('pulse').mean().reset_index()\n",
    "data_errors = data.query('IC_P_tot > 0.2').groupby('pulse').std().reset_index()\n",
    "\n",
    "fig, ax = plt.subplots()\n",
    "\n",
    "data_means.plot(kind='scatter', ax=ax, x='pulse_relative', y='IC_Q1_Rc_left_over_right', label='Q1', yerr=data_errors, color='C0')\n",
    "data_means.plot(kind='scatter', ax=ax, x='pulse_relative', y='IC_Q2_Rc_left_over_right', label='Q2', yerr=data_errors, color='C1')\n",
    "data_means.plot(kind='scatter', ax=ax, x='pulse_relative', y='IC_Q4_Rc_left_over_right', label='Q4', yerr=data_errors, color='C2')\n",
    "\n",
    "ax.set_ylim(bottom=0, top=2.5)\n",
    "ax.set_ylabel('Rc left / Rc right')\n"
   ]
  },
  {
   "cell_type": "code",
   "execution_count": null,
   "metadata": {},
   "outputs": [],
   "source": [
    "fig, ax = plt.subplots()\n",
    "\n",
    "data.plot(kind='scatter', ax=ax, x='pulse', y='IC_Q1_Rc_left_over_right', label='Q1', color='C0', alpha=0.5)\n",
    "data.plot(kind='scatter', ax=ax, x='pulse', y='IC_Q2_Rc_left_over_right', label='Q2', color='C1', alpha=0.5)\n",
    "data.plot(kind='scatter', ax=ax, x='pulse', y='IC_Q4_Rc_left_over_right', label='Q4', color='C2', alpha=0.5)\n",
    "\n",
    "ax.set_ylim(bottom=0, top=2.5)\n",
    "ax.set_ylabel('Rc left / Rc right')"
   ]
  },
  {
   "cell_type": "code",
   "execution_count": null,
   "metadata": {},
   "outputs": [],
   "source": [
    "fig, ax = plt.subplots(3,1,sharex=True)\n",
    "sns.violinplot(ax=ax[0], x='IC_Q1_Rc_left_over_right', data=data.query('IC_P_Q1 > 0.2 & pulse >= @phase_control_OK'), color='C0', inner=None, label='Q1')\n",
    "sns.violinplot(ax=ax[1], x='IC_Q2_Rc_left_over_right', data=data.query('IC_P_Q2 > 0.2 & pulse >= @phase_control_OK & pulse < @Q2_position_OK'), color='C1', inner=None, label='Q2')\n",
    "sns.violinplot(ax=ax[1], x='IC_Q2_Rc_left_over_right', data=data.query('IC_P_Q2 > 0.2 & pulse >= @phase_control_OK & pulse >= @Q2_position_OK'), color='orange', inner=None, label='Q2 Position Corrected', alpha=0.1)\n",
    "sns.violinplot(ax=ax[2], x='IC_Q4_Rc_left_over_right', data=data.query('IC_P_Q4 > 0.2'), color='C2', inner=None, label='Q4')\n",
    "ax[0].set_xlim(0, 2) \n",
    "fig.subplots_adjust(hspace=0)\n",
    "ax[0].set_xlabel(''); ax[1].set_ylabel('')\n",
    "ax[-1].set_xlabel('Rc left / Rc right')\n",
    "[a.legend([f'Q{ant}']) for a,ant in zip(ax, ['1', '2', '4'])]\n",
    "[a.axvline(1, ls='--', color='gray') for a in ax]"
   ]
  },
  {
   "cell_type": "markdown",
   "metadata": {},
   "source": [
    "# Impurity Content Evolution"
   ]
  },
  {
   "cell_type": "code",
   "execution_count": null,
   "metadata": {},
   "outputs": [],
   "source": [
    "# means and errors values for each pulse\n",
    "data_means = data.query('P_RF>0.2').groupby('pulse').mean().reset_index()\n",
    "data_errors = data.query('P_RF>0.2').groupby('pulse').std().reset_index()\n",
    "\n",
    "fig, ax = plt.subplots(3, 1, sharex=True)\n",
    "\n",
    "data_means.plot(ax=ax[0], kind='scatter', \n",
    "                x='pulse_relative', y='Cu_norm', yerr=data_errors,\n",
    "               color='darkorange', label='Cu/nl', s=60, edgecolor='k', alpha=0.7)\n",
    "\n",
    "data_means.plot(ax=ax[1], kind='scatter', \n",
    "                x='pulse_relative', y='Fe_norm', yerr=data_errors,\n",
    "               color='lightgray', label='Fe/nl', s=60, edgecolor='k', alpha=0.7)\n",
    "data_means.plot(ax=ax[2], kind='scatter', \n",
    "                x='pulse_relative', y='Ag19_norm', yerr=data_errors,\n",
    "               color='lightblue', label='Ag19/nl', s=60, edgecolor='k', alpha=0.7)\n",
    "\n",
    "\n",
    "ax[0].set_title('$P_{RF}$ > 0.2 MW')\n",
    "[a.set_ylim(bottom=0) for a in ax]\n",
    "\n",
    "[[a.axvline(shot-first_C5_pulse, ls='--', color='gray') for shot in post_boro] for a in ax]\n",
    "[a.axvline(january_restart-first_C5_pulse, ls='-.', color='gray') for a in ax]\n",
    "ax[0].annotate('Christmas Break', xy=(56544-first_C5_pulse, 300), xytext=(200, 350), \n",
    "            arrowprops=dict(facecolor='black'))\n",
    "\n",
    "ax[0].annotate('Boro', xy=(56597-first_C5_pulse, 300), xytext=(400, 350), \n",
    "            arrowprops=dict(facecolor='black'))\n",
    "ax[0].set_ylim(0,300)\n",
    "ax[1].set_ylim(0,30)\n",
    "ax[2].set_ylim(0,70)\n",
    "\n",
    "[a.set_ylabel('a.u.') for a in ax]\n",
    "# liste des chocs avec puissance FCI\n",
    "IC_pulses = data.query('IC_P_tot > 0.2')['pulse'].unique()\n",
    "for IC_pulse in IC_pulses:\n",
    "    [a.axvline(IC_pulse-first_C5_pulse, ls='-', color='gray', alpha=0.2) for a in ax]"
   ]
  },
  {
   "cell_type": "markdown",
   "metadata": {},
   "source": [
    "# Isotopic Ratio vs ..."
   ]
  },
  {
   "cell_type": "code",
   "execution_count": null,
   "metadata": {},
   "outputs": [],
   "source": [
    "fig, ax = plt.subplots()\n",
    "# Boros : 56247, 56641\n",
    "data_LH_only=data.query(\"LH_P_tot > 0.3 & IC_P_tot < 0.05 & Cu_norm > 0 & pulse > @january_restart & Xpoint == 'USN'\").groupby('pulse')\n",
    "data_IC_only=data.query(\"LH_P_tot < 0.3 & IC_P_tot > 0.3 & Cu_norm > 0 & pulse > @january_restart & Xpoint == 'USN'\").groupby('pulse')\n",
    "data_LH_and_IC=data.query(\"LH_P_tot > 0.3 & IC_P_tot > 0.3 & Cu_norm > 0 & pulse > @january_restart & Xpoint == 'USN'\").groupby('pulse')\n",
    "\n",
    "data_LH_only.mean().plot(ax=ax, kind='scatter',\n",
    "            x='P_RF', y='Cu_norm', yerr=data_LH_only.std(),\n",
    "            cmap='plasma', s=40, alpha=0.6, label='C5 experiments LH only', colorbar=False)\n",
    "\n",
    "data_LH_and_IC.mean().plot(ax=ax, kind='scatter',\n",
    "            x='P_RF', y='Cu_norm', color='C1', yerr=data_LH_and_IC.std(),\n",
    "            cmap='plasma', alpha=0.6, s=100, marker='d', label='C5 experiments LH+IC', colorbar=False, edgecolor='k')\n",
    "\n",
    "data_IC_only.mean().plot(ax=ax, kind='scatter',\n",
    "            x='P_RF', y='Cu_norm', color='C2', yerr=data_IC_only.std(),\n",
    "            cmap='plasma', alpha=0.6, s=100, marker='o', label='C5 experiments IC only', colorbar=False, edgecolor='k')\n",
    "\n",
    "# ax.set_xscale('log')\n",
    "ax.set_title('pulse average / USN')\n",
    "ax.set_ylim(bottom=0, top=400)\n",
    "ax.set_ylabel('Cu/nl [a.u.]')\n"
   ]
  },
  {
   "cell_type": "code",
   "execution_count": null,
   "metadata": {},
   "outputs": [],
   "source": [
    "fig, ax = plt.subplots()\n",
    "# Boros : 56247, 56641\n",
    "data_LH_only=data.query(\"LH_P_tot > 0.3 & IC_P_tot < 0.05 & Cu_norm > 0 & pulse > @january_restart & Xpoint == 'LSN'\").groupby('pulse')\n",
    "data_IC_only=data.query(\"LH_P_tot < 0.3 & IC_P_tot > 0.3 & Cu_norm > 0 & pulse > @january_restart & Xpoint == 'LSN'\").groupby('pulse')\n",
    "data_LH_and_IC=data.query(\"LH_P_tot > 0.3 & IC_P_tot > 0.3 & Cu_norm > 0 & pulse > @january_restart & Xpoint == 'LSN'\").groupby('pulse')\n",
    "\n",
    "data_LH_only.mean().plot(ax=ax, kind='scatter',\n",
    "            x='P_RF', y='Cu_norm', yerr=data_LH_only.std(),\n",
    "            cmap='plasma', s=40, alpha=0.6, label='C5 experiments LH only', colorbar=False)\n",
    "\n",
    "data_LH_and_IC.mean().plot(ax=ax, kind='scatter',\n",
    "            x='P_RF', y='Cu_norm', color='C1', yerr=data_LH_and_IC.std(),\n",
    "            cmap='plasma', alpha=0.6, s=100, marker='d', label='C5 experiments LH+IC', colorbar=False, edgecolor='k')\n",
    "\n",
    "data_IC_only.mean().plot(ax=ax, kind='scatter',\n",
    "            x='P_RF', y='Cu_norm', color='C2', yerr=data_IC_only.std(),\n",
    "            cmap='plasma', alpha=0.6, s=100, marker='o', label='C5 experiments IC only', colorbar=False, edgecolor='k')\n",
    "\n",
    "# ax.set_xscale('log')\n",
    "ax.set_title('pulse average / LSN')\n",
    "ax.set_ylim(bottom=0, top=400)\n",
    "ax.set_ylabel('Cu/nl [a.u.]')\n"
   ]
  },
  {
   "cell_type": "code",
   "execution_count": null,
   "metadata": {},
   "outputs": [],
   "source": [
    "data_LH_and_IC.mean().reset_index().query('Cu_norm < 170 & P_RF > 3.5')['pulse']"
   ]
  },
  {
   "cell_type": "code",
   "execution_count": null,
   "metadata": {},
   "outputs": [],
   "source": [
    "fig, ax = plt.subplots(1,2,sharey=True)\n",
    "# Boros : 56247, 56641\n",
    "data.query(f'IC_P_tot > 0.3 & Cu_norm > 10  & `Isotopic Ratio INBUM04`>0 & MHD < 50').plot(ax=ax[0], kind='scatter', \n",
    "                                x='Isotopic Ratio INBUM04', y='Cu_norm', \n",
    "                                c='LH_P_tot', cmap='plasma', alpha=0.8, s=40, label='C5 experiments with ICRH', colorbar=False)\n",
    "data.query(f'IC_P_tot > 0.3 & Cu_norm > 10  & `Isotopic Ratio LODIVOU15`>0 & MHD < 50').plot(ax=ax[1], kind='scatter', \n",
    "                                x='Isotopic Ratio LODIVOU15', y='Cu_norm', \n",
    "                                c='LH_P_tot', cmap='plasma', alpha=0.8, s=40, label='C5 experiments with ICRH', colorbar=False)\n",
    "im = plt.gca().get_children()[0]\n",
    "cax = fig.add_axes([0.92,0.1,0.02,0.8]) \n",
    "fig.colorbar(im, cax=cax, label='LH Power [MW]')\n",
    "fig.suptitle('data for: $P_{IC}>0.3$MW ; MHD < 50')\n",
    "[a.set_xlim(0, 25) for a in ax]\n",
    "[a.set_ylim(bottom=0, top=500) for a in ax]\n",
    "[a.legend(loc='upper center') for a in ax]\n",
    "[a.set_ylabel('$Cu/n_l$ [a.u.]') for a in ax]\n",
    "fig.subplots_adjust(wspace=0.05, left=.08)\n",
    "#fig.tight_layout()\n"
   ]
  },
  {
   "cell_type": "code",
   "execution_count": null,
   "metadata": {},
   "outputs": [],
   "source": [
    "fig, ax = plt.subplots(1,2,sharey=True,sharex=True)\n",
    "# INBUM04 ou LODIVOU15\n",
    "\n",
    "# Boros : 56247, 56641\n",
    "data_means = data.query(f'P_RF > 0.3 & Cu_norm > 10 & pulse > 56450 & `Isotopic Ratio INBUM04`>0').groupby('pulse').mean().reset_index()\n",
    "data_errors = data.query(f'P_RF > 0.3 & Cu_norm > 10 & pulse > 56450 &  `Isotopic Ratio INBUM04`>0').groupby('pulse').std().reset_index()\n",
    "\n",
    "data_means.plot(ax=ax[0], kind='scatter', \n",
    "                                x='Isotopic Ratio INBUM04', y='Cu_norm', yerr=data_errors,\n",
    "                                c='ratio_Pic_Plh', cmap='plasma', alpha=0.8,  s=50, label='Before Chrismas Break', colorbar=False, vmin=0, vmax=1)\n",
    "data_means.plot(ax=ax[1], kind='scatter', \n",
    "                                x='Isotopic Ratio LODIVOU15', y='Cu_norm', yerr=data_errors,\n",
    "                                c='ratio_Pic_Plh', cmap='plasma', alpha=0.8, s=50, label='Before Chrismas Break', colorbar=False, vmin=0, vmax=1)\n",
    "im = plt.gca().get_children()[0]\n",
    "cax = fig.add_axes([0.91,0.1,0.02,0.88]) \n",
    "fig.colorbar(im, cax=cax, label='$P_{IC}/P_{LH}$')\n",
    "fig.suptitle('data for $P_{RF} > 0.3$ MW ; size proportional to $P_{IC}$')\n",
    "[a.set_xlim(0, 30) for a in ax]\n",
    "[a.set_ylim(bottom=0, top=450) for a in ax]\n",
    "[a.legend(loc='upper center') for a in ax]\n",
    "[a.set_ylabel('$Cu/n_l$') for a in ax]\n",
    "fig.subplots_adjust(wspace=0.05, left=0.08, top=0.92)\n",
    "#fig.tight_layout()"
   ]
  },
  {
   "cell_type": "code",
   "execution_count": null,
   "metadata": {},
   "outputs": [],
   "source": [
    "fig, ax = plt.subplots(1,2,sharey=True,sharex=True)\n",
    "# INBUM04 ou LODIVOU15\n",
    "\n",
    "# Boros : 56247, 56641\n",
    "data_means = data.query(f'P_RF > 0.3 & Cu_norm > 10 & pulse < {january_restart} & `Isotopic Ratio INBUM04`>0').groupby('pulse').mean().reset_index()\n",
    "data_errors = data.query(f'P_RF > 0.3 & Cu_norm > 10 & pulse < {january_restart} & `Isotopic Ratio INBUM04`>0').groupby('pulse').std().reset_index()\n",
    "\n",
    "data_means.plot(ax=ax[0], kind='scatter', \n",
    "                                x='Isotopic Ratio INBUM04', y='Cu_norm', yerr=data_errors,\n",
    "                                c='P_RF', cmap='plasma', alpha=0.8,  s=(60+1000*data_means.replace([np.inf, -np.inf], 0)['IC_P_tot']**2), label='Before Chrismas Break', colorbar=False)\n",
    "data_means.plot(ax=ax[1], kind='scatter', \n",
    "                                x='Isotopic Ratio LODIVOU15', y='Cu_norm', yerr=data_errors,\n",
    "                                c='P_RF', cmap='plasma', alpha=0.8, s=(60+1000*data_means.replace([np.inf, -np.inf], 0)['IC_P_tot']**2), label='Before Chrismas Break', colorbar=False)\n",
    "im = plt.gca().get_children()[0]\n",
    "cax = fig.add_axes([0.91,0.1,0.02,0.88]) \n",
    "fig.colorbar(im, cax=cax, label='$P_{RF}$ [MW]')\n",
    "fig.suptitle('data for $P_{RF} > 0.3$ MW ; size proportional to $P_{IC}$')\n",
    "[a.set_xlim(0, 30) for a in ax]\n",
    "[a.set_ylim(bottom=0, top=450) for a in ax]\n",
    "[a.legend(loc='upper center') for a in ax]\n",
    "[a.set_ylabel('$Cu/n_l$') for a in ax]\n",
    "fig.subplots_adjust(wspace=0.05, left=0.08, top=0.92)\n",
    "#fig.tight_layout()"
   ]
  },
  {
   "cell_type": "code",
   "execution_count": null,
   "metadata": {},
   "outputs": [],
   "source": [
    "fig, ax = plt.subplots(1,2,sharey=True,sharex=True)\n",
    "# INBUM04 ou LODIVOU15\n",
    "\n",
    "# Boros : 56247, 56641\n",
    "data_means = data.query(f'P_RF > 0.3 & Cu_norm > 10 & pulse > {post_boro[1]} & `Isotopic Ratio INBUM04`>0').groupby('pulse').mean().reset_index()\n",
    "data_errors = data.query(f'P_RF > 0.3 & Cu_norm > 10 & pulse > {post_boro[1]} & `Isotopic Ratio INBUM04`>0').groupby('pulse').std().reset_index()\n",
    "\n",
    "data_means.plot(ax=ax[0], kind='scatter', \n",
    "                                x='Isotopic Ratio INBUM04', y='Cu_norm', yerr=data_errors,\n",
    "                                c='P_RF', cmap='plasma', alpha=0.8,  s=(60+100*data_means.replace([np.inf, -np.inf], 0)['IC_P_tot']**2), label='After Chrismas Break', colorbar=False)\n",
    "data_means.plot(ax=ax[1], kind='scatter', \n",
    "                                x='Isotopic Ratio LODIVOU15', y='Cu_norm', yerr=data_errors,\n",
    "                                c='P_RF', cmap='plasma', alpha=0.8, s=(60+100*data_means.replace([np.inf, -np.inf], 0)['IC_P_tot']**2), label='After Chrismas Break', colorbar=False)\n",
    "im = plt.gca().get_children()[0]\n",
    "cax = fig.add_axes([0.91,0.1,0.02,0.88]) \n",
    "fig.colorbar(im, cax=cax, label='$P_{RF}$ [MW]')\n",
    "fig.suptitle('data for $P_{RF} > 0.3$ MW ; size proportional to $P_{IC}/P_{LH}$')\n",
    "[a.set_xlim(0, 12) for a in ax]\n",
    "[a.set_ylim(bottom=0, top=450) for a in ax]\n",
    "[a.legend(loc='upper center') for a in ax]\n",
    "[a.set_ylabel('$Cu/n_l$') for a in ax]\n",
    "fig.subplots_adjust(wspace=0.05, left=0.08, top=0.92)\n",
    "#fig.tight_layout()"
   ]
  },
  {
   "cell_type": "code",
   "execution_count": null,
   "metadata": {},
   "outputs": [],
   "source": [
    "fig, ax = plt.subplots(1,2,sharey=True,sharex=True)\n",
    "# INBUM04 ou LODIVOU15\n",
    "\n",
    "# Boros : 56247, 56641\n",
    "data_means = data.query(f'P_RF > 0.3 & Cu_norm > 10 & pulse < {january_restart} & `Isotopic Ratio INBUM04`>0').groupby('pulse').mean().reset_index()\n",
    "data_errors = data.query(f'P_RF > 0.3 & Cu_norm > 10 & pulse < {january_restart} & `Isotopic Ratio INBUM04`>0').groupby('pulse').std().reset_index()\n",
    "\n",
    "data_means.plot(ax=ax[0], kind='scatter', \n",
    "                                x='Isotopic Ratio INBUM04', y='Cu_norm_nl_RF', yerr=data_errors,\n",
    "                                c='P_RF', cmap='plasma', alpha=0.8, label='Before Chrismas Break', colorbar=False, s=(60+1000*data_means['IC_P_tot']**2))\n",
    "data_means.plot(ax=ax[1], kind='scatter', \n",
    "                                x='Isotopic Ratio LODIVOU15', y='Cu_norm_nl_RF', yerr=data_errors,\n",
    "                                c='P_RF', cmap='plasma', alpha=0.8,  label='Before Chrismas Break', colorbar=False, s=(60+1000*data_means['IC_P_tot']**2))\n",
    "im = plt.gca().get_children()[0]\n",
    "cax = fig.add_axes([0.91,0.1,0.02,0.88]) \n",
    "fig.colorbar(im, cax=cax)\n",
    "fig.suptitle('$P_{RF} > 0.3$ MW ; colorbar: P_RF ; size: P_IC')\n",
    "[a.set_xlim(0, 30) for a in ax]\n",
    "[a.set_ylim(bottom=0, top=200) for a in ax]\n",
    "[a.legend(loc='upper center') for a in ax]\n",
    "[a.set_ylabel('$Cu/n_l/P_{RF}$ [a.u.]') for a in ax]\n",
    "fig.subplots_adjust(wspace=0.05, left=0.08, top=0.92)\n",
    "#fig.tight_layout()"
   ]
  },
  {
   "cell_type": "code",
   "execution_count": null,
   "metadata": {},
   "outputs": [],
   "source": [
    "fig, ax = plt.subplots(1,2,sharey=True,sharex=True)\n",
    "# INBUM04 ou LODIVOU15\n",
    "\n",
    "# Boros : 56247, 56641\n",
    "data_means = data.query(f'P_RF > 0.3 & Cu_norm > 10 & pulse > {january_restart} & `Isotopic Ratio INBUM04`>0').groupby('pulse').mean().reset_index()\n",
    "data_errors = data.query(f'P_RF > 0.3 & Cu_norm > 10 & pulse > {january_restart} & `Isotopic Ratio INBUM04`>0').groupby('pulse').std().reset_index()\n",
    "\n",
    "data_means.plot(ax=ax[0], kind='scatter', \n",
    "                                x='Isotopic Ratio INBUM04', y='Cu_norm_nl_RF', yerr=data_errors,\n",
    "                                c='P_RF', cmap='plasma', alpha=0.8, label='After Chrismas Break', colorbar=False, s=(60+100*data_means['IC_P_tot']**2))\n",
    "data_means.plot(ax=ax[1], kind='scatter', \n",
    "                                x='Isotopic Ratio LODIVOU15', y='Cu_norm_nl_RF', yerr=data_errors,\n",
    "                                c='P_RF', cmap='plasma', alpha=0.8,  label='After Chrismas Break', colorbar=False, s=(60+100*data_means['IC_P_tot']**2))\n",
    "im = plt.gca().get_children()[0]\n",
    "cax = fig.add_axes([0.91,0.1,0.02,0.88]) \n",
    "fig.colorbar(im, cax=cax)\n",
    "fig.suptitle('$P_{RF} > 0.3$ MW ; colorbar: P_RF ; size: P_IC')\n",
    "[a.set_xlim(0, 20) for a in ax]\n",
    "[a.set_ylim(bottom=0, top=200) for a in ax]\n",
    "[a.legend(loc='upper center') for a in ax]\n",
    "[a.set_ylabel('$Cu/n_l/P_{RF}$ [a.u.]') for a in ax]\n",
    "fig.subplots_adjust(wspace=0.05, left=0.08, top=0.92)\n",
    "#fig.tight_layout()"
   ]
  },
  {
   "cell_type": "code",
   "execution_count": null,
   "metadata": {},
   "outputs": [],
   "source": [
    "fig, ax = plt.subplots(1,2,sharey=True,sharex=True)\n",
    "# INBUM04 ou LODIVOU15\n",
    "\n",
    "# Boros : 56247, 56641\n",
    "data.query(f'P_RF > 0.3 & Cu_norm > 10 & pulse < {january_restart} & `Isotopic Ratio INBUM04`>0').plot(ax=ax[0], kind='scatter', \n",
    "                                x='Isotopic Ratio INBUM04', y='Cu_norm_nl_IC', \n",
    "                                c='pulse', cmap='plasma', alpha=0.8, s=40, label='Before Chrismas Break', colorbar=False)\n",
    "data.query(f'P_RF > 0.3 & Cu_norm > 10 & pulse < {january_restart} & `Isotopic Ratio INBUM04`>0').plot(ax=ax[1], kind='scatter', \n",
    "                                x='Isotopic Ratio LODIVOU15', y='Cu_norm_nl_IC', \n",
    "                                c='pulse', cmap='plasma', alpha=0.8, s=40, label='Before Chrismas Break', colorbar=False)\n",
    "im = plt.gca().get_children()[0]\n",
    "cax = fig.add_axes([0.91,0.1,0.02,0.88]) \n",
    "fig.colorbar(im, cax=cax)\n",
    "fig.suptitle('$P_{RF} > 0.3$ MW')\n",
    "[a.set_xlim(0, 30) for a in ax]\n",
    "[a.set_ylim(bottom=0, top=450) for a in ax]\n",
    "[a.legend(loc='upper center') for a in ax]\n",
    "[a.set_ylabel('$Cu/n_l/P_{IC}$') for a in ax]\n",
    "fig.subplots_adjust(wspace=0.05, left=0.08, top=0.92)\n",
    "#fig.tight_layout()"
   ]
  },
  {
   "cell_type": "code",
   "execution_count": null,
   "metadata": {},
   "outputs": [],
   "source": [
    "fig, ax = plt.subplots(1,2,sharey=True,sharex=True)\n",
    "# INBUM04 ou LODIVOU15\n",
    "\n",
    "# Boros : 56247, 56641\n",
    "data.query(f'P_RF > 0.3 & Cu_norm > 10 & pulse > {post_boro[1]} & `Isotopic Ratio INBUM04`>0').plot(ax=ax[0], kind='scatter', \n",
    "                                x='Isotopic Ratio INBUM04', y='Cu_norm_nl_IC', \n",
    "                                c='pulse', cmap='plasma', alpha=0.8, s=40, label='After Boro', colorbar=False)\n",
    "data.query(f'P_RF > 0.3 & Cu_norm > 10 & pulse > {post_boro[1]} & `Isotopic Ratio INBUM04`>0').plot(ax=ax[1], kind='scatter', \n",
    "                                x='Isotopic Ratio LODIVOU15', y='Cu_norm_nl_IC', \n",
    "                                c='pulse', cmap='plasma', alpha=0.8, s=40, label='After Boro', colorbar=False)\n",
    "im = plt.gca().get_children()[0]\n",
    "cax = fig.add_axes([0.91,0.1,0.02,0.88]) \n",
    "fig.colorbar(im, cax=cax)\n",
    "fig.suptitle('$P_{RF} > 0.3$ MW')\n",
    "[a.set_xlim(0, 20) for a in ax]\n",
    "[a.set_ylim(bottom=0, top=450) for a in ax]\n",
    "[a.legend(loc='upper center') for a in ax]\n",
    "[a.set_ylabel('$Cu/n_l/P_{IC}$') for a in ax]\n",
    "fig.subplots_adjust(wspace=0.05, left=0.08, top=0.92)\n",
    "#fig.tight_layout()"
   ]
  },
  {
   "cell_type": "code",
   "execution_count": null,
   "metadata": {},
   "outputs": [],
   "source": [
    "data_means = data.query('P_RF > 0.3 & Cu_norm > 10').groupby('pulse').mean().reset_index()\n",
    "data_errors = data.query('P_RF > 0.3 & Cu_norm > 10').groupby('pulse').std().reset_index()"
   ]
  },
  {
   "cell_type": "code",
   "execution_count": null,
   "metadata": {},
   "outputs": [],
   "source": [
    "fig, ax = plt.subplots()\n",
    "# INBUM04 ou LODIVOU15\n",
    "\n",
    "# Boros : 56247, 56641\n",
    "data.query(f'P_RF > 0.3 & Cu_norm > 10 & pulse < {january_restart}').plot(ax=ax, kind='scatter', \n",
    "                                y='Cu_norm', x='P_RF', \n",
    "                                c='ratio_Pic_Plh', cmap='plasma', alpha=0.8, s=40, label='Before Chrismas Break', colorbar=False, vmin=0, vmax=1)\n",
    "m = plt.gca().get_children()[0]\n",
    "cax = fig.add_axes([0.92,0.1,0.02,0.8]) \n",
    "fig.colorbar(im, cax=cax)\n",
    "\n",
    "ax.set_xlim(0, 6)\n",
    "ax.legend(loc='upper center')\n",
    "ax.set_ylabel('$Cu/n_l$')\n",
    "ax.set_xlabel('$P_{RF}$ [MW]')\n",
    "fig.suptitle('$P_{RF}$>0.3MW - Color: $P_{IC}/P_{LH}$')\n",
    "fig.subplots_adjust(wspace=0.05)\n",
    "\n",
    "#fig.tight_layout()"
   ]
  },
  {
   "cell_type": "code",
   "execution_count": null,
   "metadata": {},
   "outputs": [],
   "source": [
    "fig, ax = plt.subplots()\n",
    "# INBUM04 ou LODIVOU15\n",
    "\n",
    "# Boros : 56247, 56641\n",
    "data_means.query(f'pulse < {january_restart}').plot(ax=ax, kind='scatter', \n",
    "                                y='Cu_norm', x='P_RF', yerr=data_errors,\n",
    "                                c='ratio_Pic_Plh', cmap='plasma', alpha=0.8, s=40, label='Before Chrismas Break', colorbar=False, vmin=0, vmax=1)\n",
    "m = plt.gca().get_children()[0]\n",
    "cax = fig.add_axes([0.92,0.1,0.02,0.8]) \n",
    "fig.colorbar(im, cax=cax)\n",
    "\n",
    "ax.set_xlim(0, 6)\n",
    "ax.legend(loc='upper center')\n",
    "ax.set_ylabel('$Cu/n_l$')\n",
    "ax.set_xlabel('$P_{RF}$ [MW]')\n",
    "fig.suptitle('$P_{RF}$>0.3MW - Color: $P_{IC}/P_{LH}$ - pulse average')\n",
    "fig.subplots_adjust(wspace=0.05)\n",
    "\n",
    "#fig.tight_layout()"
   ]
  },
  {
   "cell_type": "code",
   "execution_count": null,
   "metadata": {},
   "outputs": [],
   "source": [
    "fig, ax = plt.subplots()\n",
    "# INBUM04 ou LODIVOU15\n",
    "\n",
    "# Boros : 56247, 56641\n",
    "data.query(f'P_RF > 0.3 & Cu_norm > 10 & pulse > {post_boro[1]}').plot(ax=ax, kind='scatter', \n",
    "                                y='Cu_norm', x='P_RF', \n",
    "                                c='ratio_Pic_Plh', cmap='plasma', alpha=0.8, s=40, label='After Boro', colorbar=False, vmin=0, vmax=1)\n",
    "m = plt.gca().get_children()[0]\n",
    "cax = fig.add_axes([0.92,0.1,0.02,0.8]) \n",
    "fig.colorbar(im, cax=cax)\n",
    "\n",
    "ax.set_xlim(0, 6)\n",
    "ax.legend(loc='upper center')\n",
    "ax.set_ylabel('$Cu/n_l$')\n",
    "ax.set_xlabel('$P_{RF}$ [MW]')\n",
    "fig.suptitle('$P_{RF}$>0.3MW - Color: $P_{IC}/P_{LH}$')\n",
    "fig.subplots_adjust(wspace=0.05)\n",
    "\n",
    "#fig.tight_layout()"
   ]
  },
  {
   "cell_type": "code",
   "execution_count": null,
   "metadata": {},
   "outputs": [],
   "source": [
    "fig, ax = plt.subplots()\n",
    "# INBUM04 ou LODIVOU15\n",
    "\n",
    "# Boros : 56247, 56641\n",
    "data_means.query(f'pulse > {post_boro[1]}').plot(ax=ax, kind='scatter', \n",
    "                                y='Cu_norm', x='P_RF', yerr=data_errors,\n",
    "                                c='ratio_Pic_Plh', cmap='plasma', alpha=0.8, s=40, label='After Boro', colorbar=False, vmin=0, vmax=1)\n",
    "m = plt.gca().get_children()[0]\n",
    "cax = fig.add_axes([0.92,0.1,0.02,0.8]) \n",
    "fig.colorbar(im, cax=cax)\n",
    "\n",
    "ax.set_xlim(0, 6)\n",
    "ax.legend(loc='upper center')\n",
    "ax.set_ylabel('$Cu/n_l$')\n",
    "ax.set_xlabel('$P_{RF}$ [MW]')\n",
    "fig.suptitle('$P_{RF}$>0.3MW - Color: $P_{IC}/P_{LH} - pulse average $')\n",
    "fig.subplots_adjust(wspace=0.05)\n",
    "\n",
    "#fig.tight_layout()"
   ]
  },
  {
   "cell_type": "markdown",
   "metadata": {},
   "source": [
    "# Evolution du rapport isotopique"
   ]
  },
  {
   "cell_type": "code",
   "execution_count": null,
   "metadata": {},
   "outputs": [],
   "source": [
    "fig, ax = plt.subplots()\n",
    "data_means = data.query('Ip>0.45').groupby('pulse').mean().reset_index()\n",
    "data_errors = data.query('Ip>0.45').groupby('pulse').std().reset_index()\n",
    "\n",
    "data_means.query('`Isotopic Ratio LODIVOU15`>0').plot(ax=ax, kind='scatter', \n",
    "                x='pulse', y='Isotopic Ratio LODIVOU15', yerr=data_errors,\n",
    "               color='C0', label='Outer Divertor (LODIVOU15)', s=60, edgecolor='k', alpha=.8)\n",
    "data_means.query('`Isotopic Ratio INBUM04`>0').plot(ax=ax, kind='scatter', \n",
    "                x='pulse', y='Isotopic Ratio INBUM04', yerr=data_errors,\n",
    "               color='C1', label='Inner Bumper (INBUM04)', s=60, edgecolor='k', alpha=.8)\n",
    "ax.set_xlim(left=56247)\n",
    "\n",
    "ax.axvline(january_restart, ls='-.', color='gray')\n",
    "\n",
    "[ax.axvline(shot, ls='--', color='gray') for shot in post_boro]\n",
    "\n",
    "ax.set_title('Data for $I_p>0.45$MA')\n",
    "ax.set_ylim(bottom=0, top=40)\n",
    "ax.set_ylabel('Isotopic Ratio [%]')\n",
    "ax.annotate('Christmas Break', xy=(56544, 32), xytext=(56400, 35), arrowprops=dict(facecolor='black'))\n",
    "\n",
    "ax.annotate('Boro', xy=(56597, 20), xytext=(56620, 25), arrowprops=dict(facecolor='black'))\n",
    "\n",
    "ax.axhspan(5,10, color='green', alpha=0.2)\n",
    "fig.tight_layout()"
   ]
  },
  {
   "cell_type": "markdown",
   "metadata": {},
   "source": [
    "# Fitting to Power Scaling Laws"
   ]
  },
  {
   "cell_type": "code",
   "execution_count": null,
   "metadata": {},
   "outputs": [],
   "source": [
    "data.columns"
   ]
  },
  {
   "cell_type": "code",
   "execution_count": null,
   "metadata": {},
   "outputs": [],
   "source": [
    "from sklearn import linear_model"
   ]
  },
  {
   "cell_type": "code",
   "execution_count": null,
   "metadata": {},
   "outputs": [],
   "source": [
    "# let's first filter only the usefull data from the whole dataset\n",
    "signames = ['Cu_norm','IC_P_Q1', 'IC_P_Q2', 'IC_P_Q4', 'LH_P_tot']\n",
    "query = f' IC_P_tot > 0.3 & Cu_norm > 10'\n",
    "# Convert into log values and remove spurious points\n",
    "data_log = data.query(query)[signames].apply(np.log).replace([np.inf, -np.inf], np.nan).dropna()\n",
    "\n",
    "# Make a linear regression on the log values\n",
    "lin_reg = linear_model.LinearRegression()\n",
    "lin_reg.fit(data_log[signames[1:]], data_log[signames[0]])\n",
    "coefs = np.squeeze(lin_reg.coef_)\n",
    "\n",
    "print(f'Scaling coefficients: a={coefs}')\n",
    "print(f'Intersection A: {lin_reg.intercept_}')"
   ]
  },
  {
   "cell_type": "code",
   "execution_count": null,
   "metadata": {},
   "outputs": [],
   "source": [
    "def power_law(signames, coefs, A0, query='index == index or index != index'):\n",
    "    y = A0\n",
    "    for (signame, coef) in zip(signames[1:], coefs):\n",
    "        y *= data.query(query)[signame]**coef\n",
    "    return y"
   ]
  },
  {
   "cell_type": "code",
   "execution_count": null,
   "metadata": {},
   "outputs": [],
   "source": [
    "Cu_scale = power_law(signames, coefs, np.exp(lin_reg.intercept_), query=query)\n",
    "\n",
    "fig, ax = plt.subplots()\n",
    "ax.scatter(Cu_scale, data.query(query)['Cu_norm'], alpha=0.2)\n",
    "ax.plot(Cu_scale, Cu_scale, color='r')\n",
    "# ax.set_xscale('log')\n",
    "# ax.set_yscale('log')\n",
    "ax.grid(True, which='minor')\n",
    "ax.set_xlabel(r'$ \\times $'.join([f'({signame})^({coef:.1f})' for (signame, coef) in zip(signames[1:], coefs)]))\n",
    "ax.set_ylabel('Cu_norm')\n",
    "fig.tight_layout()\n"
   ]
  },
  {
   "cell_type": "markdown",
   "metadata": {},
   "source": [
    "## Evolution of the Copper Impurity"
   ]
  },
  {
   "cell_type": "code",
   "execution_count": null,
   "metadata": {},
   "outputs": [],
   "source": [
    "with plt.style.context('ggplot'):\n",
    "    fig, axes = plt.subplots(2, 1, sharex=True)\n",
    "    data.query('IC_P_tot>0.25').plot(kind='scatter', x='pulse', y='Cu_norm_nl_IC', c='Ip', ax=axes[0], cmap=\"viridis\", s=50, vmax=0.75, alpha=.6)\n",
    "    data.query('LH_P_tot>0.25').plot(kind='scatter', x='pulse', y='Cu_norm_nl_LH', c='Ip', ax=axes[1], cmap=\"viridis\", s=50, vmax=0.75, alpha=.6)\n",
    "    [ax.set_ylim(bottom=0, top=500) for ax in axes]\n",
    "    axes[0].set_ylabel('Cu / nl / IC Power [a.u.]')\n",
    "    axes[1].set_ylabel('Cu / nl / LH Power [a.u.]')\n",
    "    axes[-1].set_xlabel('WEST Pulse #')\n",
    "    #plt.xticks(rotation=40)\n",
    "    fig.suptitle('Evolution of Copper Impurity')\n",
    "    fig.tight_layout()\n",
    "    fig.subplots_adjust(hspace=0.2)\n",
    "    axes[-1].xaxis.tick_top()"
   ]
  },
  {
   "cell_type": "markdown",
   "metadata": {},
   "source": [
    "# Performances Comparaison Between Campaign"
   ]
  },
  {
   "cell_type": "code",
   "execution_count": null,
   "metadata": {},
   "outputs": [],
   "source": [
    "# Importing Resumed Parameters\n",
    "data_C4 = pd.read_csv('../WEST_C4/WEST_C4_database_resumed_parameters.csv')"
   ]
  },
  {
   "cell_type": "code",
   "execution_count": null,
   "metadata": {},
   "outputs": [],
   "source": [
    "data_C4['IC_P_tot_MW'] = data_C4['IC_P_tot']/1e3\n",
    "data_C4['IC_P_Q1_MW'] = data_C4['IC_P_Q1']/1e3\n",
    "data_C4['IC_P_Q2_MW'] = data_C4['IC_P_Q2']/1e3\n",
    "data_C4['IC_P_Q4_MW'] = data_C4['IC_P_Q4']/1e3\n",
    "data_C4['pulse_relative'] = data_C4['pulse'] - data_C4['pulse'][0]\n",
    "data_C4['P_RF'] = data['LH_P_tot'] + data['IC_P_tot']\n",
    "data_C4['Ip_MA'] = data['Ip']/1e3\n",
    "\n",
    "C4_after_boro_pulses = [53453, 54288, 54403, 54502, 54596, 54719, 54881, 55000, 55138, 55499, 55548, 55747, 55795]\n",
    "C5_after_boro_pulses = [56244, 56596]"
   ]
  },
  {
   "cell_type": "code",
   "execution_count": null,
   "metadata": {},
   "outputs": [],
   "source": [
    "fig, ax = plt.subplots()\n",
    "data_C4_grp = data_C4.query('IC_P_tot_MW>0.1').groupby('pulse')\n",
    "data_C5_grp = data.query('IC_P_tot>0.1').groupby('pulse')\n",
    "\n",
    "data_C4_grp.mean().reset_index().plot(ax=ax, kind='scatter', x='pulse_relative', y='IC_P_tot_MW', \n",
    "                                      color='C0', label='C4', yerr=data_C4_grp.std().reset_index(), s=80, edgecolor='k', alpha=0.5)\n",
    "data_C5_grp.mean().reset_index().plot(ax=ax, kind='scatter', x='pulse_relative', y='IC_P_tot', \n",
    "                                      color='C1', label='C5', yerr=data_C5_grp.std().reset_index(), s=80, edgecolor='k', alpha=0.5)\n",
    "ax.set_xlabel('Relative WEST Pulse # wrt. Campaign Start')\n",
    "ax.set_ylabel('Coupled Power [MW]')\n",
    "for pulse in C4_after_boro_pulses:\n",
    "    ax.axvline(pulse-data_C4['pulse'][0], ls='--', color='blue')\n",
    "for pulse in C5_after_boro_pulses:\n",
    "    ax.axvline(pulse-data['pulse'][23], ls='--', color='orange')\n",
    "ax.set_xlim(left=0)\n",
    "ax.set_title('Total IC Power')"
   ]
  },
  {
   "cell_type": "code",
   "execution_count": null,
   "metadata": {},
   "outputs": [],
   "source": [
    "fig, ax = plt.subplots()\n",
    "data_C4_grp = data_C4.query('IC_P_tot_MW>0.1').groupby('pulse')\n",
    "data_C5_grp = data.query('IC_P_tot>0.1').groupby('pulse')\n",
    "\n",
    "data_C4_grp.mean().reset_index().plot(ax=ax, kind='scatter', x='pulse', y='IC_P_tot_MW', \n",
    "                                      color='C0', label='C4', yerr=data_C4_grp.std().reset_index(), s=80, edgecolor='k', alpha=0.5)\n",
    "data_C5_grp.mean().reset_index().plot(ax=ax, kind='scatter', x='pulse', y='IC_P_tot', \n",
    "                                      color='C1', label='C5', yerr=data_C5_grp.std().reset_index(), s=80, edgecolor='k', alpha=0.5)\n",
    "ax.set_xlabel('Relative WEST Pulse #')\n",
    "ax.set_ylabel('Coupled Power [MW]')\n",
    "for pulse in C4_after_boro_pulses:\n",
    "    ax.axvline(pulse, ls='--', color='gray')\n",
    "for pulse in C5_after_boro_pulses:\n",
    "    ax.axvline(pulse, ls='--', color='gray')\n",
    "ax.set_xlim(left=data_C4['pulse'][0])\n",
    "ax.set_title('Total IC Power')\n",
    "fig.tight_layout()"
   ]
  },
  {
   "cell_type": "code",
   "execution_count": null,
   "metadata": {},
   "outputs": [],
   "source": [
    "data_C4['Ip_MA']=data_C4['Ip']/1e3"
   ]
  },
  {
   "cell_type": "code",
   "execution_count": null,
   "metadata": {},
   "outputs": [],
   "source": [
    "fig, ax = plt.subplots()\n",
    "data_C4_grp = data_C4.query('IC_P_tot_MW>0.1').groupby('pulse')\n",
    "data_C5_grp = data.query('IC_P_tot>0.1').groupby('pulse')\n",
    "\n",
    "data_C4_grp.mean().reset_index().plot(ax=ax, kind='scatter', x='pulse', y='IC_P_tot_MW', cmap='tab10', colorbar=False,\n",
    "                                      c='Ip_MA', label='C4', s=100, marker=\"s\", edgecolor='k', alpha=0.8, vmin=0.5, vmax=0.8)\n",
    "data_C5_grp.mean().reset_index().plot(ax=ax, kind='scatter', x='pulse', y='IC_P_tot', cmap='tab10',\n",
    "                                      c='Ip', label='C5', s=100, edgecolor='k', alpha=0.8, vmin=0.5, vmax=0.8)\n",
    "ax.set_xlabel('Relative WEST Pulse #')\n",
    "ax.set_ylabel('Coupled Power [MW]')\n",
    "for pulse in C4_after_boro_pulses:\n",
    "    ax.axvline(pulse, ls='--', color='gray')\n",
    "for pulse in C5_after_boro_pulses:\n",
    "    ax.axvline(pulse, ls='--', color='gray')\n",
    "ax.set_xlim(left=data_C4['pulse'][0])\n",
    "ax.set_title('Total IC Power')\n",
    "fig.tight_layout()"
   ]
  },
  {
   "cell_type": "code",
   "execution_count": null,
   "metadata": {},
   "outputs": [],
   "source": [
    "fig, ax = plt.subplots()\n",
    "ax.violinplot(dataset=data_C4.query('IC_P_tot_MW > 0.1')['IC_P_tot_MW'])\n",
    "ax.violinplot(dataset=data.query('IC_P_tot>0.1')['IC_P_tot'])\n"
   ]
  },
  {
   "cell_type": "code",
   "execution_count": null,
   "metadata": {},
   "outputs": [],
   "source": [
    "fig, ax = plt.subplots()\n",
    "data_C4_grp = data_C4.query('P_RF>0.1').groupby('pulse')\n",
    "data_C5_grp = data.query('P_RF>0.1').groupby('pulse')\n",
    "\n",
    "data_C4_grp.mean().reset_index().plot(ax=ax, kind='scatter', x='pulse', y='P_RF', \n",
    "                                      color='C0', label='C4', yerr=data_C4_grp.std().reset_index(), s=80, edgecolor='k', alpha=0.5)\n",
    "data_C5_grp.mean().reset_index().plot(ax=ax, kind='scatter', x='pulse', y='P_RF', \n",
    "                                      color='C1', label='C5', yerr=data_C5_grp.std().reset_index(), s=80, edgecolor='k', alpha=0.5)\n",
    "ax.set_xlabel('WEST Pulse #')\n",
    "ax.set_ylabel('Coupled Power [MW]')\n",
    "ax.set_title('Total RF Power')\n",
    "for pulse in C4_after_boro_pulses:\n",
    "    ax.axvline(pulse, ls='--', color='grey')\n",
    "for pulse in C5_after_boro_pulses:\n",
    "    ax.axvline(pulse, ls='--', color='grey')\n",
    "ax.set_xlim(left=data_C4['pulse'][0])"
   ]
  },
  {
   "cell_type": "code",
   "execution_count": null,
   "metadata": {},
   "outputs": [],
   "source": []
  },
  {
   "cell_type": "code",
   "execution_count": null,
   "metadata": {},
   "outputs": [],
   "source": [
    "fig, ax = plt.subplots()\n",
    "data_C4_grp = data_C4.query('IC_P_Q2_MW>0.1').groupby('pulse')\n",
    "data_C5_grp = data.query('IC_P_Q2>0.1').groupby('pulse')\n",
    "\n",
    "data_C4_grp.mean().reset_index().plot(ax=ax, kind='scatter', x='pulse', y='IC_P_Q2_MW', \n",
    "                                      color='C0', label='C4', yerr=data_C4_grp.std().reset_index(), s=80, edgecolor='k', alpha=0.5)\n",
    "data_C5_grp.mean().reset_index().plot(ax=ax, kind='scatter', x='pulse', y='IC_P_Q2', \n",
    "                                      color='C1', label='C5', yerr=data_C5_grp.std().reset_index(), s=80, edgecolor='k', alpha=0.5)\n",
    "ax.set_xlabel('WEST Pulse #')\n",
    "ax.set_ylabel('Coupled Power [MW]')\n",
    "ax.set_title('Q2 Antenna')\n",
    "\n",
    "for pulse in C4_after_boro_pulses:\n",
    "    ax.axvline(pulse, ls='--', color='grey')\n",
    "for pulse in C5_after_boro_pulses:\n",
    "    ax.axvline(pulse, ls='--', color='grey')\n",
    "ax.set_xlim(left=data_C4['pulse'][0])"
   ]
  },
  {
   "cell_type": "code",
   "execution_count": null,
   "metadata": {},
   "outputs": [],
   "source": [
    "fig, ax = plt.subplots()\n",
    "data_C4_grp = data_C4.query('IC_P_Q1_MW>0.1').groupby('pulse')\n",
    "data_C5_grp = data.query('IC_P_Q1>0.1').groupby('pulse')\n",
    "\n",
    "data_C4_grp.mean().reset_index().plot(ax=ax, kind='scatter', x='pulse', y='IC_P_Q1_MW', \n",
    "                                      color='C0', label='C4', yerr=data_C4_grp.std().reset_index(), s=60, edgecolor='k', alpha=0.5)\n",
    "data_C5_grp.mean().reset_index().plot(ax=ax, kind='scatter', x='pulse', y='IC_P_Q1', \n",
    "                                      color='C1', label='C5', yerr=data_C5_grp.std().reset_index(), s=60, edgecolor='k', alpha=0.5)\n",
    "ax.set_xlabel('WEST Pulse #')\n",
    "ax.set_ylabel('Coupled Power [MW]')\n",
    "ax.set_title('Q1 Antenna')\n",
    "for pulse in C4_after_boro_pulses:\n",
    "    ax.axvline(pulse, ls='--', color='grey')\n",
    "for pulse in C5_after_boro_pulses:\n",
    "    ax.axvline(pulse, ls='--', color='grey')\n",
    "ax.set_xlim(left=data_C4['pulse'][0])"
   ]
  },
  {
   "cell_type": "code",
   "execution_count": null,
   "metadata": {},
   "outputs": [],
   "source": [
    "fig, ax = plt.subplots()\n",
    "data_C4_grp = data_C4.query('IC_P_Q4_MW>0.1').groupby('pulse')\n",
    "data_C5_grp = data.query('IC_P_Q4>0.1').groupby('pulse')\n",
    "\n",
    "data_C4_grp.mean().reset_index().plot(ax=ax, kind='scatter', x='pulse', y='IC_P_Q4_MW', \n",
    "                                      color='C0', label='C4', yerr=data_C4_grp.std().reset_index(), s=60, edgecolor='k', alpha=0.5)\n",
    "data_C5_grp.mean().reset_index().plot(ax=ax, kind='scatter', x='pulse', y='IC_P_Q4', \n",
    "                                      color='C1', label='C5', yerr=data_C5_grp.std().reset_index(), s=60, edgecolor='k', alpha=0.5)\n",
    "ax.set_xlabel('WEST Pulse #')\n",
    "ax.set_ylabel('Coupled Power [MW]')\n",
    "ax.set_title('Q4 Antenna')\n",
    "for pulse in C4_after_boro_pulses:\n",
    "    ax.axvline(pulse, ls='--', color='grey')\n",
    "for pulse in C5_after_boro_pulses:\n",
    "    ax.axvline(pulse, ls='--', color='grey')\n",
    "ax.set_xlim(left=data_C4['pulse'][0])"
   ]
  },
  {
   "cell_type": "code",
   "execution_count": null,
   "metadata": {},
   "outputs": [],
   "source": []
  }
 ],
 "metadata": {
  "kernelspec": {
   "display_name": "Python 3",
   "language": "python",
   "name": "python3"
  },
  "language_info": {
   "codemirror_mode": {
    "name": "ipython",
    "version": 3
   },
   "file_extension": ".py",
   "mimetype": "text/x-python",
   "name": "python",
   "nbconvert_exporter": "python",
   "pygments_lexer": "ipython3",
   "version": "3.8.5"
  }
 },
 "nbformat": 4,
 "nbformat_minor": 4
}
