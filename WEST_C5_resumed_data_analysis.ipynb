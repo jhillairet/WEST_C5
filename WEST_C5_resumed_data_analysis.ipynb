{
 "cells": [
  {
   "cell_type": "code",
   "execution_count": 1,
   "metadata": {},
   "outputs": [],
   "source": [
    "# assume working in Jupyter Lab\n",
    "%matplotlib widget\n",
    "\n",
    "%load_ext autoreload\n",
    "%autoreload 2"
   ]
  },
  {
   "cell_type": "code",
   "execution_count": 33,
   "metadata": {},
   "outputs": [],
   "source": [
    "import sys\n",
    "import numpy as np\n",
    "import pandas as pd\n",
    "import matplotlib.pyplot as plt \n",
    "import seaborn as sns\n",
    "from scipy.optimize import curve_fit \n",
    "from tqdm.notebook import tqdm\n",
    "plt.rcParams['figure.figsize'] = (10,6)\n",
    "sns.set_style('whitegrid')\n",
    "sns.set_context('paper', font_scale=1.4)\n",
    "\n",
    "# import WEST libraries\n",
    "sys.path.append('C:/Users/JH218595/Documents/pywed')\n",
    "sys.path.append('C:/Users/JH218595/Documents/IRFMtb/')\n",
    "sys.path.append('C:/Users/JH218595/Documents/PPPAT/')\n",
    "from pppat.control_room.signals import *\n",
    "from pulse_database import PulseDB"
   ]
  },
  {
   "cell_type": "markdown",
   "metadata": {},
   "source": [
    "# Importing the database"
   ]
  },
  {
   "cell_type": "code",
   "execution_count": 37,
   "metadata": {},
   "outputs": [
    {
     "data": {
      "text/html": [
       "<div>\n",
       "<style scoped>\n",
       "    .dataframe tbody tr th:only-of-type {\n",
       "        vertical-align: middle;\n",
       "    }\n",
       "\n",
       "    .dataframe tbody tr th {\n",
       "        vertical-align: top;\n",
       "    }\n",
       "\n",
       "    .dataframe thead th {\n",
       "        text-align: right;\n",
       "    }\n",
       "</style>\n",
       "<table border=\"1\" class=\"dataframe\">\n",
       "  <thead>\n",
       "    <tr style=\"text-align: right;\">\n",
       "      <th></th>\n",
       "      <th>Unnamed: 0</th>\n",
       "      <th>pulse</th>\n",
       "      <th>Ag18</th>\n",
       "      <th>Ag19</th>\n",
       "      <th>Cu</th>\n",
       "      <th>year</th>\n",
       "      <th>month</th>\n",
       "      <th>day</th>\n",
       "      <th>freq_Q1</th>\n",
       "      <th>freq_Q2</th>\n",
       "      <th>...</th>\n",
       "      <th>LH_P_tot</th>\n",
       "      <th>R_LH1</th>\n",
       "      <th>R_LH2</th>\n",
       "      <th>LH_Positions</th>\n",
       "      <th>MHD</th>\n",
       "      <th>Ohmic_P</th>\n",
       "      <th>Prad</th>\n",
       "      <th>Rext_median</th>\n",
       "      <th>Separatrix_P</th>\n",
       "      <th>nl</th>\n",
       "    </tr>\n",
       "  </thead>\n",
       "  <tbody>\n",
       "    <tr>\n",
       "      <th>0</th>\n",
       "      <td>0</td>\n",
       "      <td>56287</td>\n",
       "      <td>1.540700</td>\n",
       "      <td>NaN</td>\n",
       "      <td>3.959761</td>\n",
       "      <td>2020</td>\n",
       "      <td>12</td>\n",
       "      <td>10</td>\n",
       "      <td>55.299999</td>\n",
       "      <td>55.799999</td>\n",
       "      <td>...</td>\n",
       "      <td>0.000000</td>\n",
       "      <td>3.0152</td>\n",
       "      <td>3.0172</td>\n",
       "      <td>3.0152</td>\n",
       "      <td>0.000000</td>\n",
       "      <td>0.0</td>\n",
       "      <td>0.0</td>\n",
       "      <td>2980.880000</td>\n",
       "      <td>0.000000</td>\n",
       "      <td>1.435414</td>\n",
       "    </tr>\n",
       "    <tr>\n",
       "      <th>1</th>\n",
       "      <td>1</td>\n",
       "      <td>56287</td>\n",
       "      <td>NaN</td>\n",
       "      <td>1.033671</td>\n",
       "      <td>3.550893</td>\n",
       "      <td>2020</td>\n",
       "      <td>12</td>\n",
       "      <td>10</td>\n",
       "      <td>55.299999</td>\n",
       "      <td>55.799999</td>\n",
       "      <td>...</td>\n",
       "      <td>0.000000</td>\n",
       "      <td>3.0152</td>\n",
       "      <td>3.0172</td>\n",
       "      <td>3.0152</td>\n",
       "      <td>0.000000</td>\n",
       "      <td>0.0</td>\n",
       "      <td>0.0</td>\n",
       "      <td>2950.440000</td>\n",
       "      <td>0.000000</td>\n",
       "      <td>1.545745</td>\n",
       "    </tr>\n",
       "    <tr>\n",
       "      <th>2</th>\n",
       "      <td>2</td>\n",
       "      <td>56287</td>\n",
       "      <td>NaN</td>\n",
       "      <td>1.235728</td>\n",
       "      <td>NaN</td>\n",
       "      <td>2020</td>\n",
       "      <td>12</td>\n",
       "      <td>10</td>\n",
       "      <td>55.299999</td>\n",
       "      <td>55.799999</td>\n",
       "      <td>...</td>\n",
       "      <td>0.000000</td>\n",
       "      <td>3.0152</td>\n",
       "      <td>3.0172</td>\n",
       "      <td>3.0152</td>\n",
       "      <td>0.000000</td>\n",
       "      <td>0.0</td>\n",
       "      <td>0.0</td>\n",
       "      <td>2958.220000</td>\n",
       "      <td>0.000000</td>\n",
       "      <td>1.573494</td>\n",
       "    </tr>\n",
       "    <tr>\n",
       "      <th>3</th>\n",
       "      <td>3</td>\n",
       "      <td>56287</td>\n",
       "      <td>NaN</td>\n",
       "      <td>1.143154</td>\n",
       "      <td>NaN</td>\n",
       "      <td>2020</td>\n",
       "      <td>12</td>\n",
       "      <td>10</td>\n",
       "      <td>55.299999</td>\n",
       "      <td>55.799999</td>\n",
       "      <td>...</td>\n",
       "      <td>0.000000</td>\n",
       "      <td>3.0152</td>\n",
       "      <td>3.0172</td>\n",
       "      <td>3.0152</td>\n",
       "      <td>0.000000</td>\n",
       "      <td>0.0</td>\n",
       "      <td>0.0</td>\n",
       "      <td>2943.200000</td>\n",
       "      <td>0.000000</td>\n",
       "      <td>1.567759</td>\n",
       "    </tr>\n",
       "    <tr>\n",
       "      <th>4</th>\n",
       "      <td>4</td>\n",
       "      <td>56287</td>\n",
       "      <td>1.000000</td>\n",
       "      <td>1.000000</td>\n",
       "      <td>2.425662</td>\n",
       "      <td>2020</td>\n",
       "      <td>12</td>\n",
       "      <td>10</td>\n",
       "      <td>55.299999</td>\n",
       "      <td>55.799999</td>\n",
       "      <td>...</td>\n",
       "      <td>0.000000</td>\n",
       "      <td>3.0152</td>\n",
       "      <td>3.0172</td>\n",
       "      <td>3.0152</td>\n",
       "      <td>0.000000</td>\n",
       "      <td>0.0</td>\n",
       "      <td>0.0</td>\n",
       "      <td>2950.000000</td>\n",
       "      <td>0.000000</td>\n",
       "      <td>1.566279</td>\n",
       "    </tr>\n",
       "    <tr>\n",
       "      <th>...</th>\n",
       "      <td>...</td>\n",
       "      <td>...</td>\n",
       "      <td>...</td>\n",
       "      <td>...</td>\n",
       "      <td>...</td>\n",
       "      <td>...</td>\n",
       "      <td>...</td>\n",
       "      <td>...</td>\n",
       "      <td>...</td>\n",
       "      <td>...</td>\n",
       "      <td>...</td>\n",
       "      <td>...</td>\n",
       "      <td>...</td>\n",
       "      <td>...</td>\n",
       "      <td>...</td>\n",
       "      <td>...</td>\n",
       "      <td>...</td>\n",
       "      <td>...</td>\n",
       "      <td>...</td>\n",
       "      <td>...</td>\n",
       "      <td>...</td>\n",
       "    </tr>\n",
       "    <tr>\n",
       "      <th>9301</th>\n",
       "      <td>40</td>\n",
       "      <td>56489</td>\n",
       "      <td>14.616149</td>\n",
       "      <td>44.623701</td>\n",
       "      <td>273.192056</td>\n",
       "      <td>2020</td>\n",
       "      <td>12</td>\n",
       "      <td>18</td>\n",
       "      <td>55.650002</td>\n",
       "      <td>55.799999</td>\n",
       "      <td>...</td>\n",
       "      <td>0.000000</td>\n",
       "      <td>3.0136</td>\n",
       "      <td>3.0167</td>\n",
       "      <td>3.0136</td>\n",
       "      <td>56.020408</td>\n",
       "      <td>0.0</td>\n",
       "      <td>0.0</td>\n",
       "      <td>2989.224490</td>\n",
       "      <td>NaN</td>\n",
       "      <td>5.709460</td>\n",
       "    </tr>\n",
       "    <tr>\n",
       "      <th>9302</th>\n",
       "      <td>41</td>\n",
       "      <td>56489</td>\n",
       "      <td>13.575090</td>\n",
       "      <td>44.145603</td>\n",
       "      <td>215.816313</td>\n",
       "      <td>2020</td>\n",
       "      <td>12</td>\n",
       "      <td>18</td>\n",
       "      <td>55.650002</td>\n",
       "      <td>55.799999</td>\n",
       "      <td>...</td>\n",
       "      <td>0.000000</td>\n",
       "      <td>3.0136</td>\n",
       "      <td>3.0167</td>\n",
       "      <td>3.0136</td>\n",
       "      <td>59.285714</td>\n",
       "      <td>0.0</td>\n",
       "      <td>0.0</td>\n",
       "      <td>2989.571429</td>\n",
       "      <td>NaN</td>\n",
       "      <td>5.864504</td>\n",
       "    </tr>\n",
       "    <tr>\n",
       "      <th>9303</th>\n",
       "      <td>42</td>\n",
       "      <td>56489</td>\n",
       "      <td>15.615888</td>\n",
       "      <td>44.242105</td>\n",
       "      <td>263.748578</td>\n",
       "      <td>2020</td>\n",
       "      <td>12</td>\n",
       "      <td>18</td>\n",
       "      <td>55.650002</td>\n",
       "      <td>55.799999</td>\n",
       "      <td>...</td>\n",
       "      <td>0.000000</td>\n",
       "      <td>3.0136</td>\n",
       "      <td>3.0167</td>\n",
       "      <td>3.0136</td>\n",
       "      <td>59.877551</td>\n",
       "      <td>0.0</td>\n",
       "      <td>0.0</td>\n",
       "      <td>2989.653061</td>\n",
       "      <td>0.000526</td>\n",
       "      <td>6.008412</td>\n",
       "    </tr>\n",
       "    <tr>\n",
       "      <th>9304</th>\n",
       "      <td>43</td>\n",
       "      <td>56489</td>\n",
       "      <td>16.383295</td>\n",
       "      <td>47.341942</td>\n",
       "      <td>355.213240</td>\n",
       "      <td>2020</td>\n",
       "      <td>12</td>\n",
       "      <td>18</td>\n",
       "      <td>55.650002</td>\n",
       "      <td>55.799999</td>\n",
       "      <td>...</td>\n",
       "      <td>0.000000</td>\n",
       "      <td>3.0136</td>\n",
       "      <td>3.0167</td>\n",
       "      <td>3.0136</td>\n",
       "      <td>61.234694</td>\n",
       "      <td>0.0</td>\n",
       "      <td>0.0</td>\n",
       "      <td>2988.693878</td>\n",
       "      <td>0.000525</td>\n",
       "      <td>6.105347</td>\n",
       "    </tr>\n",
       "    <tr>\n",
       "      <th>9305</th>\n",
       "      <td>44</td>\n",
       "      <td>56489</td>\n",
       "      <td>NaN</td>\n",
       "      <td>81.093331</td>\n",
       "      <td>NaN</td>\n",
       "      <td>2020</td>\n",
       "      <td>12</td>\n",
       "      <td>18</td>\n",
       "      <td>55.650002</td>\n",
       "      <td>55.799999</td>\n",
       "      <td>...</td>\n",
       "      <td>-0.000001</td>\n",
       "      <td>3.0136</td>\n",
       "      <td>3.0167</td>\n",
       "      <td>3.0136</td>\n",
       "      <td>NaN</td>\n",
       "      <td>0.0</td>\n",
       "      <td>NaN</td>\n",
       "      <td>NaN</td>\n",
       "      <td>-0.078777</td>\n",
       "      <td>NaN</td>\n",
       "    </tr>\n",
       "  </tbody>\n",
       "</table>\n",
       "<p>9306 rows × 47 columns</p>\n",
       "</div>"
      ],
      "text/plain": [
       "      Unnamed: 0  pulse       Ag18       Ag19          Cu  year  month  day  \\\n",
       "0              0  56287   1.540700        NaN    3.959761  2020     12   10   \n",
       "1              1  56287        NaN   1.033671    3.550893  2020     12   10   \n",
       "2              2  56287        NaN   1.235728         NaN  2020     12   10   \n",
       "3              3  56287        NaN   1.143154         NaN  2020     12   10   \n",
       "4              4  56287   1.000000   1.000000    2.425662  2020     12   10   \n",
       "...          ...    ...        ...        ...         ...   ...    ...  ...   \n",
       "9301          40  56489  14.616149  44.623701  273.192056  2020     12   18   \n",
       "9302          41  56489  13.575090  44.145603  215.816313  2020     12   18   \n",
       "9303          42  56489  15.615888  44.242105  263.748578  2020     12   18   \n",
       "9304          43  56489  16.383295  47.341942  355.213240  2020     12   18   \n",
       "9305          44  56489        NaN  81.093331         NaN  2020     12   18   \n",
       "\n",
       "        freq_Q1    freq_Q2  ...  LH_P_tot   R_LH1   R_LH2  LH_Positions  \\\n",
       "0     55.299999  55.799999  ...  0.000000  3.0152  3.0172        3.0152   \n",
       "1     55.299999  55.799999  ...  0.000000  3.0152  3.0172        3.0152   \n",
       "2     55.299999  55.799999  ...  0.000000  3.0152  3.0172        3.0152   \n",
       "3     55.299999  55.799999  ...  0.000000  3.0152  3.0172        3.0152   \n",
       "4     55.299999  55.799999  ...  0.000000  3.0152  3.0172        3.0152   \n",
       "...         ...        ...  ...       ...     ...     ...           ...   \n",
       "9301  55.650002  55.799999  ...  0.000000  3.0136  3.0167        3.0136   \n",
       "9302  55.650002  55.799999  ...  0.000000  3.0136  3.0167        3.0136   \n",
       "9303  55.650002  55.799999  ...  0.000000  3.0136  3.0167        3.0136   \n",
       "9304  55.650002  55.799999  ...  0.000000  3.0136  3.0167        3.0136   \n",
       "9305  55.650002  55.799999  ... -0.000001  3.0136  3.0167        3.0136   \n",
       "\n",
       "            MHD  Ohmic_P  Prad  Rext_median  Separatrix_P        nl  \n",
       "0      0.000000      0.0   0.0  2980.880000      0.000000  1.435414  \n",
       "1      0.000000      0.0   0.0  2950.440000      0.000000  1.545745  \n",
       "2      0.000000      0.0   0.0  2958.220000      0.000000  1.573494  \n",
       "3      0.000000      0.0   0.0  2943.200000      0.000000  1.567759  \n",
       "4      0.000000      0.0   0.0  2950.000000      0.000000  1.566279  \n",
       "...         ...      ...   ...          ...           ...       ...  \n",
       "9301  56.020408      0.0   0.0  2989.224490           NaN  5.709460  \n",
       "9302  59.285714      0.0   0.0  2989.571429           NaN  5.864504  \n",
       "9303  59.877551      0.0   0.0  2989.653061      0.000526  6.008412  \n",
       "9304  61.234694      0.0   0.0  2988.693878      0.000525  6.105347  \n",
       "9305        NaN      0.0   NaN          NaN     -0.078777       NaN  \n",
       "\n",
       "[9306 rows x 47 columns]"
      ]
     },
     "execution_count": 37,
     "metadata": {},
     "output_type": "execute_result"
    }
   ],
   "source": [
    "# Importing Resumed Parameters\n",
    "data = pd.read_csv('WEST_C5_database_resumed_parameters.csv')\n",
    "data"
   ]
  },
  {
   "cell_type": "markdown",
   "metadata": {},
   "source": [
    "# Cleaning the data"
   ]
  },
  {
   "cell_type": "markdown",
   "metadata": {},
   "source": [
    "Below we remove non physical or not relevant values"
   ]
  },
  {
   "cell_type": "code",
   "execution_count": 38,
   "metadata": {},
   "outputs": [],
   "source": [
    "data = data.query('nl > 2 and Ip > 0.4')\\\n",
    "            .query('Rext_median > 2700')"
   ]
  },
  {
   "cell_type": "code",
   "execution_count": 39,
   "metadata": {},
   "outputs": [
    {
     "data": {
      "text/plain": [
       "6402"
      ]
     },
     "execution_count": 39,
     "metadata": {},
     "output_type": "execute_result"
    }
   ],
   "source": [
    "len(data)"
   ]
  },
  {
   "cell_type": "markdown",
   "metadata": {},
   "source": [
    "# Derived quantities"
   ]
  },
  {
   "cell_type": "markdown",
   "metadata": {},
   "source": [
    "Below we calculate some quantities derived from the others"
   ]
  },
  {
   "cell_type": "code",
   "execution_count": 40,
   "metadata": {},
   "outputs": [],
   "source": [
    "data['P_RF'] = data['LH_P_tot'] + data['IC_P_tot']\n",
    "data['Ptot'] = data['Ohmic_P'] + data['P_RF']\n",
    "#data['P_conv'] = data['Ptot'] - data['Prad_bulk']\n",
    "data['frad'] = data['Prad']/data['Ptot']\n",
    "#data['frad_bulk'] = data['Prad_bulk']/data['Ptot']\n",
    "data['Cu_norm'] = data['Cu']/data['nl']/data['Ptot']"
   ]
  },
  {
   "cell_type": "markdown",
   "metadata": {},
   "source": [
    "## Evolution of the Copper Impurity"
   ]
  },
  {
   "cell_type": "code",
   "execution_count": 53,
   "metadata": {},
   "outputs": [
    {
     "name": "stderr",
     "output_type": "stream",
     "text": [
      "2020-12-20 18:59:22,677 matplotlib.backend_managers WARNING  Treat the new Tool classes introduced in v1.5 as experimental for now, the API will likely change in version 2.1 and perhaps the rcParam as well\n"
     ]
    },
    {
     "data": {
      "application/vnd.jupyter.widget-view+json": {
       "model_id": "117cbb2548cb4e10807d3d5cabc8c1b1",
       "version_major": 2,
       "version_minor": 0
      },
      "text/plain": [
       "Canvas(toolbar=Toolbar(toolitems=[('Home', 'Reset original view', 'home', 'home'), ('Back', 'Back to previous …"
      ]
     },
     "metadata": {},
     "output_type": "display_data"
    }
   ],
   "source": [
    "data['Cu_norm_nl_IC'] = data['Cu_norm']/data['IC_P_tot']\n",
    "data['Cu_norm_nl_LH'] = data['Cu_norm']/data['LH_P_tot']\n",
    "\n",
    "with plt.style.context('ggplot'):\n",
    "    fig, axes = plt.subplots(2, 1, sharex=True)\n",
    "    data.query('IC_P_tot>0.25').plot(kind='scatter', x='pulse', y='Cu_norm_nl_IC', c='Ip', ax=axes[0], cmap=\"viridis\", s=50, vmax=0.75, alpha=.6)\n",
    "    data.query('LH_P_tot>0.25').plot(kind='scatter', x='pulse', y='Cu_norm_nl_LH', c='Ip', ax=axes[1], cmap=\"viridis\", s=50, vmax=0.75, alpha=.6)\n",
    "    [ax.set_ylim(bottom=0, top=500) for ax in axes]\n",
    "    axes[0].set_ylabel('Cu / nl / IC Power [a.u.]')\n",
    "    axes[1].set_ylabel('Cu / nl / LH Power [a.u.]')\n",
    "    axes[-1].set_xlabel('WEST Pulse #')\n",
    "    #plt.xticks(rotation=40)\n",
    "    fig.suptitle('Evolution of Copper Impurity')\n",
    "    fig.tight_layout()\n",
    "    fig.subplots_adjust(hspace=0.2)\n",
    "    axes[-1].xaxis.tick_top()"
   ]
  },
  {
   "cell_type": "markdown",
   "metadata": {},
   "source": [
    "## Other Derived Quantities"
   ]
  },
  {
   "cell_type": "code",
   "execution_count": 9,
   "metadata": {},
   "outputs": [],
   "source": [
    "data['Rext_median_NICE_mm'] = data['Rext_median_NICE']*1e3\n",
    "data['Rext_upper_NICE_mm'] = data['Rext_upper_NICE']*1e3\n",
    "data['Rext_lower_NICE_mm'] = data['Rext_lower_NICE']*1e3\n",
    "# 1st object found at LFS in [mm]\n",
    "data['Robj'] = data[['R_Q1', 'R_Q2', 'R_Q4', 'LH_Positions', 'LPA']].min(axis=1)*1e3\n",
    "# ROG wrt VACTH magnetic reconstruction in [mm]\n",
    "data['ROG_LH'] =  - data['Rext_median']\n",
    "data['ROG_Q1'] = data['R_Q1']*1e3 - data['Rext_median']\n",
    "data['ROG_Q2'] = data['R_Q2']*1e3 - data['Rext_median']\n",
    "data['ROG_Q4'] = data['R_Q4']*1e3 - data['Rext_median']\n",
    "data['ROG'] = data['Robj'] - data['Rext_median']\n",
    "data['ROG_upper'] = data['Robj'] - data['Rext_upper']\n",
    "data['ROG_lower'] = data['Robj'] - data['Rext_lower']\n",
    "# ROG wrt NICE magnetic reconstruction in [mm]\n",
    "data['ROG_Q1_NICE'] = data['R_Q1']*1e3 - data['Rext_median_NICE_mm']\n",
    "data['ROG_Q2_NICE'] = data['R_Q2']*1e3 - data['Rext_median_NICE_mm']\n",
    "data['ROG_Q4_NICE'] = data['R_Q4']*1e3 - data['Rext_median_NICE_mm']\n",
    "data['ROG_NICE'] = data['Robj'] - data['Rext_median_NICE_mm']\n",
    "data['ROG_upper_NICE'] = data['Robj'] - data['Rext_upper_NICE_mm']\n",
    "data['ROG_lower_NICE'] = data['Robj'] - data['Rext_lower_NICE_mm']"
   ]
  },
  {
   "cell_type": "code",
   "execution_count": 10,
   "metadata": {},
   "outputs": [],
   "source": [
    "data['P_conv_ratio'] = data['P_conv']/(data['IC_P_tot'])"
   ]
  },
  {
   "cell_type": "code",
   "execution_count": 11,
   "metadata": {},
   "outputs": [
    {
     "name": "stdout",
     "output_type": "stream",
     "text": [
      "[54882 54883 54884 54885 54886 54887 54888 54889 54890 54891 54894 54895\n",
      " 54896 54897 54898 54899 54900 54901 54902 54976 54977 54978 54982 54984\n",
      " 54986 54987 54989 54991 55000 55001 55002 55004 55006 55008 55170 55171\n",
      " 55172 55173 55174 55227 55568 55599 55600 55601 55602 55603 55604 55606\n",
      " 55607 55610 55614 55621 55628 55635 55636 55638 55639 55640 55643 55644\n",
      " 55646 55647 55648 55651 55652 55656 55657 55659 55662 55675 55684 55686\n",
      " 55687 55688 55728 55733 55736 55780 55781 55782 55783 55784 55785 55786\n",
      " 55787 55789 55790 55791 55792 55794]\n"
     ]
    }
   ],
   "source": [
    "# Define USN.LSN plasma configuration\n",
    "data['Xpoint'] = 'LSN'  # default plasma are LSN, only a few listed below are USN\n",
    "USN_list = np.r_[55227, 55174, 55173, 55172, 55171, 55170]\n",
    "USN_list = np.append(USN_list, np.arange(54882, 54892))\n",
    "USN_list = np.append(USN_list, np.arange(54894, 54903))\n",
    "USN_list = np.append(USN_list, np.load('USN_pulse.npy'))  # List by J.Morales\n",
    "USN_list = np.unique(USN_list)\n",
    "print(USN_list)\n",
    "data.loc[data['pulse'].isin(USN_list), 'Xpoint'] = 'USN'\n",
    "\n",
    "# first shot after boronization\n",
    "after_boro_shot = [53453, 54288, 54403, 54502, 54596, 54719, 54881, 55000, 55138, 55499, 55548, 55747, 55795]\n"
   ]
  },
  {
   "cell_type": "code",
   "execution_count": 12,
   "metadata": {},
   "outputs": [],
   "source": [
    "# distance to closest boto\n",
    "def closest_boro(pulse, boro_shots=after_boro_shot):\n",
    "    '''\n",
    "    Get  to the closest1st  pulse after boronization pulse (only previous pulse, not future one!) \n",
    "    '''\n",
    "    return after_boro_shot[np.where(pulse - np.array(after_boro_shot)  >= 0)[0][-1]]\n",
    "\n",
    "data['closest_boro'] = data['pulse'].apply(closest_boro)\n",
    "data['distance_boro'] = data['pulse'] - data['closest_boro']"
   ]
  },
  {
   "cell_type": "code",
   "execution_count": 13,
   "metadata": {},
   "outputs": [],
   "source": [
    "data['Lang_LH1_avg'] = (data['Langmuir_LHCD1'] + data['Langmuir_LHCD2'] + data['Langmuir_LHCD3'] + data['Langmuir_LHCD4'])/4\n",
    "data['Lang_LH2_avg'] = (data['Langmuir_LHCD5'] + data['Langmuir_LHCD6'] + data['Langmuir_LHCD7'] + data['Langmuir_LHCD8'])/4\n",
    "data['ne_LH1_sur_nl'] = data['Lang_LH1_avg'] / data['nl']\n",
    "data['ne_LH2_sur_nl'] = data['Lang_LH2_avg'] / data['nl']"
   ]
  },
  {
   "cell_type": "markdown",
   "metadata": {},
   "source": [
    "# C4 Statistics"
   ]
  },
  {
   "cell_type": "code",
   "execution_count": 14,
   "metadata": {},
   "outputs": [
    {
     "data": {
      "application/vnd.jupyter.widget-view+json": {
       "model_id": "b074c38b5a60446a89cbf0d47f6414c1",
       "version_major": 2,
       "version_minor": 0
      },
      "text/plain": [
       "Canvas(toolbar=Toolbar(toolitems=[('Home', 'Reset original view', 'home', 'home'), ('Back', 'Back to previous …"
      ]
     },
     "metadata": {},
     "output_type": "display_data"
    },
    {
     "data": {
      "text/plain": [
       "array([<AxesSubplot:title={'center':'IC_P_Q4'}>], dtype=object)"
      ]
     },
     "execution_count": 14,
     "metadata": {},
     "output_type": "execute_result"
    }
   ],
   "source": [
    "fig, ax = plt.subplots(3,1,sharex=True)\n",
    "data.query('IC_P_Q1 > 100').hist('IC_P_Q1', ax=ax[0], bins=100, label='Q1')\n",
    "data.query('IC_P_Q2 > 100').hist('IC_P_Q2', ax=ax[1], bins=100, label='Q2', color='C1')\n",
    "data.query('IC_P_Q4 > 100').hist('IC_P_Q4', ax=ax[2], bins=100, label='Q4', color='C2')"
   ]
  },
  {
   "cell_type": "code",
   "execution_count": 21,
   "metadata": {},
   "outputs": [
    {
     "data": {
      "application/vnd.jupyter.widget-view+json": {
       "model_id": "949e4d0d56154f9a8d0b3743a7c1bd0e",
       "version_major": 2,
       "version_minor": 0
      },
      "text/plain": [
       "Canvas(toolbar=Toolbar(toolitems=[('Home', 'Reset original view', 'home', 'home'), ('Back', 'Back to previous …"
      ]
     },
     "metadata": {},
     "output_type": "display_data"
    },
    {
     "data": {
      "text/plain": [
       "<AxesSubplot:xlabel='pulse', ylabel='IC_P_Q2'>"
      ]
     },
     "execution_count": 21,
     "metadata": {},
     "output_type": "execute_result"
    }
   ],
   "source": [
    "fig, ax = plt.subplots()\n",
    "data.query('IC_P_Q2 > 1000').plot(kind='scatter', ax=ax, x='pulse', y='IC_P_Q2')"
   ]
  },
  {
   "cell_type": "code",
   "execution_count": 15,
   "metadata": {},
   "outputs": [],
   "source": [
    "tmin_Q1 = data.query('IC_P_Q1 > 100').groupby('pulse')['time'].min()\n",
    "tmax_Q1 = data.query('IC_P_Q1 > 100').groupby('pulse')['time'].max()\n",
    "duration_Q1 = tmax_Q1 - tmin_Q1\n",
    "Pmean_Q1 = data.query('IC_P_Q1 > 100').groupby('pulse')['IC_P_Q1'].mean()\n",
    "Pstd_Q1 = data.query('IC_P_Q1 > 100').groupby('pulse')['IC_P_Q1'].std()\n",
    "pulses_Q1 = data.query('IC_P_Q1 > 100')['pulse'].unique()\n",
    "\n",
    "tmin_Q2 = data.query('IC_P_Q2 > 100').groupby('pulse')['time'].min()\n",
    "tmax_Q2 = data.query('IC_P_Q2 > 100').groupby('pulse')['time'].max()\n",
    "duration_Q2 = tmax_Q2 - tmin_Q2\n",
    "Pmean_Q2 = data.query('IC_P_Q2 > 100').groupby('pulse')['IC_P_Q2'].mean()\n",
    "Pstd_Q2 = data.query('IC_P_Q2 > 100').groupby('pulse')['IC_P_Q2'].std()\n",
    "pulses_Q2 = data.query('IC_P_Q2 > 100')['pulse'].unique()\n",
    "\n",
    "tmin_Q4 = data.query('IC_P_Q4 > 100').groupby('pulse')['time'].min()\n",
    "tmax_Q4 = data.query('IC_P_Q4 > 100').groupby('pulse')['time'].max()\n",
    "duration_Q4 = tmax_Q4 - tmin_Q4\n",
    "Pmean_Q4 = data.query('IC_P_Q4 > 100').groupby('pulse')['IC_P_Q4'].mean()\n",
    "Pstd_Q4 = data.query('IC_P_Q4 > 100').groupby('pulse')['IC_P_Q4'].std()\n",
    "pulses_Q4 = data.query('IC_P_Q4 > 100')['pulse'].unique()\n"
   ]
  },
  {
   "cell_type": "code",
   "execution_count": 16,
   "metadata": {},
   "outputs": [
    {
     "data": {
      "text/plain": [
       "2063.708193920637"
      ]
     },
     "execution_count": 16,
     "metadata": {},
     "output_type": "execute_result"
    }
   ],
   "source": [
    "data['IC_P_Q4'].max()"
   ]
  },
  {
   "cell_type": "code",
   "execution_count": 17,
   "metadata": {},
   "outputs": [
    {
     "data": {
      "application/vnd.jupyter.widget-view+json": {
       "model_id": "fda4b2dcc38243f49a9490a16f12e60e",
       "version_major": 2,
       "version_minor": 0
      },
      "text/plain": [
       "Canvas(toolbar=Toolbar(toolitems=[('Home', 'Reset original view', 'home', 'home'), ('Back', 'Back to previous …"
      ]
     },
     "metadata": {},
     "output_type": "display_data"
    },
    {
     "data": {
      "text/plain": [
       "Text(0, 0.5, 'RF Average Coupler Power [kW]')"
      ]
     },
     "execution_count": 17,
     "metadata": {},
     "output_type": "execute_result"
    }
   ],
   "source": [
    "fig, ax = plt.subplots()\n",
    "ax.plot(duration_Q1, Pmean_Q1, '.', ms=10, color='C0', label='Q1')\n",
    "ax.plot(duration_Q2, Pmean_Q2, '.', ms=10, color='C1', label='Q2')\n",
    "ax.plot(duration_Q4, Pmean_Q4, '.', ms=10, color='C2', label='Q4')\n",
    "ax.legend()\n",
    "ax.set_xlabel('RF Duration [s]', fontsize=14)\n",
    "ax.set_ylabel('RF Average Coupler Power [kW]', fontsize=14)"
   ]
  },
  {
   "cell_type": "code",
   "execution_count": 18,
   "metadata": {},
   "outputs": [
    {
     "data": {
      "application/vnd.jupyter.widget-view+json": {
       "model_id": "f0159d6fb3aa4a44b8033bfd1de0884b",
       "version_major": 2,
       "version_minor": 0
      },
      "text/plain": [
       "Canvas(toolbar=Toolbar(toolitems=[('Home', 'Reset original view', 'home', 'home'), ('Back', 'Back to previous …"
      ]
     },
     "metadata": {},
     "output_type": "display_data"
    },
    {
     "data": {
      "text/plain": [
       "Text(0, 0.5, 'Total RFCoupler Power [MW]')"
      ]
     },
     "execution_count": 18,
     "metadata": {},
     "output_type": "execute_result"
    }
   ],
   "source": [
    "fig, ax = plt.subplots()\n",
    "data.groupby('pulse').max().reset_index().plot(x='time', y='IC_P_tot', ax=ax, kind='scatter')\n",
    "ax.legend()\n",
    "ax.set_xlabel('Pulse', fontsize=14)\n",
    "ax.set_ylabel('Total RFCoupler Power [MW]', fontsize=14)"
   ]
  },
  {
   "cell_type": "code",
   "execution_count": 33,
   "metadata": {},
   "outputs": [
    {
     "data": {
      "application/vnd.jupyter.widget-view+json": {
       "model_id": "205ba25fe40143acb92c88b699bf9e5f",
       "version_major": 2,
       "version_minor": 0
      },
      "text/plain": [
       "Canvas(toolbar=Toolbar(toolitems=[('Home', 'Reset original view', 'home', 'home'), ('Back', 'Back to previous …"
      ]
     },
     "metadata": {},
     "output_type": "display_data"
    },
    {
     "ename": "AttributeError",
     "evalue": "__delete__",
     "output_type": "error",
     "traceback": [
      "\u001b[1;31m---------------------------------------------------------------------------\u001b[0m",
      "\u001b[1;31mAttributeError\u001b[0m                            Traceback (most recent call last)",
      "\u001b[1;32m<ipython-input-33-8e2e9cc50b37>\u001b[0m in \u001b[0;36m<module>\u001b[1;34m\u001b[0m\n\u001b[0;32m      9\u001b[0m \u001b[0max\u001b[0m\u001b[1;33m.\u001b[0m\u001b[0mtick_params\u001b[0m\u001b[1;33m(\u001b[0m\u001b[0mlabelsize\u001b[0m\u001b[1;33m=\u001b[0m\u001b[1;36m18\u001b[0m\u001b[1;33m)\u001b[0m\u001b[1;33m\u001b[0m\u001b[1;33m\u001b[0m\u001b[0m\n\u001b[0;32m     10\u001b[0m \u001b[0mfig\u001b[0m\u001b[1;33m.\u001b[0m\u001b[0mtight_layout\u001b[0m\u001b[1;33m(\u001b[0m\u001b[1;33m)\u001b[0m\u001b[1;33m\u001b[0m\u001b[1;33m\u001b[0m\u001b[0m\n\u001b[1;32m---> 11\u001b[1;33m \u001b[0mfig\u001b[0m\u001b[1;33m.\u001b[0m\u001b[0msavefig\u001b[0m\u001b[1;33m(\u001b[0m\u001b[1;34m'WEST_C4_IC_RFcoupled-power_vs_pulse.png'\u001b[0m\u001b[1;33m,\u001b[0m \u001b[0mdpi\u001b[0m\u001b[1;33m=\u001b[0m\u001b[1;36m150\u001b[0m\u001b[1;33m)\u001b[0m\u001b[1;33m\u001b[0m\u001b[1;33m\u001b[0m\u001b[0m\n\u001b[0m",
      "\u001b[1;32m~\\AppData\\Local\\Continuum\\anaconda3\\lib\\site-packages\\matplotlib\\figure.py\u001b[0m in \u001b[0;36msavefig\u001b[1;34m(self, fname, transparent, **kwargs)\u001b[0m\n\u001b[0;32m   2309\u001b[0m                 \u001b[0mpatch\u001b[0m\u001b[1;33m.\u001b[0m\u001b[0mset_edgecolor\u001b[0m\u001b[1;33m(\u001b[0m\u001b[1;34m'none'\u001b[0m\u001b[1;33m)\u001b[0m\u001b[1;33m\u001b[0m\u001b[1;33m\u001b[0m\u001b[0m\n\u001b[0;32m   2310\u001b[0m \u001b[1;33m\u001b[0m\u001b[0m\n\u001b[1;32m-> 2311\u001b[1;33m         \u001b[0mself\u001b[0m\u001b[1;33m.\u001b[0m\u001b[0mcanvas\u001b[0m\u001b[1;33m.\u001b[0m\u001b[0mprint_figure\u001b[0m\u001b[1;33m(\u001b[0m\u001b[0mfname\u001b[0m\u001b[1;33m,\u001b[0m \u001b[1;33m**\u001b[0m\u001b[0mkwargs\u001b[0m\u001b[1;33m)\u001b[0m\u001b[1;33m\u001b[0m\u001b[1;33m\u001b[0m\u001b[0m\n\u001b[0m\u001b[0;32m   2312\u001b[0m \u001b[1;33m\u001b[0m\u001b[0m\n\u001b[0;32m   2313\u001b[0m         \u001b[1;32mif\u001b[0m \u001b[0mtransparent\u001b[0m\u001b[1;33m:\u001b[0m\u001b[1;33m\u001b[0m\u001b[1;33m\u001b[0m\u001b[0m\n",
      "\u001b[1;32m~\\AppData\\Local\\Continuum\\anaconda3\\lib\\site-packages\\matplotlib\\backend_bases.py\u001b[0m in \u001b[0;36mprint_figure\u001b[1;34m(self, filename, dpi, facecolor, edgecolor, orientation, format, bbox_inches, pad_inches, bbox_extra_artists, backend, **kwargs)\u001b[0m\n\u001b[0;32m   2223\u001b[0m                 \u001b[0mself\u001b[0m\u001b[1;33m.\u001b[0m\u001b[0mfigure\u001b[0m\u001b[1;33m.\u001b[0m\u001b[0mset_edgecolor\u001b[0m\u001b[1;33m(\u001b[0m\u001b[0morigedgecolor\u001b[0m\u001b[1;33m)\u001b[0m\u001b[1;33m\u001b[0m\u001b[1;33m\u001b[0m\u001b[0m\n\u001b[0;32m   2224\u001b[0m                 \u001b[0mself\u001b[0m\u001b[1;33m.\u001b[0m\u001b[0mfigure\u001b[0m\u001b[1;33m.\u001b[0m\u001b[0mset_canvas\u001b[0m\u001b[1;33m(\u001b[0m\u001b[0mself\u001b[0m\u001b[1;33m)\u001b[0m\u001b[1;33m\u001b[0m\u001b[1;33m\u001b[0m\u001b[0m\n\u001b[1;32m-> 2225\u001b[1;33m             \u001b[1;32mreturn\u001b[0m \u001b[0mresult\u001b[0m\u001b[1;33m\u001b[0m\u001b[1;33m\u001b[0m\u001b[0m\n\u001b[0m\u001b[0;32m   2226\u001b[0m \u001b[1;33m\u001b[0m\u001b[0m\n\u001b[0;32m   2227\u001b[0m     \u001b[1;33m@\u001b[0m\u001b[0mclassmethod\u001b[0m\u001b[1;33m\u001b[0m\u001b[1;33m\u001b[0m\u001b[0m\n",
      "\u001b[1;32m~\\AppData\\Local\\Continuum\\anaconda3\\lib\\contextlib.py\u001b[0m in \u001b[0;36m__exit__\u001b[1;34m(self, type, value, traceback)\u001b[0m\n\u001b[0;32m    117\u001b[0m         \u001b[1;32mif\u001b[0m \u001b[0mtype\u001b[0m \u001b[1;32mis\u001b[0m \u001b[1;32mNone\u001b[0m\u001b[1;33m:\u001b[0m\u001b[1;33m\u001b[0m\u001b[1;33m\u001b[0m\u001b[0m\n\u001b[0;32m    118\u001b[0m             \u001b[1;32mtry\u001b[0m\u001b[1;33m:\u001b[0m\u001b[1;33m\u001b[0m\u001b[1;33m\u001b[0m\u001b[0m\n\u001b[1;32m--> 119\u001b[1;33m                 \u001b[0mnext\u001b[0m\u001b[1;33m(\u001b[0m\u001b[0mself\u001b[0m\u001b[1;33m.\u001b[0m\u001b[0mgen\u001b[0m\u001b[1;33m)\u001b[0m\u001b[1;33m\u001b[0m\u001b[1;33m\u001b[0m\u001b[0m\n\u001b[0m\u001b[0;32m    120\u001b[0m             \u001b[1;32mexcept\u001b[0m \u001b[0mStopIteration\u001b[0m\u001b[1;33m:\u001b[0m\u001b[1;33m\u001b[0m\u001b[1;33m\u001b[0m\u001b[0m\n\u001b[0;32m    121\u001b[0m                 \u001b[1;32mreturn\u001b[0m \u001b[1;32mFalse\u001b[0m\u001b[1;33m\u001b[0m\u001b[1;33m\u001b[0m\u001b[0m\n",
      "\u001b[1;32m~\\AppData\\Local\\Continuum\\anaconda3\\lib\\site-packages\\matplotlib\\cbook\\__init__.py\u001b[0m in \u001b[0;36m_setattr_cm\u001b[1;34m(obj, **kwargs)\u001b[0m\n\u001b[0;32m   2064\u001b[0m         \u001b[1;32mfor\u001b[0m \u001b[0mattr\u001b[0m\u001b[1;33m,\u001b[0m \u001b[0morig\u001b[0m \u001b[1;32min\u001b[0m \u001b[0morigs\u001b[0m\u001b[1;33m.\u001b[0m\u001b[0mitems\u001b[0m\u001b[1;33m(\u001b[0m\u001b[1;33m)\u001b[0m\u001b[1;33m:\u001b[0m\u001b[1;33m\u001b[0m\u001b[1;33m\u001b[0m\u001b[0m\n\u001b[0;32m   2065\u001b[0m             \u001b[1;32mif\u001b[0m \u001b[0morig\u001b[0m \u001b[1;32mis\u001b[0m \u001b[0msentinel\u001b[0m\u001b[1;33m:\u001b[0m\u001b[1;33m\u001b[0m\u001b[1;33m\u001b[0m\u001b[0m\n\u001b[1;32m-> 2066\u001b[1;33m                 \u001b[0mdelattr\u001b[0m\u001b[1;33m(\u001b[0m\u001b[0mobj\u001b[0m\u001b[1;33m,\u001b[0m \u001b[0mattr\u001b[0m\u001b[1;33m)\u001b[0m\u001b[1;33m\u001b[0m\u001b[1;33m\u001b[0m\u001b[0m\n\u001b[0m\u001b[0;32m   2067\u001b[0m             \u001b[1;32melse\u001b[0m\u001b[1;33m:\u001b[0m\u001b[1;33m\u001b[0m\u001b[1;33m\u001b[0m\u001b[0m\n\u001b[0;32m   2068\u001b[0m                 \u001b[0msetattr\u001b[0m\u001b[1;33m(\u001b[0m\u001b[0mobj\u001b[0m\u001b[1;33m,\u001b[0m \u001b[0mattr\u001b[0m\u001b[1;33m,\u001b[0m \u001b[0morig\u001b[0m\u001b[1;33m)\u001b[0m\u001b[1;33m\u001b[0m\u001b[1;33m\u001b[0m\u001b[0m\n",
      "\u001b[1;31mAttributeError\u001b[0m: __delete__"
     ]
    }
   ],
   "source": [
    "fig, ax = plt.subplots()\n",
    "ax.errorbar(pulses_Q1, Pmean_Q1, yerr=Pstd_Q1, ls='', marker='.', ms=10, color='C0', label='Q1', alpha=0.6)\n",
    "ax.errorbar(pulses_Q2, Pmean_Q2, yerr=Pstd_Q2, ls='', marker='.', ms=10, color='C1', label='Q2', alpha=0.6)\n",
    "ax.errorbar(pulses_Q4, Pmean_Q4, yerr=Pstd_Q4, ls='', marker='.', ms=10, color='C2', label='Q4', alpha=0.6)\n",
    "ax.legend(fontsize=18)\n",
    "ax.set_xlabel('WEST Pulse #', fontsize=18)\n",
    "ax.set_ylabel('RF Average Coupler Power [kW]', fontsize=18)\n",
    "ax.set_ylim(bottom=0)\n",
    "ax.tick_params(labelsize=18)\n",
    "fig.tight_layout()\n",
    "fig.savefig('WEST_C4_IC_RFcoupled-power_vs_pulse.png', dpi=150)"
   ]
  },
  {
   "cell_type": "code",
   "execution_count": 34,
   "metadata": {},
   "outputs": [
    {
     "data": {
      "application/vnd.jupyter.widget-view+json": {
       "model_id": "1a590a44748a46c3b5924cdd025da2b6",
       "version_major": 2,
       "version_minor": 0
      },
      "text/plain": [
       "Canvas(toolbar=Toolbar(toolitems=[('Home', 'Reset original view', 'home', 'home'), ('Back', 'Back to previous …"
      ]
     },
     "metadata": {},
     "output_type": "display_data"
    },
    {
     "name": "stderr",
     "output_type": "stream",
     "text": [
      "C:\\Users\\JH218595\\AppData\\Local\\Continuum\\anaconda3\\lib\\site-packages\\ipykernel_launcher.py:12: UserWarning: FixedFormatter should only be used together with FixedLocator\n",
      "  if sys.path[0] == '':\n"
     ]
    },
    {
     "ename": "AttributeError",
     "evalue": "__delete__",
     "output_type": "error",
     "traceback": [
      "\u001b[1;31m---------------------------------------------------------------------------\u001b[0m",
      "\u001b[1;31mAttributeError\u001b[0m                            Traceback (most recent call last)",
      "\u001b[1;32m<ipython-input-34-05ce216add40>\u001b[0m in \u001b[0;36m<module>\u001b[1;34m\u001b[0m\n\u001b[0;32m     15\u001b[0m \u001b[0max\u001b[0m\u001b[1;33m.\u001b[0m\u001b[0mgrid\u001b[0m\u001b[1;33m(\u001b[0m\u001b[1;32mTrue\u001b[0m\u001b[1;33m)\u001b[0m\u001b[1;33m\u001b[0m\u001b[1;33m\u001b[0m\u001b[0m\n\u001b[0;32m     16\u001b[0m \u001b[0mfig\u001b[0m\u001b[1;33m.\u001b[0m\u001b[0mtight_layout\u001b[0m\u001b[1;33m(\u001b[0m\u001b[1;33m)\u001b[0m\u001b[1;33m\u001b[0m\u001b[1;33m\u001b[0m\u001b[0m\n\u001b[1;32m---> 17\u001b[1;33m \u001b[0mfig\u001b[0m\u001b[1;33m.\u001b[0m\u001b[0msavefig\u001b[0m\u001b[1;33m(\u001b[0m\u001b[1;34m'WEST_C4_IC_RFcoupled-power.png'\u001b[0m\u001b[1;33m,\u001b[0m \u001b[0mdpi\u001b[0m\u001b[1;33m=\u001b[0m\u001b[1;36m150\u001b[0m\u001b[1;33m)\u001b[0m\u001b[1;33m\u001b[0m\u001b[1;33m\u001b[0m\u001b[0m\n\u001b[0m",
      "\u001b[1;32m~\\AppData\\Local\\Continuum\\anaconda3\\lib\\site-packages\\matplotlib\\figure.py\u001b[0m in \u001b[0;36msavefig\u001b[1;34m(self, fname, transparent, **kwargs)\u001b[0m\n\u001b[0;32m   2309\u001b[0m                 \u001b[0mpatch\u001b[0m\u001b[1;33m.\u001b[0m\u001b[0mset_edgecolor\u001b[0m\u001b[1;33m(\u001b[0m\u001b[1;34m'none'\u001b[0m\u001b[1;33m)\u001b[0m\u001b[1;33m\u001b[0m\u001b[1;33m\u001b[0m\u001b[0m\n\u001b[0;32m   2310\u001b[0m \u001b[1;33m\u001b[0m\u001b[0m\n\u001b[1;32m-> 2311\u001b[1;33m         \u001b[0mself\u001b[0m\u001b[1;33m.\u001b[0m\u001b[0mcanvas\u001b[0m\u001b[1;33m.\u001b[0m\u001b[0mprint_figure\u001b[0m\u001b[1;33m(\u001b[0m\u001b[0mfname\u001b[0m\u001b[1;33m,\u001b[0m \u001b[1;33m**\u001b[0m\u001b[0mkwargs\u001b[0m\u001b[1;33m)\u001b[0m\u001b[1;33m\u001b[0m\u001b[1;33m\u001b[0m\u001b[0m\n\u001b[0m\u001b[0;32m   2312\u001b[0m \u001b[1;33m\u001b[0m\u001b[0m\n\u001b[0;32m   2313\u001b[0m         \u001b[1;32mif\u001b[0m \u001b[0mtransparent\u001b[0m\u001b[1;33m:\u001b[0m\u001b[1;33m\u001b[0m\u001b[1;33m\u001b[0m\u001b[0m\n",
      "\u001b[1;32m~\\AppData\\Local\\Continuum\\anaconda3\\lib\\site-packages\\matplotlib\\backend_bases.py\u001b[0m in \u001b[0;36mprint_figure\u001b[1;34m(self, filename, dpi, facecolor, edgecolor, orientation, format, bbox_inches, pad_inches, bbox_extra_artists, backend, **kwargs)\u001b[0m\n\u001b[0;32m   2223\u001b[0m                 \u001b[0mself\u001b[0m\u001b[1;33m.\u001b[0m\u001b[0mfigure\u001b[0m\u001b[1;33m.\u001b[0m\u001b[0mset_edgecolor\u001b[0m\u001b[1;33m(\u001b[0m\u001b[0morigedgecolor\u001b[0m\u001b[1;33m)\u001b[0m\u001b[1;33m\u001b[0m\u001b[1;33m\u001b[0m\u001b[0m\n\u001b[0;32m   2224\u001b[0m                 \u001b[0mself\u001b[0m\u001b[1;33m.\u001b[0m\u001b[0mfigure\u001b[0m\u001b[1;33m.\u001b[0m\u001b[0mset_canvas\u001b[0m\u001b[1;33m(\u001b[0m\u001b[0mself\u001b[0m\u001b[1;33m)\u001b[0m\u001b[1;33m\u001b[0m\u001b[1;33m\u001b[0m\u001b[0m\n\u001b[1;32m-> 2225\u001b[1;33m             \u001b[1;32mreturn\u001b[0m \u001b[0mresult\u001b[0m\u001b[1;33m\u001b[0m\u001b[1;33m\u001b[0m\u001b[0m\n\u001b[0m\u001b[0;32m   2226\u001b[0m \u001b[1;33m\u001b[0m\u001b[0m\n\u001b[0;32m   2227\u001b[0m     \u001b[1;33m@\u001b[0m\u001b[0mclassmethod\u001b[0m\u001b[1;33m\u001b[0m\u001b[1;33m\u001b[0m\u001b[0m\n",
      "\u001b[1;32m~\\AppData\\Local\\Continuum\\anaconda3\\lib\\contextlib.py\u001b[0m in \u001b[0;36m__exit__\u001b[1;34m(self, type, value, traceback)\u001b[0m\n\u001b[0;32m    117\u001b[0m         \u001b[1;32mif\u001b[0m \u001b[0mtype\u001b[0m \u001b[1;32mis\u001b[0m \u001b[1;32mNone\u001b[0m\u001b[1;33m:\u001b[0m\u001b[1;33m\u001b[0m\u001b[1;33m\u001b[0m\u001b[0m\n\u001b[0;32m    118\u001b[0m             \u001b[1;32mtry\u001b[0m\u001b[1;33m:\u001b[0m\u001b[1;33m\u001b[0m\u001b[1;33m\u001b[0m\u001b[0m\n\u001b[1;32m--> 119\u001b[1;33m                 \u001b[0mnext\u001b[0m\u001b[1;33m(\u001b[0m\u001b[0mself\u001b[0m\u001b[1;33m.\u001b[0m\u001b[0mgen\u001b[0m\u001b[1;33m)\u001b[0m\u001b[1;33m\u001b[0m\u001b[1;33m\u001b[0m\u001b[0m\n\u001b[0m\u001b[0;32m    120\u001b[0m             \u001b[1;32mexcept\u001b[0m \u001b[0mStopIteration\u001b[0m\u001b[1;33m:\u001b[0m\u001b[1;33m\u001b[0m\u001b[1;33m\u001b[0m\u001b[0m\n\u001b[0;32m    121\u001b[0m                 \u001b[1;32mreturn\u001b[0m \u001b[1;32mFalse\u001b[0m\u001b[1;33m\u001b[0m\u001b[1;33m\u001b[0m\u001b[0m\n",
      "\u001b[1;32m~\\AppData\\Local\\Continuum\\anaconda3\\lib\\site-packages\\matplotlib\\cbook\\__init__.py\u001b[0m in \u001b[0;36m_setattr_cm\u001b[1;34m(obj, **kwargs)\u001b[0m\n\u001b[0;32m   2064\u001b[0m         \u001b[1;32mfor\u001b[0m \u001b[0mattr\u001b[0m\u001b[1;33m,\u001b[0m \u001b[0morig\u001b[0m \u001b[1;32min\u001b[0m \u001b[0morigs\u001b[0m\u001b[1;33m.\u001b[0m\u001b[0mitems\u001b[0m\u001b[1;33m(\u001b[0m\u001b[1;33m)\u001b[0m\u001b[1;33m:\u001b[0m\u001b[1;33m\u001b[0m\u001b[1;33m\u001b[0m\u001b[0m\n\u001b[0;32m   2065\u001b[0m             \u001b[1;32mif\u001b[0m \u001b[0morig\u001b[0m \u001b[1;32mis\u001b[0m \u001b[0msentinel\u001b[0m\u001b[1;33m:\u001b[0m\u001b[1;33m\u001b[0m\u001b[1;33m\u001b[0m\u001b[0m\n\u001b[1;32m-> 2066\u001b[1;33m                 \u001b[0mdelattr\u001b[0m\u001b[1;33m(\u001b[0m\u001b[0mobj\u001b[0m\u001b[1;33m,\u001b[0m \u001b[0mattr\u001b[0m\u001b[1;33m)\u001b[0m\u001b[1;33m\u001b[0m\u001b[1;33m\u001b[0m\u001b[0m\n\u001b[0m\u001b[0;32m   2067\u001b[0m             \u001b[1;32melse\u001b[0m\u001b[1;33m:\u001b[0m\u001b[1;33m\u001b[0m\u001b[1;33m\u001b[0m\u001b[0m\n\u001b[0;32m   2068\u001b[0m                 \u001b[0msetattr\u001b[0m\u001b[1;33m(\u001b[0m\u001b[0mobj\u001b[0m\u001b[1;33m,\u001b[0m \u001b[0mattr\u001b[0m\u001b[1;33m,\u001b[0m \u001b[0morig\u001b[0m\u001b[1;33m)\u001b[0m\u001b[1;33m\u001b[0m\u001b[1;33m\u001b[0m\u001b[0m\n",
      "\u001b[1;31mAttributeError\u001b[0m: __delete__"
     ]
    }
   ],
   "source": [
    "fig, ax = plt.subplots()\n",
    "ax.violinplot(data.query('IC_P_Q1 > 10')['IC_P_Q1'].dropna(), [0], points=40, widths=0.5,\n",
    "                      showmeans=True, showextrema=True, \n",
    "                      bw_method='silverman')\n",
    "ax.violinplot(data.query('IC_P_Q2 > 10')['IC_P_Q2'].dropna(), [1], points=40, widths=0.5,\n",
    "                      showmeans=True, showextrema=True, \n",
    "                      bw_method='silverman')\n",
    "ax.violinplot(data.query('IC_P_Q4 > 10')['IC_P_Q4'].dropna(), [2], points=40, widths=0.5,\n",
    "                      showmeans=True, showextrema=True, \n",
    "                      bw_method='silverman')\n",
    "ax.set_ylabel('Coupled Power [kW]', fontsize=18)\n",
    "ax.set_xticklabels(('', 'Q1', '', 'Q2', '', 'Q4'))\n",
    "ax.tick_params(labelsize=18)\n",
    "ax.set_title('WEST C4', fontsize=18)\n",
    "ax.grid(True)\n",
    "fig.tight_layout()\n",
    "fig.savefig('WEST_C4_IC_RFcoupled-power.png', dpi=150)"
   ]
  },
  {
   "cell_type": "code",
   "execution_count": 35,
   "metadata": {},
   "outputs": [
    {
     "data": {
      "application/vnd.jupyter.widget-view+json": {
       "model_id": "f8398a7e5618456a94080d346c3d645e",
       "version_major": 2,
       "version_minor": 0
      },
      "text/plain": [
       "Canvas(toolbar=Toolbar(toolitems=[('Home', 'Reset original view', 'home', 'home'), ('Back', 'Back to previous …"
      ]
     },
     "metadata": {},
     "output_type": "display_data"
    },
    {
     "name": "stderr",
     "output_type": "stream",
     "text": [
      "C:\\Users\\JH218595\\AppData\\Local\\Continuum\\anaconda3\\lib\\site-packages\\ipykernel_launcher.py:12: UserWarning: FixedFormatter should only be used together with FixedLocator\n",
      "  if sys.path[0] == '':\n"
     ]
    },
    {
     "ename": "AttributeError",
     "evalue": "__delete__",
     "output_type": "error",
     "traceback": [
      "\u001b[1;31m---------------------------------------------------------------------------\u001b[0m",
      "\u001b[1;31mAttributeError\u001b[0m                            Traceback (most recent call last)",
      "\u001b[1;32m<ipython-input-35-c57e40ba072c>\u001b[0m in \u001b[0;36m<module>\u001b[1;34m\u001b[0m\n\u001b[0;32m     15\u001b[0m \u001b[0max\u001b[0m\u001b[1;33m.\u001b[0m\u001b[0mgrid\u001b[0m\u001b[1;33m(\u001b[0m\u001b[1;32mTrue\u001b[0m\u001b[1;33m)\u001b[0m\u001b[1;33m\u001b[0m\u001b[1;33m\u001b[0m\u001b[0m\n\u001b[0;32m     16\u001b[0m \u001b[0mfig\u001b[0m\u001b[1;33m.\u001b[0m\u001b[0mtight_layout\u001b[0m\u001b[1;33m(\u001b[0m\u001b[1;33m)\u001b[0m\u001b[1;33m\u001b[0m\u001b[1;33m\u001b[0m\u001b[0m\n\u001b[1;32m---> 17\u001b[1;33m \u001b[0mfig\u001b[0m\u001b[1;33m.\u001b[0m\u001b[0msavefig\u001b[0m\u001b[1;33m(\u001b[0m\u001b[1;34m'WEST_C4_IC_RFdurations.png'\u001b[0m\u001b[1;33m,\u001b[0m \u001b[0mdpi\u001b[0m\u001b[1;33m=\u001b[0m\u001b[1;36m150\u001b[0m\u001b[1;33m)\u001b[0m\u001b[1;33m\u001b[0m\u001b[1;33m\u001b[0m\u001b[0m\n\u001b[0m",
      "\u001b[1;32m~\\AppData\\Local\\Continuum\\anaconda3\\lib\\site-packages\\matplotlib\\figure.py\u001b[0m in \u001b[0;36msavefig\u001b[1;34m(self, fname, transparent, **kwargs)\u001b[0m\n\u001b[0;32m   2309\u001b[0m                 \u001b[0mpatch\u001b[0m\u001b[1;33m.\u001b[0m\u001b[0mset_edgecolor\u001b[0m\u001b[1;33m(\u001b[0m\u001b[1;34m'none'\u001b[0m\u001b[1;33m)\u001b[0m\u001b[1;33m\u001b[0m\u001b[1;33m\u001b[0m\u001b[0m\n\u001b[0;32m   2310\u001b[0m \u001b[1;33m\u001b[0m\u001b[0m\n\u001b[1;32m-> 2311\u001b[1;33m         \u001b[0mself\u001b[0m\u001b[1;33m.\u001b[0m\u001b[0mcanvas\u001b[0m\u001b[1;33m.\u001b[0m\u001b[0mprint_figure\u001b[0m\u001b[1;33m(\u001b[0m\u001b[0mfname\u001b[0m\u001b[1;33m,\u001b[0m \u001b[1;33m**\u001b[0m\u001b[0mkwargs\u001b[0m\u001b[1;33m)\u001b[0m\u001b[1;33m\u001b[0m\u001b[1;33m\u001b[0m\u001b[0m\n\u001b[0m\u001b[0;32m   2312\u001b[0m \u001b[1;33m\u001b[0m\u001b[0m\n\u001b[0;32m   2313\u001b[0m         \u001b[1;32mif\u001b[0m \u001b[0mtransparent\u001b[0m\u001b[1;33m:\u001b[0m\u001b[1;33m\u001b[0m\u001b[1;33m\u001b[0m\u001b[0m\n",
      "\u001b[1;32m~\\AppData\\Local\\Continuum\\anaconda3\\lib\\site-packages\\matplotlib\\backend_bases.py\u001b[0m in \u001b[0;36mprint_figure\u001b[1;34m(self, filename, dpi, facecolor, edgecolor, orientation, format, bbox_inches, pad_inches, bbox_extra_artists, backend, **kwargs)\u001b[0m\n\u001b[0;32m   2223\u001b[0m                 \u001b[0mself\u001b[0m\u001b[1;33m.\u001b[0m\u001b[0mfigure\u001b[0m\u001b[1;33m.\u001b[0m\u001b[0mset_edgecolor\u001b[0m\u001b[1;33m(\u001b[0m\u001b[0morigedgecolor\u001b[0m\u001b[1;33m)\u001b[0m\u001b[1;33m\u001b[0m\u001b[1;33m\u001b[0m\u001b[0m\n\u001b[0;32m   2224\u001b[0m                 \u001b[0mself\u001b[0m\u001b[1;33m.\u001b[0m\u001b[0mfigure\u001b[0m\u001b[1;33m.\u001b[0m\u001b[0mset_canvas\u001b[0m\u001b[1;33m(\u001b[0m\u001b[0mself\u001b[0m\u001b[1;33m)\u001b[0m\u001b[1;33m\u001b[0m\u001b[1;33m\u001b[0m\u001b[0m\n\u001b[1;32m-> 2225\u001b[1;33m             \u001b[1;32mreturn\u001b[0m \u001b[0mresult\u001b[0m\u001b[1;33m\u001b[0m\u001b[1;33m\u001b[0m\u001b[0m\n\u001b[0m\u001b[0;32m   2226\u001b[0m \u001b[1;33m\u001b[0m\u001b[0m\n\u001b[0;32m   2227\u001b[0m     \u001b[1;33m@\u001b[0m\u001b[0mclassmethod\u001b[0m\u001b[1;33m\u001b[0m\u001b[1;33m\u001b[0m\u001b[0m\n",
      "\u001b[1;32m~\\AppData\\Local\\Continuum\\anaconda3\\lib\\contextlib.py\u001b[0m in \u001b[0;36m__exit__\u001b[1;34m(self, type, value, traceback)\u001b[0m\n\u001b[0;32m    117\u001b[0m         \u001b[1;32mif\u001b[0m \u001b[0mtype\u001b[0m \u001b[1;32mis\u001b[0m \u001b[1;32mNone\u001b[0m\u001b[1;33m:\u001b[0m\u001b[1;33m\u001b[0m\u001b[1;33m\u001b[0m\u001b[0m\n\u001b[0;32m    118\u001b[0m             \u001b[1;32mtry\u001b[0m\u001b[1;33m:\u001b[0m\u001b[1;33m\u001b[0m\u001b[1;33m\u001b[0m\u001b[0m\n\u001b[1;32m--> 119\u001b[1;33m                 \u001b[0mnext\u001b[0m\u001b[1;33m(\u001b[0m\u001b[0mself\u001b[0m\u001b[1;33m.\u001b[0m\u001b[0mgen\u001b[0m\u001b[1;33m)\u001b[0m\u001b[1;33m\u001b[0m\u001b[1;33m\u001b[0m\u001b[0m\n\u001b[0m\u001b[0;32m    120\u001b[0m             \u001b[1;32mexcept\u001b[0m \u001b[0mStopIteration\u001b[0m\u001b[1;33m:\u001b[0m\u001b[1;33m\u001b[0m\u001b[1;33m\u001b[0m\u001b[0m\n\u001b[0;32m    121\u001b[0m                 \u001b[1;32mreturn\u001b[0m \u001b[1;32mFalse\u001b[0m\u001b[1;33m\u001b[0m\u001b[1;33m\u001b[0m\u001b[0m\n",
      "\u001b[1;32m~\\AppData\\Local\\Continuum\\anaconda3\\lib\\site-packages\\matplotlib\\cbook\\__init__.py\u001b[0m in \u001b[0;36m_setattr_cm\u001b[1;34m(obj, **kwargs)\u001b[0m\n\u001b[0;32m   2064\u001b[0m         \u001b[1;32mfor\u001b[0m \u001b[0mattr\u001b[0m\u001b[1;33m,\u001b[0m \u001b[0morig\u001b[0m \u001b[1;32min\u001b[0m \u001b[0morigs\u001b[0m\u001b[1;33m.\u001b[0m\u001b[0mitems\u001b[0m\u001b[1;33m(\u001b[0m\u001b[1;33m)\u001b[0m\u001b[1;33m:\u001b[0m\u001b[1;33m\u001b[0m\u001b[1;33m\u001b[0m\u001b[0m\n\u001b[0;32m   2065\u001b[0m             \u001b[1;32mif\u001b[0m \u001b[0morig\u001b[0m \u001b[1;32mis\u001b[0m \u001b[0msentinel\u001b[0m\u001b[1;33m:\u001b[0m\u001b[1;33m\u001b[0m\u001b[1;33m\u001b[0m\u001b[0m\n\u001b[1;32m-> 2066\u001b[1;33m                 \u001b[0mdelattr\u001b[0m\u001b[1;33m(\u001b[0m\u001b[0mobj\u001b[0m\u001b[1;33m,\u001b[0m \u001b[0mattr\u001b[0m\u001b[1;33m)\u001b[0m\u001b[1;33m\u001b[0m\u001b[1;33m\u001b[0m\u001b[0m\n\u001b[0m\u001b[0;32m   2067\u001b[0m             \u001b[1;32melse\u001b[0m\u001b[1;33m:\u001b[0m\u001b[1;33m\u001b[0m\u001b[1;33m\u001b[0m\u001b[0m\n\u001b[0;32m   2068\u001b[0m                 \u001b[0msetattr\u001b[0m\u001b[1;33m(\u001b[0m\u001b[0mobj\u001b[0m\u001b[1;33m,\u001b[0m \u001b[0mattr\u001b[0m\u001b[1;33m,\u001b[0m \u001b[0morig\u001b[0m\u001b[1;33m)\u001b[0m\u001b[1;33m\u001b[0m\u001b[1;33m\u001b[0m\u001b[0m\n",
      "\u001b[1;31mAttributeError\u001b[0m: __delete__"
     ]
    }
   ],
   "source": [
    "fig, ax = plt.subplots()\n",
    "ax.violinplot(duration_Q1, [0], points=40, widths=0.5,\n",
    "                      showmeans=True, showextrema=True, \n",
    "                      bw_method='silverman')\n",
    "ax.violinplot(duration_Q2, [1], points=40, widths=0.5,\n",
    "                      showmeans=True, showextrema=True, \n",
    "                      bw_method='silverman')\n",
    "ax.violinplot(duration_Q4, [2], points=40, widths=0.5,\n",
    "                      showmeans=True, showextrema=True, \n",
    "                      bw_method='silverman')\n",
    "ax.set_ylabel('RF Power Duration [s]', fontsize=16)\n",
    "ax.set_xticklabels(('', f'Q1\\n{len(duration_Q1)} shots', '', f'Q2\\n{len(duration_Q2)} shots', '', f'Q4\\n{len(duration_Q4)} shots'), fontsize=18)\n",
    "ax.tick_params(labelsize=18)\n",
    "ax.set_title('WEST C4', fontsize=18)\n",
    "ax.grid(True)\n",
    "fig.tight_layout()\n",
    "fig.savefig('WEST_C4_IC_RFdurations.png', dpi=150)"
   ]
  },
  {
   "cell_type": "markdown",
   "metadata": {},
   "source": [
    "# Langmuir Probe"
   ]
  },
  {
   "cell_type": "code",
   "execution_count": 36,
   "metadata": {},
   "outputs": [
    {
     "data": {
      "application/vnd.jupyter.widget-view+json": {
       "model_id": "a6ce3e2cc6b34e86a8ec2334162c776b",
       "version_major": 2,
       "version_minor": 0
      },
      "text/plain": [
       "Canvas(toolbar=Toolbar(toolitems=[('Home', 'Reset original view', 'home', 'home'), ('Back', 'Back to previous …"
      ]
     },
     "metadata": {},
     "output_type": "display_data"
    },
    {
     "data": {
      "text/plain": [
       "Text(692.5027777777779, 0.5, '$n_l$')"
      ]
     },
     "execution_count": 36,
     "metadata": {},
     "output_type": "execute_result"
    }
   ],
   "source": [
    "P_min = 0.5e3\n",
    "Xpoint = \"LSN\"\n",
    "Ip_min = 480\n",
    "Ip_max = 520\n",
    "nl_min = 3.0\n",
    "nl_max = 5.0\n",
    "phase_min=160\n",
    "phase_max = 200\n",
    "Rext_median_max = 3100\n",
    "P_LH_max = 5\n",
    "MHD_pulses = [54582, 54721, 55026, 55029, 55034, 55050, 55052, 55067, 55069, 55178, 55561, 55564, 55797]\n",
    "LH_antenna = 'LH2'\n",
    "\n",
    "dataset = data.query('IC_P_tot < 0.1 and LH_P_tot > 0.1')\\\n",
    "            .query('Xpoint==\"LSN\"')\\\n",
    "            .query('ROG > -10 and ROG < 100')\\\n",
    "            .query('Ip > @Ip_min and Ip < @Ip_max')\\\n",
    "            .query('nl > @nl_min and nl < @nl_max')\\\n",
    "            .query('Rext_median < @Rext_median_max')\\\n",
    "            .query('pulse not in @MHD_pulses')\\\n",
    "            .query('MHD < 100')\n",
    "\n",
    "fig, ax = plt.subplots(figsize=(8,6))\n",
    "\n",
    "if LH_antenna == 'LH1':\n",
    "    dataset.plot(ax=ax, kind='scatter', x='LH_P_tot', y='ne_LH1_sur_nl', c='nl', cmap='winter', s=20, alpha=0.4, label='LH1')\n",
    "else:\n",
    "    dataset.plot(ax=ax, kind='scatter', x='LH_P_tot', y='ne_LH2_sur_nl', c='nl', cmap='winter', s=20, alpha=0.4, label=\"LH2\")\n",
    "\n",
    "ax.set_ylim(0,4)\n",
    "ax.set_xlabel('LH Power [MW]', fontsize=16)\n",
    "ax.set_ylabel('$<I_{sat,LH}>/n_l$ [a.u]', fontsize=16)\n",
    "ax.set_title(f'{LH_antenna} Langmuir Probes, IC Power < 100 kW \\n LSN plasmas - $n_l\\in$ [{nl_min};{nl_max}] - $I_p\\in$ [{Ip_min};{Ip_max}] -\\n  Rext<{Rext_median_max/1e3}m', fontsize=16)\n",
    "ax.legend(fontsize=16)\n",
    "ax.tick_params(axis='both', which='major', labelsize=16)\n",
    "fig.tight_layout()\n",
    "\n",
    "cax = plt.gcf().get_axes()[1]\n",
    "cax.set_ylabel('$n_l$', fontsize=18)"
   ]
  },
  {
   "cell_type": "code",
   "execution_count": 37,
   "metadata": {},
   "outputs": [
    {
     "data": {
      "application/vnd.jupyter.widget-view+json": {
       "model_id": "2518ff8ace3e49c6a02a6c3952268ee9",
       "version_major": 2,
       "version_minor": 0
      },
      "text/plain": [
       "Canvas(toolbar=Toolbar(toolitems=[('Home', 'Reset original view', 'home', 'home'), ('Back', 'Back to previous …"
      ]
     },
     "metadata": {},
     "output_type": "display_data"
    }
   ],
   "source": [
    "dataset = data.query('IC_P_tot > 0.5 and LH_P_tot > 0.1')\\\n",
    "            .query('Xpoint==\"LSN\"')\\\n",
    "            .query('ROG > -10 and ROG < 100')\\\n",
    "            .query('Ip > @Ip_min and Ip < @Ip_max')\\\n",
    "            .query('nl > @nl_min and nl < @nl_max')\\\n",
    "            .query('Rext_median < @Rext_median_max')\\\n",
    "            .query('pulse not in @MHD_pulses')\\\n",
    "            .query('MHD < 80')\n",
    "\n",
    "fig, ax = plt.subplots(figsize=(8,6))\n",
    "\n",
    "\n",
    "dataset.plot(ax=ax, kind='scatter', x='LH_P_tot', y='IC_Rc_Q1_avg', s=50, color='C0', alpha=0.4, label=\"Q1\", marker='s')\n",
    "dataset.plot(ax=ax, kind='scatter', x='LH_P_tot', y='IC_Rc_Q2_avg', s=50, color='C1', alpha=0.4, label=\"Q2\", marker='o')\n",
    "dataset.plot(ax=ax, kind='scatter', x='LH_P_tot', y='IC_Rc_Q4_avg', s=50,  alpha=0.4, label=\"Q4\", color='C2', marker='^')\n",
    "\n",
    "ax.set_ylim(0.25,2)\n",
    "ax.set_xlabel('LH Power [MW]', fontsize=18)\n",
    "ax.set_ylabel('$R_c$ [$\\Omega$]', fontsize=18)\n",
    "ax.set_title(f'{LH_antenna} IC Power > 500 kW \\n LSN plasmas - $n_l\\in$ [{nl_min};{nl_max}] - $I_p\\in$ [{Ip_min};{Ip_max}] -\\n  Rext<{Rext_median_max/1e3}m', fontsize=16)\n",
    "ax.legend(fontsize=16)\n",
    "ax.tick_params(axis='both', which='major', labelsize=16)\n",
    "fig.tight_layout()\n",
    "\n",
    "# cax = plt.gcf().get_axes()[1]\n",
    "# cax.set_ylabel('$n_l$', fontsize=18)"
   ]
  },
  {
   "cell_type": "code",
   "execution_count": 38,
   "metadata": {},
   "outputs": [
    {
     "data": {
      "application/vnd.jupyter.widget-view+json": {
       "model_id": "fe32cac1171c4fea9f26846da746e889",
       "version_major": 2,
       "version_minor": 0
      },
      "text/plain": [
       "Canvas(toolbar=Toolbar(toolitems=[('Home', 'Reset original view', 'home', 'home'), ('Back', 'Back to previous …"
      ]
     },
     "metadata": {},
     "output_type": "display_data"
    }
   ],
   "source": [
    "P_RF_min = 1\n",
    "Xpoint = \"LSN\"\n",
    "Ip_min = 480\n",
    "Ip_max = 520\n",
    "nl_min = 3.0\n",
    "nl_max = 5.0\n",
    "phase_min=160\n",
    "phase_max = 200\n",
    "Rext_median_max = 3100\n",
    "P_LH_max = 5\n",
    "MHD_pulses = [54582, 54721, 55026, 55029, 55034, 55050, 55052, 55067, 55069, 55178, 55561, 55564, 55797]\n",
    "LH_antenna = 'LH1'\n",
    "\n",
    "dataset = data.query('P_RF > @P_RF_min')\\\n",
    "            .query('P_conv > 1.5')\\\n",
    "            .query('Xpoint==\"LSN\"')\\\n",
    "            .query('ROG > -10 and ROG < 100')\\\n",
    "            .query('Ip > @Ip_min and Ip < @Ip_max')\\\n",
    "            .query('nl > @nl_min and nl < @nl_max')\\\n",
    "            .query('Rext_median < @Rext_median_max')\\\n",
    "            .query('pulse not in @MHD_pulses')\\\n",
    "            .query('MHD < 70')\\\n",
    "            .query('Rext_median < @Rext_median_max')\n",
    "\n",
    "fig, ax = plt.subplots()\n",
    "params = {'axes.labelsize': 18,\n",
    "          'axes.titlesize': 16}\n",
    "plt.rcParams.update(params)\n",
    "\n",
    "dataset.plot(ax=ax, kind='scatter', x='ROG_NICE', y='frad_bulk', c='P_conv', cmap='viridis', \n",
    "                 s=30, vmax=3, alpha=0.5);\n",
    "ax.set_title(f'RF Power > {P_RF_min} MW \\n LSN plasmas - $n_l\\in$ [{nl_min};{nl_max}] - $I_p\\in$ [{Ip_min};{Ip_max}] -\\n  Rext<{Rext_median_max/1e3}m', fontsize=16)\n",
    "ax.set_ylim(0.15, 0.8)\n",
    "ax.set_xlim(-5,90)\n",
    "cax = plt.gcf().get_axes()[1]\n",
    "cax.set_ylabel('P_SEP [MW]', fontsize=14)\n",
    "ax.tick_params(axis='both', which='major', labelsize=16)\n",
    "\n",
    "fig.tight_layout()"
   ]
  },
  {
   "cell_type": "markdown",
   "metadata": {},
   "source": [
    "# Max Powers"
   ]
  },
  {
   "cell_type": "code",
   "execution_count": 39,
   "metadata": {},
   "outputs": [],
   "source": [
    "test = data.query('IC_P_tot > 0.100 or LH_P_tot > 0.2').groupby('pulse').max()"
   ]
  },
  {
   "cell_type": "code",
   "execution_count": 40,
   "metadata": {},
   "outputs": [],
   "source": [
    "test['pulse'] = test.index\n",
    "test['P_IC'] = test['IC_P_tot']"
   ]
  },
  {
   "cell_type": "code",
   "execution_count": 41,
   "metadata": {},
   "outputs": [
    {
     "data": {
      "application/vnd.jupyter.widget-view+json": {
       "model_id": "db848497629e425b85bcc0757ca26697",
       "version_major": 2,
       "version_minor": 0
      },
      "text/plain": [
       "Canvas(toolbar=Toolbar(toolitems=[('Home', 'Reset original view', 'home', 'home'), ('Back', 'Back to previous …"
      ]
     },
     "metadata": {},
     "output_type": "display_data"
    }
   ],
   "source": [
    "fig, ax = plt.subplots()\n",
    "test.plot(kind='scatter', x='pulse', y='LH_P_tot', s=60, ax=ax, c='C0', alpha=.8, label='LHCD')\n",
    "test.plot(kind='scatter', x='pulse', y='P_IC', s=60, ax=ax, c='C1', alpha=.8, label='ICRH')\n",
    "\n",
    "ax.set_xlabel('pulse #', fontsize=16)\n",
    "ax.set_ylabel('Coupled Power [MW]', fontsize=16)\n",
    "ax.tick_params(labelsize=14)\n",
    "ax.set_ylim(0,6)\n",
    "ax.legend(fontsize=16)\n",
    "fig.tight_layout()\n",
    "\n",
    "#fig.savefig('WEST_C4_LHCD_ICRH_max_power.png', dpi=150)"
   ]
  },
  {
   "cell_type": "markdown",
   "metadata": {},
   "source": [
    "# Link between radiated power and LCFS radius"
   ]
  },
  {
   "cell_type": "code",
   "execution_count": 42,
   "metadata": {},
   "outputs": [],
   "source": [
    "# list oll 5 fives shots made after a boro\n",
    "N = 5\n",
    "pulses = data['pulse'].unique()\n",
    "\n",
    "after_Nboro_pulses = []\n",
    "\n",
    "for pulse_after_boro in after_boro_shot:\n",
    "    # choc apres boro\n",
    "    after_Nboro_pulses.append(pulse_after_boro)\n",
    "    # N-1 chocs apres boro\n",
    "    idx = np.argmin(np.abs(pulses - pulse_after_boro)) \n",
    "    after_Nboro_pulses.append(pulses[idx:idx+N])\n"
   ]
  },
  {
   "cell_type": "code",
   "execution_count": 43,
   "metadata": {},
   "outputs": [
    {
     "data": {
      "application/vnd.jupyter.widget-view+json": {
       "model_id": "ba6180cc796240b3b405fc4f139a7ea7",
       "version_major": 2,
       "version_minor": 0
      },
      "text/plain": [
       "Canvas(toolbar=Toolbar(toolitems=[('Home', 'Reset original view', 'home', 'home'), ('Back', 'Back to previous …"
      ]
     },
     "metadata": {},
     "output_type": "display_data"
    },
    {
     "data": {
      "text/plain": [
       "Text(0.5, 0, 'WEST pulse #')"
      ]
     },
     "execution_count": 43,
     "metadata": {},
     "output_type": "execute_result"
    }
   ],
   "source": [
    "Xpoint = \"LSN\"\n",
    "Ip_min = 480\n",
    "Ip_max = 520\n",
    "nl_min = 3.0\n",
    "nl_max = 5.5\n",
    "phase_min=160\n",
    "phase_max = 200\n",
    "Rext_median_max = 3100\n",
    "P_LH_max = 5\n",
    "\n",
    "dataset = data.query('IC_P_tot > 0 or LH_P_tot > 0.0')\\\n",
    "            .query('Xpoint==\"LSN\"')\\\n",
    "            .query('Ip > @Ip_min and Ip < @Ip_max')\\\n",
    "            .query('nl > @nl_min and nl < @nl_max')\\\n",
    "            .query('P_conv > 1.0')\\\n",
    "            .query('frad_bulk > 0.1')\\\n",
    "            .query('pulse != @after_boro_shot')\\\n",
    "            .query('MHD < 100')\n",
    "\n",
    "dataset_mean = dataset.groupby('pulse').mean()\n",
    "dataset_std = dataset.groupby('pulse').std()\n",
    "dataset_max = dataset.groupby('pulse').max()\n",
    "\n",
    "dataset_mean['pulse'] = dataset_mean.index \n",
    "dataset_mean['Cu_norm'] = dataset_mean['Cu']/dataset_mean['nl']/dataset_mean['Ptot']\n",
    "\n",
    "fig,ax = plt.subplots()\n",
    "dataset_mean.plot(ax=ax, kind=\"scatter\", x='pulse',  y='frad', \n",
    "                  c=dataset_max['P_RF'], cmap='viridis', \n",
    "                  yerr=dataset_std['frad_bulk'], alpha=0.5, s=50)\n",
    "\n",
    "ax.set_ylim(0.3, 0.8)\n",
    "\n",
    "for boro in after_boro_shot[2:]:\n",
    "    ax.axvline(boro, color='k', ls='--', alpha=0.8)\n",
    "    \n",
    "ax.set_ylabel('<frad> ', fontsize=14)\n",
    "ax.set_xlabel('WEST pulse #', fontsize=14)"
   ]
  },
  {
   "cell_type": "code",
   "execution_count": 44,
   "metadata": {},
   "outputs": [
    {
     "data": {
      "application/vnd.jupyter.widget-view+json": {
       "model_id": "58605822f50442feab407a22533937bb",
       "version_major": 2,
       "version_minor": 0
      },
      "text/plain": [
       "Canvas(toolbar=Toolbar(toolitems=[('Home', 'Reset original view', 'home', 'home'), ('Back', 'Back to previous …"
      ]
     },
     "metadata": {},
     "output_type": "display_data"
    },
    {
     "data": {
      "text/plain": [
       "Text(0.5, 0, 'Rext median [mm]')"
      ]
     },
     "execution_count": 44,
     "metadata": {},
     "output_type": "execute_result"
    }
   ],
   "source": [
    "fig, ax = plt.subplots(2,1,sharex=True)\n",
    "for (idx, Xpoint) in enumerate(['LSN', 'USN']):\n",
    "    data.query('ROG_NICE>-5 and ROG_NICE < 100 and ROG < 100 and Xpoint==@Xpoint').hist('Rext_median', bins=200, ax=ax[idx], alpha=0.5, label='VacTH')\n",
    "    data.query('ROG_NICE>-5 and ROG_NICE < 100 and ROG < 100 and Xpoint==@Xpoint and Rext_median_NICE_mm < 3000').hist('Rext_median_NICE_mm', bins=200, color='C1', ax=ax[idx], alpha=0.5, label='NICE')\n",
    "    ax[idx].legend()\n",
    "    ax[idx].set_title(f'WEST C4 - {Xpoint} plasmas')\n",
    "    ax[idx].set_xlim(2850, 3020)\n",
    "ax[-1].set_xlabel('Rext median [mm]', fontsize=14)"
   ]
  },
  {
   "cell_type": "code",
   "execution_count": 45,
   "metadata": {},
   "outputs": [
    {
     "data": {
      "application/vnd.jupyter.widget-view+json": {
       "model_id": "036d4d8b72de409aa2901bdc00d3be41",
       "version_major": 2,
       "version_minor": 0
      },
      "text/plain": [
       "Canvas(toolbar=Toolbar(toolitems=[('Home', 'Reset original view', 'home', 'home'), ('Back', 'Back to previous …"
      ]
     },
     "metadata": {},
     "output_type": "display_data"
    },
    {
     "data": {
      "text/plain": [
       "Text(0, 0.5, 'Rext median NICE [mm]')"
      ]
     },
     "execution_count": 45,
     "metadata": {},
     "output_type": "execute_result"
    }
   ],
   "source": [
    "fig, ax = plt.subplots()\n",
    "data.query('ROG_NICE>-5 and ROG_NICE < 100 and ROG < 100 and Xpoint==\"LSN\" ').plot(y='Rext_median_NICE_mm', x='Rext_median',kind='scatter', ax=ax, alpha=0.5, label='LSN', color='C0')\n",
    "data.query('ROG_NICE>-5 and ROG_NICE < 100 and ROG < 100 and Xpoint==\"USN\" ').plot(y='Rext_median_NICE_mm', x='Rext_median',kind='scatter', ax=ax, alpha=0.5, label='USN', color='C1')\n",
    "\n",
    "ax.plot([2900, 3020], [2900, 3020], color='k')\n",
    "ax.set_xlabel('Rext median VACTH [mm]')\n",
    "ax.set_ylabel('Rext median NICE [mm]')"
   ]
  },
  {
   "cell_type": "markdown",
   "metadata": {},
   "source": [
    "# Why does USN plasma increase coupling?"
   ]
  },
  {
   "cell_type": "code",
   "execution_count": 46,
   "metadata": {},
   "outputs": [],
   "source": [
    "def Rc_theoretical(x, lambd, A):\n",
    "    return A*np.exp(-x/lambd)"
   ]
  },
  {
   "cell_type": "code",
   "execution_count": 47,
   "metadata": {},
   "outputs": [],
   "source": [
    "Ip_min = 480\n",
    "Ip_max = 520\n",
    "nl_min = 3.0\n",
    "nl_max = 5.0\n",
    "phase_min=160\n",
    "phase_max = 200\n",
    "\n",
    "P_IC_min = 200\n",
    "P_LH_min = 0.1\n",
    "\n",
    "dataset = data.query('IC_P_Q4 > @P_IC_min')\\\n",
    "            .query('LH_P_tot < @P_LH_min')\\\n",
    "            .query('Ip > @Ip_min and Ip < @Ip_max')\\\n",
    "            .query('nl > @nl_min and nl < @nl_max')\\\n",
    "            .query('MHD < 100')\\\n",
    "            .query('IC_Rc_Q4_avg > 0.5')\\"
   ]
  },
  {
   "cell_type": "code",
   "execution_count": 48,
   "metadata": {},
   "outputs": [
    {
     "data": {
      "application/vnd.jupyter.widget-view+json": {
       "model_id": "faf72829645e4e67a7c7b25cb7fcc001",
       "version_major": 2,
       "version_minor": 0
      },
      "text/plain": [
       "Canvas(toolbar=Toolbar(toolitems=[('Home', 'Reset original view', 'home', 'home'), ('Back', 'Back to previous …"
      ]
     },
     "metadata": {},
     "output_type": "display_data"
    }
   ],
   "source": [
    "fig, ax = plt.subplots()\n",
    "dataset.query('Xpoint == \"LSN\"').plot(ax=ax, c='C0', kind='scatter', x='ROG_Q4_NICE', y='IC_Rc_Q4_avg', alpha=0.2, s=30)\n",
    "dataset.query('Xpoint == \"USN\"').plot(ax=ax, c='C1', kind='scatter', x='ROG_Q4_NICE', y='IC_Rc_Q4_avg', alpha=0.2, s=30)\n",
    "ax.set_xlim(-10, 80)\n",
    "ax.set_xlabel('ROG (NICE) [mm]', fontsize=14)\n",
    "ax.set_ylabel('Rc (Q4) [Ohm]', fontsize=14)\n",
    "ax.set_title('4 ')\n",
    "ax.set_title(f'Rc vs ROG (Q4) - WEST C4 -  $n_l\\in$ [{nl_min};{nl_max}] - $I_p\\in$ [{Ip_min};{Ip_max}] \\n P_IC > {P_IC_min/1e3} MW - P_LH < {P_LH_min} MW - no MHD ', fontsize=16)\n",
    "#ax.set_yscale('log')\n",
    "ax.grid(True, which='minor')"
   ]
  },
  {
   "cell_type": "code",
   "execution_count": 49,
   "metadata": {},
   "outputs": [
    {
     "data": {
      "application/vnd.jupyter.widget-view+json": {
       "model_id": "14e25c42d22f414880fa70bf8b813222",
       "version_major": 2,
       "version_minor": 0
      },
      "text/plain": [
       "Canvas(toolbar=Toolbar(toolitems=[('Home', 'Reset original view', 'home', 'home'), ('Back', 'Back to previous …"
      ]
     },
     "metadata": {},
     "output_type": "display_data"
    }
   ],
   "source": [
    "fig, ax = plt.subplots()\n",
    "dataset.query(' Xpoint == \"LSN\" ').plot(ax=ax, c='C0', kind='scatter', x='ROG_Q4', y='IC_Rc_Q4_avg', alpha=0.2, s=30)\n",
    "dataset.query(' Xpoint == \"USN\" ').plot(ax=ax, c='C1', kind='scatter', x='ROG_Q4', y='IC_Rc_Q4_avg', alpha=0.2, s=30)\n",
    "ax.set_xlim(-10, 80)\n",
    "ax.set_xlabel('ROG (VACTH) [mm]', fontsize=14)\n",
    "ax.set_ylabel('Rc (Q4) [Ohm]', fontsize=14)\n",
    "ax.set_title(f'Rc vs ROG (Q4) - WEST C4 -  $n_l\\in$ [{nl_min};{nl_max}] - $I_p\\in$ [{Ip_min};{Ip_max}] \\n P_IC > {P_IC_min/1e3} MW - P_LH < {P_LH_min} MW - no MHD ', fontsize=16)\n",
    "\n",
    "# ax.set_yscale('log')\n",
    "ax.grid(True, which='minor')"
   ]
  },
  {
   "cell_type": "markdown",
   "metadata": {},
   "source": [
    "# Copper Impurity"
   ]
  },
  {
   "cell_type": "code",
   "execution_count": 50,
   "metadata": {},
   "outputs": [],
   "source": [
    "Ip_min = 480\n",
    "Ip_max = 520\n",
    "nl_min = 3.0\n",
    "nl_max = 5.0\n",
    "phase_min=160\n",
    "phase_max = 200\n",
    "\n",
    "P_IC_min = 0.200\n",
    "P_LH_min = 0.1\n",
    "\n",
    "dataset = data.query('Ip > @Ip_min and Ip < @Ip_max')\\\n",
    "            .query('nl > @nl_min and nl < @nl_max')\\\n",
    "            .query('MHD < 100')\\\n",
    "            .query('ROG_NICE < 100 and ROG_NICE > 0')\\\n",
    "            .query('Rext_median < 2960 and Rext_median > 2900')\\\n",
    "            .query('IC_P_tot > 0')\\\n",
    "            .query('LH_P_tot > 0.1')\\\n",
    "            .query('Xpoint == \"LSN\"')\n"
   ]
  },
  {
   "cell_type": "code",
   "execution_count": 51,
   "metadata": {},
   "outputs": [
    {
     "data": {
      "application/vnd.jupyter.widget-view+json": {
       "model_id": "9bd3efb9812b4b5db5c5750f05c75672",
       "version_major": 2,
       "version_minor": 0
      },
      "text/plain": [
       "Canvas(toolbar=Toolbar(toolitems=[('Home', 'Reset original view', 'home', 'home'), ('Back', 'Back to previous …"
      ]
     },
     "metadata": {},
     "output_type": "display_data"
    }
   ],
   "source": [
    "fig, ax = plt.subplots()\n",
    "dataset.plot(ax=ax, kind='scatter', x='ROG_NICE', y='Cu_norm', \n",
    "            c='LH_P_tot', cmap='viridis')\n",
    "ax.set_ylim(0.1, 100)\n",
    "ax.set_yscale('log')\n",
    "ax.grid(True, which='minor')\n",
    "ax.tick_params(labelsize=14)"
   ]
  },
  {
   "cell_type": "markdown",
   "metadata": {},
   "source": [
    "## Radiated Power vs ROG "
   ]
  },
  {
   "cell_type": "code",
   "execution_count": 52,
   "metadata": {},
   "outputs": [
    {
     "data": {
      "application/vnd.jupyter.widget-view+json": {
       "model_id": "1d1e1a19ccbe4b01a6644f94a189ff43",
       "version_major": 2,
       "version_minor": 0
      },
      "text/plain": [
       "Canvas(toolbar=Toolbar(toolitems=[('Home', 'Reset original view', 'home', 'home'), ('Back', 'Back to previous …"
      ]
     },
     "metadata": {},
     "output_type": "display_data"
    }
   ],
   "source": [
    "Ip_min = 480\n",
    "Ip_max = 520\n",
    "nl_min = 3.0\n",
    "nl_max = 5.0\n",
    "phase_min=160\n",
    "phase_max = 200\n",
    "\n",
    "P_IC_min = 0.2\n",
    "P_conv_min = 2.0\n",
    "\n",
    "dataset = data.query('Ip > @Ip_min and Ip < @Ip_max')\\\n",
    "            .query('nl > @nl_min and nl < @nl_max')\\\n",
    "            .query('MHD < 80')\\\n",
    "            .query('ROG_NICE < 100 and ROG_NICE > 0')\\\n",
    "            .query('IC_P_tot > @P_IC_min')\\\n",
    "            .query('Xpoint == \"LSN\"')\\\n",
    "            .query('P_conv > @P_conv_min')\n",
    "\n",
    "fig, ax = plt.subplots()\n",
    "dataset.plot(ax=ax, kind='scatter', x='ROG_NICE', y='IC_Rc_Q1_avg', label=\"Q1\",\n",
    "             alpha=0.5, s=70, edgecolor='dimgray', color='C0')\n",
    "dataset.plot(ax=ax, kind='scatter', x='ROG_NICE', y='IC_Rc_Q2_avg', label=\"Q2\",\n",
    "             alpha=0.5, s=70, edgecolor='dimgray', color='C1')\n",
    "dataset.plot(ax=ax, kind='scatter', x='ROG_NICE', y='IC_Rc_Q4_avg', label=\"Q4\",\n",
    "             alpha=0.5, s=70, edgecolor='dimgray', color='C2')\n",
    "ax.grid(True, which='minor')\n",
    "ax.tick_params(labelsize=14)\n",
    "ax.set_xlabel('ROG (NICE) [mm]', fontsize=16)\n",
    "ax.set_ylabel('Coupling Resistance [Ohm]', fontsize=16)\n",
    "ax.set_title(f'WEST C4 -  LSN -  $n_l\\in$ [{nl_min};{nl_max}] - $I_p\\in$ [{Ip_min};{Ip_max}] \\n P_IC > {P_IC_min} MW - P_LH > {P_LH_min} MW', fontsize=16)\n",
    "ax.set_xlim(0, 80)\n",
    "ax.set_ylim(bottom=0.3, top=2.5)\n",
    "#cax = plt.gcf().get_axes()[1]\n",
    "#cax.set_ylabel('$P_{\\mathrm{sep}}$ [MW]', fontsize=14)\n",
    "ax.tick_params(axis='both', which='major', labelsize=16)"
   ]
  },
  {
   "cell_type": "code",
   "execution_count": 79,
   "metadata": {},
   "outputs": [
    {
     "data": {
      "application/vnd.jupyter.widget-view+json": {
       "model_id": "0eeb009b53004fd9aba842d1968febeb",
       "version_major": 2,
       "version_minor": 0
      },
      "text/plain": [
       "Canvas(toolbar=Toolbar(toolitems=[('Home', 'Reset original view', 'home', 'home'), ('Back', 'Back to previous …"
      ]
     },
     "metadata": {},
     "output_type": "display_data"
    }
   ],
   "source": [
    "Ip_min = 480\n",
    "Ip_max = 520\n",
    "nl_min = 3.4\n",
    "nl_max = 4.5\n",
    "phase_min=170\n",
    "phase_max = 190\n",
    "\n",
    "P_IC_min = 0.2\n",
    "P_conv_min = 1.0\n",
    "\n",
    "dataset_LSN = data.query('Ip > @Ip_min and Ip < @Ip_max')\\\n",
    "            .query('nl > @nl_min and nl < @nl_max')\\\n",
    "            .query('MHD < 80')\\\n",
    "            .query('ROG_NICE < 100 and ROG_NICE > 0')\\\n",
    "            .query('IC_P_tot > @P_IC_min')\\\n",
    "            .query('Xpoint == \"LSN\"')\\\n",
    "            .query('P_conv > @P_conv_min').sort_values('P_conv', ascending=True)\n",
    "\n",
    "dataset_USN = data.query('Ip > @Ip_min and Ip < @Ip_max')\\\n",
    "            .query('nl > @nl_min and nl < @nl_max')\\\n",
    "            .query('MHD < 80')\\\n",
    "            .query('ROG_NICE < 100 and ROG_NICE > 0')\\\n",
    "            .query('IC_P_tot > @P_IC_min')\\\n",
    "            .query('Xpoint == \"USN\"')\\\n",
    "            .query('P_conv > @P_conv_min').sort_values('P_conv', ascending=False)\n",
    "\n",
    "fig, ax = plt.subplots()\n",
    "dataset_LSN.plot(ax=ax, kind='scatter', x='ROG_NICE', y='IC_Rc_Q1_avg', label=\"Q1 LSN\",\n",
    "             alpha=0.5, s=40, edgecolor='dimgray', c='P_conv', cmap='viridis')\n",
    "dataset_LSN.plot(ax=ax, kind='scatter', x='ROG_NICE', y='IC_Rc_Q2_avg', label=\"Q2 LSN\",\n",
    "             alpha=0.5, s=40, edgecolor='dimgray', c='P_conv', cmap='viridis', colorbar=False)\n",
    "dataset_LSN.plot(ax=ax, kind='scatter', x='ROG_NICE', y='IC_Rc_Q4_avg', label=\"Q4 LSN\",\n",
    "             alpha=0.5, s=40, edgecolor='dimgray', c='P_conv', cmap='viridis', colorbar=False)\n",
    "\n",
    "dataset_USN.plot(ax=ax, kind='scatter', x='ROG_NICE', y='IC_Rc_Q1_avg', label=\"Q1 USN\", marker='^',\n",
    "             alpha=0.5, s=40, edgecolor='dimgray', c='P_conv', cmap='viridis', colorbar=False)\n",
    "dataset_USN.plot(ax=ax, kind='scatter', x='ROG_NICE', y='IC_Rc_Q2_avg', label=\"Q2 USN\", marker='^',\n",
    "             alpha=0.5, s=40, edgecolor='dimgray', c='P_conv', cmap='viridis', colorbar=False)\n",
    "dataset_USN.plot(ax=ax, kind='scatter', x='ROG_NICE', y='IC_Rc_Q4_avg', label=\"Q4 USN\", marker='^',\n",
    "             alpha=0.5, s=40, edgecolor='dimgray', c='P_conv', cmap='viridis', colorbar=False)\n",
    "\n",
    "\n",
    "ax.grid(True, which='minor')\n",
    "ax.tick_params(labelsize=14)\n",
    "ax.set_xlabel('ROG (NICE) [mm]', fontsize=16)\n",
    "ax.set_ylabel('Coupling Resistance [Ohm]', fontsize=16)\n",
    "ax.set_title(f'WEST C4 -  $n_l\\in$ [{nl_min};{nl_max}] - $I_p\\in$ [{Ip_min};{Ip_max}] \\n P_IC > {P_IC_min} MW - P_LH > {P_LH_min} MW; P_sep>{P_conv_min}MW', fontsize=16)\n",
    "ax.set_xlim(0, 80)\n",
    "ax.set_ylim(bottom=0.3, top=2.5)\n",
    "#cax = plt.gcf().get_axes()[1]\n",
    "#cax.set_ylabel('$P_{\\mathrm{sep}}$ [MW]', fontsize=14)\n",
    "ax.tick_params(axis='both', which='major', labelsize=16)"
   ]
  },
  {
   "cell_type": "markdown",
   "metadata": {},
   "source": [
    "# Silver Impurity"
   ]
  },
  {
   "cell_type": "code",
   "execution_count": 54,
   "metadata": {},
   "outputs": [
    {
     "data": {
      "application/vnd.jupyter.widget-view+json": {
       "model_id": "c33b2810b70e4bb58aeae355b9aaff87",
       "version_major": 2,
       "version_minor": 0
      },
      "text/plain": [
       "Canvas(toolbar=Toolbar(toolitems=[('Home', 'Reset original view', 'home', 'home'), ('Back', 'Back to previous …"
      ]
     },
     "metadata": {},
     "output_type": "display_data"
    },
    {
     "data": {
      "text/plain": [
       "<AxesSubplot:xlabel='pulse', ylabel='Ag19'>"
      ]
     },
     "execution_count": 54,
     "metadata": {},
     "output_type": "execute_result"
    }
   ],
   "source": [
    "Ip_min = 480\n",
    "Ip_max = 520\n",
    "nl_min = 3.0\n",
    "nl_max = 5.0\n",
    "phase_min=160\n",
    "phase_max = 200\n",
    "\n",
    "P_IC_min = 0.500\n",
    "P_LH_min = 0.5\n",
    "P_conv_min = 2.0\n",
    "\n",
    "dataset = data.query('Ip > @Ip_min and Ip < @Ip_max')\\\n",
    "            .query('nl > @nl_min and nl < @nl_max')\\\n",
    "            .query('MHD < 80')\\\n",
    "            .query('ROG_NICE < 100 and ROG_NICE > 0')\\\n",
    "            .query('IC_P_tot > @P_IC_min')\\\n",
    "            .query('LH_P_tot > @P_LH_min')\\\n",
    "            .query('Xpoint == \"LSN\"')\\\n",
    "            .query('P_conv > @P_conv_min')\n",
    "\n",
    "fig, ax = plt.subplots()\n",
    "dataset.plot(ax=ax, kind='scatter', x='pulse', y='Ag19')"
   ]
  },
  {
   "cell_type": "markdown",
   "metadata": {},
   "source": [
    "# Radiated Power vs pulse and Boronization"
   ]
  },
  {
   "cell_type": "code",
   "execution_count": null,
   "metadata": {},
   "outputs": [],
   "source": [
    "dataset = data.groupby('pulse').max().reset_index()"
   ]
  },
  {
   "cell_type": "code",
   "execution_count": null,
   "metadata": {},
   "outputs": [],
   "source": [
    "fig, ax = plt.subplots()\n",
    "dataset.plot(ax=ax, kind='scatter', x='pulse', y='Prad')\n",
    "\n",
    "for boro in after_boro_shot:\n",
    "    ax.axvline(boro, ls='--', color='gray')\n",
    "ax.set_xlim(left=54400)"
   ]
  },
  {
   "cell_type": "code",
   "execution_count": null,
   "metadata": {},
   "outputs": [],
   "source": [
    "from scipy.optimize import curve_fit"
   ]
  },
  {
   "cell_type": "code",
   "execution_count": null,
   "metadata": {},
   "outputs": [],
   "source": [
    "def fit_Prad( (a_ohm, a_LH, a_IC) ):\n",
    "    "
   ]
  },
  {
   "cell_type": "code",
   "execution_count": null,
   "metadata": {},
   "outputs": [],
   "source": [
    "Ip_min = 480\n",
    "Ip_max = 520\n",
    "nl_min = 3.0\n",
    "nl_max = 5.0\n",
    "phase_min=160\n",
    "phase_max = 200\n",
    "\n",
    "P_IC_min = 0.100\n",
    "P_LH_min = 0.1\n",
    "\n",
    "dataset = data.query('Ip > @Ip_min and Ip < @Ip_max')\\\n",
    "            .query('nl > @nl_min and nl < @nl_max')\\\n",
    "            .query('MHD < 80')\\\n",
    "            .query('ROG_NICE < 100 and ROG_NICE > 0')\\\n",
    "            .query('Xpoint == \"LSN\"')\\\n",
    "            .query('Ptot > 0')\n",
    "\n",
    "\n",
    "fig, ax = plt.subplots()\n",
    "dataset.plot(ax=ax, kind='scatter', x='Ptot', y='Prad', c='IC_P_tot', cmap='jet', edgecolor='dimgray', s=70, clim=(0,5e3))\n",
    "ax.set_xlim(left=0)\n",
    "ax.set_xlabel('Total Power (Ohmic+LH+IC) [MW]')\n",
    "ax.set_ylabel('Radiated Power [MW]')\n",
    "cax = plt.gcf().get_axes()[1]\n",
    "cax.set_ylabel('IC Power [MW]', fontsize=14)\n",
    "\n",
    "fig.tight_layout()\n",
    "# dataset = dataset.groupby('pulse').max().reset_index()\n",
    "# dataset.plot(ax=ax, kind='scatter', x='distance_boro', y='Prad', c='P_conv', cmap='viridis')"
   ]
  },
  {
   "cell_type": "code",
   "execution_count": null,
   "metadata": {},
   "outputs": [],
   "source": [
    "from scipy.stats import gaussian_kde\n",
    "\n",
    "dataset = dataset.dropna(subset=['Ptot', 'Prad'])\n",
    "\n",
    "x = dataset['Ptot'].values\n",
    "y = dataset['Prad'].values\n",
    "\n",
    "# Calculate the point density\n",
    "xy = np.vstack([x,y])\n",
    "z = gaussian_kde(xy)(xy)\n",
    "\n",
    "fig, ax = plt.subplots()\n",
    "ax.hist2d(x, y, (50, 50), cmap=plt.cm.jet)\n",
    "# fig.colorbar()\n",
    "\n",
    "# fig, ax = plt.subplots()\n",
    "# ax.scatter(x, y, c=z, s=100, edgecolor='')\n",
    "# plt.show()\n",
    "\n",
    "# # Sort the points by density, so that the densest points are plotted last\n",
    "# idx = z.argsort()\n",
    "# x, y, z = x[idx], y[idx], z[idx]\n",
    "\n",
    "# fig, ax = plt.subplots()\n",
    "# ax.scatter(x, y, c=z, s=50, edgecolor='')\n",
    "# plt.show()"
   ]
  },
  {
   "cell_type": "code",
   "execution_count": null,
   "metadata": {},
   "outputs": [],
   "source": [
    "idx"
   ]
  },
  {
   "cell_type": "code",
   "execution_count": null,
   "metadata": {},
   "outputs": [],
   "source": []
  }
 ],
 "metadata": {
  "kernelspec": {
   "display_name": "Python 3",
   "language": "python",
   "name": "python3"
  },
  "language_info": {
   "codemirror_mode": {
    "name": "ipython",
    "version": 3
   },
   "file_extension": ".py",
   "mimetype": "text/x-python",
   "name": "python",
   "nbconvert_exporter": "python",
   "pygments_lexer": "ipython3",
   "version": "3.7.8"
  }
 },
 "nbformat": 4,
 "nbformat_minor": 4
}
