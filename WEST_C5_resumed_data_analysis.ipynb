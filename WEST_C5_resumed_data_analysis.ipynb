{
 "cells": [
  {
   "cell_type": "code",
   "execution_count": null,
   "metadata": {},
   "outputs": [],
   "source": [
    "# assume working in Jupyter Lab\n",
    "#%matplotlib widget\n",
    "\n",
    "%load_ext autoreload\n",
    "%autoreload 2"
   ]
  },
  {
   "cell_type": "code",
   "execution_count": null,
   "metadata": {},
   "outputs": [],
   "source": [
    "import sys\n",
    "import numpy as np\n",
    "import pandas as pd\n",
    "import matplotlib.pyplot as plt \n",
    "import seaborn as sns\n",
    "from scipy.optimize import curve_fit \n",
    "from tqdm.notebook import tqdm"
   ]
  },
  {
   "cell_type": "code",
   "execution_count": null,
   "metadata": {},
   "outputs": [],
   "source": [
    "sns.set_style('whitegrid')\n",
    "sns.set_context('paper', font_scale=1.4)\n",
    "plt.rcParams['figure.figsize'] = (10,6)\n",
    "plt.rcParams['axes.labelsize'] = 18\n",
    "plt.rcParams['axes.titlesize'] = 18\n",
    "plt.rcParams['xtick.labelsize'] = 14\n",
    "plt.rcParams['ytick.labelsize'] = 14"
   ]
  },
  {
   "cell_type": "markdown",
   "metadata": {},
   "source": [
    "# Importing the database"
   ]
  },
  {
   "cell_type": "code",
   "execution_count": null,
   "metadata": {},
   "outputs": [],
   "source": [
    "# Importing Resumed Parameters\n",
    "data = pd.read_csv('WEST_C5_database_resumed_parameters.csv')\n",
    "data"
   ]
  },
  {
   "cell_type": "markdown",
   "metadata": {},
   "source": [
    "# Cleaning the data"
   ]
  },
  {
   "cell_type": "markdown",
   "metadata": {},
   "source": [
    "Below we remove non physical or not relevant values"
   ]
  },
  {
   "cell_type": "code",
   "execution_count": null,
   "metadata": {},
   "outputs": [],
   "source": [
    "len(data)"
   ]
  },
  {
   "cell_type": "code",
   "execution_count": null,
   "metadata": {},
   "outputs": [],
   "source": [
    "data = data.query('nl > 2 and Ip > 0.4')\\\n",
    "            .query('Rext_median > 2700')"
   ]
  },
  {
   "cell_type": "markdown",
   "metadata": {},
   "source": [
    "Total number of points:"
   ]
  },
  {
   "cell_type": "code",
   "execution_count": null,
   "metadata": {},
   "outputs": [],
   "source": [
    "len(data)"
   ]
  },
  {
   "cell_type": "markdown",
   "metadata": {},
   "source": [
    "Names of available data in the dataset:"
   ]
  },
  {
   "cell_type": "code",
   "execution_count": null,
   "metadata": {},
   "outputs": [],
   "source": [
    "data.columns"
   ]
  },
  {
   "cell_type": "code",
   "execution_count": null,
   "metadata": {},
   "outputs": [],
   "source": [
    "first_C5_pulse = 56247\n",
    "january_restart = 56544\n",
    "post_boro = [56247, 56597]\n",
    "phase_control_OK = 56469\n",
    "Q2_position_OK = 56737"
   ]
  },
  {
   "cell_type": "code",
   "execution_count": null,
   "metadata": {},
   "outputs": [],
   "source": [
    "sessions = {\n",
    "    'C1-C5-W1-21': {\n",
    "        'name': 'Impact of BN tiles on W Sources during start up/divertor phase - Ohmic',\n",
    "        'pulses': (56415,56435),\n",
    "        'date': ('2020-12-16')\n",
    "    },\n",
    "    'C1-C5-W1-23': {\n",
    "        'name': 'Impact of BN tiles on W Sources during divertor phase - Heating',\n",
    "        'pulses': (56462,56489),\n",
    "        'date': ('2020-12-18')\n",
    "    },\n",
    "    'C1-C5-W1-11': {\n",
    "        'name': 'Melting experiments',\n",
    "        'pulses': (56516,56543),\n",
    "        'date': ('2020-12-22')\n",
    "    },\n",
    "    'C1-C5-W1-10': {\n",
    "        'name': 'Weight of W divertor sources vs main chamber W sources',\n",
    "        'pulses': [(56803,56819), (56850,56860)],\n",
    "        'date': ('2021-01-21', '2020-01-22')\n",
    "    },\n",
    "    'C1-C5-W1-22': {\n",
    "        'name': 'Divertor exhaust enhancement studies with the IPD',\n",
    "        'pulses': [(56820,56833), (56913,56927)],\n",
    "        'date': ('2020-01-21', '2020-01-27')\n",
    "    },\n",
    "    'C1-C5-W1-25': {\n",
    "        'name': 'Impurity Powder dropper commisionning',\n",
    "        'pulses': (56635,56640),\n",
    "        'date': ('2021-01-12')\n",
    "    },\n",
    "    'C1-C5-W1-24': {\n",
    "        'name': 'Heat load on misalignmed PFU/gaps',\n",
    "        'pulses': (56670,56698),\n",
    "        'date': ('2021-01-14')\n",
    "    },\n",
    "}"
   ]
  },
  {
   "cell_type": "code",
   "execution_count": null,
   "metadata": {},
   "outputs": [],
   "source": [
    "def position_antennes(pulse):\n",
    "    print('Q1:', data.query(f'pulse == {pulse}')['R_Q1'].unique())\n",
    "    print('Q2:', data.query(f'pulse == {pulse}')['R_Q2'].unique())\n",
    "    print('Q4:', data.query(f'pulse == {pulse}')['R_Q4'].unique())\n",
    "    print('LH1:', data.query(f'pulse == {pulse}')['R_LH1'].unique())\n",
    "    print('LH2:', data.query(f'pulse == {pulse}')['R_LH2'].unique())\n",
    "    \n",
    "position_antennes(56737)"
   ]
  },
  {
   "cell_type": "code",
   "execution_count": null,
   "metadata": {},
   "outputs": [],
   "source": [
    "data.query('nl < 4 and IC_P_tot > 0.2')['pulse'].unique()"
   ]
  },
  {
   "cell_type": "markdown",
   "metadata": {},
   "source": [
    "# Derived quantities"
   ]
  },
  {
   "cell_type": "markdown",
   "metadata": {},
   "source": [
    "Below we calculate some quantities derived from the others"
   ]
  },
  {
   "cell_type": "code",
   "execution_count": null,
   "metadata": {},
   "outputs": [],
   "source": [
    "# Radiated/Convected powers & radiated power fraction\n",
    "data['P_RF'] = data['LH_P_tot'] + data['IC_P_tot']\n",
    "data['Ptot'] = data['Ohmic_P'] + data['P_RF']\n",
    "data['P_conv'] = data['Ptot'] - data['Prad']\n",
    "data['frad'] = data['Prad']/data['Ptot']\n",
    "\n",
    "# Normalized data\n",
    "data['Cu_norm'] = data['Cu']/data['nl']\n",
    "data['Fe_norm'] = data['Fe']/data['nl']\n",
    "data['Ag18_norm'] = data['Ag18']/data['nl']\n",
    "data['Ag19_norm'] = data['Ag19']/data['nl']\n",
    "data['Ag18_norm_nl_IC'] = data['Ag18']/data['nl']/data['IC_P_tot']\n",
    "data['Ag19_norm_nl_IC'] = data['Ag19']/data['nl']/data['IC_P_tot']\n",
    "\n",
    "data['Cu_norm_nl_IC'] = data['Cu_norm']/data['IC_P_tot']\n",
    "data['Cu_norm_nl_LH'] = data['Cu_norm']/data['LH_P_tot']\n",
    "data['Cu_norm_nl_RF'] = data['Cu_norm']/data['P_RF']\n",
    "\n",
    "data['ratio_Pic_Plh'] = data['IC_P_tot']/data['LH_P_tot']\n",
    "data['Isotopic Ratio INBUM04_norm_PLH'] = data['Isotopic Ratio INBUM04']/data['LH_P_tot']\n",
    "data['Isotopic Ratio LODIVOU15_norm_PLH'] = data['Isotopic Ratio LODIVOU15']/data['LH_P_tot']\n",
    "\n",
    "data['Isotopic Ratio INBUM04_norm_PRF'] = data['Isotopic Ratio INBUM04']/data['P_RF']\n",
    "data['Isotopic Ratio LODIVOU15_norm_PRF'] = data['Isotopic Ratio INBUM04']/data['P_RF']\n",
    "\n",
    "data['IC_Q1_Rc_left_over_right'] = data['IC_Rc_Q1_left']/data['IC_Rc_Q1_right']\n",
    "data['IC_Q2_Rc_left_over_right'] = data['IC_Rc_Q2_left']/data['IC_Rc_Q2_right']\n",
    "data['IC_Q4_Rc_left_over_right'] = data['IC_Rc_Q4_left']/data['IC_Rc_Q4_right']\n",
    "\n",
    "data['pulse_relative'] = data['pulse'] - first_C5_pulse\n",
    "\n",
    "# LSN and USN shots\n",
    "data['Xpoint'] = 'LSN'\n",
    "data.loc[(data['pulse'] >= 56737) & (data['pulse'] <=56769), 'Xpoint'] = 'USN' # 2021-01-19\n",
    "data.loc[(data['pulse'] >= 56770) & (data['pulse'] <=56802), 'Xpoint'] = 'USN' # 2021-01-20\n",
    "\n",
    "# objet le plus avancé\n",
    "data['R_obj'] = data[['R_Q1', 'R_Q2', 'R_Q4', 'R_LH1', 'R_LH2']].min(axis=1)*1e3\n",
    "\n",
    "# ROG wrt VACTH magnetic reconstruction in [mm]\n",
    "data['ROG_LH'] = data['R_obj'] - data['Rext_median']\n",
    "data['ROG_Q1'] = data['R_Q1']*1e3 - data['Rext_median']\n",
    "data['ROG_Q2'] = data['R_Q2']*1e3 - data['Rext_median']\n",
    "data['ROG_Q4'] = data['R_Q4']*1e3 - data['Rext_median']\n",
    "data['ROG'] = data['R_obj'] - data['Rext_median']\n",
    "# ROG wrt NICE magnetic reconstruction in [mm]\n",
    "data['ROG_Q1_NICE'] = data['R_Q1']*1e3 - data['Rext_median_NICE']\n",
    "data['ROG_Q2_NICE'] = data['R_Q2']*1e3 - data['Rext_median_NICE']\n",
    "data['ROG_Q4_NICE'] = data['R_Q4']*1e3 - data['Rext_median_NICE']\n",
    "data['ROG_NICE'] = data['R_obj'] - data['Rext_median_NICE']\n"
   ]
  },
  {
   "cell_type": "code",
   "execution_count": null,
   "metadata": {},
   "outputs": [],
   "source": [
    "# saving back the data\n",
    "data.to_csv('WEST_C5_database_resumed_parameters_cleaned.csv')"
   ]
  },
  {
   "cell_type": "markdown",
   "metadata": {},
   "source": [
    "# Stats"
   ]
  },
  {
   "cell_type": "code",
   "execution_count": null,
   "metadata": {},
   "outputs": [],
   "source": [
    "data['nl']"
   ]
  },
  {
   "cell_type": "code",
   "execution_count": null,
   "metadata": {},
   "outputs": [],
   "source": [
    "data['LH1_over_LH2'] = data['LH_P_LH1']/data['LH_P_LH2']\n",
    "fig, ax = plt.subplots()\n",
    "data.query('Ip > 0.48 and Ip < 0.52 and LH_P_tot>0.5 and LH1_over_LH2>0 and LH1_over_LH2 < 2').plot(ax=ax, x='nl', y='LH_P_tot', kind='scatter', c='LH1_over_LH2', cmap='tab10')\n",
    "ax.set_xlabel('nl')\n",
    "ax.set_ylabel('Total LH Power [MW]')"
   ]
  },
  {
   "cell_type": "markdown",
   "metadata": {},
   "source": [
    "# Coupling Resistances"
   ]
  },
  {
   "cell_type": "code",
   "execution_count": null,
   "metadata": {},
   "outputs": [],
   "source": [
    "data['P_over_Rc_Q1'] = data['IC_P_Q1']/data['IC_Rc_Q1_avg']\n",
    "data['P_over_Rc_Q2'] = data['IC_P_Q2']/data['IC_Rc_Q2_avg']\n",
    "data['P_over_Rc_Q4'] = data['IC_P_Q4']/data['IC_Rc_Q4_avg']\n",
    "\n",
    "_data_Q1 = data['P_over_Rc_Q1'].replace([np.inf, -np.inf], np.nan).dropna()\n",
    "_data_Q1 = _data_Q1[_data_Q1>0]\n",
    "_data_Q2 = data['P_over_Rc_Q2'].replace([np.inf, -np.inf], np.nan).dropna()\n",
    "_data_Q2 = _data_Q2[_data_Q2>0]\n",
    "_data_Q4 = data['P_over_Rc_Q4'].replace([np.inf, -np.inf], np.nan).dropna()\n",
    "_data_Q4 = _data_Q4[_data_Q4>0]"
   ]
  },
  {
   "cell_type": "code",
   "execution_count": null,
   "metadata": {},
   "outputs": [],
   "source": [
    "data.query('IC_Rc_Q1_avg>1.5 or IC_Rc_Q1_avg>1.5')['LH_P_tot'].std()"
   ]
  },
  {
   "cell_type": "code",
   "execution_count": null,
   "metadata": {},
   "outputs": [],
   "source": [
    "fig, ax = plt.subplots()\n",
    "data.plot('IC_Rc_Q1_avg', 'IC_P_Q1', kind='scatter', ax=ax, color='C0', label='Q1')\n",
    "data.plot('IC_Rc_Q2_avg', 'IC_P_Q2', kind='scatter', ax=ax, color='C1', label='Q2')\n",
    "#data.plot('IC_Rc_Q4_avg', 'IC_P_Q4', kind='scatter', ax=ax, color='C2', label='Q4')\n",
    "ax.set_xlabel('Average Coupling Resistance [Ohm]')\n",
    "ax.set_ylabel('Coupled Power/antenna [MW]')\n"
   ]
  },
  {
   "cell_type": "code",
   "execution_count": null,
   "metadata": {},
   "outputs": [],
   "source": [
    "data['IC_Rc_Q1_avg'].hist(bins=100)"
   ]
  },
  {
   "cell_type": "code",
   "execution_count": null,
   "metadata": {},
   "outputs": [],
   "source": [
    "fig, ax = plt.subplots()\n",
    "data.query('IC_P_Q1 > 0.1').plot(kind='hist', ax=ax, y='IC_Rc_Q1_avg', bins=100, alpha=0.5)\n",
    "data.query('IC_P_Q2 > 0.1').plot(kind='hist', ax=ax, y='IC_Rc_Q2_avg', bins=100, alpha=0.5)\n",
    "data.query('IC_P_Q4 > 0.1').plot(kind='hist', ax=ax, y='IC_Rc_Q4_avg', bins=100, )\n",
    "ax.set_title('WEST C5 - ICRH Coupling')\n",
    "ax.set_xlabel('<Rc> [Ohm]')"
   ]
  },
  {
   "cell_type": "code",
   "execution_count": null,
   "metadata": {},
   "outputs": [],
   "source": [
    "data"
   ]
  },
  {
   "cell_type": "code",
   "execution_count": null,
   "metadata": {},
   "outputs": [],
   "source": [
    "pd.concat([\n",
    "    data.query('IC_P_Q1 > 0.2'),\n",
    "    data.query('IC_P_Q2 > 0.2'),\n",
    "    data.query('IC_P_Q4 > 0.2')]).drop_duplicates()\n",
    "\n",
    "\n"
   ]
  },
  {
   "cell_type": "code",
   "execution_count": null,
   "metadata": {},
   "outputs": [],
   "source": [
    "# Cumulated data\n",
    "avg_Rc = np.r_[data.query('IC_P_Q1 > 0.2')['IC_Rc_Q1_avg'].values,\n",
    "     data.query('IC_P_Q2 > 0.2')['IC_Rc_Q2_avg'].values,\n",
    "     data.query('IC_P_Q4 > 0.2')['IC_Rc_Q4_avg'].values\n",
    "     ]\n",
    "avg_Rc = avg_Rc[~np.isnan(avg_Rc)]\n",
    "avg_Rc = avg_Rc[avg_Rc>0.1]"
   ]
  },
  {
   "cell_type": "code",
   "execution_count": null,
   "metadata": {},
   "outputs": [],
   "source": [
    "fig, ax = plt.subplots()\n",
    "sns.histplot(avg_Rc, ax=ax, binwidth=0.05, stat='percent')\n",
    "ax.set_xlabel('< $R_c$ > [$\\Omega$]')\n",
    "ax.set_title(f'WEST 2021 - ICRH Coupling ({len(avg_Rc)} points)')"
   ]
  },
  {
   "cell_type": "code",
   "execution_count": null,
   "metadata": {},
   "outputs": [],
   "source": [
    "fig, ax = plt.subplots()\n",
    "data.query('IC_P_Q1 > 0.1').plot(kind='hist', ax=ax, y='IC_Rc_Q1_avg', bins=100, alpha=0.5)\n",
    "data.query('IC_P_Q2 > 0.1').plot(kind='hist', ax=ax, y='IC_Rc_Q2_avg', bins=100, alpha=0.5)\n",
    "data.query('IC_P_Q4 > 0.1').plot(kind='hist', ax=ax, y='IC_Rc_Q4_avg', bins=100, )\n",
    "\n"
   ]
  },
  {
   "cell_type": "markdown",
   "metadata": {},
   "source": [
    "# Electric Field vs Xpoint"
   ]
  },
  {
   "cell_type": "code",
   "execution_count": null,
   "metadata": {},
   "outputs": [],
   "source": [
    "data['IC_Voltage_ratio_upper_lower_Q1_left'] = data['IC_Voltage_left_upper_Q1']/data['IC_Voltage_left_lower_Q1']\n",
    "data['IC_Voltage_ratio_upper_lower_Q1_right'] = data['IC_Voltage_right_upper_Q1']/data['IC_Voltage_right_lower_Q1']\n",
    "\n",
    "data['IC_Voltage_ratio_upper_lower_Q2_left'] = data['IC_Voltage_left_upper_Q2']/data['IC_Voltage_left_lower_Q2']\n",
    "data['IC_Voltage_ratio_upper_lower_Q2_right'] = data['IC_Voltage_right_upper_Q2']/data['IC_Voltage_right_lower_Q2']\n"
   ]
  },
  {
   "cell_type": "code",
   "execution_count": null,
   "metadata": {},
   "outputs": [],
   "source": [
    "_data1_LSN = data.query(\"IC_P_Q1 > 0.1 & Xpoint == 'LSN' & pulse>@phase_control_OK\").groupby('pulse')\n",
    "_data1_USN = data.query(\"IC_P_Q1 > 0.1 & Xpoint == 'USN' & pulse>@phase_control_OK\").groupby('pulse')\n",
    "_data2_LSN = data.query(\"IC_P_Q2 > 0.1 & Xpoint == 'LSN' & pulse>@phase_control_OK\").groupby('pulse')\n",
    "_data2_USN = data.query(\"IC_P_Q2 > 0.1 & Xpoint == 'USN' & pulse>@phase_control_OK\").groupby('pulse')\n",
    "\n",
    "\n",
    "fig, ax = plt.subplots()\n",
    "_data1_LSN.mean().reset_index().plot(ax=ax, kind='scatter', \n",
    "                                     x='pulse', y='IC_Voltage_ratio_upper_lower_Q1_left', \n",
    "                                     yerr=_data1_LSN.std().reset_index(),\n",
    "                                     marker='o', label='Q1 LSN')\n",
    "_data1_USN.mean().reset_index().plot(ax=ax, kind='scatter', \n",
    "                                     x='pulse', y='IC_Voltage_ratio_upper_lower_Q1_right', \n",
    "                                     yerr=_data1_USN.std().reset_index(),\n",
    "                                     marker='o', color='C1')\n",
    "\n",
    "_data1_LSN.mean().reset_index().plot(ax=ax, kind='scatter', \n",
    "                                     x='pulse', y='IC_Voltage_ratio_upper_lower_Q1_left', \n",
    "                                     yerr=_data1_LSN.std().reset_index(),\n",
    "                                     marker='^', label='Q1 USN')\n",
    "_data1_USN.mean().reset_index().plot(ax=ax, kind='scatter', \n",
    "                                     x='pulse', y='IC_Voltage_ratio_upper_lower_Q1_right', \n",
    "                                     yerr=_data1_USN.std().reset_index(),\n",
    "                                     marker='^', color='C1')\n",
    "\n",
    "_data2_LSN.mean().reset_index().plot(ax=ax, kind='scatter', \n",
    "                                     x='pulse', y='IC_Voltage_ratio_upper_lower_Q2_left', \n",
    "                                     yerr=_data2_LSN.std().reset_index(),\n",
    "                                     marker='o', label='Q2 LSN')\n",
    "_data2_USN.mean().reset_index().plot(ax=ax, kind='scatter', \n",
    "                                     x='pulse', y='IC_Voltage_ratio_upper_lower_Q2_right', \n",
    "                                     yerr=_data2_USN.std().reset_index(),\n",
    "                                     marker='o', color='C1')\n",
    "\n",
    "_data2_LSN.mean().reset_index().plot(ax=ax, kind='scatter', \n",
    "                                     x='pulse', y='IC_Voltage_ratio_upper_lower_Q2_left', \n",
    "                                     yerr=_data2_LSN.std().reset_index(),\n",
    "                                     marker='^', label='Q2 USN')\n",
    "_data2_USN.mean().reset_index().plot(ax=ax, kind='scatter', \n",
    "                                     x='pulse', y='IC_Voltage_ratio_upper_lower_Q2_right', \n",
    "                                     yerr=_data2_USN.std().reset_index(),\n",
    "                                     marker='^', color='C1')\n",
    "\n"
   ]
  },
  {
   "cell_type": "code",
   "execution_count": null,
   "metadata": {},
   "outputs": [],
   "source": [
    "pulses = data.query(\"IC_P_Q2 > 0.1 & IC_P_Q1 < 0.1 & IC_P_Q4 <0.1 & LH_P_tot < 0.1 & pulse > @phase_control_OK\")['pulse'].unique()"
   ]
  },
  {
   "cell_type": "code",
   "execution_count": null,
   "metadata": {},
   "outputs": [],
   "source": [
    "for pulse in pulses:\n",
    "    print(pulse, data.query('pulse == @pulse').groupby('pulse').max()['IC_P_Q2'].values)\n",
    "    "
   ]
  },
  {
   "cell_type": "markdown",
   "metadata": {},
   "source": [
    "# ROG Evolution"
   ]
  },
  {
   "cell_type": "code",
   "execution_count": null,
   "metadata": {},
   "outputs": [],
   "source": [
    "fig, ax = plt.subplots(figsize=(8,6))\n",
    "_data = data.query(\"P_RF>0.5 & MHD < 50 & Xpoint == 'LSN'\").groupby('pulse')\n",
    "_data.mean().reset_index().plot(ax=ax, kind='scatter',  yerr=_data.std().reset_index(),\n",
    "                                x='pulse', y='ROG', label='VACTH LSN', \n",
    "                                color='C0', alpha=0.5,  s=80)\n",
    "_data.mean().reset_index().plot(ax=ax, kind='scatter', yerr=_data.std().reset_index(),\n",
    "                                x='pulse', y='ROG_NICE', label='NICE LSN', \n",
    "                                color='C1', alpha=0.5, s=80)\n",
    "_data = data.query(\"P_RF>0.5 & MHD < 50 & Xpoint == 'USN'\").groupby('pulse')\n",
    "_data.mean().reset_index().plot(ax=ax, kind='scatter',  yerr=_data.std().reset_index(),\n",
    "                                x='pulse', y='ROG', label='VACTH USN', marker='^', edgecolor='k',\n",
    "                                color='C0', alpha=0.5,  s=80)\n",
    "_data.mean().reset_index().plot(ax=ax, kind='scatter', yerr=_data.std().reset_index(),\n",
    "                                x='pulse', y='ROG_NICE', label='NICE USN', marker='^', edgecolor='k',\n",
    "                                color='C1', alpha=0.5, s=80)\n",
    "\n",
    "ax.set_xlabel('WEST Pulse #')\n",
    "ax.set_ylabel('ROG [mm]')\n",
    "ax.set_ylim(0, 75)\n",
    "ax.set_title('Data: pulse averaged, times for RF>0.5 MW ; MHD < 50')\n",
    "ax.legend(ncol=2)"
   ]
  },
  {
   "cell_type": "markdown",
   "metadata": {},
   "source": [
    "# Phase feedback Evolution"
   ]
  },
  {
   "cell_type": "code",
   "execution_count": null,
   "metadata": {},
   "outputs": [],
   "source": [
    "fig, ax = plt.subplots()\n",
    "data.query('IC_P_Q1>0.05').plot(ax=ax, kind='scatter', \n",
    "                                x='pulse', y='IC_Phase_Q1', \n",
    "                                label='Q1', color='C0',  s=80, alpha=.5, edgecolor='k')\n",
    "data.query('IC_P_Q2>0.05').plot(ax=ax, kind='scatter', \n",
    "                                x='pulse', y='IC_Phase_Q2', \n",
    "                                label='Q2', color='C1',  s=80, alpha=.5, edgecolor='k')\n",
    "data.query('IC_P_Q4>0.05').plot(ax=ax, kind='scatter', \n",
    "                                x='pulse', y='IC_Phase_Q4', \n",
    "                                label='Q4', color='C2',  s=80, alpha=.5, edgecolor='k')\n",
    "ax.annotate('#56469: Phase Control OK', xy=(56469, 190), xytext=(56500, 250), \n",
    "            arrowprops=dict(facecolor='black'), zorder=1)\n",
    "ax.axhline(180, ls='--', color='gray', zorder=0)\n",
    "ax.set_ylabel('Toroidal Phase [deg]')\n",
    "ax.set_xlabel('WEST Pulse #')\n",
    "fig.tight_layout()"
   ]
  },
  {
   "cell_type": "code",
   "execution_count": null,
   "metadata": {},
   "outputs": [],
   "source": [
    "fig, ax = plt.subplots()\n",
    "data_Q1=data.query('IC_P_Q1>0.05').groupby('pulse')\n",
    "data_Q2=data.query('IC_P_Q2>0.05').groupby('pulse')\n",
    "data_Q4=data.query('IC_P_Q4>0.05').groupby('pulse')\n",
    "\n",
    "data_Q1.mean().reset_index().plot(ax=ax, kind='scatter', x='pulse', y='IC_Phase_Q1', label='Q1', color='C0', yerr=data_Q1.std().reset_index(), s=80, alpha=.8)\n",
    "data_Q2.mean().reset_index().plot(ax=ax, kind='scatter', x='pulse', y='IC_Phase_Q2', label='Q2', color='C1', yerr=data_Q2.std().reset_index(), s=80, alpha=.8)\n",
    "data_Q4.mean().reset_index().plot(ax=ax, kind='scatter', x='pulse', y='IC_Phase_Q4', label='Q4', color='C2', yerr=data_Q4.std().reset_index(), s=80, alpha=.8)\n",
    "ax.annotate('#56469: Phase Control OK', xy=(56469, 190), xytext=(56500, 250), \n",
    "            arrowprops=dict(facecolor='black'), zorder=1)\n",
    "ax.axhline(180, ls='--', color='gray', zorder=0)\n",
    "ax.set_title('Pulse Averaged Data')\n",
    "ax.set_ylabel('Toroidal Phase [deg]')\n",
    "ax.set_xlabel('WEST Pulse #')"
   ]
  },
  {
   "cell_type": "markdown",
   "metadata": {},
   "source": [
    "# Coupling Resistance vs..."
   ]
  },
  {
   "cell_type": "code",
   "execution_count": null,
   "metadata": {},
   "outputs": [],
   "source": [
    "fig, ax = plt.subplots()\n",
    "_data = pd.concat([data.query(\"IC_P_Q1 > 0.1 & pulse>=@phase_control_OK  \"), \n",
    "                  data.query(\"IC_P_Q1 > 0.1 & pulse>=@phase_control_OK \"), \n",
    "                  data.query(\"IC_P_Q2 > 0.1 & pulse>=@phase_control_OK & pulse>=@Q2_position_OK \"),\n",
    "                  data.query(\"IC_P_Q2 > 0.1 & pulse>=@phase_control_OK & pulse>=@Q2_position_OK \"),\n",
    "                  data.query(\"IC_P_Q4 > 0.1 & pulse>=@phase_control_OK \"),\n",
    "                  data.query(\"IC_P_Q4 > 0.1 & pulse>=@phase_control_OK \")])"
   ]
  },
  {
   "cell_type": "code",
   "execution_count": null,
   "metadata": {},
   "outputs": [],
   "source": [
    "_data"
   ]
  },
  {
   "cell_type": "code",
   "execution_count": null,
   "metadata": {},
   "outputs": [],
   "source": [
    "fig, ax = plt.subplots()\n",
    "data.query(\"IC_P_Q1 > 0.1 & pulse>=@phase_control_OK \").plot(ax=ax, kind='scatter', x='ROG_NICE', y='IC_Rc_Q1_left', color='C0', label='Q1', alpha=0.4)\n",
    "data.query(\"IC_P_Q1 > 0.1 & pulse>=@phase_control_OK \").plot(ax=ax, kind='scatter', x='ROG_NICE', y='IC_Rc_Q1_right', color='C0', alpha=0.4)\n",
    "\n",
    "data.query(\"IC_P_Q2 > 0.1 & pulse>=@phase_control_OK & pulse>=@Q2_position_OK \").plot(ax=ax, kind='scatter', x='ROG_NICE', y='IC_Rc_Q2_left', color='C1', label='Q2', alpha=0.4)\n",
    "data.query(\"IC_P_Q2 > 0.1 & pulse>=@phase_control_OK & pulse>=@Q2_position_OK \").plot(ax=ax, kind='scatter', x='ROG_NICE', y='IC_Rc_Q2_right', color='C1', alpha=0.4)\n",
    "\n",
    "data.query(\"IC_P_Q4 > 0.1 & pulse>=@phase_control_OK \").plot(ax=ax, kind='scatter', x='ROG_NICE', y='IC_Rc_Q4_left', color='C2', label='Q4', alpha=0.4)\n",
    "data.query(\"IC_P_Q4 > 0.1 & pulse>=@phase_control_OK \").plot(ax=ax, kind='scatter', x='ROG_NICE', y='IC_Rc_Q4_right', color='C2', alpha=0.4)\n",
    "\n",
    "ax.set_xlim(left=0, right=80)\n",
    "ax.set_ylabel('Coupling Resistance Rc [Ohm]')\n",
    "ax.set_title('Data: P_IC>0.1 NICE')\n",
    "#ax.scatter(x, y, color='k')"
   ]
  },
  {
   "cell_type": "code",
   "execution_count": null,
   "metadata": {},
   "outputs": [],
   "source": [
    "\n",
    "fig, ax = plt.subplots()\n",
    "data.query(\"IC_P_Q1 > 0.1 & pulse>=@phase_control_OK  \").plot(ax=ax, kind='scatter', x='ROG', y='IC_Rc_Q1_left', color='C0', label='Q1', alpha=0.4)\n",
    "data.query(\"IC_P_Q1 > 0.1 & pulse>=@phase_control_OK \").plot(ax=ax, kind='scatter', x='ROG', y='IC_Rc_Q1_right', color='C0', alpha=0.4)\n",
    "\n",
    "data.query(\"IC_P_Q2 > 0.1 & pulse>=@phase_control_OK & pulse>=@Q2_position_OK \").plot(ax=ax, kind='scatter', x='ROG', y='IC_Rc_Q2_left', color='C1', label='Q2', alpha=0.4)\n",
    "data.query(\"IC_P_Q2 > 0.1 & pulse>=@phase_control_OK & pulse>=@Q2_position_OK \").plot(ax=ax, kind='scatter', x='ROG', y='IC_Rc_Q2_right', color='C1', alpha=0.4)\n",
    "\n",
    "data.query(\"IC_P_Q4 > 0.1 & pulse>=@phase_control_OK \").plot(ax=ax, kind='scatter', x='ROG', y='IC_Rc_Q4_left', color='C2', label='Q4', alpha=0.4)\n",
    "data.query(\"IC_P_Q4 > 0.1 & pulse>=@phase_control_OK \").plot(ax=ax, kind='scatter', x='ROG', y='IC_Rc_Q4_right', color='C2', alpha=0.4)\n",
    "\n",
    "ax.set_xlim(left=0, right=30)\n",
    "ax.set_ylabel('Coupling Resistance Rc [Ohm]')\n",
    "ax.set_title('Data: P_IC>0.1 VACTH')"
   ]
  },
  {
   "cell_type": "code",
   "execution_count": null,
   "metadata": {},
   "outputs": [],
   "source": []
  },
  {
   "cell_type": "markdown",
   "metadata": {},
   "source": [
    "# Radiated Power Evolution"
   ]
  },
  {
   "cell_type": "code",
   "execution_count": null,
   "metadata": {},
   "outputs": [],
   "source": [
    "fig, ax = plt.subplots()\n",
    "datagrp_LSN = data.query(\"Prad_imas>0 & P_RF > 0.5 & pulse > @post_boro[1] & Xpoint == 'LSN'\").groupby('pulse')\n",
    "datagrp_USN = data.query(\"Prad_imas>0 & P_RF > 0.5 & pulse > @post_boro[1] & Xpoint == 'USN'\").groupby('pulse')\n",
    "\n",
    "cbar=datagrp_LSN.mean().reset_index().plot(ax=ax, kind='scatter', x='Ptot', y='Prad_imas', alpha=0.6, edgecolor='k',\n",
    "                               c='ratio_Pic_Plh', cmap='plasma', yerr=datagrp_LSN.std(), s=60, vmin=0, vmax=1)\n",
    "datagrp_USN.mean().reset_index().plot(ax=ax, kind='scatter', x='Ptot', y='Prad_imas', alpha=0.6, edgecolor='k',\n",
    "                               c='ratio_Pic_Plh', cmap='plasma', yerr=datagrp_USN.std(), s=60, marker='^', colorbar=False, vmin=0, vmax=1)\n",
    "ax.legend(('LSN', 'USN'))\n",
    "ax.plot([0,7], [0, 0.5*7], ls='--', color='k', zorder=-10)\n",
    "ax.plot([0,7], [0, 0.4*7], ls='--', color='grey', zorder=-10)\n",
    "ax.plot([0,7], [0, 0.6*7], ls='--', color='grey', zorder=-10)\n",
    "ax.set_xlim(left=0, right=6)\n",
    "ax.set_ylim(bottom=0, top=4)\n",
    "ax.set_title('P_RF > 0.5')\n",
    "ax.text(5.5, 2.3, '40%', rotation=30)\n",
    "ax.text(5.5, 2.9, '50%', rotation=35)\n",
    "ax.text(5.5, 3.4, '60%', rotation=40)\n",
    "\n",
    "ax.set_ylabel('Radiated Power [MW]')\n",
    "ax.set_xlabel('Total Power (Ohmic+RF) [MW]')\n",
    "ax.set_title('WEST - January 2021 (pulse average for RF>0.5MW)')\n",
    "cbar.set_label('$P_{ic}/P_{lh}$')"
   ]
  },
  {
   "cell_type": "code",
   "execution_count": null,
   "metadata": {},
   "outputs": [],
   "source": [
    "data['frad_tot']= data['Prad_imas']/data['Ptot']\n",
    "\n",
    "#_data_C4_LSN = data_C4.query(\"Prad_imas>0 & P_RF > 0.5 & pulse > @post_boro[1] & Xpoint == 'LSN'\")\n",
    "#_data_C4_USN = data_C4.query(\"Prad_imas>0 & P_RF > 0.5 & pulse > @post_boro[1] & Xpoint == 'USN'\")\n",
    "_data_C5_LSN = data.query(\"Prad_imas>0 & P_RF > 0.5 & pulse > @post_boro[1] & Xpoint == 'LSN'\").groupby('pulse')\n",
    "_data_C5_USN = data.query(\"Prad_imas>0 & P_RF > 0.5 & pulse > @post_boro[1] & Xpoint == 'USN'\").groupby('pulse')\n",
    "\n",
    "\n",
    "fig, ax = plt.subplots()\n",
    "_data_C5_LSN.mean().plot(ax=ax, kind='scatter', x='ratio_Pic_Plh', y='frad_tot', s=60, xerr=_data_C5_LSN.std(), yerr=_data_C5_LSN.std())\n",
    "_data_C5_USN.mean().plot(ax=ax, kind='scatter', x='ratio_Pic_Plh', y='frad_tot', marker='^', s=60, xerr=_data_C5_USN.std(), yerr=_data_C5_USN.std())\n",
    "\n",
    "ax.set_xlim(left=0, right=1)"
   ]
  },
  {
   "cell_type": "code",
   "execution_count": null,
   "metadata": {},
   "outputs": [],
   "source": []
  },
  {
   "cell_type": "markdown",
   "metadata": {},
   "source": [
    "# Coupling Resistance Evolution"
   ]
  },
  {
   "cell_type": "code",
   "execution_count": null,
   "metadata": {},
   "outputs": [],
   "source": [
    "# means and errors values for each pulse\n",
    "data_means = data.query('IC_P_tot > 0.2').groupby('pulse').mean().reset_index()\n",
    "data_errors = data.query('IC_P_tot > 0.2').groupby('pulse').std().reset_index()\n",
    "\n",
    "fig, ax = plt.subplots()\n",
    "\n",
    "data_means.plot(kind='scatter', ax=ax, x='pulse_relative', y='IC_Q1_Rc_left_over_right', label='Q1', yerr=data_errors, color='C0')\n",
    "data_means.plot(kind='scatter', ax=ax, x='pulse_relative', y='IC_Q2_Rc_left_over_right', label='Q2', yerr=data_errors, color='C1')\n",
    "data_means.plot(kind='scatter', ax=ax, x='pulse_relative', y='IC_Q4_Rc_left_over_right', label='Q4', yerr=data_errors, color='C2')\n",
    "\n",
    "ax.set_ylim(bottom=0, top=2.5)\n",
    "ax.set_ylabel('Rc left / Rc right')\n"
   ]
  },
  {
   "cell_type": "code",
   "execution_count": null,
   "metadata": {},
   "outputs": [],
   "source": [
    "fig, ax = plt.subplots()\n",
    "\n",
    "data.plot(kind='scatter', ax=ax, x='pulse', y='IC_Q1_Rc_left_over_right', label='Q1', color='C0', alpha=0.5)\n",
    "data.plot(kind='scatter', ax=ax, x='pulse', y='IC_Q2_Rc_left_over_right', label='Q2', color='C1', alpha=0.5)\n",
    "data.plot(kind='scatter', ax=ax, x='pulse', y='IC_Q4_Rc_left_over_right', label='Q4', color='C2', alpha=0.5)\n",
    "\n",
    "ax.set_ylim(bottom=0, top=2.5)\n",
    "ax.set_ylabel('Rc left / Rc right')"
   ]
  },
  {
   "cell_type": "code",
   "execution_count": null,
   "metadata": {},
   "outputs": [],
   "source": [
    "fig, ax = plt.subplots(3,1,sharex=True)\n",
    "sns.violinplot(ax=ax[0], x='IC_Q1_Rc_left_over_right', data=data.query('IC_P_Q1 > 0.2 & pulse >= @phase_control_OK'), color='C0', inner=None, label='Q1')\n",
    "sns.violinplot(ax=ax[1], x='IC_Q2_Rc_left_over_right', data=data.query('IC_P_Q2 > 0.2 & pulse >= @phase_control_OK & pulse < @Q2_position_OK'), color='C1', inner=None, label='Q2')\n",
    "sns.violinplot(ax=ax[1], x='IC_Q2_Rc_left_over_right', data=data.query('IC_P_Q2 > 0.2 & pulse >= @phase_control_OK & pulse >= @Q2_position_OK'), color='orange', inner=None, label='Q2 Position Corrected', alpha=0.1)\n",
    "sns.violinplot(ax=ax[2], x='IC_Q4_Rc_left_over_right', data=data.query('IC_P_Q4 > 0.2'), color='C2', inner=None, label='Q4')\n",
    "ax[0].set_xlim(0, 2) \n",
    "fig.subplots_adjust(hspace=0)\n",
    "ax[0].set_xlabel(''); ax[1].set_ylabel('')\n",
    "ax[-1].set_xlabel('Rc left / Rc right')\n",
    "[a.legend([f'Q{ant}']) for a,ant in zip(ax, ['1', '2', '4'])]\n",
    "[a.axvline(1, ls='--', color='gray') for a in ax]"
   ]
  },
  {
   "cell_type": "markdown",
   "metadata": {},
   "source": [
    "# Impurity Content Evolution"
   ]
  },
  {
   "cell_type": "code",
   "execution_count": null,
   "metadata": {},
   "outputs": [],
   "source": [
    "# means and errors values for each pulse\n",
    "data_means = data.query('P_RF>0.2').groupby('pulse').mean().reset_index()\n",
    "data_errors = data.query('P_RF>0.2').groupby('pulse').std().reset_index()\n",
    "\n",
    "fig, ax = plt.subplots(3, 1, sharex=True)\n",
    "\n",
    "data_means.plot(ax=ax[0], kind='scatter', \n",
    "                x='pulse_relative', y='Cu_norm', yerr=data_errors,\n",
    "               color='darkorange', label='Cu/nl', s=60, edgecolor='k', alpha=0.7)\n",
    "\n",
    "data_means.plot(ax=ax[1], kind='scatter', \n",
    "                x='pulse_relative', y='Fe_norm', yerr=data_errors,\n",
    "               color='lightgray', label='Fe/nl', s=60, edgecolor='k', alpha=0.7)\n",
    "data_means.plot(ax=ax[2], kind='scatter', \n",
    "                x='pulse_relative', y='Ag19_norm', yerr=data_errors,\n",
    "               color='lightblue', label='Ag19/nl', s=60, edgecolor='k', alpha=0.7)\n",
    "\n",
    "\n",
    "ax[0].set_title('$P_{RF}$ > 0.2 MW')\n",
    "[a.set_ylim(bottom=0) for a in ax]\n",
    "\n",
    "[[a.axvline(shot-first_C5_pulse, ls='--', color='gray') for shot in post_boro] for a in ax]\n",
    "[a.axvline(january_restart-first_C5_pulse, ls='-.', color='gray') for a in ax]\n",
    "ax[0].annotate('Christmas Break', xy=(56544-first_C5_pulse, 300), xytext=(200, 350), \n",
    "            arrowprops=dict(facecolor='black'))\n",
    "\n",
    "ax[0].annotate('Boro', xy=(56597-first_C5_pulse, 300), xytext=(400, 350), \n",
    "            arrowprops=dict(facecolor='black'))\n",
    "ax[0].set_ylim(0,300)\n",
    "ax[1].set_ylim(0,30)\n",
    "ax[2].set_ylim(0,70)\n",
    "\n",
    "[a.set_ylabel('a.u.') for a in ax]\n",
    "# liste des chocs avec puissance FCI\n",
    "IC_pulses = data.query('IC_P_tot > 0.2')['pulse'].unique()\n",
    "for IC_pulse in IC_pulses:\n",
    "    [a.axvline(IC_pulse-first_C5_pulse, ls='-', color='gray', alpha=0.2) for a in ax]"
   ]
  },
  {
   "cell_type": "markdown",
   "metadata": {},
   "source": [
    "# Isotopic Ratio vs ..."
   ]
  },
  {
   "cell_type": "code",
   "execution_count": null,
   "metadata": {},
   "outputs": [],
   "source": [
    "fig, ax = plt.subplots()\n",
    "# Boros : 56247, 56641\n",
    "data_LH_only=data.query(\"LH_P_tot > 0.3 & IC_P_tot < 0.05 & Cu_norm > 0 & pulse > @january_restart & Xpoint == 'USN'\").groupby('pulse')\n",
    "data_IC_only=data.query(\"LH_P_tot < 0.3 & IC_P_tot > 0.3 & Cu_norm > 0 & pulse > @january_restart & Xpoint == 'USN'\").groupby('pulse')\n",
    "data_LH_and_IC=data.query(\"LH_P_tot > 0.3 & IC_P_tot > 0.3 & Cu_norm > 0 & pulse > @january_restart & Xpoint == 'USN'\").groupby('pulse')\n",
    "\n",
    "data_LH_only.mean().plot(ax=ax, kind='scatter',\n",
    "            x='P_RF', y='Cu_norm', yerr=data_LH_only.std(),\n",
    "            cmap='plasma', s=40, alpha=0.6, label='C5 experiments LH only', colorbar=False)\n",
    "\n",
    "data_LH_and_IC.mean().plot(ax=ax, kind='scatter',\n",
    "            x='P_RF', y='Cu_norm', color='C1', yerr=data_LH_and_IC.std(),\n",
    "            cmap='plasma', alpha=0.6, s=100, marker='d', label='C5 experiments LH+IC', colorbar=False, edgecolor='k')\n",
    "\n",
    "data_IC_only.mean().plot(ax=ax, kind='scatter',\n",
    "            x='P_RF', y='Cu_norm', color='C2', yerr=data_IC_only.std(),\n",
    "            cmap='plasma', alpha=0.6, s=100, marker='o', label='C5 experiments IC only', colorbar=False, edgecolor='k')\n",
    "\n",
    "# ax.set_xscale('log')\n",
    "ax.set_title('pulse average / USN')\n",
    "ax.set_ylim(bottom=0, top=400)\n",
    "ax.set_ylabel('Cu/nl [a.u.]')\n",
    "ax.set_xlabel('RF Power [MW]')"
   ]
  },
  {
   "cell_type": "code",
   "execution_count": null,
   "metadata": {},
   "outputs": [],
   "source": [
    "fig, ax = plt.subplots()\n",
    "# Boros : 56247, 56641\n",
    "data_LH_only=data.query(\"LH_P_tot > 0.3 & IC_P_tot < 0.05 & Cu_norm > 0 & pulse > @january_restart & Xpoint == 'LSN'\").groupby('pulse')\n",
    "data_IC_only=data.query(\"LH_P_tot < 0.3 & IC_P_tot > 0.3 & Cu_norm > 0 & pulse > @january_restart & Xpoint == 'LSN'\").groupby('pulse')\n",
    "data_LH_and_IC=data.query(\"LH_P_tot > 0.3 & IC_P_tot > 0.3 & Cu_norm > 0 & pulse > @january_restart & Xpoint == 'LSN'\").groupby('pulse')\n",
    "\n",
    "data_LH_only.mean().plot(ax=ax, kind='scatter',\n",
    "            x='P_RF', y='Cu_norm', yerr=data_LH_only.std(),\n",
    "            cmap='plasma', s=40, alpha=0.6, label='C5 experiments LH only', colorbar=False)\n",
    "\n",
    "data_LH_and_IC.mean().plot(ax=ax, kind='scatter',\n",
    "            x='P_RF', y='Cu_norm', color='C1', yerr=data_LH_and_IC.std(),\n",
    "            cmap='plasma', alpha=0.6, s=100, marker='d', label='C5 experiments LH+IC', colorbar=False, edgecolor='k')\n",
    "\n",
    "data_IC_only.mean().plot(ax=ax, kind='scatter',\n",
    "            x='P_RF', y='Cu_norm', color='C2', yerr=data_IC_only.std(),\n",
    "            cmap='plasma', alpha=0.6, s=100, marker='o', label='C5 experiments IC only', colorbar=False, edgecolor='k')\n",
    "\n",
    "# ax.set_xscale('log')\n",
    "ax.set_title('pulse average / LSN')\n",
    "ax.set_ylim(bottom=0, top=400)\n",
    "ax.set_ylabel('Cu/nl [a.u.]')\n",
    "ax.set_xlabel('RF Power [MW]')"
   ]
  },
  {
   "cell_type": "code",
   "execution_count": null,
   "metadata": {},
   "outputs": [],
   "source": [
    "data_LH_and_IC.mean().reset_index().query('Cu_norm < 170 & P_RF > 3.5')['pulse']"
   ]
  },
  {
   "cell_type": "code",
   "execution_count": null,
   "metadata": {},
   "outputs": [],
   "source": [
    "fig, ax = plt.subplots(1,2,sharey=True)\n",
    "# Boros : 56247, 56641\n",
    "data.query(f'IC_P_tot > 0.3 & Cu_norm > 10  & `Isotopic Ratio INBUM04`>0 & MHD < 50').plot(ax=ax[0], kind='scatter', \n",
    "                                x='Isotopic Ratio INBUM04', y='Cu_norm', \n",
    "                                c='LH_P_tot', cmap='plasma', alpha=0.8, s=40, label='C5 experiments with ICRH', colorbar=False)\n",
    "data.query(f'IC_P_tot > 0.3 & Cu_norm > 10  & `Isotopic Ratio LODIVOU15`>0 & MHD < 50').plot(ax=ax[1], kind='scatter', \n",
    "                                x='Isotopic Ratio LODIVOU15', y='Cu_norm', \n",
    "                                c='LH_P_tot', cmap='plasma', alpha=0.8, s=40, label='C5 experiments with ICRH', colorbar=False)\n",
    "im = plt.gca().get_children()[0]\n",
    "cax = fig.add_axes([0.92,0.1,0.02,0.8]) \n",
    "fig.colorbar(im, cax=cax, label='LH Power [MW]')\n",
    "fig.suptitle('data for: $P_{IC}>0.3$MW ; MHD < 50')\n",
    "[a.set_xlim(0, 25) for a in ax]\n",
    "[a.set_ylim(bottom=0, top=500) for a in ax]\n",
    "[a.legend(loc='upper center') for a in ax]\n",
    "[a.set_ylabel('$Cu/n_l$ [a.u.]') for a in ax]\n",
    "fig.subplots_adjust(wspace=0.05, left=.08)\n",
    "#fig.tight_layout()\n"
   ]
  },
  {
   "cell_type": "code",
   "execution_count": null,
   "metadata": {},
   "outputs": [],
   "source": [
    "fig, ax = plt.subplots(1,2,sharey=True,sharex=True)\n",
    "# INBUM04 ou LODIVOU15\n",
    "\n",
    "# Boros : 56247, 56641\n",
    "data_means = data.query(f'P_RF > 0.3 & Cu_norm > 10 & pulse > 56450 & `Isotopic Ratio INBUM04`>0').groupby('pulse').mean().reset_index()\n",
    "data_errors = data.query(f'P_RF > 0.3 & Cu_norm > 10 & pulse > 56450 &  `Isotopic Ratio INBUM04`>0').groupby('pulse').std().reset_index()\n",
    "\n",
    "data_means.plot(ax=ax[0], kind='scatter', \n",
    "                                x='Isotopic Ratio INBUM04', y='Cu_norm', yerr=data_errors,\n",
    "                                c='ratio_Pic_Plh', cmap='plasma', alpha=0.8,  s=50, label='Before Chrismas Break', colorbar=False, vmin=0, vmax=1)\n",
    "data_means.plot(ax=ax[1], kind='scatter', \n",
    "                                x='Isotopic Ratio LODIVOU15', y='Cu_norm', yerr=data_errors,\n",
    "                                c='ratio_Pic_Plh', cmap='plasma', alpha=0.8, s=50, label='Before Chrismas Break', colorbar=False, vmin=0, vmax=1)\n",
    "im = plt.gca().get_children()[0]\n",
    "cax = fig.add_axes([0.91,0.1,0.02,0.88]) \n",
    "fig.colorbar(im, cax=cax, label='$P_{IC}/P_{LH}$')\n",
    "fig.suptitle('data for $P_{RF} > 0.3$ MW ; size proportional to $P_{IC}$')\n",
    "[a.set_xlim(0, 30) for a in ax]\n",
    "[a.set_ylim(bottom=0, top=450) for a in ax]\n",
    "[a.legend(loc='upper center') for a in ax]\n",
    "[a.set_ylabel('$Cu/n_l$') for a in ax]\n",
    "fig.subplots_adjust(wspace=0.05, left=0.08, top=0.92)\n",
    "#fig.tight_layout()"
   ]
  },
  {
   "cell_type": "code",
   "execution_count": null,
   "metadata": {},
   "outputs": [],
   "source": [
    "fig, ax = plt.subplots(1,2,sharey=True,sharex=True)\n",
    "# INBUM04 ou LODIVOU15\n",
    "\n",
    "# Boros : 56247, 56641\n",
    "data_means = data.query(f'P_RF > 0.3 & Cu_norm > 10 & pulse < {january_restart} & `Isotopic Ratio INBUM04`>0').groupby('pulse').mean().reset_index()\n",
    "data_errors = data.query(f'P_RF > 0.3 & Cu_norm > 10 & pulse < {january_restart} & `Isotopic Ratio INBUM04`>0').groupby('pulse').std().reset_index()\n",
    "\n",
    "data_means.plot(ax=ax[0], kind='scatter', \n",
    "                                x='Isotopic Ratio INBUM04', y='Cu_norm', yerr=data_errors,\n",
    "                                c='P_RF', cmap='plasma', alpha=0.8,  s=(60+1000*data_means.replace([np.inf, -np.inf], 0)['IC_P_tot']**2), label='Before Chrismas Break', colorbar=False)\n",
    "data_means.plot(ax=ax[1], kind='scatter', \n",
    "                                x='Isotopic Ratio LODIVOU15', y='Cu_norm', yerr=data_errors,\n",
    "                                c='P_RF', cmap='plasma', alpha=0.8, s=(60+1000*data_means.replace([np.inf, -np.inf], 0)['IC_P_tot']**2), label='Before Chrismas Break', colorbar=False)\n",
    "im = plt.gca().get_children()[0]\n",
    "cax = fig.add_axes([0.91,0.1,0.02,0.88]) \n",
    "fig.colorbar(im, cax=cax, label='$P_{RF}$ [MW]')\n",
    "fig.suptitle('data for $P_{RF} > 0.3$ MW ; size proportional to $P_{IC}$')\n",
    "[a.set_xlim(0, 30) for a in ax]\n",
    "[a.set_ylim(bottom=0, top=450) for a in ax]\n",
    "[a.legend(loc='upper center') for a in ax]\n",
    "[a.set_ylabel('$Cu/n_l$') for a in ax]\n",
    "fig.subplots_adjust(wspace=0.05, left=0.08, top=0.92)\n",
    "#fig.tight_layout()"
   ]
  },
  {
   "cell_type": "code",
   "execution_count": null,
   "metadata": {},
   "outputs": [],
   "source": [
    "fig, ax = plt.subplots(1,2,sharey=True,sharex=True)\n",
    "# INBUM04 ou LODIVOU15\n",
    "\n",
    "# Boros : 56247, 56641\n",
    "data_means = data.query(f'P_RF > 0.3 & Cu_norm > 10 & pulse > {post_boro[1]} & `Isotopic Ratio INBUM04`>0').groupby('pulse').mean().reset_index()\n",
    "data_errors = data.query(f'P_RF > 0.3 & Cu_norm > 10 & pulse > {post_boro[1]} & `Isotopic Ratio INBUM04`>0').groupby('pulse').std().reset_index()\n",
    "\n",
    "data_means.plot(ax=ax[0], kind='scatter', \n",
    "                                x='Isotopic Ratio INBUM04', y='Cu_norm', yerr=data_errors,\n",
    "                                c='P_RF', cmap='plasma', alpha=0.8,  s=(60+100*data_means.replace([np.inf, -np.inf], 0)['IC_P_tot']**2), label='After Chrismas Break', colorbar=False)\n",
    "data_means.plot(ax=ax[1], kind='scatter', \n",
    "                                x='Isotopic Ratio LODIVOU15', y='Cu_norm', yerr=data_errors,\n",
    "                                c='P_RF', cmap='plasma', alpha=0.8, s=(60+100*data_means.replace([np.inf, -np.inf], 0)['IC_P_tot']**2), label='After Chrismas Break', colorbar=False)\n",
    "im = plt.gca().get_children()[0]\n",
    "cax = fig.add_axes([0.91,0.1,0.02,0.88]) \n",
    "fig.colorbar(im, cax=cax, label='$P_{RF}$ [MW]')\n",
    "fig.suptitle('data for $P_{RF} > 0.3$ MW ; size proportional to $P_{IC}/P_{LH}$')\n",
    "[a.set_xlim(0, 12) for a in ax]\n",
    "[a.set_ylim(bottom=0, top=450) for a in ax]\n",
    "[a.legend(loc='upper center') for a in ax]\n",
    "[a.set_ylabel('$Cu/n_l$') for a in ax]\n",
    "fig.subplots_adjust(wspace=0.05, left=0.08, top=0.92)\n",
    "#fig.tight_layout()"
   ]
  },
  {
   "cell_type": "code",
   "execution_count": null,
   "metadata": {},
   "outputs": [],
   "source": [
    "fig, ax = plt.subplots(1,2,sharey=True,sharex=True)\n",
    "# INBUM04 ou LODIVOU15\n",
    "\n",
    "# Boros : 56247, 56641\n",
    "data_means = data.query(f'P_RF > 0.3 & Cu_norm > 10 & pulse < {january_restart} & `Isotopic Ratio INBUM04`>0').groupby('pulse').mean().reset_index()\n",
    "data_errors = data.query(f'P_RF > 0.3 & Cu_norm > 10 & pulse < {january_restart} & `Isotopic Ratio INBUM04`>0').groupby('pulse').std().reset_index()\n",
    "\n",
    "data_means.plot(ax=ax[0], kind='scatter', \n",
    "                                x='Isotopic Ratio INBUM04', y='Cu_norm_nl_RF', yerr=data_errors,\n",
    "                                c='P_RF', cmap='plasma', alpha=0.8, label='Before Chrismas Break', colorbar=False, s=(60+1000*data_means['IC_P_tot']**2))\n",
    "data_means.plot(ax=ax[1], kind='scatter', \n",
    "                                x='Isotopic Ratio LODIVOU15', y='Cu_norm_nl_RF', yerr=data_errors,\n",
    "                                c='P_RF', cmap='plasma', alpha=0.8,  label='Before Chrismas Break', colorbar=False, s=(60+1000*data_means['IC_P_tot']**2))\n",
    "im = plt.gca().get_children()[0]\n",
    "cax = fig.add_axes([0.91,0.1,0.02,0.88]) \n",
    "fig.colorbar(im, cax=cax)\n",
    "fig.suptitle('$P_{RF} > 0.3$ MW ; colorbar: P_RF ; size: P_IC')\n",
    "[a.set_xlim(0, 30) for a in ax]\n",
    "[a.set_ylim(bottom=0, top=200) for a in ax]\n",
    "[a.legend(loc='upper center') for a in ax]\n",
    "[a.set_ylabel('$Cu/n_l/P_{RF}$ [a.u.]') for a in ax]\n",
    "fig.subplots_adjust(wspace=0.05, left=0.08, top=0.92)\n",
    "#fig.tight_layout()"
   ]
  },
  {
   "cell_type": "code",
   "execution_count": null,
   "metadata": {},
   "outputs": [],
   "source": [
    "fig, ax = plt.subplots(1,2,sharey=True,sharex=True)\n",
    "# INBUM04 ou LODIVOU15\n",
    "\n",
    "# Boros : 56247, 56641\n",
    "data_means = data.query(f'P_RF > 0.3 & Cu_norm > 10 & pulse > {january_restart} & `Isotopic Ratio INBUM04`>0').groupby('pulse').mean().reset_index()\n",
    "data_errors = data.query(f'P_RF > 0.3 & Cu_norm > 10 & pulse > {january_restart} & `Isotopic Ratio INBUM04`>0').groupby('pulse').std().reset_index()\n",
    "\n",
    "data_means.plot(ax=ax[0], kind='scatter', \n",
    "                                x='Isotopic Ratio INBUM04', y='Cu_norm_nl_RF', yerr=data_errors,\n",
    "                                c='P_RF', cmap='plasma', alpha=0.8, label='After Chrismas Break', colorbar=False, s=(60+100*data_means['IC_P_tot']**2))\n",
    "data_means.plot(ax=ax[1], kind='scatter', \n",
    "                                x='Isotopic Ratio LODIVOU15', y='Cu_norm_nl_RF', yerr=data_errors,\n",
    "                                c='P_RF', cmap='plasma', alpha=0.8,  label='After Chrismas Break', colorbar=False, s=(60+100*data_means['IC_P_tot']**2))\n",
    "im = plt.gca().get_children()[0]\n",
    "cax = fig.add_axes([0.91,0.1,0.02,0.88]) \n",
    "fig.colorbar(im, cax=cax)\n",
    "fig.suptitle('$P_{RF} > 0.3$ MW ; colorbar: P_RF ; size: P_IC')\n",
    "[a.set_xlim(0, 20) for a in ax]\n",
    "[a.set_ylim(bottom=0, top=200) for a in ax]\n",
    "[a.legend(loc='upper center') for a in ax]\n",
    "[a.set_ylabel('$Cu/n_l/P_{RF}$ [a.u.]') for a in ax]\n",
    "fig.subplots_adjust(wspace=0.05, left=0.08, top=0.92)\n",
    "#fig.tight_layout()"
   ]
  },
  {
   "cell_type": "code",
   "execution_count": null,
   "metadata": {},
   "outputs": [],
   "source": [
    "fig, ax = plt.subplots(1,2,sharey=True,sharex=True)\n",
    "# INBUM04 ou LODIVOU15\n",
    "\n",
    "# Boros : 56247, 56641\n",
    "data.query(f'P_RF > 0.3 & Cu_norm > 10 & pulse < {january_restart} & `Isotopic Ratio INBUM04`>0').plot(ax=ax[0], kind='scatter', \n",
    "                                x='Isotopic Ratio INBUM04', y='Cu_norm_nl_IC', \n",
    "                                c='pulse', cmap='plasma', alpha=0.8, s=40, label='Before Chrismas Break', colorbar=False)\n",
    "data.query(f'P_RF > 0.3 & Cu_norm > 10 & pulse < {january_restart} & `Isotopic Ratio INBUM04`>0').plot(ax=ax[1], kind='scatter', \n",
    "                                x='Isotopic Ratio LODIVOU15', y='Cu_norm_nl_IC', \n",
    "                                c='pulse', cmap='plasma', alpha=0.8, s=40, label='Before Chrismas Break', colorbar=False)\n",
    "im = plt.gca().get_children()[0]\n",
    "cax = fig.add_axes([0.91,0.1,0.02,0.88]) \n",
    "fig.colorbar(im, cax=cax)\n",
    "fig.suptitle('$P_{RF} > 0.3$ MW')\n",
    "[a.set_xlim(0, 30) for a in ax]\n",
    "[a.set_ylim(bottom=0, top=450) for a in ax]\n",
    "[a.legend(loc='upper center') for a in ax]\n",
    "[a.set_ylabel('$Cu/n_l/P_{IC}$') for a in ax]\n",
    "fig.subplots_adjust(wspace=0.05, left=0.08, top=0.92)\n",
    "#fig.tight_layout()"
   ]
  },
  {
   "cell_type": "code",
   "execution_count": null,
   "metadata": {},
   "outputs": [],
   "source": [
    "fig, ax = plt.subplots(1,2,sharey=True,sharex=True)\n",
    "# INBUM04 ou LODIVOU15\n",
    "\n",
    "# Boros : 56247, 56641\n",
    "data.query(f'P_RF > 0.3 & Cu_norm > 10 & pulse > {post_boro[1]} & `Isotopic Ratio INBUM04`>0').plot(ax=ax[0], kind='scatter', \n",
    "                                x='Isotopic Ratio INBUM04', y='Cu_norm_nl_IC', \n",
    "                                c='pulse', cmap='plasma', alpha=0.8, s=40, label='After Boro', colorbar=False)\n",
    "data.query(f'P_RF > 0.3 & Cu_norm > 10 & pulse > {post_boro[1]} & `Isotopic Ratio INBUM04`>0').plot(ax=ax[1], kind='scatter', \n",
    "                                x='Isotopic Ratio LODIVOU15', y='Cu_norm_nl_IC', \n",
    "                                c='pulse', cmap='plasma', alpha=0.8, s=40, label='After Boro', colorbar=False)\n",
    "im = plt.gca().get_children()[0]\n",
    "cax = fig.add_axes([0.91,0.1,0.02,0.88]) \n",
    "fig.colorbar(im, cax=cax)\n",
    "fig.suptitle('$P_{RF} > 0.3$ MW')\n",
    "[a.set_xlim(0, 20) for a in ax]\n",
    "[a.set_ylim(bottom=0, top=450) for a in ax]\n",
    "[a.legend(loc='upper center') for a in ax]\n",
    "[a.set_ylabel('$Cu/n_l/P_{IC}$') for a in ax]\n",
    "fig.subplots_adjust(wspace=0.05, left=0.08, top=0.92)\n",
    "#fig.tight_layout()"
   ]
  },
  {
   "cell_type": "code",
   "execution_count": null,
   "metadata": {},
   "outputs": [],
   "source": [
    "data_means = data.query('P_RF > 0.3 & Cu_norm > 10').groupby('pulse').mean().reset_index()\n",
    "data_errors = data.query('P_RF > 0.3 & Cu_norm > 10').groupby('pulse').std().reset_index()"
   ]
  },
  {
   "cell_type": "code",
   "execution_count": null,
   "metadata": {},
   "outputs": [],
   "source": [
    "fig, ax = plt.subplots()\n",
    "# INBUM04 ou LODIVOU15\n",
    "\n",
    "# Boros : 56247, 56641\n",
    "data.query(f'P_RF > 0.3 & Cu_norm > 10 & pulse < {january_restart}').plot(ax=ax, kind='scatter', \n",
    "                                y='Cu_norm', x='P_RF', \n",
    "                                c='ratio_Pic_Plh', cmap='plasma', alpha=0.8, s=40, label='Before Chrismas Break', colorbar=False, vmin=0, vmax=1)\n",
    "m = plt.gca().get_children()[0]\n",
    "cax = fig.add_axes([0.92,0.1,0.02,0.8]) \n",
    "fig.colorbar(im, cax=cax)\n",
    "\n",
    "ax.set_xlim(0, 6)\n",
    "ax.legend(loc='upper center')\n",
    "ax.set_ylabel('$Cu/n_l$')\n",
    "ax.set_xlabel('$P_{RF}$ [MW]')\n",
    "fig.suptitle('$P_{RF}$>0.3MW - Color: $P_{IC}/P_{LH}$')\n",
    "fig.subplots_adjust(wspace=0.05)\n",
    "\n",
    "#fig.tight_layout()"
   ]
  },
  {
   "cell_type": "code",
   "execution_count": null,
   "metadata": {},
   "outputs": [],
   "source": [
    "fig, ax = plt.subplots()\n",
    "# INBUM04 ou LODIVOU15\n",
    "\n",
    "# Boros : 56247, 56641\n",
    "data_means.query(f'pulse < {january_restart}').plot(ax=ax, kind='scatter', \n",
    "                                y='Cu_norm', x='P_RF', yerr=data_errors,\n",
    "                                c='ratio_Pic_Plh', cmap='plasma', alpha=0.8, s=40, label='Before Chrismas Break', colorbar=False, vmin=0, vmax=1)\n",
    "m = plt.gca().get_children()[0]\n",
    "cax = fig.add_axes([0.92,0.1,0.02,0.8]) \n",
    "fig.colorbar(im, cax=cax)\n",
    "\n",
    "ax.set_xlim(0, 6)\n",
    "ax.legend(loc='upper center')\n",
    "ax.set_ylabel('$Cu/n_l$')\n",
    "ax.set_xlabel('$P_{RF}$ [MW]')\n",
    "fig.suptitle('$P_{RF}$>0.3MW - Color: $P_{IC}/P_{LH}$ - pulse average')\n",
    "fig.subplots_adjust(wspace=0.05)\n",
    "\n",
    "#fig.tight_layout()"
   ]
  },
  {
   "cell_type": "code",
   "execution_count": null,
   "metadata": {},
   "outputs": [],
   "source": [
    "fig, ax = plt.subplots()\n",
    "# INBUM04 ou LODIVOU15\n",
    "\n",
    "# Boros : 56247, 56641\n",
    "data.query(f'P_RF > 0.3 & Cu_norm > 10 & pulse > {post_boro[1]}').plot(ax=ax, kind='scatter', \n",
    "                                y='Cu_norm', x='P_RF', \n",
    "                                c='ratio_Pic_Plh', cmap='plasma', alpha=0.8, s=40, label='After Boro', colorbar=False, vmin=0, vmax=1)\n",
    "m = plt.gca().get_children()[0]\n",
    "cax = fig.add_axes([0.92,0.1,0.02,0.8]) \n",
    "fig.colorbar(im, cax=cax)\n",
    "\n",
    "ax.set_xlim(0, 6)\n",
    "ax.legend(loc='upper center')\n",
    "ax.set_ylabel('$Cu/n_l$')\n",
    "ax.set_xlabel('$P_{RF}$ [MW]')\n",
    "fig.suptitle('$P_{RF}$>0.3MW - Color: $P_{IC}/P_{LH}$')\n",
    "fig.subplots_adjust(wspace=0.05)\n",
    "\n",
    "#fig.tight_layout()"
   ]
  },
  {
   "cell_type": "code",
   "execution_count": null,
   "metadata": {},
   "outputs": [],
   "source": [
    "fig, ax = plt.subplots()\n",
    "# INBUM04 ou LODIVOU15\n",
    "\n",
    "# Boros : 56247, 56641\n",
    "data_means.query(f'pulse > {post_boro[1]}').plot(ax=ax, kind='scatter', \n",
    "                                y='Cu_norm', x='P_RF', yerr=data_errors,\n",
    "                                c='ratio_Pic_Plh', cmap='plasma', alpha=0.8, s=40, label='After Boro', colorbar=False, vmin=0, vmax=1)\n",
    "m = plt.gca().get_children()[0]\n",
    "cax = fig.add_axes([0.92,0.1,0.02,0.8]) \n",
    "fig.colorbar(im, cax=cax)\n",
    "\n",
    "ax.set_xlim(0, 6)\n",
    "ax.legend(loc='upper center')\n",
    "ax.set_ylabel('$Cu/n_l$')\n",
    "ax.set_xlabel('$P_{RF}$ [MW]')\n",
    "fig.suptitle('$P_{RF}$>0.3MW - Color: $P_{IC}/P_{LH} - pulse average $')\n",
    "fig.subplots_adjust(wspace=0.05)\n",
    "\n",
    "#fig.tight_layout()"
   ]
  },
  {
   "cell_type": "markdown",
   "metadata": {},
   "source": [
    "# Evolution du rapport isotopique"
   ]
  },
  {
   "cell_type": "code",
   "execution_count": null,
   "metadata": {},
   "outputs": [],
   "source": [
    "fig, ax = plt.subplots()\n",
    "data_means = data.query('Ip>0.4').groupby('pulse').mean().reset_index()\n",
    "data_errors = data.query('Ip>0.4').groupby('pulse').std().reset_index()\n",
    "\n",
    "data_means.query('`Isotopic Ratio LODIVOU15`>0.5').plot(ax=ax, kind='scatter', \n",
    "                x='pulse', y='Isotopic Ratio LODIVOU15', yerr=data_errors,\n",
    "               color='C0', label='Outer Divertor (LODIVOU15)', s=60, edgecolor='k', alpha=.8)\n",
    "# data_means.query('`Isotopic Ratio INBUM04`>0.5').plot(ax=ax, kind='scatter', \n",
    "#                 x='pulse', y='Isotopic Ratio INBUM04', yerr=data_errors,\n",
    "#                color='C1', label='Inner Bumper (INBUM04)', s=60, edgecolor='k', alpha=.8)\n",
    "ax.set_xlim(left=56240, right=56925)\n",
    "\n",
    "ax.axvline(january_restart, ls='-.', color='gray')\n",
    "\n",
    "[ax.axvline(shot, ls='--', color='gray') for shot in post_boro]\n",
    "\n",
    "ax.set_title('Data for $I_p>0.4$MA')\n",
    "ax.set_ylim(bottom=0, top=50)\n",
    "ax.set_ylabel('Isotopic Ratio [%]')\n",
    "# ax.annotate('Christmas Break', xy=(56544, 32), xytext=(56400, 35), arrowprops=dict(facecolor='black'))\n",
    "# ax.annotate('1st Boronization', xy=(post_boro[0], 15), xytext=(56300, 20), arrowprops=dict(facecolor='black'))\n",
    "# ax.annotate('2nd Boronization', xy=(post_boro[1], 20), xytext=(56650, 25), arrowprops=dict(facecolor='black'))\n",
    "\n",
    "ax.axhspan(5,10, color='green', alpha=0.2)\n",
    "fig.tight_layout()"
   ]
  },
  {
   "cell_type": "markdown",
   "metadata": {},
   "source": [
    "# Fitting to Power Scaling Laws"
   ]
  },
  {
   "cell_type": "code",
   "execution_count": null,
   "metadata": {},
   "outputs": [],
   "source": [
    "data.columns"
   ]
  },
  {
   "cell_type": "code",
   "execution_count": null,
   "metadata": {},
   "outputs": [],
   "source": [
    "from sklearn import linear_model"
   ]
  },
  {
   "cell_type": "code",
   "execution_count": null,
   "metadata": {},
   "outputs": [],
   "source": [
    "# let's first filter only the usefull data from the whole dataset\n",
    "signames = ['Cu_norm','IC_P_Q1', 'IC_P_Q2', 'IC_P_Q4', 'LH_P_tot']\n",
    "query = f' IC_P_tot > 0.3 & Cu_norm > 10'\n",
    "# Convert into log values and remove spurious points\n",
    "data_log = data.query(query)[signames].apply(np.log).replace([np.inf, -np.inf], np.nan).dropna()\n",
    "\n",
    "# Make a linear regression on the log values\n",
    "lin_reg = linear_model.LinearRegression()\n",
    "lin_reg.fit(data_log[signames[1:]], data_log[signames[0]])\n",
    "coefs = np.squeeze(lin_reg.coef_)\n",
    "\n",
    "print(f'Scaling coefficients: a={coefs}')\n",
    "print(f'Intersection A: {lin_reg.intercept_}')"
   ]
  },
  {
   "cell_type": "code",
   "execution_count": null,
   "metadata": {},
   "outputs": [],
   "source": [
    "def power_law(signames, coefs, A0, query='index == index or index != index'):\n",
    "    y = A0\n",
    "    for (signame, coef) in zip(signames[1:], coefs):\n",
    "        y *= data.query(query)[signame]**coef\n",
    "    return y"
   ]
  },
  {
   "cell_type": "code",
   "execution_count": null,
   "metadata": {},
   "outputs": [],
   "source": [
    "Cu_scale = power_law(signames, coefs, np.exp(lin_reg.intercept_), query=query)\n",
    "\n",
    "fig, ax = plt.subplots()\n",
    "ax.scatter(Cu_scale, data.query(query)['Cu_norm'], alpha=0.2)\n",
    "ax.plot(Cu_scale, Cu_scale, color='r')\n",
    "# ax.set_xscale('log')\n",
    "# ax.set_yscale('log')\n",
    "ax.grid(True, which='minor')\n",
    "ax.set_xlabel(r'$ \\times $'.join([f'({signame})^({coef:.1f})' for (signame, coef) in zip(signames[1:], coefs)]))\n",
    "ax.set_ylabel('Cu_norm')\n",
    "fig.tight_layout()\n"
   ]
  },
  {
   "cell_type": "markdown",
   "metadata": {},
   "source": [
    "## Evolution of the Copper Impurity"
   ]
  },
  {
   "cell_type": "code",
   "execution_count": null,
   "metadata": {},
   "outputs": [],
   "source": [
    "with plt.style.context('ggplot'):\n",
    "    fig, axes = plt.subplots(2, 1, sharex=True)\n",
    "    data.query('IC_P_tot>0.25').plot(kind='scatter', x='pulse', y='Cu_norm_nl_IC', c='Ip', ax=axes[0], cmap=\"viridis\", s=50, vmax=0.75, alpha=.6)\n",
    "    data.query('LH_P_tot>0.25').plot(kind='scatter', x='pulse', y='Cu_norm_nl_LH', c='Ip', ax=axes[1], cmap=\"viridis\", s=50, vmax=0.75, alpha=.6)\n",
    "    [ax.set_ylim(bottom=0, top=500) for ax in axes]\n",
    "    axes[0].set_ylabel('Cu / nl / IC Power [a.u.]')\n",
    "    axes[1].set_ylabel('Cu / nl / LH Power [a.u.]')\n",
    "    axes[-1].set_xlabel('WEST Pulse #')\n",
    "    #plt.xticks(rotation=40)\n",
    "    fig.suptitle('Evolution of Copper Impurity')\n",
    "    fig.tight_layout()\n",
    "    fig.subplots_adjust(hspace=0.2)\n",
    "    axes[-1].xaxis.tick_top()"
   ]
  },
  {
   "cell_type": "markdown",
   "metadata": {},
   "source": [
    "# Performances Comparaison Between Campaign"
   ]
  },
  {
   "cell_type": "code",
   "execution_count": null,
   "metadata": {},
   "outputs": [],
   "source": [
    "# Importing Resumed Parameters\n",
    "data_C4 = pd.read_csv('../WEST_C4/WEST_C4_database_resumed_parameters.csv')"
   ]
  },
  {
   "cell_type": "code",
   "execution_count": null,
   "metadata": {},
   "outputs": [],
   "source": [
    "data_C4['IC_P_tot_MW'] = data_C4['IC_P_tot']/1e3\n",
    "data_C4['IC_P_Q1_MW'] = data_C4['IC_P_Q1']/1e3\n",
    "data_C4['IC_P_Q2_MW'] = data_C4['IC_P_Q2']/1e3\n",
    "data_C4['IC_P_Q4_MW'] = data_C4['IC_P_Q4']/1e3\n",
    "data_C4['pulse_relative'] = data_C4['pulse'] - data_C4['pulse'][0]\n",
    "data_C4['P_RF'] = data['LH_P_tot'] + data['IC_P_tot']\n",
    "data_C4['Ip_MA'] = data['Ip']/1e3\n",
    "data_C4['Cu_norm'] = data['Cu']/data['nl']\n",
    "\n",
    "\n",
    "# objet le plus avancé\n",
    "data_C4['R_obj'] = data_C4[['R_Q1', 'R_Q2', 'R_Q4', 'LH_Positions']].min(axis=1)*1e3\n",
    "# ROG wrt VACTH magnetic reconstruction in [mm]\n",
    "data_C4['ROG_LH'] = data_C4['R_obj'] - data_C4['Rext_median']\n",
    "data_C4['ROG_Q1'] = data_C4['R_Q1']*1e3 - data_C4['Rext_median']\n",
    "data_C4['ROG_Q2'] = data_C4['R_Q2']*1e3 - data_C4['Rext_median']\n",
    "data_C4['ROG_Q4'] = data_C4['R_Q4']*1e3 - data_C4['Rext_median']\n",
    "data_C4['ROG'] = data_C4['R_obj'] - data_C4['Rext_median']\n",
    "# ROG wrt NICE magnetic reconstruction in [mm]\n",
    "data_C4['ROG_Q1_NICE'] = data_C4['R_Q1']*1e3 - data_C4['Rext_median_NICE']*1e3\n",
    "data_C4['ROG_Q2_NICE'] = data_C4['R_Q2']*1e3 - data_C4['Rext_median_NICE']*1e3\n",
    "data_C4['ROG_Q4_NICE'] = data_C4['R_Q4']*1e3 - data_C4['Rext_median_NICE']*1e3\n",
    "data_C4['ROG_NICE'] = data_C4['R_obj'] - data_C4['Rext_median_NICE']*1e3\n",
    "\n",
    "\n",
    "C4_after_boro_pulses = [53453, 54288, 54403, 54502, 54596, 54719, 54881, 55000, 55138, 55499, 55548, 55747, 55795]\n",
    "C5_after_boro_pulses = [56244, 56596]"
   ]
  },
  {
   "cell_type": "code",
   "execution_count": null,
   "metadata": {},
   "outputs": [],
   "source": [
    "fig, ax = plt.subplots()\n",
    "data_C4_grp = data_C4.query('IC_P_tot_MW>0.1').groupby('pulse')\n",
    "data_C5_grp = data.query('IC_P_tot>0.1').groupby('pulse')\n",
    "\n",
    "data_C4_grp.mean().reset_index().plot(ax=ax, kind='scatter', x='pulse_relative', y='IC_P_tot_MW', \n",
    "                                      color='C0', label='C4', yerr=data_C4_grp.std().reset_index(), s=80, edgecolor='k', alpha=0.5)\n",
    "data_C5_grp.mean().reset_index().plot(ax=ax, kind='scatter', x='pulse_relative', y='IC_P_tot', \n",
    "                                      color='C1', label='C5', yerr=data_C5_grp.std().reset_index(), s=80, edgecolor='k', alpha=0.5)\n",
    "ax.set_xlabel('Relative WEST Pulse # wrt. Campaign Start')\n",
    "ax.set_ylabel('Coupled Power [MW]')\n",
    "for pulse in C4_after_boro_pulses:\n",
    "    ax.axvline(pulse-data_C4['pulse'][0], ls='--', color='blue')\n",
    "for pulse in C5_after_boro_pulses:\n",
    "    ax.axvline(pulse-data['pulse'][23], ls='--', color='orange')\n",
    "ax.set_xlim(left=0)\n",
    "ax.set_title('Total IC Power')"
   ]
  },
  {
   "cell_type": "code",
   "execution_count": null,
   "metadata": {},
   "outputs": [],
   "source": [
    "fig, ax = plt.subplots()\n",
    "data_C4_grp = data_C4.query('IC_P_tot_MW>0.1').groupby('pulse')\n",
    "data_C5_grp = data.query('IC_P_tot>0.1').groupby('pulse')\n",
    "\n",
    "data_C4_grp.mean().reset_index().plot(ax=ax, kind='scatter', x='pulse', y='IC_P_tot_MW', \n",
    "                                      color='C0', label='C4', yerr=data_C4_grp.std().reset_index(), s=80, edgecolor='k', alpha=0.5)\n",
    "data_C5_grp.mean().reset_index().plot(ax=ax, kind='scatter', x='pulse', y='IC_P_tot', \n",
    "                                      color='C1', label='C5', yerr=data_C5_grp.std().reset_index(), s=80, edgecolor='k', alpha=0.5)\n",
    "ax.set_xlabel('Relative WEST Pulse #')\n",
    "ax.set_ylabel('Coupled Power [MW]')\n",
    "for pulse in C4_after_boro_pulses:\n",
    "    ax.axvline(pulse, ls='--', color='gray')\n",
    "for pulse in C5_after_boro_pulses:\n",
    "    ax.axvline(pulse, ls='--', color='gray')\n",
    "ax.set_xlim(left=data_C4['pulse'][0])\n",
    "ax.set_title('Total IC Power')\n",
    "fig.tight_layout()"
   ]
  },
  {
   "cell_type": "code",
   "execution_count": null,
   "metadata": {},
   "outputs": [],
   "source": [
    "data_C4['Ip_MA']=data_C4['Ip']/1e3"
   ]
  },
  {
   "cell_type": "code",
   "execution_count": null,
   "metadata": {},
   "outputs": [],
   "source": [
    "fig, ax = plt.subplots()\n",
    "data_C4_grp = data_C4.query('IC_P_tot_MW>0.1').groupby('pulse')\n",
    "data_C5_grp = data.query('IC_P_tot>0.1').groupby('pulse')\n",
    "\n",
    "data_C4_grp.mean().reset_index().plot(ax=ax, kind='scatter', x='pulse', y='IC_P_tot_MW', cmap='tab10', colorbar=False,\n",
    "                                      c='Ip_MA', label='C4', s=100, marker=\"s\", edgecolor='k', alpha=0.8, vmin=0.5, vmax=0.8)\n",
    "data_C5_grp.mean().reset_index().plot(ax=ax, kind='scatter', x='pulse', y='IC_P_tot', cmap='tab10',\n",
    "                                      c='Ip', label='C5', s=100, edgecolor='k', alpha=0.8, vmin=0.5, vmax=0.8)\n",
    "ax.set_xlabel('Relative WEST Pulse #')\n",
    "ax.set_ylabel('Coupled Power [MW]')\n",
    "for pulse in C4_after_boro_pulses:\n",
    "    ax.axvline(pulse, ls='--', color='gray')\n",
    "for pulse in C5_after_boro_pulses:\n",
    "    ax.axvline(pulse, ls='--', color='gray')\n",
    "ax.set_xlim(left=data_C4['pulse'][0])\n",
    "ax.set_title('Total IC Power')\n",
    "fig.tight_layout()"
   ]
  },
  {
   "cell_type": "code",
   "execution_count": null,
   "metadata": {},
   "outputs": [],
   "source": [
    "fig, ax = plt.subplots()\n",
    "data_C4_grp = data_C4.query('P_RF>0.1').groupby('pulse')\n",
    "data_C5_grp = data.query('P_RF>0.1').groupby('pulse')\n",
    "\n",
    "data_C4_grp.mean().reset_index().plot(ax=ax, kind='scatter', x='pulse', y='P_RF', \n",
    "                                      color='C0', label='C4', yerr=data_C4_grp.std().reset_index(), s=80, edgecolor='k', alpha=0.5)\n",
    "data_C5_grp.mean().reset_index().plot(ax=ax, kind='scatter', x='pulse', y='P_RF', \n",
    "                                      color='C1', label='C5', yerr=data_C5_grp.std().reset_index(), s=80, edgecolor='k', alpha=0.5)\n",
    "ax.set_xlabel('WEST Pulse #')\n",
    "ax.set_ylabel('Coupled Power [MW]')\n",
    "ax.set_title('Total RF Power')\n",
    "for pulse in C4_after_boro_pulses:\n",
    "    ax.axvline(pulse, ls='--', color='grey')\n",
    "for pulse in C5_after_boro_pulses:\n",
    "    ax.axvline(pulse, ls='--', color='grey')\n",
    "ax.set_xlim(left=data_C4['pulse'][0])"
   ]
  },
  {
   "cell_type": "code",
   "execution_count": null,
   "metadata": {},
   "outputs": [],
   "source": [
    "fig, ax = plt.subplots()\n",
    "data_C4_grp = data_C4.query('IC_P_Q2_MW>0.1').groupby('pulse')\n",
    "data_C5_grp = data.query('IC_P_Q2>0.1').groupby('pulse')\n",
    "\n",
    "data_C4_grp.mean().reset_index().plot(ax=ax, kind='scatter', x='pulse', y='IC_P_Q2_MW', \n",
    "                                      color='C0', label='C4', yerr=data_C4_grp.std().reset_index(), s=80, edgecolor='k', alpha=0.5)\n",
    "data_C5_grp.mean().reset_index().plot(ax=ax, kind='scatter', x='pulse', y='IC_P_Q2', \n",
    "                                      color='C1', label='C5', yerr=data_C5_grp.std().reset_index(), s=80, edgecolor='k', alpha=0.5)\n",
    "ax.set_xlabel('WEST Pulse #')\n",
    "ax.set_ylabel('Coupled Power [MW]')\n",
    "ax.set_title('Q2 Antenna')\n",
    "\n",
    "for pulse in C4_after_boro_pulses:\n",
    "    ax.axvline(pulse, ls='--', color='grey')\n",
    "for pulse in C5_after_boro_pulses:\n",
    "    ax.axvline(pulse, ls='--', color='grey')\n",
    "ax.set_xlim(left=data_C4['pulse'][0])"
   ]
  },
  {
   "cell_type": "code",
   "execution_count": null,
   "metadata": {},
   "outputs": [],
   "source": [
    "fig, ax = plt.subplots()\n",
    "data_C4_grp = data_C4.query('IC_P_Q1_MW>0.1').groupby('pulse')\n",
    "data_C5_grp = data.query('IC_P_Q1>0.1').groupby('pulse')\n",
    "\n",
    "data_C4_grp.mean().reset_index().plot(ax=ax, kind='scatter', x='pulse', y='IC_P_Q1_MW', \n",
    "                                      color='C0', label='C4', yerr=data_C4_grp.std().reset_index(), s=60, edgecolor='k', alpha=0.5)\n",
    "data_C5_grp.mean().reset_index().plot(ax=ax, kind='scatter', x='pulse', y='IC_P_Q1', \n",
    "                                      color='C1', label='C5', yerr=data_C5_grp.std().reset_index(), s=60, edgecolor='k', alpha=0.5)\n",
    "ax.set_xlabel('WEST Pulse #')\n",
    "ax.set_ylabel('Coupled Power [MW]')\n",
    "ax.set_title('Q1 Antenna')\n",
    "for pulse in C4_after_boro_pulses:\n",
    "    ax.axvline(pulse, ls='--', color='grey')\n",
    "for pulse in C5_after_boro_pulses:\n",
    "    ax.axvline(pulse, ls='--', color='grey')\n",
    "ax.set_xlim(left=data_C4['pulse'][0])"
   ]
  },
  {
   "cell_type": "code",
   "execution_count": null,
   "metadata": {},
   "outputs": [],
   "source": [
    "fig, ax = plt.subplots()\n",
    "data_C4_grp = data_C4.query('IC_P_Q4_MW>0.1').groupby('pulse')\n",
    "data_C5_grp = data.query('IC_P_Q4>0.1').groupby('pulse')\n",
    "\n",
    "data_C4_grp.mean().reset_index().plot(ax=ax, kind='scatter', x='pulse', y='IC_P_Q4_MW', \n",
    "                                      color='C0', label='C4', yerr=data_C4_grp.std().reset_index(), s=60, edgecolor='k', alpha=0.5)\n",
    "data_C5_grp.mean().reset_index().plot(ax=ax, kind='scatter', x='pulse', y='IC_P_Q4', \n",
    "                                      color='C1', label='C5', yerr=data_C5_grp.std().reset_index(), s=60, edgecolor='k', alpha=0.5)\n",
    "ax.set_xlabel('WEST Pulse #')\n",
    "ax.set_ylabel('Coupled Power [MW]')\n",
    "ax.set_title('Q4 Antenna')\n",
    "for pulse in C4_after_boro_pulses:\n",
    "    ax.axvline(pulse, ls='--', color='grey')\n",
    "for pulse in C5_after_boro_pulses:\n",
    "    ax.axvline(pulse, ls='--', color='grey')\n",
    "ax.set_xlim(left=data_C4['pulse'][0])"
   ]
  },
  {
   "cell_type": "markdown",
   "metadata": {},
   "source": [
    "### Coper Evolution between C4 and C5"
   ]
  },
  {
   "cell_type": "code",
   "execution_count": null,
   "metadata": {},
   "outputs": [],
   "source": [
    "data_C4_grp = data_C4.query('IC_P_tot_MW>0.1 & LH_P_tot < 0.1').groupby('pulse')\n",
    "data_C5_grp = data.query('IC_P_tot>0.1 & LH_P_tot < 0.1').groupby('pulse')\n",
    "\n",
    "\n",
    "fig, ax = plt.subplots()\n",
    "data_C4_grp.max().reset_index().plot(ax=ax, kind='scatter', x='pulse', y='Cu_norm', \n",
    "                                      color='C0', label='C4', s=60, edgecolor='k', alpha=0.5)\n",
    "data_C5_grp.max().reset_index().plot(ax=ax, kind='scatter', x='pulse', y='Cu_norm', \n",
    "                                      color='C1', label='C5', s=60, edgecolor='k', alpha=0.5)\n",
    "ax.set_xlabel('WEST Pulse #')\n",
    "ax.set_ylabel('Max Cu/nl [a.u.]')\n",
    "ax.set_title('Normalized Copper Signal during RF Power')\n",
    "for pulse in C4_after_boro_pulses:\n",
    "    ax.axvline(pulse, ls='--', color='grey')\n",
    "for pulse in C5_after_boro_pulses:\n",
    "    ax.axvline(pulse, ls='--', color='grey')\n",
    "ax.set_xlim(left=data_C4['pulse'][0])\n",
    "ax.set_ylim(bottom=0)"
   ]
  },
  {
   "cell_type": "code",
   "execution_count": null,
   "metadata": {},
   "outputs": [],
   "source": [
    "fig, ax = plt.subplots()\n",
    "sns.kdeplot(ax=ax, dataset=data.query(\"pulse < @january_restart & IC_P_tot > 0.1\"), \n",
    "                                      x=data['Isotopic Ratio INBUM04'], y=data['Cu_norm'], \n",
    "                                      shade=True, cmap='Reds', fill=True)"
   ]
  },
  {
   "cell_type": "markdown",
   "metadata": {},
   "source": [
    "# Coupling Resistance vs ROG in C4"
   ]
  },
  {
   "cell_type": "code",
   "execution_count": null,
   "metadata": {},
   "outputs": [],
   "source": [
    "data_C4['Rext_median_NICE_mm'] = data_C4['Rext_median_NICE']*1e3\n",
    "data_C4['Rext_upper_NICE_mm'] = data_C4['Rext_upper_NICE']*1e3\n",
    "data_C4['Rext_lower_NICE_mm'] = data_C4['Rext_lower_NICE']*1e3\n",
    "# 1st object found at LFS in [mm]\n",
    "data_C4['Robj'] = data_C4[['R_Q1', 'R_Q2', 'R_Q4', 'LH_Positions', 'LPA']].min(axis=1)*1e3\n",
    "# ROG wrt VACTH magnetic reconstruction in [mm]\n",
    "data_C4['ROG_LH'] =  - data_C4['Rext_median']\n",
    "data_C4['ROG_Q1'] = data_C4['R_Q1']*1e3 - data_C4['Rext_median']\n",
    "data_C4['ROG_Q2'] = data_C4['R_Q2']*1e3 - data_C4['Rext_median']\n",
    "data_C4['ROG_Q4'] = data_C4['R_Q4']*1e3 - data_C4['Rext_median']\n",
    "data_C4['ROG'] = data_C4['Robj'] - data_C4['Rext_median']\n",
    "data_C4['ROG_upper'] = data_C4['Robj'] - data_C4['Rext_upper']\n",
    "data_C4['ROG_lower'] = data_C4['Robj'] - data_C4['Rext_lower']\n",
    "# ROG wrt NICE magnetic reconstruction in [mm]\n",
    "data_C4['ROG_Q1_NICE'] = data_C4['R_Q1']*1e3 - data_C4['Rext_median_NICE_mm']\n",
    "data_C4['ROG_Q2_NICE'] = data_C4['R_Q2']*1e3 - data_C4['Rext_median_NICE_mm']\n",
    "data_C4['ROG_Q4_NICE'] = data_C4['R_Q4']*1e3 - data_C4['Rext_median_NICE_mm']\n",
    "data_C4['ROG_NICE'] = data_C4['Robj'] - data_C4['Rext_median_NICE_mm']\n",
    "data_C4['ROG_upper_NICE'] = data_C4['Robj'] - data_C4['Rext_upper_NICE_mm']\n",
    "data_C4['ROG_lower_NICE'] = data_C4['Robj'] - data_C4['Rext_lower_NICE_mm']"
   ]
  },
  {
   "cell_type": "code",
   "execution_count": null,
   "metadata": {},
   "outputs": [],
   "source": [
    "# Define USN.LSN plasma configuration\n",
    "data_C4['Xpoint'] = 'LSN'  # default plasma are LSN, only a few listed below are USN\n",
    "USN_list = np.r_[55227, 55174, 55173, 55172, 55171, 55170]\n",
    "USN_list = np.append(USN_list, np.arange(54882, 54892))\n",
    "USN_list = np.append(USN_list, np.arange(54894, 54903))\n",
    "USN_list = np.append(USN_list, np.load('WEST_C4_USN_pulse.npy'))  # List by J.Morales\n",
    "USN_list = np.unique(USN_list)\n",
    "data_C4.loc[data_C4['pulse'].isin(USN_list), 'Xpoint'] = 'USN'"
   ]
  },
  {
   "cell_type": "code",
   "execution_count": null,
   "metadata": {},
   "outputs": [],
   "source": [
    "from scipy.stats import kde"
   ]
  },
  {
   "cell_type": "code",
   "execution_count": null,
   "metadata": {},
   "outputs": [],
   "source": [
    "####### C4\n",
    "xy = np.r_[\n",
    "    data_C4.query(\"IC_P_Q1 > 0.3 & ROG_NICE > 0 & ROG_NICE < 100 & Xpoint=='LSN'\")[['ROG_NICE','IC_Rc_Q1_avg']].dropna().values,\n",
    "    data_C4.query(\"IC_P_Q2 > 0.3 & ROG_NICE > 0 & ROG_NICE < 100 & Xpoint=='LSN'\")[['ROG_NICE','IC_Rc_Q2_avg']].dropna().values,\n",
    "    data_C4.query(\"IC_P_Q4 > 0.3 & ROG_NICE > 0 & ROG_NICE < 100 & Xpoint=='LSN'\")[['ROG_NICE','IC_Rc_Q4_avg']].dropna().values,\n",
    "]\n",
    "x=xy[:,0]; y=xy[:,1]\n",
    "\n",
    "# Evaluate a gaussian kde on a regular grid of nbins x nbins over data extents\n",
    "nbins=200\n",
    "\n",
    "k = kde.gaussian_kde([x,y])\n",
    "# complex bins number means end is inclusive\n",
    "xi_C4_NICE, yi_C4_NICE = np.mgrid[x.min():x.max():nbins*1j, y.min():y.max():nbins*1j]\n",
    "zi_C4_NICE = k(np.vstack([xi_C4_NICE.flatten(), yi_C4_NICE.flatten()]))\n",
    "\n",
    "xy = np.r_[\n",
    "    data_C4.query(\"IC_P_Q1 > 0.3 & ROG > 0 & ROG < 100 & Xpoint=='LSN'\")[['ROG','IC_Rc_Q1_avg']].dropna().values,\n",
    "    data_C4.query(\"IC_P_Q2 > 0.3 & ROG > 0 & ROG < 100 & Xpoint=='LSN'\")[['ROG','IC_Rc_Q2_avg']].dropna().values,\n",
    "    data_C4.query(\"IC_P_Q4 > 0.3 & ROG > 0 & ROG < 100 & Xpoint=='LSN'\")[['ROG','IC_Rc_Q4_avg']].dropna().values,\n",
    "]\n",
    "x=xy[:,0]; y=xy[:,1]\n",
    "\n",
    "# Evaluate a gaussian kde on a regular grid of nbins x nbins over data extents\n",
    "nbins=200\n",
    "\n",
    "k = kde.gaussian_kde([x,y])\n",
    "# complex bins number means end is inclusive\n",
    "xi_C4_VACTH, yi_C4_VACTH = np.mgrid[x.min():x.max():nbins*1j, y.min():y.max():nbins*1j]\n",
    "zi_C4_VACTH = k(np.vstack([xi_C4_VACTH.flatten(), yi_C4_VACTH.flatten()]))\n",
    "\n",
    "\n",
    "### C5\n",
    "xy = np.r_[\n",
    "    data.query(\"IC_P_Q1 > 0.1 & pulse>=@phase_control_OK & ROG_NICE > 0 & Xpoint=='LSN'\")[['ROG_NICE','IC_Rc_Q1_avg']].dropna().values,\n",
    "    data.query(\"IC_P_Q2 > 0.1 & pulse>=@phase_control_OK & ROG_NICE > 0 & Xpoint=='LSN'\")[['ROG_NICE','IC_Rc_Q2_avg']].dropna().values,\n",
    "    data.query(\"IC_P_Q4 > 0.1 & pulse>=@phase_control_OK & ROG_NICE > 0 & Xpoint=='LSN'\")[['ROG_NICE','IC_Rc_Q4_avg']].dropna().values,\n",
    "]\n",
    "x=xy[:,0]; y=xy[:,1]\n",
    "\n",
    "# Evaluate a gaussian kde on a regular grid of nbins x nbins over data extents\n",
    "nbins=400\n",
    "\n",
    "k = kde.gaussian_kde([x,y])\n",
    "# complex bins number means end is inclusive\n",
    "xi_C5_NICE, yi_C5_NICE = np.mgrid[x.min():x.max():nbins*1j, y.min():y.max():nbins*1j]\n",
    "zi_C5_NICE = k(np.vstack([xi_C5_NICE.flatten(), yi_C5_NICE.flatten()]))\n",
    "\n",
    "\n",
    "xy = np.r_[\n",
    "    data.query(\"IC_P_Q1 > 0.1 & pulse>=@phase_control_OK & ROG > 0 & Xpoint=='LSN'\")[['ROG','IC_Rc_Q1_avg']].dropna().values,\n",
    "    data.query(\"IC_P_Q2 > 0.1 & pulse>=@phase_control_OK & ROG > 0 & Xpoint=='LSN'\")[['ROG','IC_Rc_Q2_avg']].dropna().values,\n",
    "    data.query(\"IC_P_Q4 > 0.1 & pulse>=@phase_control_OK & ROG > 0 & Xpoint=='LSN'\")[['ROG','IC_Rc_Q4_avg']].dropna().values,\n",
    "]\n",
    "x=xy[:,0]; y=xy[:,1]\n",
    "\n",
    "# Evaluate a gaussian kde on a regular grid of nbins x nbins over data extents\n",
    "nbins=400\n",
    "\n",
    "k = kde.gaussian_kde([x,y])\n",
    "# complex bins number means end is inclusive\n",
    "xi_C5_VACTH, yi_C5_VACTH = np.mgrid[x.min():x.max():nbins*1j, y.min():y.max():nbins*1j]\n",
    "zi_C5_VACTH = k(np.vstack([xi_C5_VACTH.flatten(), yi_C5_VACTH.flatten()]))"
   ]
  },
  {
   "cell_type": "code",
   "execution_count": null,
   "metadata": {},
   "outputs": [],
   "source": [
    "fig, ax = plt.subplots()\n",
    "ax.contour(xi_C4_NICE, yi_C4_NICE, zi_C4_NICE.reshape(xi_C4_NICE.shape), cmap='Blues', label='C4 - NICE', lw=2)\n",
    "ax.contour(xi_C4_VACTH, yi_C4_VACTH, zi_C4_VACTH.reshape(xi_C4_VACTH.shape), cmap='Purples', label='C4 - VACTH', lw=2)\n",
    "\n",
    "ax.contour(xi_C5_NICE, yi_C5_NICE, zi_C5_NICE.reshape(xi_C5_NICE.shape), cmap='Oranges', label='C5 - NICE', lw=2)\n",
    "ax.contour(xi_C5_VACTH, yi_C5_VACTH, zi_C5_VACTH.reshape(xi_C5_VACTH.shape), cmap='Reds', label='C5 - VACTH', lw=2)\n",
    "\n",
    "#ax.scatter(x,y,color='gray', alpha=0.4)\n",
    "ax.set_ylim(bottom=0, top=1.75)\n",
    "ax.set_xlim(left=0, right=50) \n",
    "ax.legend(('test'))\n",
    "ax.set_title('LSN Plasmas')\n"
   ]
  },
  {
   "cell_type": "code",
   "execution_count": null,
   "metadata": {},
   "outputs": [],
   "source": [
    "fig, axes = plt.subplots(2,1,sharex=True)\n",
    "axes[0].contour(xi_C4_VACTH, yi_C4_VACTH, zi_C4_VACTH.reshape(xi_C4_VACTH.shape), cmap='Blues', label='C4 - VACTH', lw=2)\n",
    "axes[0].contour(xi_C5_VACTH, yi_C5_VACTH, zi_C5_VACTH.reshape(xi_C5_VACTH.shape), cmap='Reds', label='C5 - VACTH', lw=2)\n",
    "\n",
    "axes[1].contour(xi_C4_NICE, yi_C4_NICE, zi_C4_NICE.reshape(xi_C4_NICE.shape), cmap='Blues', label='C4 - NICE', lw=2)\n",
    "axes[1].contour(xi_C5_NICE, yi_C5_NICE, zi_C5_NICE.reshape(xi_C5_NICE.shape), cmap='Reds', label='C5 - NICE', lw=2)\n",
    "\n",
    "\n",
    "for ax in axes:\n",
    "    ax.set_ylim(bottom=0, top=1.75)\n",
    "    ax.set_xlim(left=0, right=50) \n",
    "    ax.legend(('test'))\n",
    "    ax.set_ylabel('Average $R_c$ [Ohm]')\n",
    "\n",
    "\n",
    "fig.suptitle('LSN Plasmas')\n",
    "ax.set_xlabel('ROG [mm]')\n",
    "fig.tight_layout()\n",
    "fig.subplots_adjust(hspace=0.1)"
   ]
  },
  {
   "cell_type": "code",
   "execution_count": null,
   "metadata": {
    "scrolled": true
   },
   "outputs": [],
   "source": [
    "fig, axes = plt.subplots(2, 2, sharex=True, sharey=True)\n",
    "axes[0,0].contourf(xi_C4_NICE, yi_C4_NICE, zi_C4_NICE.reshape(xi_C4_NICE.shape), cmap='Purples')\n",
    "axes[0,1].contourf(xi_C4_VACTH, yi_C4_VACTH, zi_C4_VACTH.reshape(xi_C4_VACTH.shape), cmap='Purples')\n",
    "\n",
    "axes[1,0].contourf(xi_C5_NICE, yi_C5_NICE, zi_C5_NICE.reshape(xi_C5_NICE.shape), cmap='Oranges')\n",
    "axes[1,1].contourf(xi_C5_VACTH, yi_C5_VACTH, zi_C5_VACTH.reshape(xi_C5_VACTH.shape), cmap='Oranges')\n",
    "\n",
    "#ax.scatter(x,y,color='gray', alpha=0.4)\n",
    "[ax.set_ylim(bottom=0, top=2.5) for ax in axes.flatten()]\n",
    "[ax.set_xlim(left=0, right=50) for ax in axes.flatten()]\n",
    "fig.suptitle('LSN Plasmas')"
   ]
  },
  {
   "cell_type": "code",
   "execution_count": null,
   "metadata": {},
   "outputs": [],
   "source": [
    "####### C4\n",
    "xy = np.r_[\n",
    "    data_C4.query(\"IC_P_Q1 > 0.3 & ROG_NICE > 0 & ROG_NICE < 100 & Xpoint=='USN'\")[['ROG_NICE','IC_Rc_Q1_avg']].dropna().values,\n",
    "    data_C4.query(\"IC_P_Q2 > 0.3 & ROG_NICE > 0 & ROG_NICE < 100 & Xpoint=='USN'\")[['ROG_NICE','IC_Rc_Q2_avg']].dropna().values,\n",
    "    data_C4.query(\"IC_P_Q4 > 0.3 & ROG_NICE > 0 & ROG_NICE < 100 & Xpoint=='USN'\")[['ROG_NICE','IC_Rc_Q4_avg']].dropna().values,\n",
    "]\n",
    "x=xy[:,0]; y=xy[:,1]\n",
    "\n",
    "# Evaluate a gaussian kde on a regular grid of nbins x nbins over data extents\n",
    "nbins=400\n",
    "\n",
    "k = kde.gaussian_kde([x,y])\n",
    "# complex bins number means end is inclusive\n",
    "xi_C4_NICE, yi_C4_NICE = np.mgrid[x.min():x.max():nbins*1j, y.min():y.max():nbins*1j]\n",
    "zi_C4_NICE = k(np.vstack([xi_C4_NICE.flatten(), yi_C4_NICE.flatten()]))\n",
    "\n",
    "xy = np.r_[\n",
    "    data_C4.query(\"IC_P_Q1 > 0.3 & ROG > 0 & ROG < 100 & Xpoint=='USN'\")[['ROG','IC_Rc_Q1_avg']].dropna().values,\n",
    "    data_C4.query(\"IC_P_Q2 > 0.3 & ROG > 0 & ROG < 100 & Xpoint=='USN'\")[['ROG','IC_Rc_Q2_avg']].dropna().values,\n",
    "    data_C4.query(\"IC_P_Q4 > 0.3 & ROG > 0 & ROG < 100 & Xpoint=='USN'\")[['ROG','IC_Rc_Q4_avg']].dropna().values,\n",
    "]\n",
    "x=xy[:,0]; y=xy[:,1]\n",
    "\n",
    "# Evaluate a gaussian kde on a regular grid of nbins x nbins over data extents\n",
    "nbins=400\n",
    "\n",
    "k = kde.gaussian_kde([x,y])\n",
    "# complex bins number means end is inclusive\n",
    "xi_C4_VACTH, yi_C4_VACTH = np.mgrid[x.min():x.max():nbins*1j, y.min():y.max():nbins*1j]\n",
    "zi_C4_VACTH = k(np.vstack([xi_C4_VACTH.flatten(), yi_C4_VACTH.flatten()]))\n",
    "\n",
    "\n",
    "### C5\n",
    "xy = np.r_[\n",
    "    data.query(\"IC_P_Q1 > 0.1 & pulse>=@phase_control_OK & ROG_NICE > 0 & Xpoint=='USN'\")[['ROG_NICE','IC_Rc_Q1_avg']].dropna().values,\n",
    "    data.query(\"IC_P_Q2 > 0.1 & pulse>=@phase_control_OK & ROG_NICE > 0 & Xpoint=='USN'\")[['ROG_NICE','IC_Rc_Q2_avg']].dropna().values,\n",
    "    data.query(\"IC_P_Q4 > 0.1 & pulse>=@phase_control_OK & ROG_NICE > 0 & Xpoint=='USN'\")[['ROG_NICE','IC_Rc_Q4_avg']].dropna().values,\n",
    "]\n",
    "x=xy[:,0]; y=xy[:,1]\n",
    "\n",
    "# Evaluate a gaussian kde on a regular grid of nbins x nbins over data extents\n",
    "nbins=400\n",
    "\n",
    "k = kde.gaussian_kde([x,y])\n",
    "# complex bins number means end is inclusive\n",
    "xi_C5_NICE, yi_C5_NICE = np.mgrid[x.min():x.max():nbins*1j, y.min():y.max():nbins*1j]\n",
    "zi_C5_NICE = k(np.vstack([xi_C5_NICE.flatten(), yi_C5_NICE.flatten()]))\n",
    "\n",
    "\n",
    "xy = np.r_[\n",
    "    data.query(\"IC_P_Q1 > 0.1 & pulse>=@phase_control_OK & ROG > 0 & Xpoint=='USN'\")[['ROG','IC_Rc_Q1_avg']].dropna().values,\n",
    "    data.query(\"IC_P_Q2 > 0.1 & pulse>=@phase_control_OK & ROG > 0 & Xpoint=='USN'\")[['ROG','IC_Rc_Q2_avg']].dropna().values,\n",
    "    data.query(\"IC_P_Q4 > 0.1 & pulse>=@phase_control_OK & ROG > 0 & Xpoint=='USN'\")[['ROG','IC_Rc_Q4_avg']].dropna().values,\n",
    "]\n",
    "x=xy[:,0]; y=xy[:,1]\n",
    "\n",
    "# Evaluate a gaussian kde on a regular grid of nbins x nbins over data extents\n",
    "nbins=400\n",
    "\n",
    "k = kde.gaussian_kde([x,y])\n",
    "# complex bins number means end is inclusive\n",
    "xi_C5_VACTH, yi_C5_VACTH = np.mgrid[x.min():x.max():nbins*1j, y.min():y.max():nbins*1j]\n",
    "zi_C5_VACTH = k(np.vstack([xi_C5_VACTH.flatten(), yi_C5_VACTH.flatten()]))"
   ]
  },
  {
   "cell_type": "code",
   "execution_count": null,
   "metadata": {},
   "outputs": [],
   "source": [
    "fig, axes = plt.subplots(2,1,sharex=True)\n",
    "axes[0].contour(xi_C4_VACTH, yi_C4_VACTH, zi_C4_VACTH.reshape(xi_C4_VACTH.shape), cmap='Blues', label='C4 - VACTH', lw=2)\n",
    "axes[0].contour(xi_C5_VACTH, yi_C5_VACTH, zi_C5_VACTH.reshape(xi_C5_VACTH.shape), cmap='Reds', label='C5 - VACTH', lw=2)\n",
    "\n",
    "axes[1].contour(xi_C4_NICE, yi_C4_NICE, zi_C4_NICE.reshape(xi_C4_NICE.shape), cmap='Blues', label='C4 - NICE', lw=2)\n",
    "axes[1].contour(xi_C5_NICE, yi_C5_NICE, zi_C5_NICE.reshape(xi_C5_NICE.shape), cmap='Reds', label='C5 - NICE', lw=2)\n",
    "\n",
    "\n",
    "for ax in axes:\n",
    "    ax.set_ylim(bottom=0, top=1.75)\n",
    "    ax.set_xlim(left=0, right=50) \n",
    "    ax.legend(('test'))\n",
    "    ax.set_ylabel('Average $R_c$ [Ohm]')\n",
    "\n",
    "\n",
    "fig.suptitle('USN Plasmas')\n",
    "ax.set_xlabel('ROG [mm]')\n",
    "fig.tight_layout()\n",
    "fig.subplots_adjust(hspace=0.1)"
   ]
  },
  {
   "cell_type": "code",
   "execution_count": null,
   "metadata": {},
   "outputs": [],
   "source": [
    "fig, ax = plt.subplots(2,1,sharex=True)\n",
    "alp=0.5\n",
    "data_C4.query(\"IC_P_Q1 > 0.3 & ROG > 0 & ROG < 100 & Xpoint=='LSN'\").plot(ax=ax[0], kind='scatter', x='ROG', y='IC_Rc_Q1_avg', label='C4', alpha=alp)\n",
    "data_C4.query(\"IC_P_Q2 > 0.3 & ROG > 0 & ROG < 100 & Xpoint=='LSN'\").plot(ax=ax[0], kind='scatter', x='ROG', y='IC_Rc_Q2_avg', alpha=alp)\n",
    "data_C4.query(\"IC_P_Q4 > 0.3 & ROG > 0 & ROG < 100 & Xpoint=='LSN'\").plot(ax=ax[0], kind='scatter', x='ROG', y='IC_Rc_Q4_avg', alpha=alp)\n",
    "data.query(\"IC_P_Q1 > 0.3 & ROG > 0 & ROG < 100 & Xpoint=='LSN'\").plot(ax=ax[0], kind='scatter', x='ROG', y='IC_Rc_Q1_avg', color='C1', label='C5', alpha=alp)\n",
    "data.query(\"IC_P_Q2 > 0.3 & ROG > 0 & ROG < 100 & Xpoint=='LSN'\").plot(ax=ax[0], kind='scatter', x='ROG', y='IC_Rc_Q2_avg', color='C1', alpha=alp)\n",
    "data.query(\"IC_P_Q4 > 0.3 & ROG > 0 & ROG < 100 & Xpoint=='LSN'\").plot(ax=ax[0], kind='scatter', x='ROG', y='IC_Rc_Q4_avg', color='C1', alpha=alp) \n",
    "\n",
    "data_C4.query(\"IC_P_Q1 > 0.3 & ROG_NICE > 0 & ROG_NICE < 100 & Xpoint=='LSN'\").plot(ax=ax[1], kind='scatter', x='ROG_NICE', y='IC_Rc_Q1_avg', label='C4', alpha=alp)\n",
    "data_C4.query(\"IC_P_Q2 > 0.3 & ROG_NICE > 0 & ROG_NICE < 100 & Xpoint=='LSN'\").plot(ax=ax[1], kind='scatter', x='ROG_NICE', y='IC_Rc_Q2_avg', alpha=alp)\n",
    "data_C4.query(\"IC_P_Q4 > 0.3 & ROG_NICE > 0 & ROG < 100 & Xpoint=='LSN'\").plot(ax=ax[1], kind='scatter', x='ROG_NICE', y='IC_Rc_Q4_avg', alpha=alp)\n",
    "data.query(\"IC_P_Q1 > 0.3 & ROG_NICE > 0 & ROG_NICE < 100 & Xpoint=='LSN'\").plot(ax=ax[1], kind='scatter', x='ROG_NICE', y='IC_Rc_Q1_avg', color='C1', label='C5', alpha=alp)\n",
    "data.query(\"IC_P_Q2 > 0.3 & ROG_NICE > 0 & ROG_NICE < 100 & Xpoint=='LSN'\").plot(ax=ax[1], kind='scatter', x='ROG_NICE', y='IC_Rc_Q2_avg', color='C1', alpha=alp)\n",
    "data.query(\"IC_P_Q4 > 0.3 & ROG_NICE > 0 & ROG_NICE < 100 & Xpoint=='LSN'\").plot(ax=ax[1], kind='scatter', x='ROG_NICE', y='IC_Rc_Q4_avg', color='C1', alpha=alp)\n",
    "\n",
    "for a in ax:\n",
    "    a.set_ylim(bottom=0, top=2.5)\n",
    "    a.set_xlim(left=0, right=70) \n",
    "    a.set_ylabel('Average $R_c$ [Ohm]')\n",
    "\n",
    "fig.suptitle('LSN Plasmas')\n",
    "ax[-1].set_xlabel('ROG [mm]')\n",
    "fig.tight_layout()\n",
    "fig.subplots_adjust(hspace=0.1)"
   ]
  },
  {
   "cell_type": "code",
   "execution_count": null,
   "metadata": {},
   "outputs": [],
   "source": [
    "fig, ax = plt.subplots(2,1,sharex=True)\n",
    "\n",
    "data_C4.query(\"IC_P_Q1 > 0.3 & ROG > 0 & ROG < 100 & Xpoint=='USN'\").plot(ax=ax[0], kind='scatter', x='ROG', y='IC_Rc_Q1_avg', label='C4')\n",
    "data_C4.query(\"IC_P_Q2 > 0.3 & ROG > 0 & ROG < 100 & Xpoint=='USN'\").plot(ax=ax[0], kind='scatter', x='ROG', y='IC_Rc_Q2_avg')\n",
    "data_C4.query(\"IC_P_Q4 > 0.3 & ROG > 0 & ROG < 100 & Xpoint=='USN'\").plot(ax=ax[0], kind='scatter', x='ROG', y='IC_Rc_Q4_avg')\n",
    "data.query(\"IC_P_Q1 > 0.3 & ROG > 0 & ROG < 100 & Xpoint=='USN'\").plot(ax=ax[0], kind='scatter', x='ROG', y='IC_Rc_Q1_avg', color='C1', label='C5')\n",
    "data.query(\"IC_P_Q2 > 0.3 & ROG > 0 & ROG < 100 & Xpoint=='USN'\").plot(ax=ax[0], kind='scatter', x='ROG', y='IC_Rc_Q2_avg', color='C1')\n",
    "data.query(\"IC_P_Q4 > 0.3 & ROG > 0 & ROG < 100 & Xpoint=='USN'\").plot(ax=ax[0], kind='scatter', x='ROG', y='IC_Rc_Q4_avg', color='C1') \n",
    "\n",
    "data_C4.query(\"IC_P_Q1 > 0.3 & ROG_NICE > 0 & ROG_NICE < 100 & Xpoint=='USN'\").plot(ax=ax[1], kind='scatter', x='ROG_NICE', y='IC_Rc_Q1_avg', label='C4')\n",
    "data_C4.query(\"IC_P_Q2 > 0.3 & ROG_NICE > 0 & ROG_NICE < 100 & Xpoint=='USN'\").plot(ax=ax[1], kind='scatter', x='ROG_NICE', y='IC_Rc_Q2_avg')\n",
    "data_C4.query(\"IC_P_Q4 > 0.3 & ROG_NICE > 0 & ROG < 100 & Xpoint=='USN'\").plot(ax=ax[1], kind='scatter', x='ROG_NICE', y='IC_Rc_Q4_avg')\n",
    "data.query(\"IC_P_Q1 > 0.3 & ROG_NICE > 0 & ROG_NICE < 100 & Xpoint=='USN'\").plot(ax=ax[1], kind='scatter', x='ROG_NICE', y='IC_Rc_Q1_avg', color='C1', label='C5')\n",
    "data.query(\"IC_P_Q2 > 0.3 & ROG_NICE > 0 & ROG_NICE < 100 & Xpoint=='USN'\").plot(ax=ax[1], kind='scatter', x='ROG_NICE', y='IC_Rc_Q2_avg', color='C1')\n",
    "data.query(\"IC_P_Q4 > 0.3 & ROG_NICE > 0 & ROG_NICE < 100 & Xpoint=='USN'\").plot(ax=ax[1], kind='scatter', x='ROG_NICE', y='IC_Rc_Q4_avg', color='C1')\n",
    "\n",
    "for a in ax:\n",
    "    a.set_ylim(bottom=0, top=2.5)\n",
    "    a.set_xlim(left=0, right=70) \n",
    "    a.set_ylabel('Average $R_c$ [Ohm]')\n",
    "\n",
    "fig.suptitle('USN Plasmas')\n",
    "ax[-1].set_xlabel('ROG [mm]')\n",
    "fig.tight_layout()\n",
    "fig.subplots_adjust(hspace=0.1)"
   ]
  },
  {
   "cell_type": "code",
   "execution_count": null,
   "metadata": {},
   "outputs": [],
   "source": [
    "\n",
    "fig, ax = plt.subplots(2,1,sharex=True)\n",
    "alp=0.5\n",
    "Pth = 0.3\n",
    "_C4_Q1 = data_C4.query(\"IC_P_Q1 > @Pth & ROG > 0 & ROG < 100 & Xpoint=='LSN' & MHD<60\").groupby('pulse')\n",
    "_C4_Q2 = data_C4.query(\"IC_P_Q2 > @Pth & ROG > 0 & ROG < 100 & Xpoint=='LSN' & MHD<60\").groupby('pulse')\n",
    "_C4_Q4 = data_C4.query(\"IC_P_Q4 > @Pth & ROG > 0 & ROG < 100 & Xpoint=='LSN' & MHD<60\").groupby('pulse')\n",
    "_C5_Q1 = data.query(\"IC_P_Q1 > @Pth & ROG > 0 & ROG < 100 & Xpoint=='LSN' & MHD<60\").groupby('pulse')\n",
    "_C5_Q2 = data.query(\"IC_P_Q2 > @Pth & ROG > 0 & ROG < 100 & Xpoint=='LSN' & MHD<60\").groupby('pulse')\n",
    "_C5_Q4 = data.query(\"IC_P_Q4 > @Pth & ROG > 0 & ROG < 100 & Xpoint=='LSN' & MHD<60\").groupby('pulse')\n",
    "\n",
    "_C4_Q1.mean().plot(ax=ax[0], kind='scatter', x='ROG', y='IC_Rc_Q1_avg', label='C4', color='C0', alpha=alp, yerr=_C4_Q1.std(), edgecolor='k', s=40, xerr=_C4_Q1.std())\n",
    "_C4_Q2.mean().plot(ax=ax[0], kind='scatter', x='ROG', y='IC_Rc_Q2_avg', color='C0', alpha=alp, yerr=_C4_Q2.std(), edgecolor='k', s=40, xerr=_C4_Q2.std())\n",
    "_C4_Q4.mean().plot(ax=ax[0], kind='scatter', x='ROG', y='IC_Rc_Q4_avg', color='C0', alpha=alp, yerr=_C4_Q4.std(), edgecolor='k', s=40, xerr=_C4_Q4.std())\n",
    "_C5_Q1.mean().plot(ax=ax[0], kind='scatter', x='ROG', y='IC_Rc_Q1_avg', label='C5', color='C1', alpha=alp, yerr=_C5_Q1.std(), edgecolor='k', s=40, xerr=_C5_Q1.std())\n",
    "_C5_Q2.mean().plot(ax=ax[0], kind='scatter', x='ROG', y='IC_Rc_Q2_avg', color='C1', alpha=alp, yerr=_C5_Q2.std(), edgecolor='k', s=40, xerr=_C5_Q2.std())\n",
    "_C5_Q4.mean().plot(ax=ax[0], kind='scatter', x='ROG', y='IC_Rc_Q4_avg', color='C1', alpha=alp, yerr=_C5_Q4.std(), edgecolor='k', s=40, xerr=_C5_Q4.std())\n",
    "\n",
    "_C4_Q1.mean().plot(ax=ax[1], kind='scatter', x='ROG_NICE', y='IC_Rc_Q1_avg', label='C4', color='C0', alpha=alp, yerr=_C4_Q1.std(), edgecolor='k', s=40, xerr=_C4_Q1.std())\n",
    "_C4_Q2.mean().plot(ax=ax[1], kind='scatter', x='ROG_NICE', y='IC_Rc_Q2_avg', color='C0', alpha=alp, yerr=_C4_Q2.std(), edgecolor='k', s=40, xerr=_C4_Q2.std())\n",
    "_C4_Q4.mean().plot(ax=ax[1], kind='scatter', x='ROG_NICE', y='IC_Rc_Q4_avg', color='C0', alpha=alp, yerr=_C4_Q4.std(), edgecolor='k', s=40, xerr=_C4_Q4.std())\n",
    "_C5_Q1.mean().plot(ax=ax[1], kind='scatter', x='ROG_NICE', y='IC_Rc_Q1_avg', label='C5', color='C1', alpha=alp, yerr=_C5_Q1.std(), edgecolor='k', s=40, xerr=_C5_Q1.std())\n",
    "_C5_Q2.mean().plot(ax=ax[1], kind='scatter', x='ROG_NICE', y='IC_Rc_Q2_avg', color='C1', alpha=alp, yerr=_C5_Q2.std(), edgecolor='k', s=40, xerr=_C5_Q2.std())\n",
    "_C5_Q4.mean().plot(ax=ax[1], kind='scatter', x='ROG_NICE', y='IC_Rc_Q4_avg', color='C1', alpha=alp, yerr=_C5_Q4.std(), edgecolor='k', s=40, xerr=_C5_Q4.std())\n",
    "\n",
    "for a in ax:\n",
    "    a.set_ylim(bottom=0, top=2.5)\n",
    "    a.set_xlim(left=0, right=70) \n",
    "    a.set_ylabel('$\\overline{R_c}$ [Ohm]')\n",
    "\n",
    "fig.suptitle('LSN Plasmas ; $P_{IC}>'+str(Pth)+'$MW')\n",
    "ax[-1].set_xlabel('ROG [mm]')\n",
    "fig.tight_layout()\n",
    "fig.subplots_adjust(hspace=0.1)"
   ]
  },
  {
   "cell_type": "code",
   "execution_count": null,
   "metadata": {},
   "outputs": [],
   "source": [
    "\n",
    "fig, ax = plt.subplots(2,1,sharex=True)\n",
    "alp=0.5\n",
    "_C4_Q1 = data_C4.query(\"IC_P_Q1 > 0.3 & ROG > 0 & ROG < 100 & Xpoint=='USN' & MHD<60\").groupby('pulse')\n",
    "_C4_Q2 = data_C4.query(\"IC_P_Q2 > 0.3 & ROG > 0 & ROG < 100 & Xpoint=='USN' & MHD<60\").groupby('pulse')\n",
    "_C4_Q4 = data_C4.query(\"IC_P_Q4 > 0.3 & ROG > 0 & ROG < 100 & Xpoint=='USN' & MHD<60\").groupby('pulse')\n",
    "_C5_Q1 = data.query(\"IC_P_Q1 > 0.3 & ROG > 0 & ROG < 100 & Xpoint=='USN' & MHD<60\").groupby('pulse')\n",
    "_C5_Q2 = data.query(\"IC_P_Q2 > 0.3 & ROG > 0 & ROG < 100 & Xpoint=='USN' & MHD<60\").groupby('pulse')\n",
    "_C5_Q4 = data.query(\"IC_P_Q4 > 0.3 & ROG > 0 & ROG < 100 & Xpoint=='USN' & MHD<60\").groupby('pulse')\n",
    "\n",
    "_C4_Q1.mean().plot(ax=ax[0], kind='scatter', x='ROG', y='IC_Rc_Q1_avg', label='C4', color='C0', alpha=alp, yerr=_C4_Q1.std(), edgecolor='k', s=40, xerr=_C4_Q1.std())\n",
    "_C4_Q2.mean().plot(ax=ax[0], kind='scatter', x='ROG', y='IC_Rc_Q2_avg', color='C0', alpha=alp, yerr=_C4_Q2.std(), edgecolor='k', s=40, xerr=_C4_Q2.std())\n",
    "_C4_Q4.mean().plot(ax=ax[0], kind='scatter', x='ROG', y='IC_Rc_Q4_avg', color='C0', alpha=alp, yerr=_C4_Q4.std(), edgecolor='k', s=40, xerr=_C4_Q4.std())\n",
    "_C5_Q1.mean().plot(ax=ax[0], kind='scatter', x='ROG', y='IC_Rc_Q1_avg', label='C5', color='C1', alpha=alp, yerr=_C5_Q1.std(), edgecolor='k', s=40, xerr=_C5_Q1.std())\n",
    "_C5_Q2.mean().plot(ax=ax[0], kind='scatter', x='ROG', y='IC_Rc_Q2_avg', color='C1', alpha=alp, yerr=_C5_Q2.std(), edgecolor='k', s=40, xerr=_C5_Q2.std())\n",
    "_C5_Q4.mean().plot(ax=ax[0], kind='scatter', x='ROG', y='IC_Rc_Q4_avg', color='C1', alpha=alp, yerr=_C5_Q4.std(), edgecolor='k', s=40, xerr=_C5_Q4.std())\n",
    "\n",
    "_C4_Q1.mean().plot(ax=ax[1], kind='scatter', x='ROG_NICE', y='IC_Rc_Q1_avg', label='C4', color='C0', alpha=alp, yerr=_C4_Q1.std(), edgecolor='k', s=40, xerr=_C4_Q1.std())\n",
    "_C4_Q2.mean().plot(ax=ax[1], kind='scatter', x='ROG_NICE', y='IC_Rc_Q2_avg', color='C0', alpha=alp, yerr=_C4_Q2.std(), edgecolor='k', s=40, xerr=_C4_Q2.std())\n",
    "_C4_Q4.mean().plot(ax=ax[1], kind='scatter', x='ROG_NICE', y='IC_Rc_Q4_avg', color='C0', alpha=alp, yerr=_C4_Q4.std(), edgecolor='k', s=40, xerr=_C4_Q4.std())\n",
    "_C5_Q1.mean().plot(ax=ax[1], kind='scatter', x='ROG_NICE', y='IC_Rc_Q1_avg', label='C5', color='C1', alpha=alp, yerr=_C5_Q1.std(), edgecolor='k', s=40, xerr=_C5_Q1.std())\n",
    "_C5_Q2.mean().plot(ax=ax[1], kind='scatter', x='ROG_NICE', y='IC_Rc_Q2_avg', color='C1', alpha=alp, yerr=_C5_Q2.std(), edgecolor='k', s=40, xerr=_C5_Q2.std())\n",
    "_C5_Q4.mean().plot(ax=ax[1], kind='scatter', x='ROG_NICE', y='IC_Rc_Q4_avg', color='C1', alpha=alp, yerr=_C5_Q4.std(), edgecolor='k', s=40, xerr=_C5_Q4.std())\n",
    "\n",
    "for a in ax:\n",
    "    a.set_ylim(bottom=0, top=2.5)\n",
    "    a.set_xlim(left=0, right=70) \n",
    "    a.set_ylabel('$\\overline{R_c}$ [Ohm]')\n",
    "\n",
    "fig.suptitle('USN Plasmas ; $P_{IC}>0.3$MW')\n",
    "ax[-1].set_xlabel('ROG [mm]')\n",
    "fig.tight_layout()\n",
    "fig.subplots_adjust(hspace=0.1)"
   ]
  },
  {
   "cell_type": "code",
   "execution_count": null,
   "metadata": {},
   "outputs": [],
   "source": []
  }
 ],
 "metadata": {
  "kernelspec": {
   "display_name": "Python 3 (ipykernel)",
   "language": "python",
   "name": "python3"
  },
  "language_info": {
   "codemirror_mode": {
    "name": "ipython",
    "version": 3
   },
   "file_extension": ".py",
   "mimetype": "text/x-python",
   "name": "python",
   "nbconvert_exporter": "python",
   "pygments_lexer": "ipython3",
   "version": "3.10.6"
  },
  "toc": {
   "base_numbering": 1,
   "nav_menu": {},
   "number_sections": true,
   "sideBar": true,
   "skip_h1_title": true,
   "title_cell": "Table of Contents",
   "title_sidebar": "Contents",
   "toc_cell": false,
   "toc_position": {},
   "toc_section_display": true,
   "toc_window_display": true
  }
 },
 "nbformat": 4,
 "nbformat_minor": 4
}
